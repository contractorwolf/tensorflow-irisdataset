{
 "cells": [
  {
   "cell_type": "markdown",
   "metadata": {},
   "source": [
    "# 1. Setup libraries for Machine Learning "
   ]
  },
  {
   "cell_type": "markdown",
   "metadata": {},
   "source": [
    "The first step is to import all the libaries that will be needed to parse and explore the data"
   ]
  },
  {
   "cell_type": "code",
   "execution_count": 1,
   "metadata": {},
   "outputs": [
    {
     "name": "stdout",
     "output_type": "stream",
     "text": [
      "TENSORFLOW VERSION: 1.4.1\n"
     ]
    }
   ],
   "source": [
    "# IMPORT LIBRARIES (must be installed via pip)\n",
    "# ----------------------------------------------------------------------------\n",
    "\n",
    "# This Python 3 environment comes with many helpful analytics libraries installed\n",
    "# It is defined by the kaggle/python docker image: https://github.com/kaggle/docker-python\n",
    "import numpy as np              # linear algebra\n",
    "import pandas as pd             # data processing, CSV file I/O (e.g. pd.read_csv)\n",
    "import matplotlib.pyplot as plt # plotting\n",
    "import seaborn as sns           # plotting\n",
    "import tensorflow as tf         # machine learning\n",
    "import sys                      # for facets stuff\n",
    "import base64                   # for facets stuff\n",
    "\n",
    "# generic_feature_statistics_generator is in the facets directory\n",
    "sys.path.append('./facets/facets_overview/python')\n",
    "\n",
    "# ML libraries \n",
    "from sklearn.preprocessing import LabelEncoder\n",
    "from sklearn.preprocessing import StandardScaler\n",
    "from sklearn.model_selection import train_test_split\n",
    "from sklearn.metrics import confusion_matrix, accuracy_score\n",
    "\n",
    "# calculate the feature statistics from the datasets and stringify it for use in facets overview\n",
    "from generic_feature_statistics_generator import GenericFeatureStatisticsGenerator\n",
    "from IPython.core.display import display, HTML\n",
    "\n",
    "# tell jupyter notebook to diplay plotted data inline\n",
    "%matplotlib inline \n",
    "\n",
    "# SET LOCAL VARIABLES\n",
    "# -----------------------------------------------------------------------------\n",
    "\n",
    "# define local file for training data with features and labels\n",
    "csv_file = 'datasets/iris.csv'\n",
    "\n",
    "# define feature columns for input feature data \n",
    "prediction_feature_columns = ['SepalLengthCm','SepalWidthCm','PetalLengthCm','PetalWidthCm']\n",
    "\n",
    "# path to save the model for future training or tensorflow serving\n",
    "model_path = 'models/temp/iris'\n",
    "\n",
    "# verify version of tensorflow, should be 1.4+ to use new Estimators features\n",
    "print('TENSORFLOW VERSION: ' + tf.__version__)\n"
   ]
  },
  {
   "cell_type": "markdown",
   "metadata": {},
   "source": [
    "# 2. Import Dataset from local CSV file"
   ]
  },
  {
   "cell_type": "markdown",
   "metadata": {},
   "source": [
    "You will first need to load your raw data from a local CSV file, and you should attempt to output the columns after each step for verification.  "
   ]
  },
  {
   "cell_type": "code",
   "execution_count": 2,
   "metadata": {},
   "outputs": [
    {
     "data": {
      "text/html": [
       "<div>\n",
       "<table border=\"1\" class=\"dataframe\">\n",
       "  <thead>\n",
       "    <tr style=\"text-align: right;\">\n",
       "      <th></th>\n",
       "      <th>Id</th>\n",
       "      <th>SepalLengthCm</th>\n",
       "      <th>SepalWidthCm</th>\n",
       "      <th>PetalLengthCm</th>\n",
       "      <th>PetalWidthCm</th>\n",
       "      <th>Species</th>\n",
       "    </tr>\n",
       "  </thead>\n",
       "  <tbody>\n",
       "    <tr>\n",
       "      <th>0</th>\n",
       "      <td>1</td>\n",
       "      <td>5.1</td>\n",
       "      <td>3.5</td>\n",
       "      <td>1.4</td>\n",
       "      <td>0.2</td>\n",
       "      <td>Iris-setosa</td>\n",
       "    </tr>\n",
       "    <tr>\n",
       "      <th>1</th>\n",
       "      <td>2</td>\n",
       "      <td>4.9</td>\n",
       "      <td>3.0</td>\n",
       "      <td>1.4</td>\n",
       "      <td>0.2</td>\n",
       "      <td>Iris-setosa</td>\n",
       "    </tr>\n",
       "    <tr>\n",
       "      <th>2</th>\n",
       "      <td>3</td>\n",
       "      <td>4.7</td>\n",
       "      <td>3.2</td>\n",
       "      <td>1.3</td>\n",
       "      <td>0.2</td>\n",
       "      <td>Iris-setosa</td>\n",
       "    </tr>\n",
       "    <tr>\n",
       "      <th>3</th>\n",
       "      <td>4</td>\n",
       "      <td>4.6</td>\n",
       "      <td>3.1</td>\n",
       "      <td>1.5</td>\n",
       "      <td>0.2</td>\n",
       "      <td>Iris-setosa</td>\n",
       "    </tr>\n",
       "    <tr>\n",
       "      <th>4</th>\n",
       "      <td>5</td>\n",
       "      <td>5.0</td>\n",
       "      <td>3.6</td>\n",
       "      <td>1.4</td>\n",
       "      <td>0.2</td>\n",
       "      <td>Iris-setosa</td>\n",
       "    </tr>\n",
       "  </tbody>\n",
       "</table>\n",
       "</div>"
      ],
      "text/plain": [
       "   Id  SepalLengthCm  SepalWidthCm  PetalLengthCm  PetalWidthCm      Species\n",
       "0   1            5.1           3.5            1.4           0.2  Iris-setosa\n",
       "1   2            4.9           3.0            1.4           0.2  Iris-setosa\n",
       "2   3            4.7           3.2            1.3           0.2  Iris-setosa\n",
       "3   4            4.6           3.1            1.5           0.2  Iris-setosa\n",
       "4   5            5.0           3.6            1.4           0.2  Iris-setosa"
      ]
     },
     "execution_count": 2,
     "metadata": {},
     "output_type": "execute_result"
    }
   ],
   "source": [
    "# get full dataset from local CSV file\n",
    "df = pd.read_csv(csv_file)\n",
    "df.head()\n"
   ]
  },
  {
   "cell_type": "code",
   "execution_count": 3,
   "metadata": {},
   "outputs": [
    {
     "data": {
      "text/plain": [
       "<matplotlib.axes._subplots.AxesSubplot at 0x121857390>"
      ]
     },
     "execution_count": 3,
     "metadata": {},
     "output_type": "execute_result"
    },
    {
     "data": {
      "image/png": "[encoded data removed]",
      "text/plain": [
       "<matplotlib.figure.Figure at 0x106bc2910>"
      ]
     },
     "metadata": {},
     "output_type": "display_data"
    }
   ],
   "source": [
    "df['SepalLengthCm'].hist()"
   ]
  },
  {
   "cell_type": "code",
   "execution_count": 4,
   "metadata": {},
   "outputs": [
    {
     "data": {
      "text/plain": [
       "<matplotlib.axes._subplots.AxesSubplot at 0x121a5cb10>"
      ]
     },
     "execution_count": 4,
     "metadata": {},
     "output_type": "execute_result"
    },
    {
     "data": {
      "image/png": "[encoded data removed]",
      "text/plain": [
       "<matplotlib.figure.Figure at 0x106bdfb90>"
      ]
     },
     "metadata": {},
     "output_type": "display_data"
    }
   ],
   "source": [
    "df.plot(kind=\"scatter\", x=\"SepalLengthCm\",y=\"PetalLengthCm\", alpha=0.9)"
   ]
  },
  {
   "cell_type": "markdown",
   "metadata": {},
   "source": [
    "# 3. Clean up the Dataset"
   ]
  },
  {
   "cell_type": "markdown",
   "metadata": {},
   "source": [
    "1. eliminate noise in data (remove columns not tied to the label)\n",
    "2. make values numeric (remove strings with numeric or hash values)\n",
    "3. randomize order (removes order bias)\n",
    "4. scale data (scaled according to the data, for training and prediction)"
   ]
  },
  {
   "cell_type": "code",
   "execution_count": 5,
   "metadata": {},
   "outputs": [],
   "source": [
    "# drop unnecessary 'Id' column from the dataset, doesnt help predict the label\n",
    "df.drop('Id', inplace=True, axis=1)"
   ]
  },
  {
   "cell_type": "code",
   "execution_count": 9,
   "metadata": {},
   "outputs": [
    {
     "data": {
      "text/html": [
       "<div>\n",
       "<table border=\"1\" class=\"dataframe\">\n",
       "  <thead>\n",
       "    <tr style=\"text-align: right;\">\n",
       "      <th></th>\n",
       "      <th>SepalLengthCm</th>\n",
       "      <th>SepalWidthCm</th>\n",
       "      <th>PetalLengthCm</th>\n",
       "      <th>PetalWidthCm</th>\n",
       "      <th>Species</th>\n",
       "    </tr>\n",
       "  </thead>\n",
       "  <tbody>\n",
       "    <tr>\n",
       "      <th>0</th>\n",
       "      <td>6.3</td>\n",
       "      <td>2.8</td>\n",
       "      <td>5.1</td>\n",
       "      <td>1.5</td>\n",
       "      <td>Iris-virginica</td>\n",
       "    </tr>\n",
       "    <tr>\n",
       "      <th>1</th>\n",
       "      <td>4.9</td>\n",
       "      <td>3.1</td>\n",
       "      <td>1.5</td>\n",
       "      <td>0.1</td>\n",
       "      <td>Iris-setosa</td>\n",
       "    </tr>\n",
       "    <tr>\n",
       "      <th>2</th>\n",
       "      <td>4.4</td>\n",
       "      <td>3.2</td>\n",
       "      <td>1.3</td>\n",
       "      <td>0.2</td>\n",
       "      <td>Iris-setosa</td>\n",
       "    </tr>\n",
       "    <tr>\n",
       "      <th>3</th>\n",
       "      <td>5.5</td>\n",
       "      <td>2.5</td>\n",
       "      <td>4.0</td>\n",
       "      <td>1.3</td>\n",
       "      <td>Iris-versicolor</td>\n",
       "    </tr>\n",
       "    <tr>\n",
       "      <th>4</th>\n",
       "      <td>7.1</td>\n",
       "      <td>3.0</td>\n",
       "      <td>5.9</td>\n",
       "      <td>2.1</td>\n",
       "      <td>Iris-virginica</td>\n",
       "    </tr>\n",
       "  </tbody>\n",
       "</table>\n",
       "</div>"
      ],
      "text/plain": [
       "   SepalLengthCm  SepalWidthCm  PetalLengthCm  PetalWidthCm          Species\n",
       "0            6.3           2.8            5.1           1.5   Iris-virginica\n",
       "1            4.9           3.1            1.5           0.1      Iris-setosa\n",
       "2            4.4           3.2            1.3           0.2      Iris-setosa\n",
       "3            5.5           2.5            4.0           1.3  Iris-versicolor\n",
       "4            7.1           3.0            5.9           2.1   Iris-virginica"
      ]
     },
     "execution_count": 9,
     "metadata": {},
     "output_type": "execute_result"
    }
   ],
   "source": [
    "# ALWAYS randomize sample\n",
    "df = df.sample(frac=1).reset_index(drop=True)\n",
    "df.head()"
   ]
  },
  {
   "cell_type": "markdown",
   "metadata": {},
   "source": [
    "### I look for outliers and missing data with a Google tool called: Facets.  You can see the full explanation for how to download and use Facets here:\n",
    "\n",
    "https://pair-code.github.io/facets/\n",
    "\n",
    "### Facets - Overview:"
   ]
  },
  {
   "cell_type": "code",
   "execution_count": 10,
   "metadata": {},
   "outputs": [
    {
     "data": {
      "text/html": [
       "<link rel=\"import\" href=\"/nbextensions/facets-dist/facets-jupyter.html\" >\n",
       "        <facets-overview id=\"overview\"></facets-overview>\n",
       "        <script>\n",
       "          document.querySelector(\"#overview\").protoInput = \"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\";\n",
       "        </script>"
      ],
      "text/plain": [
       "<IPython.core.display.HTML object>"
      ]
     },
     "metadata": {},
     "output_type": "display_data"
    }
   ],
   "source": [
    "# generate statistics for template\n",
    "gfsg = GenericFeatureStatisticsGenerator()\n",
    "\n",
    "# load data\n",
    "proto = gfsg.ProtoFromDataFrames([{'name': 'train', 'table': df}])\n",
    "\n",
    "# create base64 string for html template\n",
    "protostr = base64.b64encode(proto.SerializeToString()).decode(\"utf-8\")\n",
    "\n",
    "# Display the facets overview visualization for this data\n",
    "overview_template = \"\"\"<link rel=\"import\" href=\"/nbextensions/facets-dist/facets-jupyter.html\" >\n",
    "        <facets-overview id=\"overview\"></facets-overview>\n",
    "        <script>\n",
    "          document.querySelector(\"#overview\").protoInput = \"{protostr}\";\n",
    "        </script>\"\"\"\n",
    "\n",
    "# load data into template\n",
    "overview_html = overview_template.format(protostr=protostr)\n",
    "\n",
    "# display template\n",
    "display(HTML(overview_html))"
   ]
  },
  {
   "cell_type": "markdown",
   "metadata": {},
   "source": [
    "### Facets - Deep Dive:"
   ]
  },
  {
   "cell_type": "code",
   "execution_count": 11,
   "metadata": {
    "scrolled": false
   },
   "outputs": [
    {
     "data": {
      "text/html": [
       "<link rel=\"import\" href=\"/nbextensions/facets-dist/facets-jupyter.html\">\n",
       "        <facets-dive sprite-image-width=\"32\" sprite-image-height=\"32\" id=\"deepdive\" height=\"600\" height=\"1000\"></facets-dive>\n",
       "        <script>\n",
       "          document.querySelector(\"#deepdive\").data = [{\"SepalLengthCm\":6.3,\"SepalWidthCm\":2.8,\"PetalLengthCm\":5.1,\"PetalWidthCm\":1.5,\"Species\":\"Iris-virginica\"},{\"SepalLengthCm\":4.9,\"SepalWidthCm\":3.1,\"PetalLengthCm\":1.5,\"PetalWidthCm\":0.1,\"Species\":\"Iris-setosa\"},{\"SepalLengthCm\":4.4,\"SepalWidthCm\":3.2,\"PetalLengthCm\":1.3,\"PetalWidthCm\":0.2,\"Species\":\"Iris-setosa\"},{\"SepalLengthCm\":5.5,\"SepalWidthCm\":2.5,\"PetalLengthCm\":4.0,\"PetalWidthCm\":1.3,\"Species\":\"Iris-versicolor\"},{\"SepalLengthCm\":7.1,\"SepalWidthCm\":3.0,\"PetalLengthCm\":5.9,\"PetalWidthCm\":2.1,\"Species\":\"Iris-virginica\"},{\"SepalLengthCm\":6.3,\"SepalWidthCm\":2.9,\"PetalLengthCm\":5.6,\"PetalWidthCm\":1.8,\"Species\":\"Iris-virginica\"},{\"SepalLengthCm\":6.7,\"SepalWidthCm\":3.3,\"PetalLengthCm\":5.7,\"PetalWidthCm\":2.1,\"Species\":\"Iris-virginica\"},{\"SepalLengthCm\":6.0,\"SepalWidthCm\":2.9,\"PetalLengthCm\":4.5,\"PetalWidthCm\":1.5,\"Species\":\"Iris-versicolor\"},{\"SepalLengthCm\":5.5,\"SepalWidthCm\":4.2,\"PetalLengthCm\":1.4,\"PetalWidthCm\":0.2,\"Species\":\"Iris-setosa\"},{\"SepalLengthCm\":5.7,\"SepalWidthCm\":2.8,\"PetalLengthCm\":4.1,\"PetalWidthCm\":1.3,\"Species\":\"Iris-versicolor\"},{\"SepalLengthCm\":5.0,\"SepalWidthCm\":3.5,\"PetalLengthCm\":1.3,\"PetalWidthCm\":0.3,\"Species\":\"Iris-setosa\"},{\"SepalLengthCm\":6.4,\"SepalWidthCm\":3.2,\"PetalLengthCm\":4.5,\"PetalWidthCm\":1.5,\"Species\":\"Iris-versicolor\"},{\"SepalLengthCm\":4.4,\"SepalWidthCm\":3.0,\"PetalLengthCm\":1.3,\"PetalWidthCm\":0.2,\"Species\":\"Iris-setosa\"},{\"SepalLengthCm\":6.7,\"SepalWidthCm\":3.1,\"PetalLengthCm\":4.4,\"PetalWidthCm\":1.4,\"Species\":\"Iris-versicolor\"},{\"SepalLengthCm\":6.2,\"SepalWidthCm\":2.8,\"PetalLengthCm\":4.8,\"PetalWidthCm\":1.8,\"Species\":\"Iris-virginica\"},{\"SepalLengthCm\":6.5,\"SepalWidthCm\":2.8,\"PetalLengthCm\":4.6,\"PetalWidthCm\":1.5,\"Species\":\"Iris-versicolor\"},{\"SepalLengthCm\":5.6,\"SepalWidthCm\":2.7,\"PetalLengthCm\":4.2,\"PetalWidthCm\":1.3,\"Species\":\"Iris-versicolor\"},{\"SepalLengthCm\":6.2,\"SepalWidthCm\":2.2,\"PetalLengthCm\":4.5,\"PetalWidthCm\":1.5,\"Species\":\"Iris-versicolor\"},{\"SepalLengthCm\":6.7,\"SepalWidthCm\":3.3,\"PetalLengthCm\":5.7,\"PetalWidthCm\":2.5,\"Species\":\"Iris-virginica\"},{\"SepalLengthCm\":6.5,\"SepalWidthCm\":3.0,\"PetalLengthCm\":5.8,\"PetalWidthCm\":2.2,\"Species\":\"Iris-virginica\"},{\"SepalLengthCm\":6.7,\"SepalWidthCm\":2.5,\"PetalLengthCm\":5.8,\"PetalWidthCm\":1.8,\"Species\":\"Iris-virginica\"},{\"SepalLengthCm\":5.7,\"SepalWidthCm\":2.9,\"PetalLengthCm\":4.2,\"PetalWidthCm\":1.3,\"Species\":\"Iris-versicolor\"},{\"SepalLengthCm\":6.9,\"SepalWidthCm\":3.1,\"PetalLengthCm\":4.9,\"PetalWidthCm\":1.5,\"Species\":\"Iris-versicolor\"},{\"SepalLengthCm\":6.6,\"SepalWidthCm\":3.0,\"PetalLengthCm\":4.4,\"PetalWidthCm\":1.4,\"Species\":\"Iris-versicolor\"},{\"SepalLengthCm\":6.3,\"SepalWidthCm\":3.3,\"PetalLengthCm\":6.0,\"PetalWidthCm\":2.5,\"Species\":\"Iris-virginica\"},{\"SepalLengthCm\":5.1,\"SepalWidthCm\":3.8,\"PetalLengthCm\":1.9,\"PetalWidthCm\":0.4,\"Species\":\"Iris-setosa\"},{\"SepalLengthCm\":5.1,\"SepalWidthCm\":3.5,\"PetalLengthCm\":1.4,\"PetalWidthCm\":0.2,\"Species\":\"Iris-setosa\"},{\"SepalLengthCm\":4.8,\"SepalWidthCm\":3.0,\"PetalLengthCm\":1.4,\"PetalWidthCm\":0.1,\"Species\":\"Iris-setosa\"},{\"SepalLengthCm\":5.1,\"SepalWidthCm\":3.3,\"PetalLengthCm\":1.7,\"PetalWidthCm\":0.5,\"Species\":\"Iris-setosa\"},{\"SepalLengthCm\":6.7,\"SepalWidthCm\":3.0,\"PetalLengthCm\":5.0,\"PetalWidthCm\":1.7,\"Species\":\"Iris-versicolor\"},{\"SepalLengthCm\":6.3,\"SepalWidthCm\":2.5,\"PetalLengthCm\":5.0,\"PetalWidthCm\":1.9,\"Species\":\"Iris-virginica\"},{\"SepalLengthCm\":5.8,\"SepalWidthCm\":2.6,\"PetalLengthCm\":4.0,\"PetalWidthCm\":1.2,\"Species\":\"Iris-versicolor\"},{\"SepalLengthCm\":6.0,\"SepalWidthCm\":3.4,\"PetalLengthCm\":4.5,\"PetalWidthCm\":1.6,\"Species\":\"Iris-versicolor\"},{\"SepalLengthCm\":5.7,\"SepalWidthCm\":4.4,\"PetalLengthCm\":1.5,\"PetalWidthCm\":0.4,\"Species\":\"Iris-setosa\"},{\"SepalLengthCm\":4.6,\"SepalWidthCm\":3.1,\"PetalLengthCm\":1.5,\"PetalWidthCm\":0.2,\"Species\":\"Iris-setosa\"},{\"SepalLengthCm\":5.7,\"SepalWidthCm\":3.0,\"PetalLengthCm\":4.2,\"PetalWidthCm\":1.2,\"Species\":\"Iris-versicolor\"},{\"SepalLengthCm\":6.7,\"SepalWidthCm\":3.1,\"PetalLengthCm\":5.6,\"PetalWidthCm\":2.4,\"Species\":\"Iris-virginica\"},{\"SepalLengthCm\":6.7,\"SepalWidthCm\":3.0,\"PetalLengthCm\":5.2,\"PetalWidthCm\":2.3,\"Species\":\"Iris-virginica\"},{\"SepalLengthCm\":7.7,\"SepalWidthCm\":3.8,\"PetalLengthCm\":6.7,\"PetalWidthCm\":2.2,\"Species\":\"Iris-virginica\"},{\"SepalLengthCm\":6.7,\"SepalWidthCm\":3.1,\"PetalLengthCm\":4.7,\"PetalWidthCm\":1.5,\"Species\":\"Iris-versicolor\"},{\"SepalLengthCm\":6.8,\"SepalWidthCm\":3.2,\"PetalLengthCm\":5.9,\"PetalWidthCm\":2.3,\"Species\":\"Iris-virginica\"},{\"SepalLengthCm\":7.6,\"SepalWidthCm\":3.0,\"PetalLengthCm\":6.6,\"PetalWidthCm\":2.1,\"Species\":\"Iris-virginica\"},{\"SepalLengthCm\":5.6,\"SepalWidthCm\":2.9,\"PetalLengthCm\":3.6,\"PetalWidthCm\":1.3,\"Species\":\"Iris-versicolor\"},{\"SepalLengthCm\":6.1,\"SepalWidthCm\":2.8,\"PetalLengthCm\":4.0,\"PetalWidthCm\":1.3,\"Species\":\"Iris-versicolor\"},{\"SepalLengthCm\":7.9,\"SepalWidthCm\":3.8,\"PetalLengthCm\":6.4,\"PetalWidthCm\":2.0,\"Species\":\"Iris-virginica\"},{\"SepalLengthCm\":6.1,\"SepalWidthCm\":3.0,\"PetalLengthCm\":4.6,\"PetalWidthCm\":1.4,\"Species\":\"Iris-versicolor\"},{\"SepalLengthCm\":5.8,\"SepalWidthCm\":2.8,\"PetalLengthCm\":5.1,\"PetalWidthCm\":2.4,\"Species\":\"Iris-virginica\"},{\"SepalLengthCm\":5.2,\"SepalWidthCm\":3.4,\"PetalLengthCm\":1.4,\"PetalWidthCm\":0.2,\"Species\":\"Iris-setosa\"},{\"SepalLengthCm\":4.7,\"SepalWidthCm\":3.2,\"PetalLengthCm\":1.6,\"PetalWidthCm\":0.2,\"Species\":\"Iris-setosa\"},{\"SepalLengthCm\":5.4,\"SepalWidthCm\":3.4,\"PetalLengthCm\":1.7,\"PetalWidthCm\":0.2,\"Species\":\"Iris-setosa\"},{\"SepalLengthCm\":7.2,\"SepalWidthCm\":3.0,\"PetalLengthCm\":5.8,\"PetalWidthCm\":1.6,\"Species\":\"Iris-virginica\"},{\"SepalLengthCm\":5.7,\"SepalWidthCm\":2.8,\"PetalLengthCm\":4.5,\"PetalWidthCm\":1.3,\"Species\":\"Iris-versicolor\"},{\"SepalLengthCm\":5.5,\"SepalWidthCm\":2.3,\"PetalLengthCm\":4.0,\"PetalWidthCm\":1.3,\"Species\":\"Iris-versicolor\"},{\"SepalLengthCm\":5.0,\"SepalWidthCm\":3.5,\"PetalLengthCm\":1.6,\"PetalWidthCm\":0.6,\"Species\":\"Iris-setosa\"},{\"SepalLengthCm\":6.4,\"SepalWidthCm\":2.8,\"PetalLengthCm\":5.6,\"PetalWidthCm\":2.2,\"Species\":\"Iris-virginica\"},{\"SepalLengthCm\":5.0,\"SepalWidthCm\":3.4,\"PetalLengthCm\":1.5,\"PetalWidthCm\":0.2,\"Species\":\"Iris-setosa\"},{\"SepalLengthCm\":5.6,\"SepalWidthCm\":3.0,\"PetalLengthCm\":4.5,\"PetalWidthCm\":1.5,\"Species\":\"Iris-versicolor\"},{\"SepalLengthCm\":4.8,\"SepalWidthCm\":3.0,\"PetalLengthCm\":1.4,\"PetalWidthCm\":0.3,\"Species\":\"Iris-setosa\"},{\"SepalLengthCm\":6.8,\"SepalWidthCm\":3.0,\"PetalLengthCm\":5.5,\"PetalWidthCm\":2.1,\"Species\":\"Iris-virginica\"},{\"SepalLengthCm\":6.4,\"SepalWidthCm\":2.7,\"PetalLengthCm\":5.3,\"PetalWidthCm\":1.9,\"Species\":\"Iris-virginica\"},{\"SepalLengthCm\":6.3,\"SepalWidthCm\":3.3,\"PetalLengthCm\":4.7,\"PetalWidthCm\":1.6,\"Species\":\"Iris-versicolor\"},{\"SepalLengthCm\":5.4,\"SepalWidthCm\":3.7,\"PetalLengthCm\":1.5,\"PetalWidthCm\":0.2,\"Species\":\"Iris-setosa\"},{\"SepalLengthCm\":4.6,\"SepalWidthCm\":3.6,\"PetalLengthCm\":1.0,\"PetalWidthCm\":0.2,\"Species\":\"Iris-setosa\"},{\"SepalLengthCm\":4.8,\"SepalWidthCm\":3.4,\"PetalLengthCm\":1.9,\"PetalWidthCm\":0.2,\"Species\":\"Iris-setosa\"},{\"SepalLengthCm\":5.5,\"SepalWidthCm\":2.6,\"PetalLengthCm\":4.4,\"PetalWidthCm\":1.2,\"Species\":\"Iris-versicolor\"},{\"SepalLengthCm\":5.5,\"SepalWidthCm\":2.4,\"PetalLengthCm\":3.7,\"PetalWidthCm\":1.0,\"Species\":\"Iris-versicolor\"},{\"SepalLengthCm\":4.4,\"SepalWidthCm\":2.9,\"PetalLengthCm\":1.4,\"PetalWidthCm\":0.2,\"Species\":\"Iris-setosa\"},{\"SepalLengthCm\":6.2,\"SepalWidthCm\":3.4,\"PetalLengthCm\":5.4,\"PetalWidthCm\":2.3,\"Species\":\"Iris-virginica\"},{\"SepalLengthCm\":5.0,\"SepalWidthCm\":3.4,\"PetalLengthCm\":1.6,\"PetalWidthCm\":0.4,\"Species\":\"Iris-setosa\"},{\"SepalLengthCm\":6.4,\"SepalWidthCm\":3.1,\"PetalLengthCm\":5.5,\"PetalWidthCm\":1.8,\"Species\":\"Iris-virginica\"},{\"SepalLengthCm\":7.2,\"SepalWidthCm\":3.6,\"PetalLengthCm\":6.1,\"PetalWidthCm\":2.5,\"Species\":\"Iris-virginica\"},{\"SepalLengthCm\":5.7,\"SepalWidthCm\":2.6,\"PetalLengthCm\":3.5,\"PetalWidthCm\":1.0,\"Species\":\"Iris-versicolor\"},{\"SepalLengthCm\":7.7,\"SepalWidthCm\":2.8,\"PetalLengthCm\":6.7,\"PetalWidthCm\":2.0,\"Species\":\"Iris-virginica\"},{\"SepalLengthCm\":6.4,\"SepalWidthCm\":2.8,\"PetalLengthCm\":5.6,\"PetalWidthCm\":2.1,\"Species\":\"Iris-virginica\"},{\"SepalLengthCm\":6.3,\"SepalWidthCm\":2.3,\"PetalLengthCm\":4.4,\"PetalWidthCm\":1.3,\"Species\":\"Iris-versicolor\"},{\"SepalLengthCm\":4.8,\"SepalWidthCm\":3.4,\"PetalLengthCm\":1.6,\"PetalWidthCm\":0.2,\"Species\":\"Iris-setosa\"},{\"SepalLengthCm\":4.5,\"SepalWidthCm\":2.3,\"PetalLengthCm\":1.3,\"PetalWidthCm\":0.3,\"Species\":\"Iris-setosa\"},{\"SepalLengthCm\":5.7,\"SepalWidthCm\":2.5,\"PetalLengthCm\":5.0,\"PetalWidthCm\":2.0,\"Species\":\"Iris-virginica\"},{\"SepalLengthCm\":4.6,\"SepalWidthCm\":3.4,\"PetalLengthCm\":1.4,\"PetalWidthCm\":0.3,\"Species\":\"Iris-setosa\"},{\"SepalLengthCm\":4.8,\"SepalWidthCm\":3.1,\"PetalLengthCm\":1.6,\"PetalWidthCm\":0.2,\"Species\":\"Iris-setosa\"},{\"SepalLengthCm\":5.3,\"SepalWidthCm\":3.7,\"PetalLengthCm\":1.5,\"PetalWidthCm\":0.2,\"Species\":\"Iris-setosa\"},{\"SepalLengthCm\":6.1,\"SepalWidthCm\":3.0,\"PetalLengthCm\":4.9,\"PetalWidthCm\":1.8,\"Species\":\"Iris-virginica\"},{\"SepalLengthCm\":6.5,\"SepalWidthCm\":3.0,\"PetalLengthCm\":5.2,\"PetalWidthCm\":2.0,\"Species\":\"Iris-virginica\"},{\"SepalLengthCm\":6.1,\"SepalWidthCm\":2.6,\"PetalLengthCm\":5.6,\"PetalWidthCm\":1.4,\"Species\":\"Iris-virginica\"},{\"SepalLengthCm\":7.7,\"SepalWidthCm\":2.6,\"PetalLengthCm\":6.9,\"PetalWidthCm\":2.3,\"Species\":\"Iris-virginica\"},{\"SepalLengthCm\":5.4,\"SepalWidthCm\":3.9,\"PetalLengthCm\":1.7,\"PetalWidthCm\":0.4,\"Species\":\"Iris-setosa\"},{\"SepalLengthCm\":5.4,\"SepalWidthCm\":3.9,\"PetalLengthCm\":1.3,\"PetalWidthCm\":0.4,\"Species\":\"Iris-setosa\"},{\"SepalLengthCm\":6.3,\"SepalWidthCm\":3.4,\"PetalLengthCm\":5.6,\"PetalWidthCm\":2.4,\"Species\":\"Iris-virginica\"},{\"SepalLengthCm\":4.9,\"SepalWidthCm\":3.1,\"PetalLengthCm\":1.5,\"PetalWidthCm\":0.1,\"Species\":\"Iris-setosa\"},{\"SepalLengthCm\":4.9,\"SepalWidthCm\":3.1,\"PetalLengthCm\":1.5,\"PetalWidthCm\":0.1,\"Species\":\"Iris-setosa\"},{\"SepalLengthCm\":5.1,\"SepalWidthCm\":3.4,\"PetalLengthCm\":1.5,\"PetalWidthCm\":0.2,\"Species\":\"Iris-setosa\"},{\"SepalLengthCm\":4.9,\"SepalWidthCm\":2.5,\"PetalLengthCm\":4.5,\"PetalWidthCm\":1.7,\"Species\":\"Iris-virginica\"},{\"SepalLengthCm\":7.7,\"SepalWidthCm\":3.0,\"PetalLengthCm\":6.1,\"PetalWidthCm\":2.3,\"Species\":\"Iris-virginica\"},{\"SepalLengthCm\":7.2,\"SepalWidthCm\":3.2,\"PetalLengthCm\":6.0,\"PetalWidthCm\":1.8,\"Species\":\"Iris-virginica\"},{\"SepalLengthCm\":5.0,\"SepalWidthCm\":3.2,\"PetalLengthCm\":1.2,\"PetalWidthCm\":0.2,\"Species\":\"Iris-setosa\"},{\"SepalLengthCm\":4.9,\"SepalWidthCm\":2.4,\"PetalLengthCm\":3.3,\"PetalWidthCm\":1.0,\"Species\":\"Iris-versicolor\"},{\"SepalLengthCm\":7.0,\"SepalWidthCm\":3.2,\"PetalLengthCm\":4.7,\"PetalWidthCm\":1.4,\"Species\":\"Iris-versicolor\"},{\"SepalLengthCm\":4.9,\"SepalWidthCm\":3.0,\"PetalLengthCm\":1.4,\"PetalWidthCm\":0.2,\"Species\":\"Iris-setosa\"},{\"SepalLengthCm\":5.8,\"SepalWidthCm\":2.7,\"PetalLengthCm\":5.1,\"PetalWidthCm\":1.9,\"Species\":\"Iris-virginica\"},{\"SepalLengthCm\":5.8,\"SepalWidthCm\":4.0,\"PetalLengthCm\":1.2,\"PetalWidthCm\":0.2,\"Species\":\"Iris-setosa\"},{\"SepalLengthCm\":6.3,\"SepalWidthCm\":2.5,\"PetalLengthCm\":4.9,\"PetalWidthCm\":1.5,\"Species\":\"Iris-versicolor\"},{\"SepalLengthCm\":6.4,\"SepalWidthCm\":3.2,\"PetalLengthCm\":5.3,\"PetalWidthCm\":2.3,\"Species\":\"Iris-virginica\"},{\"SepalLengthCm\":6.9,\"SepalWidthCm\":3.2,\"PetalLengthCm\":5.7,\"PetalWidthCm\":2.3,\"Species\":\"Iris-virginica\"},{\"SepalLengthCm\":5.1,\"SepalWidthCm\":3.8,\"PetalLengthCm\":1.5,\"PetalWidthCm\":0.3,\"Species\":\"Iris-setosa\"},{\"SepalLengthCm\":5.2,\"SepalWidthCm\":3.5,\"PetalLengthCm\":1.5,\"PetalWidthCm\":0.2,\"Species\":\"Iris-setosa\"},{\"SepalLengthCm\":5.9,\"SepalWidthCm\":3.0,\"PetalLengthCm\":5.1,\"PetalWidthCm\":1.8,\"Species\":\"Iris-virginica\"},{\"SepalLengthCm\":6.1,\"SepalWidthCm\":2.9,\"PetalLengthCm\":4.7,\"PetalWidthCm\":1.4,\"Species\":\"Iris-versicolor\"},{\"SepalLengthCm\":6.0,\"SepalWidthCm\":2.2,\"PetalLengthCm\":5.0,\"PetalWidthCm\":1.5,\"Species\":\"Iris-virginica\"},{\"SepalLengthCm\":5.0,\"SepalWidthCm\":3.6,\"PetalLengthCm\":1.4,\"PetalWidthCm\":0.2,\"Species\":\"Iris-setosa\"},{\"SepalLengthCm\":5.0,\"SepalWidthCm\":2.0,\"PetalLengthCm\":3.5,\"PetalWidthCm\":1.0,\"Species\":\"Iris-versicolor\"},{\"SepalLengthCm\":5.9,\"SepalWidthCm\":3.0,\"PetalLengthCm\":4.2,\"PetalWidthCm\":1.5,\"Species\":\"Iris-versicolor\"},{\"SepalLengthCm\":6.1,\"SepalWidthCm\":2.8,\"PetalLengthCm\":4.7,\"PetalWidthCm\":1.2,\"Species\":\"Iris-versicolor\"},{\"SepalLengthCm\":5.0,\"SepalWidthCm\":3.3,\"PetalLengthCm\":1.4,\"PetalWidthCm\":0.2,\"Species\":\"Iris-setosa\"},{\"SepalLengthCm\":7.3,\"SepalWidthCm\":2.9,\"PetalLengthCm\":6.3,\"PetalWidthCm\":1.8,\"Species\":\"Iris-virginica\"},{\"SepalLengthCm\":5.8,\"SepalWidthCm\":2.7,\"PetalLengthCm\":5.1,\"PetalWidthCm\":1.9,\"Species\":\"Iris-virginica\"},{\"SepalLengthCm\":5.1,\"SepalWidthCm\":3.5,\"PetalLengthCm\":1.4,\"PetalWidthCm\":0.3,\"Species\":\"Iris-setosa\"},{\"SepalLengthCm\":5.4,\"SepalWidthCm\":3.0,\"PetalLengthCm\":4.5,\"PetalWidthCm\":1.5,\"Species\":\"Iris-versicolor\"},{\"SepalLengthCm\":5.7,\"SepalWidthCm\":3.8,\"PetalLengthCm\":1.7,\"PetalWidthCm\":0.3,\"Species\":\"Iris-setosa\"},{\"SepalLengthCm\":6.0,\"SepalWidthCm\":3.0,\"PetalLengthCm\":4.8,\"PetalWidthCm\":1.8,\"Species\":\"Iris-virginica\"},{\"SepalLengthCm\":4.6,\"SepalWidthCm\":3.2,\"PetalLengthCm\":1.4,\"PetalWidthCm\":0.2,\"Species\":\"Iris-setosa\"},{\"SepalLengthCm\":5.6,\"SepalWidthCm\":2.5,\"PetalLengthCm\":3.9,\"PetalWidthCm\":1.1,\"Species\":\"Iris-versicolor\"},{\"SepalLengthCm\":5.5,\"SepalWidthCm\":3.5,\"PetalLengthCm\":1.3,\"PetalWidthCm\":0.2,\"Species\":\"Iris-setosa\"},{\"SepalLengthCm\":5.8,\"SepalWidthCm\":2.7,\"PetalLengthCm\":3.9,\"PetalWidthCm\":1.2,\"Species\":\"Iris-versicolor\"},{\"SepalLengthCm\":6.8,\"SepalWidthCm\":2.8,\"PetalLengthCm\":4.8,\"PetalWidthCm\":1.4,\"Species\":\"Iris-versicolor\"},{\"SepalLengthCm\":6.0,\"SepalWidthCm\":2.7,\"PetalLengthCm\":5.1,\"PetalWidthCm\":1.6,\"Species\":\"Iris-versicolor\"},{\"SepalLengthCm\":5.2,\"SepalWidthCm\":2.7,\"PetalLengthCm\":3.9,\"PetalWidthCm\":1.4,\"Species\":\"Iris-versicolor\"},{\"SepalLengthCm\":5.5,\"SepalWidthCm\":2.4,\"PetalLengthCm\":3.8,\"PetalWidthCm\":1.1,\"Species\":\"Iris-versicolor\"},{\"SepalLengthCm\":6.9,\"SepalWidthCm\":3.1,\"PetalLengthCm\":5.4,\"PetalWidthCm\":2.1,\"Species\":\"Iris-virginica\"},{\"SepalLengthCm\":5.1,\"SepalWidthCm\":3.7,\"PetalLengthCm\":1.5,\"PetalWidthCm\":0.4,\"Species\":\"Iris-setosa\"},{\"SepalLengthCm\":5.2,\"SepalWidthCm\":4.1,\"PetalLengthCm\":1.5,\"PetalWidthCm\":0.1,\"Species\":\"Iris-setosa\"},{\"SepalLengthCm\":6.9,\"SepalWidthCm\":3.1,\"PetalLengthCm\":5.1,\"PetalWidthCm\":2.3,\"Species\":\"Iris-virginica\"},{\"SepalLengthCm\":5.0,\"SepalWidthCm\":2.3,\"PetalLengthCm\":3.3,\"PetalWidthCm\":1.0,\"Species\":\"Iris-versicolor\"},{\"SepalLengthCm\":6.4,\"SepalWidthCm\":2.9,\"PetalLengthCm\":4.3,\"PetalWidthCm\":1.3,\"Species\":\"Iris-versicolor\"},{\"SepalLengthCm\":6.6,\"SepalWidthCm\":2.9,\"PetalLengthCm\":4.6,\"PetalWidthCm\":1.3,\"Species\":\"Iris-versicolor\"},{\"SepalLengthCm\":7.4,\"SepalWidthCm\":2.8,\"PetalLengthCm\":6.1,\"PetalWidthCm\":1.9,\"Species\":\"Iris-virginica\"},{\"SepalLengthCm\":4.3,\"SepalWidthCm\":3.0,\"PetalLengthCm\":1.1,\"PetalWidthCm\":0.1,\"Species\":\"Iris-setosa\"},{\"SepalLengthCm\":5.9,\"SepalWidthCm\":3.2,\"PetalLengthCm\":4.8,\"PetalWidthCm\":1.8,\"Species\":\"Iris-versicolor\"},{\"SepalLengthCm\":5.0,\"SepalWidthCm\":3.0,\"PetalLengthCm\":1.6,\"PetalWidthCm\":0.2,\"Species\":\"Iris-setosa\"},{\"SepalLengthCm\":5.6,\"SepalWidthCm\":3.0,\"PetalLengthCm\":4.1,\"PetalWidthCm\":1.3,\"Species\":\"Iris-versicolor\"},{\"SepalLengthCm\":6.2,\"SepalWidthCm\":2.9,\"PetalLengthCm\":4.3,\"PetalWidthCm\":1.3,\"Species\":\"Iris-versicolor\"},{\"SepalLengthCm\":5.1,\"SepalWidthCm\":2.5,\"PetalLengthCm\":3.0,\"PetalWidthCm\":1.1,\"Species\":\"Iris-versicolor\"},{\"SepalLengthCm\":5.8,\"SepalWidthCm\":2.7,\"PetalLengthCm\":4.1,\"PetalWidthCm\":1.0,\"Species\":\"Iris-versicolor\"},{\"SepalLengthCm\":6.3,\"SepalWidthCm\":2.7,\"PetalLengthCm\":4.9,\"PetalWidthCm\":1.8,\"Species\":\"Iris-virginica\"},{\"SepalLengthCm\":5.1,\"SepalWidthCm\":3.8,\"PetalLengthCm\":1.6,\"PetalWidthCm\":0.2,\"Species\":\"Iris-setosa\"},{\"SepalLengthCm\":4.7,\"SepalWidthCm\":3.2,\"PetalLengthCm\":1.3,\"PetalWidthCm\":0.2,\"Species\":\"Iris-setosa\"},{\"SepalLengthCm\":5.6,\"SepalWidthCm\":2.8,\"PetalLengthCm\":4.9,\"PetalWidthCm\":2.0,\"Species\":\"Iris-virginica\"},{\"SepalLengthCm\":6.0,\"SepalWidthCm\":2.2,\"PetalLengthCm\":4.0,\"PetalWidthCm\":1.0,\"Species\":\"Iris-versicolor\"},{\"SepalLengthCm\":6.5,\"SepalWidthCm\":3.0,\"PetalLengthCm\":5.5,\"PetalWidthCm\":1.8,\"Species\":\"Iris-virginica\"},{\"SepalLengthCm\":6.5,\"SepalWidthCm\":3.2,\"PetalLengthCm\":5.1,\"PetalWidthCm\":2.0,\"Species\":\"Iris-virginica\"},{\"SepalLengthCm\":5.4,\"SepalWidthCm\":3.4,\"PetalLengthCm\":1.5,\"PetalWidthCm\":0.4,\"Species\":\"Iris-setosa\"}];\n",
       "        </script>"
      ],
      "text/plain": [
       "<IPython.core.display.HTML object>"
      ]
     },
     "metadata": {},
     "output_type": "display_data"
    }
   ],
   "source": [
    "# convert dataframe to json string to be used by the html template\n",
    "jsonstr = df.to_json(orient='records')\n",
    "\n",
    "# Display the Dive visualization for this data\n",
    "deepdive_template = \"\"\"<link rel=\"import\" href=\"/nbextensions/facets-dist/facets-jupyter.html\">\n",
    "        <facets-dive sprite-image-width=\"32\" sprite-image-height=\"32\" id=\"deepdive\" height=\"600\" height=\"1000\"></facets-dive>\n",
    "        <script>\n",
    "          document.querySelector(\"#deepdive\").data = {jsonstr};\n",
    "        </script>\"\"\"\n",
    "\n",
    "# load data into template\n",
    "deepdive_html = deepdive_template.format(jsonstr=jsonstr)\n",
    "\n",
    "#display template\n",
    "display(HTML(deepdive_html))"
   ]
  },
  {
   "cell_type": "code",
   "execution_count": 12,
   "metadata": {},
   "outputs": [
    {
     "data": {
      "text/html": [
       "<div>\n",
       "<table border=\"1\" class=\"dataframe\">\n",
       "  <thead>\n",
       "    <tr style=\"text-align: right;\">\n",
       "      <th></th>\n",
       "      <th>SepalLengthCm</th>\n",
       "      <th>SepalWidthCm</th>\n",
       "      <th>PetalLengthCm</th>\n",
       "      <th>PetalWidthCm</th>\n",
       "      <th>Species</th>\n",
       "    </tr>\n",
       "  </thead>\n",
       "  <tbody>\n",
       "    <tr>\n",
       "      <th>0</th>\n",
       "      <td>6.3</td>\n",
       "      <td>2.8</td>\n",
       "      <td>5.1</td>\n",
       "      <td>1.5</td>\n",
       "      <td>2</td>\n",
       "    </tr>\n",
       "    <tr>\n",
       "      <th>1</th>\n",
       "      <td>4.9</td>\n",
       "      <td>3.1</td>\n",
       "      <td>1.5</td>\n",
       "      <td>0.1</td>\n",
       "      <td>0</td>\n",
       "    </tr>\n",
       "    <tr>\n",
       "      <th>2</th>\n",
       "      <td>4.4</td>\n",
       "      <td>3.2</td>\n",
       "      <td>1.3</td>\n",
       "      <td>0.2</td>\n",
       "      <td>0</td>\n",
       "    </tr>\n",
       "    <tr>\n",
       "      <th>3</th>\n",
       "      <td>5.5</td>\n",
       "      <td>2.5</td>\n",
       "      <td>4.0</td>\n",
       "      <td>1.3</td>\n",
       "      <td>1</td>\n",
       "    </tr>\n",
       "    <tr>\n",
       "      <th>4</th>\n",
       "      <td>7.1</td>\n",
       "      <td>3.0</td>\n",
       "      <td>5.9</td>\n",
       "      <td>2.1</td>\n",
       "      <td>2</td>\n",
       "    </tr>\n",
       "  </tbody>\n",
       "</table>\n",
       "</div>"
      ],
      "text/plain": [
       "   SepalLengthCm  SepalWidthCm  PetalLengthCm  PetalWidthCm  Species\n",
       "0            6.3           2.8            5.1           1.5        2\n",
       "1            4.9           3.1            1.5           0.1        0\n",
       "2            4.4           3.2            1.3           0.2        0\n",
       "3            5.5           2.5            4.0           1.3        1\n",
       "4            7.1           3.0            5.9           2.1        2"
      ]
     },
     "execution_count": 12,
     "metadata": {},
     "output_type": "execute_result"
    }
   ],
   "source": [
    "# label encode the string label: Species\n",
    "# it should be a numeric value, instead of a string value\n",
    "# to do: use one-hot encoder instead of label encoder\n",
    "le = LabelEncoder()\n",
    "df.Species = le.fit_transform(df.Species)\n",
    "\n",
    "# show the cleaned dataset\n",
    "df.head()"
   ]
  },
  {
   "cell_type": "code",
   "execution_count": 13,
   "metadata": {},
   "outputs": [
    {
     "data": {
      "text/plain": [
       "0    2\n",
       "1    0\n",
       "2    0\n",
       "3    1\n",
       "4    2\n",
       "Name: Species, dtype: int64"
      ]
     },
     "execution_count": 13,
     "metadata": {},
     "output_type": "execute_result"
    }
   ],
   "source": [
    "# set just the label column to y for the train_test_split()\n",
    "# *** need to shuffle the dataset first?\n",
    "data_label = df.Species\n",
    "data_label.head()"
   ]
  },
  {
   "cell_type": "code",
   "execution_count": 14,
   "metadata": {},
   "outputs": [
    {
     "data": {
      "text/html": [
       "<div>\n",
       "<table border=\"1\" class=\"dataframe\">\n",
       "  <thead>\n",
       "    <tr style=\"text-align: right;\">\n",
       "      <th></th>\n",
       "      <th>SepalLengthCm</th>\n",
       "      <th>SepalWidthCm</th>\n",
       "      <th>PetalLengthCm</th>\n",
       "      <th>PetalWidthCm</th>\n",
       "    </tr>\n",
       "  </thead>\n",
       "  <tbody>\n",
       "    <tr>\n",
       "      <th>0</th>\n",
       "      <td>6.3</td>\n",
       "      <td>2.8</td>\n",
       "      <td>5.1</td>\n",
       "      <td>1.5</td>\n",
       "    </tr>\n",
       "    <tr>\n",
       "      <th>1</th>\n",
       "      <td>4.9</td>\n",
       "      <td>3.1</td>\n",
       "      <td>1.5</td>\n",
       "      <td>0.1</td>\n",
       "    </tr>\n",
       "    <tr>\n",
       "      <th>2</th>\n",
       "      <td>4.4</td>\n",
       "      <td>3.2</td>\n",
       "      <td>1.3</td>\n",
       "      <td>0.2</td>\n",
       "    </tr>\n",
       "    <tr>\n",
       "      <th>3</th>\n",
       "      <td>5.5</td>\n",
       "      <td>2.5</td>\n",
       "      <td>4.0</td>\n",
       "      <td>1.3</td>\n",
       "    </tr>\n",
       "    <tr>\n",
       "      <th>4</th>\n",
       "      <td>7.1</td>\n",
       "      <td>3.0</td>\n",
       "      <td>5.9</td>\n",
       "      <td>2.1</td>\n",
       "    </tr>\n",
       "  </tbody>\n",
       "</table>\n",
       "</div>"
      ],
      "text/plain": [
       "   SepalLengthCm  SepalWidthCm  PetalLengthCm  PetalWidthCm\n",
       "0            6.3           2.8            5.1           1.5\n",
       "1            4.9           3.1            1.5           0.1\n",
       "2            4.4           3.2            1.3           0.2\n",
       "3            5.5           2.5            4.0           1.3\n",
       "4            7.1           3.0            5.9           2.1"
      ]
     },
     "execution_count": 14,
     "metadata": {},
     "output_type": "execute_result"
    }
   ],
   "source": [
    "# remove the species column so that you can scale the rest of the values\n",
    "# the values are already stored in y variable\n",
    "# *** convert this to X values here, for clarity?\n",
    "data_features = df.drop('Species', inplace=False, axis=1)\n",
    "data_features.head()\n"
   ]
  },
  {
   "cell_type": "code",
   "execution_count": 15,
   "metadata": {},
   "outputs": [
    {
     "data": {
      "text/html": [
       "<div>\n",
       "<table border=\"1\" class=\"dataframe\">\n",
       "  <thead>\n",
       "    <tr style=\"text-align: right;\">\n",
       "      <th></th>\n",
       "      <th>SepalLengthCm</th>\n",
       "      <th>SepalWidthCm</th>\n",
       "      <th>PetalLengthCm</th>\n",
       "      <th>PetalWidthCm</th>\n",
       "    </tr>\n",
       "  </thead>\n",
       "  <tbody>\n",
       "    <tr>\n",
       "      <th>0</th>\n",
       "      <td>0.553333</td>\n",
       "      <td>-0.587764</td>\n",
       "      <td>0.762759</td>\n",
       "      <td>0.396172</td>\n",
       "    </tr>\n",
       "    <tr>\n",
       "      <th>1</th>\n",
       "      <td>-1.143017</td>\n",
       "      <td>0.106445</td>\n",
       "      <td>-1.284407</td>\n",
       "      <td>-1.444450</td>\n",
       "    </tr>\n",
       "    <tr>\n",
       "      <th>2</th>\n",
       "      <td>-1.748856</td>\n",
       "      <td>0.337848</td>\n",
       "      <td>-1.398138</td>\n",
       "      <td>-1.312977</td>\n",
       "    </tr>\n",
       "    <tr>\n",
       "      <th>3</th>\n",
       "      <td>-0.416010</td>\n",
       "      <td>-1.281972</td>\n",
       "      <td>0.137236</td>\n",
       "      <td>0.133226</td>\n",
       "    </tr>\n",
       "    <tr>\n",
       "      <th>4</th>\n",
       "      <td>1.522676</td>\n",
       "      <td>-0.124958</td>\n",
       "      <td>1.217684</td>\n",
       "      <td>1.185010</td>\n",
       "    </tr>\n",
       "  </tbody>\n",
       "</table>\n",
       "</div>"
      ],
      "text/plain": [
       "   SepalLengthCm  SepalWidthCm  PetalLengthCm  PetalWidthCm\n",
       "0       0.553333     -0.587764       0.762759      0.396172\n",
       "1      -1.143017      0.106445      -1.284407     -1.444450\n",
       "2      -1.748856      0.337848      -1.398138     -1.312977\n",
       "3      -0.416010     -1.281972       0.137236      0.133226\n",
       "4       1.522676     -0.124958       1.217684      1.185010"
      ]
     },
     "execution_count": 15,
     "metadata": {},
     "output_type": "execute_result"
    }
   ],
   "source": [
    "# scale data for better results\n",
    "# so that columns with larger values dont get weighed more\n",
    "# example: age change of 40 years (significant) vs income change of $40 (not significant)\n",
    "\n",
    "sc = StandardScaler(copy=True, with_mean=True, with_std=True)\n",
    "scaled_features = pd.DataFrame(sc.fit_transform(data_features), columns=[data_features.columns], index=data_features.index)\n",
    "\n",
    "# show scaled X values \n",
    "scaled_features.head() \n",
    "# THIS IS A DATAFRAME"
   ]
  },
  {
   "cell_type": "code",
   "execution_count": 16,
   "metadata": {},
   "outputs": [
    {
     "data": {
      "text/plain": [
       "0    2\n",
       "1    0\n",
       "2    0\n",
       "3    1\n",
       "4    2\n",
       "Name: Species, dtype: int64"
      ]
     },
     "execution_count": 16,
     "metadata": {},
     "output_type": "execute_result"
    }
   ],
   "source": [
    "# show labels (y values in equasion)\n",
    "data_label.head()\n",
    "# THIS IS A SERIES\n"
   ]
  },
  {
   "cell_type": "code",
   "execution_count": 17,
   "metadata": {},
   "outputs": [],
   "source": [
    "# do a 70/30 split of the data into a train_x and train_y (70% for training) \n",
    "# and a test_x and test_y (30% for validation) \n",
    "# X is a DATAFRAME of scaled features\n",
    "# y is a SERIES of labels\n",
    "train_x, test_x, train_y, test_y = train_test_split(scaled_features, data_label, test_size=0.30, random_state=101)\n",
    " "
   ]
  },
  {
   "cell_type": "code",
   "execution_count": 18,
   "metadata": {},
   "outputs": [
    {
     "name": "stdout",
     "output_type": "stream",
     "text": [
      "<class 'pandas.core.frame.DataFrame'>\n",
      "Int64Index: 45 entries, 33 to 66\n",
      "Data columns (total 4 columns):\n",
      "SepalLengthCm    45 non-null float64\n",
      "SepalWidthCm     45 non-null float64\n",
      "PetalLengthCm    45 non-null float64\n",
      "PetalWidthCm     45 non-null float64\n",
      "dtypes: float64(4)\n",
      "memory usage: 1.8 KB\n"
     ]
    }
   ],
   "source": [
    "test_x.info()"
   ]
  },
  {
   "cell_type": "markdown",
   "metadata": {},
   "source": [
    "# 4. Create Feature Columns List for Classifier"
   ]
  },
  {
   "cell_type": "code",
   "execution_count": 19,
   "metadata": {},
   "outputs": [],
   "source": [
    "# Feature columns describe how to use the input.\n",
    "# you need to define the name and type for each column of your training data\n",
    "my_feature_columns = []\n",
    "\n",
    "# numeric coulmns\n",
    "my_feature_columns.append(tf.feature_column.numeric_column(key='SepalLengthCm'));\n",
    "my_feature_columns.append(tf.feature_column.numeric_column(key='SepalWidthCm'));\n",
    "my_feature_columns.append(tf.feature_column.numeric_column(key='PetalLengthCm'));\n",
    "my_feature_columns.append(tf.feature_column.numeric_column(key='PetalWidthCm'));   \n",
    "\n",
    "# other column types\n",
    "# hashed strings or categorical features\n",
    "# example:\n",
    "# state = tf.feature_column.categorical_column_with_hash_bucket('state',100) \n",
    "# pick the right size for your data\n",
    "\n",
    "    "
   ]
  },
  {
   "cell_type": "markdown",
   "metadata": {},
   "source": [
    "# 5. Create Classifier from Feature Column list"
   ]
  },
  {
   "cell_type": "code",
   "execution_count": 20,
   "metadata": {},
   "outputs": [
    {
     "name": "stdout",
     "output_type": "stream",
     "text": [
      "INFO:tensorflow:Using default config.\n",
      "INFO:tensorflow:Using config: {'_save_checkpoints_secs': 600, '_session_config': None, '_keep_checkpoint_max': 5, '_task_type': 'worker', '_is_chief': True, '_cluster_spec': <tensorflow.python.training.server_lib.ClusterSpec object at 0x1219a19d0>, '_save_checkpoints_steps': None, '_keep_checkpoint_every_n_hours': 10000, '_service': None, '_num_ps_replicas': 0, '_tf_random_seed': None, '_master': '', '_num_worker_replicas': 1, '_task_id': 0, '_log_step_count_steps': 100, '_model_dir': 'models/temp/iris', '_save_summary_steps': 100}\n"
     ]
    }
   ],
   "source": [
    "# Build 2 hidden layer DNN with 10, 10 units respectively\n",
    "# uses feature column types defined in the previous step\n",
    "classifier = tf.estimator.DNNClassifier(\n",
    "    # feature columns defined in the prev step\n",
    "    feature_columns=my_feature_columns,\n",
    "    # Two hidden layers of 10 nodes each.\n",
    "    hidden_units=[10, 10, 10],\n",
    "    # The model must choose between 3 classes.\n",
    "    n_classes=data_label.nunique(),\n",
    "    # save the model to a folder when run, reuse the same way\n",
    "    model_dir=model_path\n",
    ")\n"
   ]
  },
  {
   "cell_type": "code",
   "execution_count": 21,
   "metadata": {},
   "outputs": [],
   "source": [
    "# setup the train input function using the train_x and train_y datasource\n",
    "train_input_fn = tf.estimator.inputs.pandas_input_fn(train_x, y=train_y, num_epochs=5000, shuffle=True)\n"
   ]
  },
  {
   "cell_type": "markdown",
   "metadata": {},
   "source": [
    "# 6. Train Classifier"
   ]
  },
  {
   "cell_type": "code",
   "execution_count": 22,
   "metadata": {},
   "outputs": [
    {
     "name": "stdout",
     "output_type": "stream",
     "text": [
      "INFO:tensorflow:Create CheckpointSaverHook.\n",
      "INFO:tensorflow:Saving checkpoints for 1 into models/temp/iris/model.ckpt.\n",
      "INFO:tensorflow:loss = 127.135925, step = 1\n",
      "INFO:tensorflow:global_step/sec: 389.616\n",
      "INFO:tensorflow:loss = 6.9050293, step = 101 (0.261 sec)\n",
      "INFO:tensorflow:global_step/sec: 384.406\n",
      "INFO:tensorflow:loss = 3.0640566, step = 201 (0.259 sec)\n",
      "INFO:tensorflow:global_step/sec: 431.967\n",
      "INFO:tensorflow:loss = 2.6498284, step = 301 (0.232 sec)\n",
      "INFO:tensorflow:global_step/sec: 416.62\n",
      "INFO:tensorflow:loss = 3.937459, step = 401 (0.240 sec)\n",
      "INFO:tensorflow:global_step/sec: 424.975\n",
      "INFO:tensorflow:loss = 2.3510833, step = 501 (0.235 sec)\n",
      "INFO:tensorflow:global_step/sec: 411.938\n",
      "INFO:tensorflow:loss = 1.4174278, step = 601 (0.243 sec)\n",
      "INFO:tensorflow:global_step/sec: 417.052\n",
      "INFO:tensorflow:loss = 0.53422797, step = 701 (0.240 sec)\n",
      "INFO:tensorflow:global_step/sec: 428.26\n",
      "INFO:tensorflow:loss = 1.5141351, step = 801 (0.235 sec)\n",
      "INFO:tensorflow:global_step/sec: 410.533\n",
      "INFO:tensorflow:loss = 1.6219103, step = 901 (0.242 sec)\n",
      "INFO:tensorflow:global_step/sec: 425.342\n",
      "INFO:tensorflow:loss = 1.3801162, step = 1001 (0.235 sec)\n",
      "INFO:tensorflow:global_step/sec: 418.389\n",
      "INFO:tensorflow:loss = 0.69863904, step = 1101 (0.239 sec)\n",
      "INFO:tensorflow:global_step/sec: 437.516\n",
      "INFO:tensorflow:loss = 0.6435224, step = 1201 (0.230 sec)\n",
      "INFO:tensorflow:global_step/sec: 364.023\n",
      "INFO:tensorflow:loss = 0.25873077, step = 1301 (0.273 sec)\n",
      "INFO:tensorflow:global_step/sec: 379.127\n",
      "INFO:tensorflow:loss = 0.7154237, step = 1401 (0.264 sec)\n",
      "INFO:tensorflow:global_step/sec: 358.704\n",
      "INFO:tensorflow:loss = 0.5212894, step = 1501 (0.280 sec)\n",
      "INFO:tensorflow:global_step/sec: 347.266\n",
      "INFO:tensorflow:loss = 0.55358756, step = 1601 (0.287 sec)\n",
      "INFO:tensorflow:global_step/sec: 396.756\n",
      "INFO:tensorflow:loss = 0.29720074, step = 1701 (0.253 sec)\n",
      "INFO:tensorflow:global_step/sec: 401.2\n",
      "INFO:tensorflow:loss = 0.451999, step = 1801 (0.246 sec)\n",
      "INFO:tensorflow:global_step/sec: 363.099\n",
      "INFO:tensorflow:loss = 0.53506005, step = 1901 (0.278 sec)\n",
      "INFO:tensorflow:global_step/sec: 356.494\n",
      "INFO:tensorflow:loss = 0.4653862, step = 2001 (0.281 sec)\n",
      "INFO:tensorflow:global_step/sec: 418.652\n",
      "INFO:tensorflow:loss = 0.38347685, step = 2101 (0.240 sec)\n",
      "INFO:tensorflow:global_step/sec: 398.883\n",
      "INFO:tensorflow:loss = 0.38172257, step = 2201 (0.250 sec)\n",
      "INFO:tensorflow:global_step/sec: 402.28\n",
      "INFO:tensorflow:loss = 0.5125963, step = 2301 (0.248 sec)\n",
      "INFO:tensorflow:global_step/sec: 405.063\n",
      "INFO:tensorflow:loss = 0.19317219, step = 2401 (0.246 sec)\n",
      "INFO:tensorflow:global_step/sec: 406.28\n",
      "INFO:tensorflow:loss = 0.322527, step = 2501 (0.246 sec)\n",
      "INFO:tensorflow:global_step/sec: 390.323\n",
      "INFO:tensorflow:loss = 0.30625224, step = 2601 (0.257 sec)\n",
      "INFO:tensorflow:global_step/sec: 391.305\n",
      "INFO:tensorflow:loss = 0.14998575, step = 2701 (0.256 sec)\n",
      "INFO:tensorflow:global_step/sec: 349.281\n",
      "INFO:tensorflow:loss = 0.1009485, step = 2801 (0.284 sec)\n",
      "INFO:tensorflow:global_step/sec: 412.513\n",
      "INFO:tensorflow:loss = 0.19509903, step = 2901 (0.247 sec)\n",
      "INFO:tensorflow:global_step/sec: 406.331\n",
      "INFO:tensorflow:loss = 0.21595827, step = 3001 (0.243 sec)\n",
      "INFO:tensorflow:global_step/sec: 413.344\n",
      "INFO:tensorflow:loss = 0.31898654, step = 3101 (0.244 sec)\n",
      "INFO:tensorflow:global_step/sec: 428.451\n",
      "INFO:tensorflow:loss = 0.14486949, step = 3201 (0.231 sec)\n",
      "INFO:tensorflow:global_step/sec: 423.945\n",
      "INFO:tensorflow:loss = 0.14657018, step = 3301 (0.240 sec)\n",
      "INFO:tensorflow:global_step/sec: 437.698\n",
      "INFO:tensorflow:loss = 0.13196258, step = 3401 (0.224 sec)\n",
      "INFO:tensorflow:global_step/sec: 422.167\n",
      "INFO:tensorflow:loss = 0.18208703, step = 3501 (0.238 sec)\n",
      "INFO:tensorflow:global_step/sec: 421.836\n",
      "INFO:tensorflow:loss = 0.04576535, step = 3601 (0.237 sec)\n",
      "INFO:tensorflow:global_step/sec: 397.765\n",
      "INFO:tensorflow:loss = 0.07143158, step = 3701 (0.251 sec)\n",
      "INFO:tensorflow:global_step/sec: 425.733\n",
      "INFO:tensorflow:loss = 0.16361636, step = 3801 (0.237 sec)\n",
      "INFO:tensorflow:global_step/sec: 415.11\n",
      "INFO:tensorflow:loss = 0.0877419, step = 3901 (0.240 sec)\n",
      "INFO:tensorflow:global_step/sec: 397.015\n",
      "INFO:tensorflow:loss = 0.055950478, step = 4001 (0.252 sec)\n",
      "INFO:tensorflow:global_step/sec: 452.3\n",
      "INFO:tensorflow:loss = 0.19590008, step = 4101 (0.219 sec)\n",
      "INFO:tensorflow:Saving checkpoints for 4102 into models/temp/iris/model.ckpt.\n",
      "INFO:tensorflow:Loss for final step: 0.07622817.\n"
     ]
    },
    {
     "data": {
      "text/plain": [
       "<tensorflow.python.estimator.canned.dnn.DNNClassifier at 0x121bc50d0>"
      ]
     },
     "execution_count": 22,
     "metadata": {},
     "output_type": "execute_result"
    }
   ],
   "source": [
    "# this is where training actually occurs, this will be a long running process on large datasets\n",
    "classifier.train(input_fn=train_input_fn)\n"
   ]
  },
  {
   "cell_type": "markdown",
   "metadata": {},
   "source": [
    "# 7. Test classifier with the 30% split data"
   ]
  },
  {
   "cell_type": "code",
   "execution_count": 23,
   "metadata": {},
   "outputs": [],
   "source": [
    "# validate the model using the x_test values to get a prediction for each one\n",
    "# then you can compare the predicted values against the known values in test_y\n",
    "# which will give you an accuracy score in percentage\n",
    "test_input_fn = tf.estimator.inputs.pandas_input_fn(test_x, num_epochs=1, shuffle=False)\n"
   ]
  },
  {
   "cell_type": "code",
   "execution_count": 24,
   "metadata": {},
   "outputs": [
    {
     "name": "stdout",
     "output_type": "stream",
     "text": [
      "INFO:tensorflow:Restoring parameters from models/temp/iris/model.ckpt-4102\n",
      "[{'probabilities': array([9.9999988e-01, 9.1881631e-08, 2.7562536e-33], dtype=float32), 'logits': array([ 16.76355  ,   0.5607845, -58.207882 ], dtype=float32), 'classes': array(['0'], dtype=object), 'class_ids': array([0])}, {'probabilities': array([7.3880653e-07, 9.9999917e-01, 1.2444411e-07], dtype=float32), 'logits': array([-5.60056  ,  8.517669 , -7.3817396], dtype=float32), 'classes': array(['1'], dtype=object), 'class_ids': array([1])}, {'probabilities': array([7.3989389e-07, 9.9999928e-01, 2.5323835e-10], dtype=float32), 'logits': array([ -4.531504,   9.585255, -12.511435], dtype=float32), 'classes': array(['1'], dtype=object), 'class_ids': array([1])}, {'probabilities': array([9.999999e-01, 7.674641e-08, 6.574133e-33], dtype=float32), 'logits': array([ 16.69859   ,   0.31582946, -57.403576  ], dtype=float32), 'classes': array(['0'], dtype=object), 'class_ids': array([0])}, {'probabilities': array([1.04242164e-10, 3.81621579e-09, 1.00000000e+00], dtype=float32), 'logits': array([-10.813394 ,  -7.2130957,  12.170911 ], dtype=float32), 'classes': array(['2'], dtype=object), 'class_ids': array([2])}, {'probabilities': array([1.3213065e-06, 9.9999857e-01, 1.3940195e-07], dtype=float32), 'logits': array([-5.206639,  8.330249, -7.455654], dtype=float32), 'classes': array(['1'], dtype=object), 'class_ids': array([1])}, {'probabilities': array([9.9999595e-01, 4.0703694e-06, 3.1283605e-25], dtype=float32), 'logits': array([ 12.670405  ,   0.25863284, -43.753708  ], dtype=float32), 'classes': array(['0'], dtype=object), 'class_ids': array([0])}, {'probabilities': array([9.9999678e-01, 3.2136320e-06, 7.6924847e-26], dtype=float32), 'logits': array([ 12.962117  ,   0.31401175, -44.86485   ], dtype=float32), 'classes': array(['0'], dtype=object), 'class_ids': array([0])}, {'probabilities': array([3.9523891e-09, 1.0000000e+00, 2.3033927e-11], dtype=float32), 'logits': array([ -6.843681,  12.505265, -11.988789], dtype=float32), 'classes': array(['1'], dtype=object), 'class_ids': array([1])}, {'probabilities': array([9.9999392e-01, 6.0628022e-06, 5.3351712e-24], dtype=float32), 'logits': array([ 12.108766  ,   0.09543341, -41.47895   ], dtype=float32), 'classes': array(['0'], dtype=object), 'class_ids': array([0])}, {'probabilities': array([6.4399965e-11, 3.9752135e-09, 1.0000000e+00], dtype=float32), 'logits': array([-11.1954775,  -7.072757 ,  12.270431 ], dtype=float32), 'classes': array(['2'], dtype=object), 'class_ids': array([2])}, {'probabilities': array([4.5122046e-04, 9.9954861e-01, 6.5696213e-08], dtype=float32), 'logits': array([ -1.977786,   5.725317, -10.812456], dtype=float32), 'classes': array(['1'], dtype=object), 'class_ids': array([1])}, {'probabilities': array([6.298002e-08, 9.999999e-01, 8.464541e-10], dtype=float32), 'logits': array([ -5.8986206,  10.6818285, -10.208136 ], dtype=float32), 'classes': array(['1'], dtype=object), 'class_ids': array([1])}, {'probabilities': array([4.0642539e-07, 9.9999964e-01, 8.1505680e-10], dtype=float32), 'logits': array([ -4.9364347,   9.77943  , -11.148333 ], dtype=float32), 'classes': array(['1'], dtype=object), 'class_ids': array([1])}, {'probabilities': array([2.6588530e-13, 7.1934086e-12, 1.0000000e+00], dtype=float32), 'logits': array([-13.157069,  -9.859213,  15.798643], dtype=float32), 'classes': array(['2'], dtype=object), 'class_ids': array([2])}, {'probabilities': array([2.3712785e-09, 1.0000000e+00, 4.6062956e-11], dtype=float32), 'logits': array([ -7.4307632,  12.429072 , -11.37194  ], dtype=float32), 'classes': array(['1'], dtype=object), 'class_ids': array([1])}, {'probabilities': array([9.9999392e-01, 6.0628022e-06, 5.3351712e-24], dtype=float32), 'logits': array([ 12.108766  ,   0.09543341, -41.47895   ], dtype=float32), 'classes': array(['0'], dtype=object), 'class_ids': array([0])}, {'probabilities': array([1.1872678e-04, 9.9911648e-01, 7.6476845e-04], dtype=float32), 'logits': array([-4.750517 ,  4.2872844, -2.8877695], dtype=float32), 'classes': array(['1'], dtype=object), 'class_ids': array([1])}, {'probabilities': array([8.9054083e-05, 9.9991095e-01, 1.9931981e-10], dtype=float32), 'logits': array([ -1.9451896,   7.380988 , -14.955034 ], dtype=float32), 'classes': array(['1'], dtype=object), 'class_ids': array([1])}, {'probabilities': array([7.0562260e-16, 1.7734724e-14, 1.0000000e+00], dtype=float32), 'logits': array([-15.565244, -12.341043,  19.322208], dtype=float32), 'classes': array(['2'], dtype=object), 'class_ids': array([2])}, {'probabilities': array([9.9999928e-01, 7.1108292e-07, 1.6419244e-28], dtype=float32), 'logits': array([ 14.408429 ,   0.2519533, -49.568085 ], dtype=float32), 'classes': array(['0'], dtype=object), 'class_ids': array([0])}, {'probabilities': array([9.9999523e-01, 4.7576559e-06, 1.1026997e-24], dtype=float32), 'logits': array([ 12.428374  ,   0.17262381, -42.7359    ], dtype=float32), 'classes': array(['0'], dtype=object), 'class_ids': array([0])}, {'probabilities': array([9.9999762e-01, 2.3424168e-06, 4.7257569e-26], dtype=float32), 'logits': array([ 13.146484 ,   0.1821596, -45.167698 ], dtype=float32), 'classes': array(['0'], dtype=object), 'class_ids': array([0])}, {'probabilities': array([9.362792e-08, 9.999999e-01, 5.508906e-10], dtype=float32), 'logits': array([ -5.574257,  10.60968 , -10.709805], dtype=float32), 'classes': array(['1'], dtype=object), 'class_ids': array([1])}, {'probabilities': array([9.999913e-01, 8.698342e-06, 3.593353e-23], dtype=float32), 'logits': array([ 11.698087  ,   0.04571742, -39.982277  ], dtype=float32), 'classes': array(['0'], dtype=object), 'class_ids': array([0])}, {'probabilities': array([8.8981687e-06, 9.9984574e-01, 1.4527744e-04], dtype=float32), 'logits': array([-6.218252 ,  5.4112587, -3.4254522], dtype=float32), 'classes': array(['1'], dtype=object), 'class_ids': array([1])}, {'probabilities': array([5.4088807e-14, 3.7134282e-13, 1.0000000e+00], dtype=float32), 'logits': array([-13.326367, -11.399871,  17.22178 ], dtype=float32), 'classes': array(['2'], dtype=object), 'class_ids': array([2])}, {'probabilities': array([1.5425064e-07, 3.5748165e-03, 9.9642497e-01], dtype=float32), 'logits': array([-10.45178   ,  -0.40093452,   5.2293253 ], dtype=float32), 'classes': array(['2'], dtype=object), 'class_ids': array([2])}, {'probabilities': array([9.9999821e-01, 1.8048542e-06, 1.9920323e-27], dtype=float32), 'logits': array([ 13.708176  ,   0.48314685, -47.772465  ], dtype=float32), 'classes': array(['0'], dtype=object), 'class_ids': array([0])}, {'probabilities': array([4.4311206e-20, 1.9689861e-19, 1.0000000e+00], dtype=float32), 'logits': array([-18.923994, -17.432543,  25.639055], dtype=float32), 'classes': array(['2'], dtype=object), 'class_ids': array([2])}, {'probabilities': array([9.9999833e-01, 1.6726817e-06, 9.2534324e-27], dtype=float32), 'logits': array([ 13.507569  ,   0.20648879, -46.437233  ], dtype=float32), 'classes': array(['0'], dtype=object), 'class_ids': array([0])}, {'probabilities': array([9.9999392e-01, 6.0628022e-06, 5.3351712e-24], dtype=float32), 'logits': array([ 12.108766  ,   0.09543341, -41.47895   ], dtype=float32), 'classes': array(['0'], dtype=object), 'class_ids': array([0])}, {'probabilities': array([5.355720e-08, 1.000000e+00, 1.546444e-09], dtype=float32), 'logits': array([-6.2011776, 10.541338 , -9.74597  ], dtype=float32), 'classes': array(['1'], dtype=object), 'class_ids': array([1])}, {'probabilities': array([4.5217188e-11, 3.6429870e-09, 1.0000000e+00], dtype=float32), 'logits': array([-11.434641,  -7.045558,  12.384903], dtype=float32), 'classes': array(['2'], dtype=object), 'class_ids': array([2])}, {'probabilities': array([9.999976e-01, 2.378853e-06, 8.106191e-26], dtype=float32), 'logits': array([ 13.061049  ,   0.11215991, -44.71353   ], dtype=float32), 'classes': array(['0'], dtype=object), 'class_ids': array([0])}, {'probabilities': array([9.9999797e-01, 2.0300452e-06, 2.5905000e-26], dtype=float32), 'logits': array([ 13.286338  ,   0.17888755, -45.62902   ], dtype=float32), 'classes': array(['0'], dtype=object), 'class_ids': array([0])}, {'probabilities': array([9.9999964e-01, 3.7422276e-07, 6.4388723e-31], dtype=float32), 'logits': array([ 15.437549 ,   0.6391346, -54.080235 ], dtype=float32), 'classes': array(['0'], dtype=object), 'class_ids': array([0])}, {'probabilities': array([9.9999893e-01, 1.0766631e-06, 2.3377877e-28], dtype=float32), 'logits': array([ 14.198934  ,   0.45729083, -49.424244  ], dtype=float32), 'classes': array(['0'], dtype=object), 'class_ids': array([0])}, {'probabilities': array([9.9999797e-01, 2.0215484e-06, 8.5197532e-26], dtype=float32), 'logits': array([ 1.3111410e+01, -2.3442507e-04, -4.4613415e+01], dtype=float32), 'classes': array(['0'], dtype=object), 'class_ids': array([0])}, {'probabilities': array([9.9999881e-01, 1.1480008e-06, 1.7162521e-26], dtype=float32), 'logits': array([ 13.549552  ,  -0.12793523, -45.777515  ], dtype=float32), 'classes': array(['0'], dtype=object), 'class_ids': array([0])}, {'probabilities': array([3.9445516e-07, 9.9999964e-01, 9.8782511e-09], dtype=float32), 'logits': array([-5.2931714,  9.452589 , -8.98034  ], dtype=float32), 'classes': array(['1'], dtype=object), 'class_ids': array([1])}, {'probabilities': array([4.3245484e-04, 7.3561966e-01, 2.6394790e-01], dtype=float32), 'logits': array([-5.7902737,  1.6487167,  0.6237553], dtype=float32), 'classes': array(['1'], dtype=object), 'class_ids': array([1])}, {'probabilities': array([1.9234642e-07, 2.0267840e-05, 9.9997950e-01], dtype=float32), 'logits': array([-8.100562 , -3.443069 ,  7.3633857], dtype=float32), 'classes': array(['2'], dtype=object), 'class_ids': array([2])}, {'probabilities': array([3.4785688e-10, 1.8084776e-06, 9.9999821e-01], dtype=float32), 'logits': array([-12.131406 ,  -3.5752013,   9.647822 ], dtype=float32), 'classes': array(['2'], dtype=object), 'class_ids': array([2])}, {'probabilities': array([9.9999309e-01, 6.8714912e-06, 1.6569817e-23], dtype=float32), 'logits': array([ 1.1896421e+01,  8.2990527e-03, -4.0558033e+01], dtype=float32), 'classes': array(['0'], dtype=object), 'class_ids': array([0])}]\n"
     ]
    }
   ],
   "source": [
    "test_result = list(classifier.predict(input_fn=test_input_fn))\n",
    "\n",
    "print(test_result)"
   ]
  },
  {
   "cell_type": "code",
   "execution_count": 25,
   "metadata": {},
   "outputs": [],
   "source": [
    "# build an array with just the predicted species (label encoded values) \n",
    "# filtering out all other prediction response data\n",
    "predicted_y = []\n",
    "for each in test_result:\n",
    "    predicted_y.append(each['class_ids'][0])"
   ]
  },
  {
   "cell_type": "code",
   "execution_count": 26,
   "metadata": {
    "scrolled": true
   },
   "outputs": [
    {
     "name": "stdout",
     "output_type": "stream",
     "text": [
      "OVERALL ACCURACY:\n",
      "0.9777777777777777\n",
      "\n",
      "CONFUSION MATRIX:\n",
      "[[20  0  0]\n",
      " [ 0 15  1]\n",
      " [ 0  0  9]]\n"
     ]
    }
   ],
   "source": [
    "# compare the predicted scores on the test data against the actual test_y values\n",
    "# with both a confusion matrix and an accuracy score\n",
    "print('OVERALL ACCURACY:')\n",
    "print(accuracy_score(test_y, predicted_y))\n",
    "\n",
    "print('')\n",
    "\n",
    "print('CONFUSION MATRIX:')\n",
    "print(confusion_matrix(test_y, predicted_y))\n"
   ]
  },
  {
   "cell_type": "markdown",
   "metadata": {},
   "source": [
    "# 8. Predict with new data records "
   ]
  },
  {
   "cell_type": "code",
   "execution_count": 27,
   "metadata": {},
   "outputs": [],
   "source": [
    "# test using single records (real world values)\n",
    "# one Iris-setosa, one Iris-versicolor\n",
    "new_records = pd.DataFrame([\n",
    "    [5.1, 3.5, 1.4, 0.2],  # first value to predict\n",
    "    [5.7, 2.8, 4.1, 1.3]], # second value to predict\n",
    "    columns=prediction_feature_columns)\n",
    " \n",
    "# these values must be scaled, to match what is used in the model\n",
    "scaled_new_records = pd.DataFrame(sc.transform(new_records), columns=[new_records.columns], index=new_records.index)\n",
    "\n",
    "#SepalLengthCm, SepalWidthCm, PetalLengthCm, PetalWidthCm\n",
    "#-1.870024, -0.124958, -1.511870, -1.444450 : 0\n",
    "# 1.522676, -0.124958, 1.217684, 1.185010 : 1\n"
   ]
  },
  {
   "cell_type": "code",
   "execution_count": 28,
   "metadata": {},
   "outputs": [],
   "source": [
    "# predict using the model to get a prediction for each item passed\n",
    "prediction_input_fn = tf.estimator.inputs.pandas_input_fn(scaled_new_records, num_epochs=1, shuffle=False)"
   ]
  },
  {
   "cell_type": "code",
   "execution_count": 29,
   "metadata": {},
   "outputs": [
    {
     "name": "stdout",
     "output_type": "stream",
     "text": [
      "INFO:tensorflow:Restoring parameters from models/temp/iris/model.ckpt-4102\n"
     ]
    },
    {
     "data": {
      "text/plain": [
       "[{'class_ids': array([0]),\n",
       "  'classes': array(['0'], dtype=object),\n",
       "  'logits': array([ 13.923073  ,   0.15754622, -47.713924  ], dtype=float32),\n",
       "  'probabilities': array([9.9999893e-01, 1.0512529e-06, 1.7036948e-27], dtype=float32)},\n",
       " {'class_ids': array([1]),\n",
       "  'classes': array(['1'], dtype=object),\n",
       "  'logits': array([-5.4769983,  9.47805  , -8.857482 ], dtype=float32),\n",
       "  'probabilities': array([3.1996672e-07, 9.9999964e-01, 1.0888774e-08], dtype=float32)}]"
      ]
     },
     "execution_count": 29,
     "metadata": {},
     "output_type": "execute_result"
    }
   ],
   "source": [
    "prediction_result = list(classifier.predict(input_fn=prediction_input_fn))\n",
    "\n",
    "prediction_result"
   ]
  },
  {
   "cell_type": "markdown",
   "metadata": {},
   "source": [
    "# 9. Decode new predictions"
   ]
  },
  {
   "cell_type": "code",
   "execution_count": 30,
   "metadata": {
    "scrolled": true
   },
   "outputs": [
    {
     "name": "stdout",
     "output_type": "stream",
     "text": [
      "   SepalLengthCm  SepalWidthCm  PetalLengthCm  PetalWidthCm\n",
      "0            5.1           3.5            1.4           0.2\n",
      "*** PREDICTION: 0 (Label Decoded: Iris-setosa)\n",
      "\n",
      "   SepalLengthCm  SepalWidthCm  PetalLengthCm  PetalWidthCm\n",
      "1            5.7           2.8            4.1           1.3\n",
      "*** PREDICTION: 1 (Label Decoded: Iris-versicolor)\n",
      "\n"
     ]
    },
    {
     "name": "stderr",
     "output_type": "stream",
     "text": [
      "/Users/jameswolf/anaconda/lib/python2.7/site-packages/sklearn/preprocessing/label.py:151: DeprecationWarning: The truth value of an empty array is ambiguous. Returning False, but in future this will result in an error. Use `array.size > 0` to check that an array is not empty.\n",
      "  if diff:\n",
      "/Users/jameswolf/anaconda/lib/python2.7/site-packages/sklearn/preprocessing/label.py:151: DeprecationWarning: The truth value of an empty array is ambiguous. Returning False, but in future this will result in an error. Use `array.size > 0` to check that an array is not empty.\n",
      "  if diff:\n"
     ]
    }
   ],
   "source": [
    "# for each of the results\n",
    "i = 0\n",
    "for each in prediction_result:\n",
    "    # print the values used in the prediction\n",
    "    print(new_records.iloc[[i]])\n",
    "    \n",
    "    # print the transformed label-encoded value\n",
    "    print('*** PREDICTION: ' + str(each['class_ids'][0]) + ' (Label Decoded: ' + str(le.inverse_transform(each['class_ids'][0]))+ ')')\n",
    "    print('')\n",
    "    \n",
    "    # go to next row\n",
    "    i = i + 1\n",
    "    \n",
    "#-1.870024, -0.124958, -1.511870, -1.444450 : 0\n",
    "# 1.522676, -0.124958, 1.217684, 1.185010 : 1"
   ]
  },
  {
   "cell_type": "markdown",
   "metadata": {},
   "source": [
    "# 10. Save Model for Tensorflow Serving"
   ]
  },
  {
   "cell_type": "code",
   "execution_count": 31,
   "metadata": {},
   "outputs": [
    {
     "name": "stdout",
     "output_type": "stream",
     "text": [
      "INFO:tensorflow:Restoring parameters from models/temp/iris/model.ckpt-4102\n",
      "INFO:tensorflow:Assets added to graph.\n",
      "INFO:tensorflow:No assets to write.\n",
      "INFO:tensorflow:SavedModel written to: serving/models/iris/temp-1523851403/saved_model.pb\n"
     ]
    },
    {
     "data": {
      "text/plain": [
       "'serving/models/iris/1523851403'"
      ]
     },
     "execution_count": 31,
     "metadata": {},
     "output_type": "execute_result"
    }
   ],
   "source": [
    "export_dir=\"serving/models/iris/\"\n",
    "\n",
    "feature_spec = tf.feature_column.make_parse_example_spec(my_feature_columns)\n",
    "\n",
    "input_receiver_fn = tf.estimator.export.build_parsing_serving_input_receiver_fn(feature_spec)\n",
    "\n",
    "classifier.export_savedmodel(export_dir, input_receiver_fn, as_text=False) "
   ]
  },
  {
   "cell_type": "markdown",
   "metadata": {},
   "source": [
    "# 11. Make predictions from the saved DNNClassifier model"
   ]
  },
  {
   "cell_type": "markdown",
   "metadata": {},
   "source": [
    "https://www.kaggle.com/jeffcarp/example-save-and-load-a-tensorflow-model"
   ]
  },
  {
   "cell_type": "code",
   "execution_count": 32,
   "metadata": {},
   "outputs": [
    {
     "name": "stdout",
     "output_type": "stream",
     "text": [
      "INFO:tensorflow:Using default config.\n",
      "INFO:tensorflow:Using config: {'_save_checkpoints_secs': 600, '_session_config': None, '_keep_checkpoint_max': 5, '_task_type': 'worker', '_is_chief': True, '_cluster_spec': <tensorflow.python.training.server_lib.ClusterSpec object at 0x123a35a50>, '_save_checkpoints_steps': None, '_keep_checkpoint_every_n_hours': 10000, '_service': None, '_num_ps_replicas': 0, '_tf_random_seed': None, '_master': '', '_num_worker_replicas': 1, '_task_id': 0, '_log_step_count_steps': 100, '_model_dir': 'models/temp/iris', '_save_summary_steps': 100}\n",
      "INFO:tensorflow:Restoring parameters from models/temp/iris/model.ckpt-4102\n"
     ]
    },
    {
     "data": {
      "text/plain": [
       "[{'class_ids': array([0]),\n",
       "  'classes': array(['0'], dtype=object),\n",
       "  'logits': array([ 13.923073  ,   0.15754622, -47.713924  ], dtype=float32),\n",
       "  'probabilities': array([9.9999893e-01, 1.0512529e-06, 1.7036948e-27], dtype=float32)},\n",
       " {'class_ids': array([1]),\n",
       "  'classes': array(['1'], dtype=object),\n",
       "  'logits': array([-5.4769983,  9.47805  , -8.857482 ], dtype=float32),\n",
       "  'probabilities': array([3.1996672e-07, 9.9999964e-01, 1.0888774e-08], dtype=float32)}]"
      ]
     },
     "execution_count": 32,
     "metadata": {},
     "output_type": "execute_result"
    }
   ],
   "source": [
    "# this should load the model from the last saved in the model_dir\n",
    "# so everything it needs should be included below\n",
    "\n",
    "# input column names\n",
    "columns_names = ['SepalLengthCm','SepalWidthCm','PetalLengthCm','PetalWidthCm']\n",
    "\n",
    "# where the model was last saved \n",
    "model_path = 'models/temp/iris' \n",
    "\n",
    "# define columns in model using the column_names list\n",
    "# Feature columns describe how to use the input.\n",
    "# you need to define the name and type for each column of your training data\n",
    "hardcoded_feature_columns = []\n",
    "\n",
    "# numeric coulmns\n",
    "hardcoded_feature_columns.append(tf.feature_column.numeric_column(key='SepalLengthCm'));\n",
    "hardcoded_feature_columns.append(tf.feature_column.numeric_column(key='SepalWidthCm'));\n",
    "hardcoded_feature_columns.append(tf.feature_column.numeric_column(key='PetalLengthCm'));\n",
    "hardcoded_feature_columns.append(tf.feature_column.numeric_column(key='PetalWidthCm'));   \n",
    "\n",
    "#hardcoded_feature_columns = []\n",
    "#for key in columns_names:\n",
    "#    hardcoded_feature_columns.append(tf.feature_column.numeric_column(key=key))\n",
    "#    print(key)\n",
    "\n",
    "# create a classifier using the defined columns and the pre-defined model\n",
    "saved_estimator = tf.estimator.DNNClassifier(\n",
    "    # feature column array of tf.feature_column types, defined in the prev step\n",
    "    feature_columns=hardcoded_feature_columns,\n",
    "    # Two hidden layers of 10 nodes each.\n",
    "    hidden_units=[10, 10, 10],\n",
    "    # The model must choose between 3 classes.\n",
    "    n_classes=3,\n",
    "    # use saved model from folder\n",
    "    model_dir=model_path\n",
    ")\n",
    "\n",
    "# test using single records (2 real world values)\n",
    "# one Iris-setosa, one Iris-versicolor\n",
    "records_to_predict = pd.DataFrame([\n",
    "    [5.1, 3.5, 1.4, 0.2], # first records features\n",
    "    [5.7, 2.8, 4.1, 1.3]],# second record features\n",
    "    columns=columns_names)# defined column names\n",
    " \n",
    "# these values must be scaled, to match what is used in the model\n",
    "scaled_records_to_predict = pd.DataFrame(sc.transform(records_to_predict), columns=[records_to_predict.columns], index=records_to_predict.index)\n",
    "\n",
    "# predict using the model to get a prediction for each item passed\n",
    "saved_prediction_input_fn = tf.estimator.inputs.pandas_input_fn(scaled_records_to_predict, num_epochs=1, shuffle=False)\n",
    "\n",
    "# make predictions and store as a list\n",
    "saved_prediction_result = list(saved_estimator.predict(input_fn=saved_prediction_input_fn))\n",
    "\n",
    "# output prediction values\n",
    "saved_prediction_result\n",
    "\n",
    "#SepalLengthCm, SepalWidthCm, PetalLengthCm, PetalWidthCm\n",
    "#-1.870024, -0.124958, -1.511870, -1.444450 : 0\n",
    "# 1.522676, -0.124958, 1.217684, 1.185010 : 1\n",
    "#estimator_from_file = load_estimator_model('models/iris/1520662093')"
   ]
  },
  {
   "cell_type": "markdown",
   "metadata": {},
   "source": [
    "# END"
   ]
  },
  {
   "cell_type": "markdown",
   "metadata": {},
   "source": [
    "Just testing features and note below this line, not part of main execution"
   ]
  },
  {
   "cell_type": "code",
   "execution_count": null,
   "metadata": {},
   "outputs": [],
   "source": [
    "df.head()"
   ]
  },
  {
   "cell_type": "code",
   "execution_count": null,
   "metadata": {},
   "outputs": [],
   "source": []
  }
 ],
 "metadata": {
  "anaconda-cloud": {},
  "kernelspec": {
   "display_name": "Python [default]",
   "language": "python",
   "name": "python2"
  },
  "language_info": {
   "codemirror_mode": {
    "name": "ipython",
    "version": 2
   },
   "file_extension": ".py",
   "mimetype": "text/x-python",
   "name": "python",
   "nbconvert_exporter": "python",
   "pygments_lexer": "ipython2",
   "version": "2.7.12"
  }
 },
 "nbformat": 4,
 "nbformat_minor": 2
}
