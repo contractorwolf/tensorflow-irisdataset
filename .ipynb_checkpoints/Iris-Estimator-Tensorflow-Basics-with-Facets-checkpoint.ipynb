{
 "cells": [
  {
   "cell_type": "markdown",
   "metadata": {},
   "source": [
    "# 1. Setup libraries for Machine Learning "
   ]
  },
  {
   "cell_type": "markdown",
   "metadata": {},
   "source": [
    "The first step is to import all the libaries that will be needed to parse and explore the data"
   ]
  },
  {
   "cell_type": "code",
   "execution_count": 1,
   "metadata": {},
   "outputs": [
    {
     "name": "stdout",
     "output_type": "stream",
     "text": [
      "TENSORFLOW VERSION: 1.4.1\n"
     ]
    }
   ],
   "source": [
    "# IMPORT LIBRARIES (must be installed via pip)\n",
    "# ----------------------------------------------------------------------------\n",
    "\n",
    "# This Python 3 environment comes with many helpful analytics libraries installed\n",
    "# It is defined by the kaggle/python docker image: https://github.com/kaggle/docker-python\n",
    "import numpy as np              # linear algebra\n",
    "import pandas as pd             # data processing, CSV file I/O (e.g. pd.read_csv)\n",
    "import matplotlib.pyplot as plt # plotting\n",
    "import seaborn as sns           # plotting\n",
    "import tensorflow as tf         # machine learning\n",
    "import sys                      # for facets stuff\n",
    "import base64                   # for facets stuff\n",
    "\n",
    "# generic_feature_statistics_generator is in the facets directory\n",
    "sys.path.append('./facets/facets_overview/python')\n",
    "\n",
    "# ML libraries \n",
    "from sklearn.preprocessing import LabelEncoder\n",
    "from sklearn.preprocessing import StandardScaler\n",
    "from sklearn.model_selection import train_test_split\n",
    "from sklearn.metrics import confusion_matrix, accuracy_score\n",
    "\n",
    "# calculate the feature statistics from the datasets and stringify it for use in facets overview\n",
    "from generic_feature_statistics_generator import GenericFeatureStatisticsGenerator\n",
    "from IPython.core.display import display, HTML\n",
    "\n",
    "# tell jupyter notebook to diplay plotted data inline\n",
    "%matplotlib inline \n",
    "\n",
    "# SET LOCAL VARIABLES\n",
    "# -----------------------------------------------------------------------------\n",
    "\n",
    "# define local file for training data with features and labels\n",
    "csv_file = 'datasets/iris.csv'\n",
    "\n",
    "# define feature columns for input feature data \n",
    "prediction_feature_columns = ['SepalLengthCm','SepalWidthCm','PetalLengthCm','PetalWidthCm']\n",
    "\n",
    "# path to save the model for future training or tensorflow serving\n",
    "model_path = 'models/temp/iris'\n",
    "\n",
    "# verify version of tensorflow, should be 1.4+ to use new Estimators features\n",
    "print('TENSORFLOW VERSION: ' + tf.__version__)\n"
   ]
  },
  {
   "cell_type": "markdown",
   "metadata": {},
   "source": [
    "# 2. Import Dataset from local CSV file"
   ]
  },
  {
   "cell_type": "markdown",
   "metadata": {},
   "source": [
    "You will first need to load your raw data from a local CSV file, and you should attempt to output the columns after each step for verification.  "
   ]
  },
  {
   "cell_type": "code",
   "execution_count": 2,
   "metadata": {},
   "outputs": [
    {
     "data": {
      "text/html": [
       "<div>\n",
       "<table border=\"1\" class=\"dataframe\">\n",
       "  <thead>\n",
       "    <tr style=\"text-align: right;\">\n",
       "      <th></th>\n",
       "      <th>Id</th>\n",
       "      <th>SepalLengthCm</th>\n",
       "      <th>SepalWidthCm</th>\n",
       "      <th>PetalLengthCm</th>\n",
       "      <th>PetalWidthCm</th>\n",
       "      <th>Species</th>\n",
       "    </tr>\n",
       "  </thead>\n",
       "  <tbody>\n",
       "    <tr>\n",
       "      <th>0</th>\n",
       "      <td>1</td>\n",
       "      <td>5.1</td>\n",
       "      <td>3.5</td>\n",
       "      <td>1.4</td>\n",
       "      <td>0.2</td>\n",
       "      <td>Iris-setosa</td>\n",
       "    </tr>\n",
       "    <tr>\n",
       "      <th>1</th>\n",
       "      <td>2</td>\n",
       "      <td>4.9</td>\n",
       "      <td>3.0</td>\n",
       "      <td>1.4</td>\n",
       "      <td>0.2</td>\n",
       "      <td>Iris-setosa</td>\n",
       "    </tr>\n",
       "    <tr>\n",
       "      <th>2</th>\n",
       "      <td>3</td>\n",
       "      <td>4.7</td>\n",
       "      <td>3.2</td>\n",
       "      <td>1.3</td>\n",
       "      <td>0.2</td>\n",
       "      <td>Iris-setosa</td>\n",
       "    </tr>\n",
       "    <tr>\n",
       "      <th>3</th>\n",
       "      <td>4</td>\n",
       "      <td>4.6</td>\n",
       "      <td>3.1</td>\n",
       "      <td>1.5</td>\n",
       "      <td>0.2</td>\n",
       "      <td>Iris-setosa</td>\n",
       "    </tr>\n",
       "    <tr>\n",
       "      <th>4</th>\n",
       "      <td>5</td>\n",
       "      <td>5.0</td>\n",
       "      <td>3.6</td>\n",
       "      <td>1.4</td>\n",
       "      <td>0.2</td>\n",
       "      <td>Iris-setosa</td>\n",
       "    </tr>\n",
       "  </tbody>\n",
       "</table>\n",
       "</div>"
      ],
      "text/plain": [
       "   Id  SepalLengthCm  SepalWidthCm  PetalLengthCm  PetalWidthCm      Species\n",
       "0   1            5.1           3.5            1.4           0.2  Iris-setosa\n",
       "1   2            4.9           3.0            1.4           0.2  Iris-setosa\n",
       "2   3            4.7           3.2            1.3           0.2  Iris-setosa\n",
       "3   4            4.6           3.1            1.5           0.2  Iris-setosa\n",
       "4   5            5.0           3.6            1.4           0.2  Iris-setosa"
      ]
     },
     "execution_count": 2,
     "metadata": {},
     "output_type": "execute_result"
    }
   ],
   "source": [
    "# get full dataset from local CSV file\n",
    "df = pd.read_csv(csv_file)\n",
    "df.head()\n"
   ]
  },
  {
   "cell_type": "code",
   "execution_count": 3,
   "metadata": {},
   "outputs": [
    {
     "data": {
      "text/plain": [
       "<matplotlib.axes._subplots.AxesSubplot at 0x1212568d0>"
      ]
     },
     "execution_count": 3,
     "metadata": {},
     "output_type": "execute_result"
    },
    {
     "data": {
      "image/png": "[encoded data removed]",
      "text/plain": [
       "<matplotlib.figure.Figure at 0x121247d10>"
      ]
     },
     "metadata": {},
     "output_type": "display_data"
    }
   ],
   "source": [
    "df['SepalLengthCm'].hist()"
   ]
  },
  {
   "cell_type": "code",
   "execution_count": 5,
   "metadata": {},
   "outputs": [
    {
     "data": {
      "text/plain": [
       "<matplotlib.axes._subplots.AxesSubplot at 0x1213aaed0>"
      ]
     },
     "execution_count": 5,
     "metadata": {},
     "output_type": "execute_result"
    },
    {
     "data": {
      "image/png": "[encoded data removed]",
      "text/plain": [
       "<matplotlib.figure.Figure at 0x12152b750>"
      ]
     },
     "metadata": {},
     "output_type": "display_data"
    }
   ],
   "source": [
    "df.plot(kind=\"scatter\", x=\"PetalLengthCm\",y=\"PetalWidthCm\", c=['blue','green','red'], s=100, alpha=.8)"
   ]
  },
  {
   "cell_type": "markdown",
   "metadata": {},
   "source": [
    "# 3. Clean up the Dataset"
   ]
  },
  {
   "cell_type": "markdown",
   "metadata": {},
   "source": [
    "1. eliminate noise in data (remove columns not tied to the label)\n",
    "2. make values numeric (remove strings with numeric or hash values)\n",
    "3. randomize order (removes order bias)\n",
    "4. scale data (scaled according to the data, for training and prediction)"
   ]
  },
  {
   "cell_type": "code",
   "execution_count": 6,
   "metadata": {},
   "outputs": [],
   "source": [
    "# drop unnecessary 'Id' column from the dataset, doesnt help predict the label\n",
    "df.drop('Id', inplace=True, axis=1)"
   ]
  },
  {
   "cell_type": "code",
   "execution_count": 7,
   "metadata": {},
   "outputs": [
    {
     "data": {
      "text/html": [
       "<div>\n",
       "<table border=\"1\" class=\"dataframe\">\n",
       "  <thead>\n",
       "    <tr style=\"text-align: right;\">\n",
       "      <th></th>\n",
       "      <th>SepalLengthCm</th>\n",
       "      <th>SepalWidthCm</th>\n",
       "      <th>PetalLengthCm</th>\n",
       "      <th>PetalWidthCm</th>\n",
       "      <th>Species</th>\n",
       "    </tr>\n",
       "  </thead>\n",
       "  <tbody>\n",
       "    <tr>\n",
       "      <th>0</th>\n",
       "      <td>5.9</td>\n",
       "      <td>3.0</td>\n",
       "      <td>4.2</td>\n",
       "      <td>1.5</td>\n",
       "      <td>Iris-versicolor</td>\n",
       "    </tr>\n",
       "    <tr>\n",
       "      <th>1</th>\n",
       "      <td>6.3</td>\n",
       "      <td>2.5</td>\n",
       "      <td>5.0</td>\n",
       "      <td>1.9</td>\n",
       "      <td>Iris-virginica</td>\n",
       "    </tr>\n",
       "    <tr>\n",
       "      <th>2</th>\n",
       "      <td>7.3</td>\n",
       "      <td>2.9</td>\n",
       "      <td>6.3</td>\n",
       "      <td>1.8</td>\n",
       "      <td>Iris-virginica</td>\n",
       "    </tr>\n",
       "    <tr>\n",
       "      <th>3</th>\n",
       "      <td>6.3</td>\n",
       "      <td>2.5</td>\n",
       "      <td>4.9</td>\n",
       "      <td>1.5</td>\n",
       "      <td>Iris-versicolor</td>\n",
       "    </tr>\n",
       "    <tr>\n",
       "      <th>4</th>\n",
       "      <td>5.0</td>\n",
       "      <td>2.0</td>\n",
       "      <td>3.5</td>\n",
       "      <td>1.0</td>\n",
       "      <td>Iris-versicolor</td>\n",
       "    </tr>\n",
       "  </tbody>\n",
       "</table>\n",
       "</div>"
      ],
      "text/plain": [
       "   SepalLengthCm  SepalWidthCm  PetalLengthCm  PetalWidthCm          Species\n",
       "0            5.9           3.0            4.2           1.5  Iris-versicolor\n",
       "1            6.3           2.5            5.0           1.9   Iris-virginica\n",
       "2            7.3           2.9            6.3           1.8   Iris-virginica\n",
       "3            6.3           2.5            4.9           1.5  Iris-versicolor\n",
       "4            5.0           2.0            3.5           1.0  Iris-versicolor"
      ]
     },
     "execution_count": 7,
     "metadata": {},
     "output_type": "execute_result"
    }
   ],
   "source": [
    "# ALWAYS randomize sample\n",
    "df = df.sample(frac=1).reset_index(drop=True)\n",
    "df.head()"
   ]
  },
  {
   "cell_type": "markdown",
   "metadata": {},
   "source": [
    "### I look for outliers and missing data with a Google tool called: Facets.  You can see the full explanation for how to download and use Facets here:\n",
    "\n",
    "https://pair-code.github.io/facets/\n",
    "\n",
    "### Facets - Overview:"
   ]
  },
  {
   "cell_type": "code",
   "execution_count": 8,
   "metadata": {},
   "outputs": [
    {
     "data": {
      "text/html": [
       "<link rel=\"import\" href=\"/nbextensions/facets-dist/facets-jupyter.html\" >\n",
       "        <facets-overview id=\"overview\"></facets-overview>\n",
       "        <script>\n",
       "          document.querySelector(\"#overview\").protoInput = \"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\";\n",
       "        </script>"
      ],
      "text/plain": [
       "<IPython.core.display.HTML object>"
      ]
     },
     "metadata": {},
     "output_type": "display_data"
    }
   ],
   "source": [
    "# generate statistics for template\n",
    "gfsg = GenericFeatureStatisticsGenerator()\n",
    "\n",
    "# load data\n",
    "proto = gfsg.ProtoFromDataFrames([{'name': 'train', 'table': df}])\n",
    "\n",
    "# create base64 string for html template\n",
    "protostr = base64.b64encode(proto.SerializeToString()).decode(\"utf-8\")\n",
    "\n",
    "# Display the facets overview visualization for this data\n",
    "overview_template = \"\"\"<link rel=\"import\" href=\"/nbextensions/facets-dist/facets-jupyter.html\" >\n",
    "        <facets-overview id=\"overview\"></facets-overview>\n",
    "        <script>\n",
    "          document.querySelector(\"#overview\").protoInput = \"{protostr}\";\n",
    "        </script>\"\"\"\n",
    "\n",
    "# load data into template\n",
    "overview_html = overview_template.format(protostr=protostr)\n",
    "\n",
    "# display template\n",
    "display(HTML(overview_html))"
   ]
  },
  {
   "cell_type": "markdown",
   "metadata": {},
   "source": [
    "### Facets - Deep Dive:"
   ]
  },
  {
   "cell_type": "code",
   "execution_count": 9,
   "metadata": {
    "scrolled": false
   },
   "outputs": [
    {
     "data": {
      "text/html": [
       "<link rel=\"import\" href=\"/nbextensions/facets-dist/facets-jupyter.html\">\n",
       "        <facets-dive sprite-image-width=\"32\" sprite-image-height=\"32\" id=\"deepdive\" height=\"600\" height=\"1000\"></facets-dive>\n",
       "        <script>\n",
       "          document.querySelector(\"#deepdive\").data = [{\"SepalLengthCm\":5.9,\"SepalWidthCm\":3.0,\"PetalLengthCm\":4.2,\"PetalWidthCm\":1.5,\"Species\":\"Iris-versicolor\"},{\"SepalLengthCm\":6.3,\"SepalWidthCm\":2.5,\"PetalLengthCm\":5.0,\"PetalWidthCm\":1.9,\"Species\":\"Iris-virginica\"},{\"SepalLengthCm\":7.3,\"SepalWidthCm\":2.9,\"PetalLengthCm\":6.3,\"PetalWidthCm\":1.8,\"Species\":\"Iris-virginica\"},{\"SepalLengthCm\":6.3,\"SepalWidthCm\":2.5,\"PetalLengthCm\":4.9,\"PetalWidthCm\":1.5,\"Species\":\"Iris-versicolor\"},{\"SepalLengthCm\":5.0,\"SepalWidthCm\":2.0,\"PetalLengthCm\":3.5,\"PetalWidthCm\":1.0,\"Species\":\"Iris-versicolor\"},{\"SepalLengthCm\":5.8,\"SepalWidthCm\":2.7,\"PetalLengthCm\":5.1,\"PetalWidthCm\":1.9,\"Species\":\"Iris-virginica\"},{\"SepalLengthCm\":6.9,\"SepalWidthCm\":3.1,\"PetalLengthCm\":5.1,\"PetalWidthCm\":2.3,\"Species\":\"Iris-virginica\"},{\"SepalLengthCm\":6.7,\"SepalWidthCm\":3.3,\"PetalLengthCm\":5.7,\"PetalWidthCm\":2.1,\"Species\":\"Iris-virginica\"},{\"SepalLengthCm\":6.4,\"SepalWidthCm\":3.2,\"PetalLengthCm\":5.3,\"PetalWidthCm\":2.3,\"Species\":\"Iris-virginica\"},{\"SepalLengthCm\":5.5,\"SepalWidthCm\":2.3,\"PetalLengthCm\":4.0,\"PetalWidthCm\":1.3,\"Species\":\"Iris-versicolor\"},{\"SepalLengthCm\":6.3,\"SepalWidthCm\":2.7,\"PetalLengthCm\":4.9,\"PetalWidthCm\":1.8,\"Species\":\"Iris-virginica\"},{\"SepalLengthCm\":5.6,\"SepalWidthCm\":2.8,\"PetalLengthCm\":4.9,\"PetalWidthCm\":2.0,\"Species\":\"Iris-virginica\"},{\"SepalLengthCm\":5.4,\"SepalWidthCm\":3.7,\"PetalLengthCm\":1.5,\"PetalWidthCm\":0.2,\"Species\":\"Iris-setosa\"},{\"SepalLengthCm\":4.8,\"SepalWidthCm\":3.4,\"PetalLengthCm\":1.6,\"PetalWidthCm\":0.2,\"Species\":\"Iris-setosa\"},{\"SepalLengthCm\":4.6,\"SepalWidthCm\":3.6,\"PetalLengthCm\":1.0,\"PetalWidthCm\":0.2,\"Species\":\"Iris-setosa\"},{\"SepalLengthCm\":4.7,\"SepalWidthCm\":3.2,\"PetalLengthCm\":1.3,\"PetalWidthCm\":0.2,\"Species\":\"Iris-setosa\"},{\"SepalLengthCm\":6.9,\"SepalWidthCm\":3.1,\"PetalLengthCm\":4.9,\"PetalWidthCm\":1.5,\"Species\":\"Iris-versicolor\"},{\"SepalLengthCm\":5.8,\"SepalWidthCm\":2.8,\"PetalLengthCm\":5.1,\"PetalWidthCm\":2.4,\"Species\":\"Iris-virginica\"},{\"SepalLengthCm\":4.8,\"SepalWidthCm\":3.4,\"PetalLengthCm\":1.9,\"PetalWidthCm\":0.2,\"Species\":\"Iris-setosa\"},{\"SepalLengthCm\":6.3,\"SepalWidthCm\":2.8,\"PetalLengthCm\":5.1,\"PetalWidthCm\":1.5,\"Species\":\"Iris-virginica\"},{\"SepalLengthCm\":6.1,\"SepalWidthCm\":2.6,\"PetalLengthCm\":5.6,\"PetalWidthCm\":1.4,\"Species\":\"Iris-virginica\"},{\"SepalLengthCm\":4.8,\"SepalWidthCm\":3.0,\"PetalLengthCm\":1.4,\"PetalWidthCm\":0.3,\"Species\":\"Iris-setosa\"},{\"SepalLengthCm\":5.1,\"SepalWidthCm\":3.5,\"PetalLengthCm\":1.4,\"PetalWidthCm\":0.3,\"Species\":\"Iris-setosa\"},{\"SepalLengthCm\":6.0,\"SepalWidthCm\":2.2,\"PetalLengthCm\":4.0,\"PetalWidthCm\":1.0,\"Species\":\"Iris-versicolor\"},{\"SepalLengthCm\":5.1,\"SepalWidthCm\":3.8,\"PetalLengthCm\":1.6,\"PetalWidthCm\":0.2,\"Species\":\"Iris-setosa\"},{\"SepalLengthCm\":4.4,\"SepalWidthCm\":2.9,\"PetalLengthCm\":1.4,\"PetalWidthCm\":0.2,\"Species\":\"Iris-setosa\"},{\"SepalLengthCm\":6.0,\"SepalWidthCm\":3.0,\"PetalLengthCm\":4.8,\"PetalWidthCm\":1.8,\"Species\":\"Iris-virginica\"},{\"SepalLengthCm\":5.5,\"SepalWidthCm\":2.4,\"PetalLengthCm\":3.8,\"PetalWidthCm\":1.1,\"Species\":\"Iris-versicolor\"},{\"SepalLengthCm\":6.2,\"SepalWidthCm\":3.4,\"PetalLengthCm\":5.4,\"PetalWidthCm\":2.3,\"Species\":\"Iris-virginica\"},{\"SepalLengthCm\":5.4,\"SepalWidthCm\":3.9,\"PetalLengthCm\":1.7,\"PetalWidthCm\":0.4,\"Species\":\"Iris-setosa\"},{\"SepalLengthCm\":7.7,\"SepalWidthCm\":3.0,\"PetalLengthCm\":6.1,\"PetalWidthCm\":2.3,\"Species\":\"Iris-virginica\"},{\"SepalLengthCm\":6.4,\"SepalWidthCm\":2.8,\"PetalLengthCm\":5.6,\"PetalWidthCm\":2.1,\"Species\":\"Iris-virginica\"},{\"SepalLengthCm\":5.7,\"SepalWidthCm\":4.4,\"PetalLengthCm\":1.5,\"PetalWidthCm\":0.4,\"Species\":\"Iris-setosa\"},{\"SepalLengthCm\":6.8,\"SepalWidthCm\":2.8,\"PetalLengthCm\":4.8,\"PetalWidthCm\":1.4,\"Species\":\"Iris-versicolor\"},{\"SepalLengthCm\":7.7,\"SepalWidthCm\":2.8,\"PetalLengthCm\":6.7,\"PetalWidthCm\":2.0,\"Species\":\"Iris-virginica\"},{\"SepalLengthCm\":6.5,\"SepalWidthCm\":3.0,\"PetalLengthCm\":5.8,\"PetalWidthCm\":2.2,\"Species\":\"Iris-virginica\"},{\"SepalLengthCm\":6.0,\"SepalWidthCm\":3.4,\"PetalLengthCm\":4.5,\"PetalWidthCm\":1.6,\"Species\":\"Iris-versicolor\"},{\"SepalLengthCm\":7.1,\"SepalWidthCm\":3.0,\"PetalLengthCm\":5.9,\"PetalWidthCm\":2.1,\"Species\":\"Iris-virginica\"},{\"SepalLengthCm\":6.5,\"SepalWidthCm\":3.0,\"PetalLengthCm\":5.5,\"PetalWidthCm\":1.8,\"Species\":\"Iris-virginica\"},{\"SepalLengthCm\":5.1,\"SepalWidthCm\":2.5,\"PetalLengthCm\":3.0,\"PetalWidthCm\":1.1,\"Species\":\"Iris-versicolor\"},{\"SepalLengthCm\":6.1,\"SepalWidthCm\":2.8,\"PetalLengthCm\":4.7,\"PetalWidthCm\":1.2,\"Species\":\"Iris-versicolor\"},{\"SepalLengthCm\":5.7,\"SepalWidthCm\":2.8,\"PetalLengthCm\":4.1,\"PetalWidthCm\":1.3,\"Species\":\"Iris-versicolor\"},{\"SepalLengthCm\":6.0,\"SepalWidthCm\":2.2,\"PetalLengthCm\":5.0,\"PetalWidthCm\":1.5,\"Species\":\"Iris-virginica\"},{\"SepalLengthCm\":4.9,\"SepalWidthCm\":3.1,\"PetalLengthCm\":1.5,\"PetalWidthCm\":0.1,\"Species\":\"Iris-setosa\"},{\"SepalLengthCm\":6.3,\"SepalWidthCm\":2.3,\"PetalLengthCm\":4.4,\"PetalWidthCm\":1.3,\"Species\":\"Iris-versicolor\"},{\"SepalLengthCm\":4.6,\"SepalWidthCm\":3.4,\"PetalLengthCm\":1.4,\"PetalWidthCm\":0.3,\"Species\":\"Iris-setosa\"},{\"SepalLengthCm\":5.7,\"SepalWidthCm\":2.5,\"PetalLengthCm\":5.0,\"PetalWidthCm\":2.0,\"Species\":\"Iris-virginica\"},{\"SepalLengthCm\":5.2,\"SepalWidthCm\":4.1,\"PetalLengthCm\":1.5,\"PetalWidthCm\":0.1,\"Species\":\"Iris-setosa\"},{\"SepalLengthCm\":5.1,\"SepalWidthCm\":3.3,\"PetalLengthCm\":1.7,\"PetalWidthCm\":0.5,\"Species\":\"Iris-setosa\"},{\"SepalLengthCm\":5.0,\"SepalWidthCm\":3.4,\"PetalLengthCm\":1.6,\"PetalWidthCm\":0.4,\"Species\":\"Iris-setosa\"},{\"SepalLengthCm\":6.2,\"SepalWidthCm\":2.2,\"PetalLengthCm\":4.5,\"PetalWidthCm\":1.5,\"Species\":\"Iris-versicolor\"},{\"SepalLengthCm\":5.3,\"SepalWidthCm\":3.7,\"PetalLengthCm\":1.5,\"PetalWidthCm\":0.2,\"Species\":\"Iris-setosa\"},{\"SepalLengthCm\":5.0,\"SepalWidthCm\":3.4,\"PetalLengthCm\":1.5,\"PetalWidthCm\":0.2,\"Species\":\"Iris-setosa\"},{\"SepalLengthCm\":6.0,\"SepalWidthCm\":2.9,\"PetalLengthCm\":4.5,\"PetalWidthCm\":1.5,\"Species\":\"Iris-versicolor\"},{\"SepalLengthCm\":5.5,\"SepalWidthCm\":2.4,\"PetalLengthCm\":3.7,\"PetalWidthCm\":1.0,\"Species\":\"Iris-versicolor\"},{\"SepalLengthCm\":5.8,\"SepalWidthCm\":4.0,\"PetalLengthCm\":1.2,\"PetalWidthCm\":0.2,\"Species\":\"Iris-setosa\"},{\"SepalLengthCm\":5.6,\"SepalWidthCm\":2.9,\"PetalLengthCm\":3.6,\"PetalWidthCm\":1.3,\"Species\":\"Iris-versicolor\"},{\"SepalLengthCm\":4.8,\"SepalWidthCm\":3.1,\"PetalLengthCm\":1.6,\"PetalWidthCm\":0.2,\"Species\":\"Iris-setosa\"},{\"SepalLengthCm\":5.0,\"SepalWidthCm\":2.3,\"PetalLengthCm\":3.3,\"PetalWidthCm\":1.0,\"Species\":\"Iris-versicolor\"},{\"SepalLengthCm\":6.2,\"SepalWidthCm\":2.8,\"PetalLengthCm\":4.8,\"PetalWidthCm\":1.8,\"Species\":\"Iris-virginica\"},{\"SepalLengthCm\":6.7,\"SepalWidthCm\":3.1,\"PetalLengthCm\":5.6,\"PetalWidthCm\":2.4,\"Species\":\"Iris-virginica\"},{\"SepalLengthCm\":5.1,\"SepalWidthCm\":3.7,\"PetalLengthCm\":1.5,\"PetalWidthCm\":0.4,\"Species\":\"Iris-setosa\"},{\"SepalLengthCm\":6.7,\"SepalWidthCm\":2.5,\"PetalLengthCm\":5.8,\"PetalWidthCm\":1.8,\"Species\":\"Iris-virginica\"},{\"SepalLengthCm\":5.0,\"SepalWidthCm\":3.6,\"PetalLengthCm\":1.4,\"PetalWidthCm\":0.2,\"Species\":\"Iris-setosa\"},{\"SepalLengthCm\":5.0,\"SepalWidthCm\":3.5,\"PetalLengthCm\":1.6,\"PetalWidthCm\":0.6,\"Species\":\"Iris-setosa\"},{\"SepalLengthCm\":7.0,\"SepalWidthCm\":3.2,\"PetalLengthCm\":4.7,\"PetalWidthCm\":1.4,\"Species\":\"Iris-versicolor\"},{\"SepalLengthCm\":5.8,\"SepalWidthCm\":2.7,\"PetalLengthCm\":4.1,\"PetalWidthCm\":1.0,\"Species\":\"Iris-versicolor\"},{\"SepalLengthCm\":5.5,\"SepalWidthCm\":2.5,\"PetalLengthCm\":4.0,\"PetalWidthCm\":1.3,\"Species\":\"Iris-versicolor\"},{\"SepalLengthCm\":6.6,\"SepalWidthCm\":3.0,\"PetalLengthCm\":4.4,\"PetalWidthCm\":1.4,\"Species\":\"Iris-versicolor\"},{\"SepalLengthCm\":6.1,\"SepalWidthCm\":2.8,\"PetalLengthCm\":4.0,\"PetalWidthCm\":1.3,\"Species\":\"Iris-versicolor\"},{\"SepalLengthCm\":6.9,\"SepalWidthCm\":3.1,\"PetalLengthCm\":5.4,\"PetalWidthCm\":2.1,\"Species\":\"Iris-virginica\"},{\"SepalLengthCm\":4.7,\"SepalWidthCm\":3.2,\"PetalLengthCm\":1.6,\"PetalWidthCm\":0.2,\"Species\":\"Iris-setosa\"},{\"SepalLengthCm\":6.9,\"SepalWidthCm\":3.2,\"PetalLengthCm\":5.7,\"PetalWidthCm\":2.3,\"Species\":\"Iris-virginica\"},{\"SepalLengthCm\":4.9,\"SepalWidthCm\":3.1,\"PetalLengthCm\":1.5,\"PetalWidthCm\":0.1,\"Species\":\"Iris-setosa\"},{\"SepalLengthCm\":6.3,\"SepalWidthCm\":3.3,\"PetalLengthCm\":4.7,\"PetalWidthCm\":1.6,\"Species\":\"Iris-versicolor\"},{\"SepalLengthCm\":7.2,\"SepalWidthCm\":3.6,\"PetalLengthCm\":6.1,\"PetalWidthCm\":2.5,\"Species\":\"Iris-virginica\"},{\"SepalLengthCm\":5.6,\"SepalWidthCm\":3.0,\"PetalLengthCm\":4.1,\"PetalWidthCm\":1.3,\"Species\":\"Iris-versicolor\"},{\"SepalLengthCm\":6.1,\"SepalWidthCm\":2.9,\"PetalLengthCm\":4.7,\"PetalWidthCm\":1.4,\"Species\":\"Iris-versicolor\"},{\"SepalLengthCm\":5.5,\"SepalWidthCm\":4.2,\"PetalLengthCm\":1.4,\"PetalWidthCm\":0.2,\"Species\":\"Iris-setosa\"},{\"SepalLengthCm\":4.9,\"SepalWidthCm\":2.5,\"PetalLengthCm\":4.5,\"PetalWidthCm\":1.7,\"Species\":\"Iris-virginica\"},{\"SepalLengthCm\":4.4,\"SepalWidthCm\":3.0,\"PetalLengthCm\":1.3,\"PetalWidthCm\":0.2,\"Species\":\"Iris-setosa\"},{\"SepalLengthCm\":4.3,\"SepalWidthCm\":3.0,\"PetalLengthCm\":1.1,\"PetalWidthCm\":0.1,\"Species\":\"Iris-setosa\"},{\"SepalLengthCm\":7.6,\"SepalWidthCm\":3.0,\"PetalLengthCm\":6.6,\"PetalWidthCm\":2.1,\"Species\":\"Iris-virginica\"},{\"SepalLengthCm\":7.4,\"SepalWidthCm\":2.8,\"PetalLengthCm\":6.1,\"PetalWidthCm\":1.9,\"Species\":\"Iris-virginica\"},{\"SepalLengthCm\":5.4,\"SepalWidthCm\":3.9,\"PetalLengthCm\":1.3,\"PetalWidthCm\":0.4,\"Species\":\"Iris-setosa\"},{\"SepalLengthCm\":4.9,\"SepalWidthCm\":2.4,\"PetalLengthCm\":3.3,\"PetalWidthCm\":1.0,\"Species\":\"Iris-versicolor\"},{\"SepalLengthCm\":6.8,\"SepalWidthCm\":3.0,\"PetalLengthCm\":5.5,\"PetalWidthCm\":2.1,\"Species\":\"Iris-virginica\"},{\"SepalLengthCm\":4.4,\"SepalWidthCm\":3.2,\"PetalLengthCm\":1.3,\"PetalWidthCm\":0.2,\"Species\":\"Iris-setosa\"},{\"SepalLengthCm\":6.2,\"SepalWidthCm\":2.9,\"PetalLengthCm\":4.3,\"PetalWidthCm\":1.3,\"Species\":\"Iris-versicolor\"},{\"SepalLengthCm\":5.4,\"SepalWidthCm\":3.0,\"PetalLengthCm\":4.5,\"PetalWidthCm\":1.5,\"Species\":\"Iris-versicolor\"},{\"SepalLengthCm\":5.0,\"SepalWidthCm\":3.3,\"PetalLengthCm\":1.4,\"PetalWidthCm\":0.2,\"Species\":\"Iris-setosa\"},{\"SepalLengthCm\":5.2,\"SepalWidthCm\":2.7,\"PetalLengthCm\":3.9,\"PetalWidthCm\":1.4,\"Species\":\"Iris-versicolor\"},{\"SepalLengthCm\":6.3,\"SepalWidthCm\":3.4,\"PetalLengthCm\":5.6,\"PetalWidthCm\":2.4,\"Species\":\"Iris-virginica\"},{\"SepalLengthCm\":5.1,\"SepalWidthCm\":3.4,\"PetalLengthCm\":1.5,\"PetalWidthCm\":0.2,\"Species\":\"Iris-setosa\"},{\"SepalLengthCm\":5.0,\"SepalWidthCm\":3.2,\"PetalLengthCm\":1.2,\"PetalWidthCm\":0.2,\"Species\":\"Iris-setosa\"},{\"SepalLengthCm\":6.7,\"SepalWidthCm\":3.1,\"PetalLengthCm\":4.4,\"PetalWidthCm\":1.4,\"Species\":\"Iris-versicolor\"},{\"SepalLengthCm\":5.6,\"SepalWidthCm\":2.7,\"PetalLengthCm\":4.2,\"PetalWidthCm\":1.3,\"Species\":\"Iris-versicolor\"},{\"SepalLengthCm\":6.4,\"SepalWidthCm\":2.7,\"PetalLengthCm\":5.3,\"PetalWidthCm\":1.9,\"Species\":\"Iris-virginica\"},{\"SepalLengthCm\":6.5,\"SepalWidthCm\":3.2,\"PetalLengthCm\":5.1,\"PetalWidthCm\":2.0,\"Species\":\"Iris-virginica\"},{\"SepalLengthCm\":6.7,\"SepalWidthCm\":3.3,\"PetalLengthCm\":5.7,\"PetalWidthCm\":2.5,\"Species\":\"Iris-virginica\"},{\"SepalLengthCm\":5.6,\"SepalWidthCm\":2.5,\"PetalLengthCm\":3.9,\"PetalWidthCm\":1.1,\"Species\":\"Iris-versicolor\"},{\"SepalLengthCm\":7.2,\"SepalWidthCm\":3.2,\"PetalLengthCm\":6.0,\"PetalWidthCm\":1.8,\"Species\":\"Iris-virginica\"},{\"SepalLengthCm\":6.4,\"SepalWidthCm\":3.2,\"PetalLengthCm\":4.5,\"PetalWidthCm\":1.5,\"Species\":\"Iris-versicolor\"},{\"SepalLengthCm\":6.0,\"SepalWidthCm\":2.7,\"PetalLengthCm\":5.1,\"PetalWidthCm\":1.6,\"Species\":\"Iris-versicolor\"},{\"SepalLengthCm\":7.7,\"SepalWidthCm\":3.8,\"PetalLengthCm\":6.7,\"PetalWidthCm\":2.2,\"Species\":\"Iris-virginica\"},{\"SepalLengthCm\":6.1,\"SepalWidthCm\":3.0,\"PetalLengthCm\":4.9,\"PetalWidthCm\":1.8,\"Species\":\"Iris-virginica\"},{\"SepalLengthCm\":4.9,\"SepalWidthCm\":3.1,\"PetalLengthCm\":1.5,\"PetalWidthCm\":0.1,\"Species\":\"Iris-setosa\"},{\"SepalLengthCm\":5.2,\"SepalWidthCm\":3.4,\"PetalLengthCm\":1.4,\"PetalWidthCm\":0.2,\"Species\":\"Iris-setosa\"},{\"SepalLengthCm\":5.4,\"SepalWidthCm\":3.4,\"PetalLengthCm\":1.5,\"PetalWidthCm\":0.4,\"Species\":\"Iris-setosa\"},{\"SepalLengthCm\":4.8,\"SepalWidthCm\":3.0,\"PetalLengthCm\":1.4,\"PetalWidthCm\":0.1,\"Species\":\"Iris-setosa\"},{\"SepalLengthCm\":6.8,\"SepalWidthCm\":3.2,\"PetalLengthCm\":5.9,\"PetalWidthCm\":2.3,\"Species\":\"Iris-virginica\"},{\"SepalLengthCm\":6.4,\"SepalWidthCm\":2.8,\"PetalLengthCm\":5.6,\"PetalWidthCm\":2.2,\"Species\":\"Iris-virginica\"},{\"SepalLengthCm\":5.9,\"SepalWidthCm\":3.0,\"PetalLengthCm\":5.1,\"PetalWidthCm\":1.8,\"Species\":\"Iris-virginica\"},{\"SepalLengthCm\":5.7,\"SepalWidthCm\":3.0,\"PetalLengthCm\":4.2,\"PetalWidthCm\":1.2,\"Species\":\"Iris-versicolor\"},{\"SepalLengthCm\":5.7,\"SepalWidthCm\":2.6,\"PetalLengthCm\":3.5,\"PetalWidthCm\":1.0,\"Species\":\"Iris-versicolor\"},{\"SepalLengthCm\":5.4,\"SepalWidthCm\":3.4,\"PetalLengthCm\":1.7,\"PetalWidthCm\":0.2,\"Species\":\"Iris-setosa\"},{\"SepalLengthCm\":6.5,\"SepalWidthCm\":2.8,\"PetalLengthCm\":4.6,\"PetalWidthCm\":1.5,\"Species\":\"Iris-versicolor\"},{\"SepalLengthCm\":4.5,\"SepalWidthCm\":2.3,\"PetalLengthCm\":1.3,\"PetalWidthCm\":0.3,\"Species\":\"Iris-setosa\"},{\"SepalLengthCm\":7.9,\"SepalWidthCm\":3.8,\"PetalLengthCm\":6.4,\"PetalWidthCm\":2.0,\"Species\":\"Iris-virginica\"},{\"SepalLengthCm\":6.4,\"SepalWidthCm\":3.1,\"PetalLengthCm\":5.5,\"PetalWidthCm\":1.8,\"Species\":\"Iris-virginica\"},{\"SepalLengthCm\":5.0,\"SepalWidthCm\":3.5,\"PetalLengthCm\":1.3,\"PetalWidthCm\":0.3,\"Species\":\"Iris-setosa\"},{\"SepalLengthCm\":5.7,\"SepalWidthCm\":2.9,\"PetalLengthCm\":4.2,\"PetalWidthCm\":1.3,\"Species\":\"Iris-versicolor\"},{\"SepalLengthCm\":6.4,\"SepalWidthCm\":2.9,\"PetalLengthCm\":4.3,\"PetalWidthCm\":1.3,\"Species\":\"Iris-versicolor\"},{\"SepalLengthCm\":6.7,\"SepalWidthCm\":3.0,\"PetalLengthCm\":5.0,\"PetalWidthCm\":1.7,\"Species\":\"Iris-versicolor\"},{\"SepalLengthCm\":6.6,\"SepalWidthCm\":2.9,\"PetalLengthCm\":4.6,\"PetalWidthCm\":1.3,\"Species\":\"Iris-versicolor\"},{\"SepalLengthCm\":5.1,\"SepalWidthCm\":3.5,\"PetalLengthCm\":1.4,\"PetalWidthCm\":0.2,\"Species\":\"Iris-setosa\"},{\"SepalLengthCm\":5.6,\"SepalWidthCm\":3.0,\"PetalLengthCm\":4.5,\"PetalWidthCm\":1.5,\"Species\":\"Iris-versicolor\"},{\"SepalLengthCm\":5.7,\"SepalWidthCm\":2.8,\"PetalLengthCm\":4.5,\"PetalWidthCm\":1.3,\"Species\":\"Iris-versicolor\"},{\"SepalLengthCm\":5.5,\"SepalWidthCm\":3.5,\"PetalLengthCm\":1.3,\"PetalWidthCm\":0.2,\"Species\":\"Iris-setosa\"},{\"SepalLengthCm\":6.3,\"SepalWidthCm\":3.3,\"PetalLengthCm\":6.0,\"PetalWidthCm\":2.5,\"Species\":\"Iris-virginica\"},{\"SepalLengthCm\":5.1,\"SepalWidthCm\":3.8,\"PetalLengthCm\":1.5,\"PetalWidthCm\":0.3,\"Species\":\"Iris-setosa\"},{\"SepalLengthCm\":5.1,\"SepalWidthCm\":3.8,\"PetalLengthCm\":1.9,\"PetalWidthCm\":0.4,\"Species\":\"Iris-setosa\"},{\"SepalLengthCm\":5.8,\"SepalWidthCm\":2.6,\"PetalLengthCm\":4.0,\"PetalWidthCm\":1.2,\"Species\":\"Iris-versicolor\"},{\"SepalLengthCm\":6.1,\"SepalWidthCm\":3.0,\"PetalLengthCm\":4.6,\"PetalWidthCm\":1.4,\"Species\":\"Iris-versicolor\"},{\"SepalLengthCm\":5.8,\"SepalWidthCm\":2.7,\"PetalLengthCm\":5.1,\"PetalWidthCm\":1.9,\"Species\":\"Iris-virginica\"},{\"SepalLengthCm\":6.7,\"SepalWidthCm\":3.0,\"PetalLengthCm\":5.2,\"PetalWidthCm\":2.3,\"Species\":\"Iris-virginica\"},{\"SepalLengthCm\":4.9,\"SepalWidthCm\":3.0,\"PetalLengthCm\":1.4,\"PetalWidthCm\":0.2,\"Species\":\"Iris-setosa\"},{\"SepalLengthCm\":7.2,\"SepalWidthCm\":3.0,\"PetalLengthCm\":5.8,\"PetalWidthCm\":1.6,\"Species\":\"Iris-virginica\"},{\"SepalLengthCm\":5.5,\"SepalWidthCm\":2.6,\"PetalLengthCm\":4.4,\"PetalWidthCm\":1.2,\"Species\":\"Iris-versicolor\"},{\"SepalLengthCm\":5.7,\"SepalWidthCm\":3.8,\"PetalLengthCm\":1.7,\"PetalWidthCm\":0.3,\"Species\":\"Iris-setosa\"},{\"SepalLengthCm\":5.9,\"SepalWidthCm\":3.2,\"PetalLengthCm\":4.8,\"PetalWidthCm\":1.8,\"Species\":\"Iris-versicolor\"},{\"SepalLengthCm\":4.6,\"SepalWidthCm\":3.2,\"PetalLengthCm\":1.4,\"PetalWidthCm\":0.2,\"Species\":\"Iris-setosa\"},{\"SepalLengthCm\":6.7,\"SepalWidthCm\":3.1,\"PetalLengthCm\":4.7,\"PetalWidthCm\":1.5,\"Species\":\"Iris-versicolor\"},{\"SepalLengthCm\":5.2,\"SepalWidthCm\":3.5,\"PetalLengthCm\":1.5,\"PetalWidthCm\":0.2,\"Species\":\"Iris-setosa\"},{\"SepalLengthCm\":4.6,\"SepalWidthCm\":3.1,\"PetalLengthCm\":1.5,\"PetalWidthCm\":0.2,\"Species\":\"Iris-setosa\"},{\"SepalLengthCm\":6.3,\"SepalWidthCm\":2.9,\"PetalLengthCm\":5.6,\"PetalWidthCm\":1.8,\"Species\":\"Iris-virginica\"},{\"SepalLengthCm\":5.0,\"SepalWidthCm\":3.0,\"PetalLengthCm\":1.6,\"PetalWidthCm\":0.2,\"Species\":\"Iris-setosa\"},{\"SepalLengthCm\":5.8,\"SepalWidthCm\":2.7,\"PetalLengthCm\":3.9,\"PetalWidthCm\":1.2,\"Species\":\"Iris-versicolor\"},{\"SepalLengthCm\":7.7,\"SepalWidthCm\":2.6,\"PetalLengthCm\":6.9,\"PetalWidthCm\":2.3,\"Species\":\"Iris-virginica\"},{\"SepalLengthCm\":6.5,\"SepalWidthCm\":3.0,\"PetalLengthCm\":5.2,\"PetalWidthCm\":2.0,\"Species\":\"Iris-virginica\"}];\n",
       "        </script>"
      ],
      "text/plain": [
       "<IPython.core.display.HTML object>"
      ]
     },
     "metadata": {},
     "output_type": "display_data"
    }
   ],
   "source": [
    "# convert dataframe to json string to be used by the html template\n",
    "jsonstr = df.to_json(orient='records')\n",
    "\n",
    "# Display the Dive visualization for this data\n",
    "deepdive_template = \"\"\"<link rel=\"import\" href=\"/nbextensions/facets-dist/facets-jupyter.html\">\n",
    "        <facets-dive sprite-image-width=\"32\" sprite-image-height=\"32\" id=\"deepdive\" height=\"600\" height=\"1000\"></facets-dive>\n",
    "        <script>\n",
    "          document.querySelector(\"#deepdive\").data = {jsonstr};\n",
    "        </script>\"\"\"\n",
    "\n",
    "# load data into template\n",
    "deepdive_html = deepdive_template.format(jsonstr=jsonstr)\n",
    "\n",
    "#display template\n",
    "display(HTML(deepdive_html))"
   ]
  },
  {
   "cell_type": "code",
   "execution_count": 10,
   "metadata": {},
   "outputs": [
    {
     "data": {
      "text/html": [
       "<div>\n",
       "<table border=\"1\" class=\"dataframe\">\n",
       "  <thead>\n",
       "    <tr style=\"text-align: right;\">\n",
       "      <th></th>\n",
       "      <th>SepalLengthCm</th>\n",
       "      <th>SepalWidthCm</th>\n",
       "      <th>PetalLengthCm</th>\n",
       "      <th>PetalWidthCm</th>\n",
       "      <th>Species</th>\n",
       "    </tr>\n",
       "  </thead>\n",
       "  <tbody>\n",
       "    <tr>\n",
       "      <th>0</th>\n",
       "      <td>5.9</td>\n",
       "      <td>3.0</td>\n",
       "      <td>4.2</td>\n",
       "      <td>1.5</td>\n",
       "      <td>1</td>\n",
       "    </tr>\n",
       "    <tr>\n",
       "      <th>1</th>\n",
       "      <td>6.3</td>\n",
       "      <td>2.5</td>\n",
       "      <td>5.0</td>\n",
       "      <td>1.9</td>\n",
       "      <td>2</td>\n",
       "    </tr>\n",
       "    <tr>\n",
       "      <th>2</th>\n",
       "      <td>7.3</td>\n",
       "      <td>2.9</td>\n",
       "      <td>6.3</td>\n",
       "      <td>1.8</td>\n",
       "      <td>2</td>\n",
       "    </tr>\n",
       "    <tr>\n",
       "      <th>3</th>\n",
       "      <td>6.3</td>\n",
       "      <td>2.5</td>\n",
       "      <td>4.9</td>\n",
       "      <td>1.5</td>\n",
       "      <td>1</td>\n",
       "    </tr>\n",
       "    <tr>\n",
       "      <th>4</th>\n",
       "      <td>5.0</td>\n",
       "      <td>2.0</td>\n",
       "      <td>3.5</td>\n",
       "      <td>1.0</td>\n",
       "      <td>1</td>\n",
       "    </tr>\n",
       "  </tbody>\n",
       "</table>\n",
       "</div>"
      ],
      "text/plain": [
       "   SepalLengthCm  SepalWidthCm  PetalLengthCm  PetalWidthCm  Species\n",
       "0            5.9           3.0            4.2           1.5        1\n",
       "1            6.3           2.5            5.0           1.9        2\n",
       "2            7.3           2.9            6.3           1.8        2\n",
       "3            6.3           2.5            4.9           1.5        1\n",
       "4            5.0           2.0            3.5           1.0        1"
      ]
     },
     "execution_count": 10,
     "metadata": {},
     "output_type": "execute_result"
    }
   ],
   "source": [
    "# label encode the string label: Species\n",
    "# it should be a numeric value, instead of a string value\n",
    "# to do: use one-hot encoder instead of label encoder\n",
    "le = LabelEncoder()\n",
    "df.Species = le.fit_transform(df.Species)\n",
    "\n",
    "# show the cleaned dataset\n",
    "df.head()"
   ]
  },
  {
   "cell_type": "code",
   "execution_count": 11,
   "metadata": {},
   "outputs": [
    {
     "data": {
      "text/plain": [
       "0    1\n",
       "1    2\n",
       "2    2\n",
       "3    1\n",
       "4    1\n",
       "Name: Species, dtype: int64"
      ]
     },
     "execution_count": 11,
     "metadata": {},
     "output_type": "execute_result"
    }
   ],
   "source": [
    "# set just the label column to y for the train_test_split()\n",
    "# *** need to shuffle the dataset first?\n",
    "data_label = df.Species\n",
    "data_label.head()"
   ]
  },
  {
   "cell_type": "code",
   "execution_count": 12,
   "metadata": {},
   "outputs": [
    {
     "data": {
      "text/html": [
       "<div>\n",
       "<table border=\"1\" class=\"dataframe\">\n",
       "  <thead>\n",
       "    <tr style=\"text-align: right;\">\n",
       "      <th></th>\n",
       "      <th>SepalLengthCm</th>\n",
       "      <th>SepalWidthCm</th>\n",
       "      <th>PetalLengthCm</th>\n",
       "      <th>PetalWidthCm</th>\n",
       "    </tr>\n",
       "  </thead>\n",
       "  <tbody>\n",
       "    <tr>\n",
       "      <th>0</th>\n",
       "      <td>5.9</td>\n",
       "      <td>3.0</td>\n",
       "      <td>4.2</td>\n",
       "      <td>1.5</td>\n",
       "    </tr>\n",
       "    <tr>\n",
       "      <th>1</th>\n",
       "      <td>6.3</td>\n",
       "      <td>2.5</td>\n",
       "      <td>5.0</td>\n",
       "      <td>1.9</td>\n",
       "    </tr>\n",
       "    <tr>\n",
       "      <th>2</th>\n",
       "      <td>7.3</td>\n",
       "      <td>2.9</td>\n",
       "      <td>6.3</td>\n",
       "      <td>1.8</td>\n",
       "    </tr>\n",
       "    <tr>\n",
       "      <th>3</th>\n",
       "      <td>6.3</td>\n",
       "      <td>2.5</td>\n",
       "      <td>4.9</td>\n",
       "      <td>1.5</td>\n",
       "    </tr>\n",
       "    <tr>\n",
       "      <th>4</th>\n",
       "      <td>5.0</td>\n",
       "      <td>2.0</td>\n",
       "      <td>3.5</td>\n",
       "      <td>1.0</td>\n",
       "    </tr>\n",
       "  </tbody>\n",
       "</table>\n",
       "</div>"
      ],
      "text/plain": [
       "   SepalLengthCm  SepalWidthCm  PetalLengthCm  PetalWidthCm\n",
       "0            5.9           3.0            4.2           1.5\n",
       "1            6.3           2.5            5.0           1.9\n",
       "2            7.3           2.9            6.3           1.8\n",
       "3            6.3           2.5            4.9           1.5\n",
       "4            5.0           2.0            3.5           1.0"
      ]
     },
     "execution_count": 12,
     "metadata": {},
     "output_type": "execute_result"
    }
   ],
   "source": [
    "# remove the species column so that you can scale the rest of the values\n",
    "# the values are already stored in y variable\n",
    "# *** convert this to X values here, for clarity?\n",
    "data_features = df.drop('Species', inplace=False, axis=1)\n",
    "data_features.head()\n"
   ]
  },
  {
   "cell_type": "code",
   "execution_count": 13,
   "metadata": {},
   "outputs": [
    {
     "data": {
      "text/html": [
       "<div>\n",
       "<table border=\"1\" class=\"dataframe\">\n",
       "  <thead>\n",
       "    <tr style=\"text-align: right;\">\n",
       "      <th></th>\n",
       "      <th>SepalLengthCm</th>\n",
       "      <th>SepalWidthCm</th>\n",
       "      <th>PetalLengthCm</th>\n",
       "      <th>PetalWidthCm</th>\n",
       "    </tr>\n",
       "  </thead>\n",
       "  <tbody>\n",
       "    <tr>\n",
       "      <th>0</th>\n",
       "      <td>0.068662</td>\n",
       "      <td>-0.124958</td>\n",
       "      <td>0.250967</td>\n",
       "      <td>0.396172</td>\n",
       "    </tr>\n",
       "    <tr>\n",
       "      <th>1</th>\n",
       "      <td>0.553333</td>\n",
       "      <td>-1.281972</td>\n",
       "      <td>0.705893</td>\n",
       "      <td>0.922064</td>\n",
       "    </tr>\n",
       "    <tr>\n",
       "      <th>2</th>\n",
       "      <td>1.765012</td>\n",
       "      <td>-0.356361</td>\n",
       "      <td>1.445147</td>\n",
       "      <td>0.790591</td>\n",
       "    </tr>\n",
       "    <tr>\n",
       "      <th>3</th>\n",
       "      <td>0.553333</td>\n",
       "      <td>-1.281972</td>\n",
       "      <td>0.649027</td>\n",
       "      <td>0.396172</td>\n",
       "    </tr>\n",
       "    <tr>\n",
       "      <th>4</th>\n",
       "      <td>-1.021849</td>\n",
       "      <td>-2.438987</td>\n",
       "      <td>-0.147093</td>\n",
       "      <td>-0.261193</td>\n",
       "    </tr>\n",
       "  </tbody>\n",
       "</table>\n",
       "</div>"
      ],
      "text/plain": [
       "   SepalLengthCm  SepalWidthCm  PetalLengthCm  PetalWidthCm\n",
       "0       0.068662     -0.124958       0.250967      0.396172\n",
       "1       0.553333     -1.281972       0.705893      0.922064\n",
       "2       1.765012     -0.356361       1.445147      0.790591\n",
       "3       0.553333     -1.281972       0.649027      0.396172\n",
       "4      -1.021849     -2.438987      -0.147093     -0.261193"
      ]
     },
     "execution_count": 13,
     "metadata": {},
     "output_type": "execute_result"
    }
   ],
   "source": [
    "# scale data for better results\n",
    "# so that columns with larger values dont get weighed more\n",
    "# example: age change of 40 years (significant) vs income change of $40 (not significant)\n",
    "\n",
    "sc = StandardScaler(copy=True, with_mean=True, with_std=True)\n",
    "scaled_features = pd.DataFrame(sc.fit_transform(data_features), columns=[data_features.columns], index=data_features.index)\n",
    "\n",
    "# show scaled X values \n",
    "scaled_features.head() \n",
    "# THIS IS A DATAFRAME"
   ]
  },
  {
   "cell_type": "code",
   "execution_count": 14,
   "metadata": {},
   "outputs": [
    {
     "data": {
      "text/plain": [
       "0    1\n",
       "1    2\n",
       "2    2\n",
       "3    1\n",
       "4    1\n",
       "Name: Species, dtype: int64"
      ]
     },
     "execution_count": 14,
     "metadata": {},
     "output_type": "execute_result"
    }
   ],
   "source": [
    "# show labels (y values in equasion)\n",
    "data_label.head()\n",
    "# THIS IS A SERIES\n"
   ]
  },
  {
   "cell_type": "code",
   "execution_count": 15,
   "metadata": {},
   "outputs": [],
   "source": [
    "# do a 70/30 split of the data into a train_x and train_y (70% for training) \n",
    "# and a test_x and test_y (30% for validation) \n",
    "# X is a DATAFRAME of scaled features\n",
    "# y is a SERIES of labels\n",
    "train_x, test_x, train_y, test_y = train_test_split(scaled_features, data_label, test_size=0.30, random_state=101)\n",
    " "
   ]
  },
  {
   "cell_type": "code",
   "execution_count": 16,
   "metadata": {},
   "outputs": [
    {
     "name": "stdout",
     "output_type": "stream",
     "text": [
      "<class 'pandas.core.frame.DataFrame'>\n",
      "Int64Index: 45 entries, 33 to 66\n",
      "Data columns (total 4 columns):\n",
      "SepalLengthCm    45 non-null float64\n",
      "SepalWidthCm     45 non-null float64\n",
      "PetalLengthCm    45 non-null float64\n",
      "PetalWidthCm     45 non-null float64\n",
      "dtypes: float64(4)\n",
      "memory usage: 1.8 KB\n"
     ]
    }
   ],
   "source": [
    "test_x.info()"
   ]
  },
  {
   "cell_type": "markdown",
   "metadata": {},
   "source": [
    "# 4. Create Feature Columns List for Classifier"
   ]
  },
  {
   "cell_type": "code",
   "execution_count": 17,
   "metadata": {},
   "outputs": [],
   "source": [
    "# Feature columns describe how to use the input.\n",
    "# you need to define the name and type for each column of your training data\n",
    "my_feature_columns = []\n",
    "\n",
    "# numeric coulmns\n",
    "my_feature_columns.append(tf.feature_column.numeric_column(key='SepalLengthCm'));\n",
    "my_feature_columns.append(tf.feature_column.numeric_column(key='SepalWidthCm'));\n",
    "my_feature_columns.append(tf.feature_column.numeric_column(key='PetalLengthCm'));\n",
    "my_feature_columns.append(tf.feature_column.numeric_column(key='PetalWidthCm'));   \n",
    "\n",
    "# other column types\n",
    "# hashed strings or categorical features\n",
    "# example:\n",
    "# state = tf.feature_column.categorical_column_with_hash_bucket('state',100) \n",
    "# pick the right size for your data\n",
    "\n",
    "    "
   ]
  },
  {
   "cell_type": "markdown",
   "metadata": {},
   "source": [
    "# 5. Create Classifier from Feature Column list"
   ]
  },
  {
   "cell_type": "code",
   "execution_count": 18,
   "metadata": {},
   "outputs": [
    {
     "name": "stdout",
     "output_type": "stream",
     "text": [
      "INFO:tensorflow:Using default config.\n",
      "INFO:tensorflow:Using config: {'_save_checkpoints_secs': 600, '_session_config': None, '_keep_checkpoint_max': 5, '_task_type': 'worker', '_is_chief': True, '_cluster_spec': <tensorflow.python.training.server_lib.ClusterSpec object at 0x121393790>, '_save_checkpoints_steps': None, '_keep_checkpoint_every_n_hours': 10000, '_service': None, '_num_ps_replicas': 0, '_tf_random_seed': None, '_master': '', '_num_worker_replicas': 1, '_task_id': 0, '_log_step_count_steps': 100, '_model_dir': 'models/temp/iris', '_save_summary_steps': 100}\n"
     ]
    }
   ],
   "source": [
    "# Build 3 hidden layer DNN with 10, 10, 10 units respectively\n",
    "# uses feature column types defined in the previous step\n",
    "classifier = tf.estimator.DNNClassifier(\n",
    "    # feature columns defined in the prev step\n",
    "    feature_columns=my_feature_columns,\n",
    "    # three hidden layers of 10 nodes each.\n",
    "    hidden_units=[10, 10, 10],\n",
    "    # model must choose between 3 classes in dataset.\n",
    "    n_classes=data_label.nunique(),\n",
    "    # save the model to a folder when run, reuse the same way\n",
    "    model_dir=model_path\n",
    ")\n"
   ]
  },
  {
   "cell_type": "code",
   "execution_count": 19,
   "metadata": {},
   "outputs": [],
   "source": [
    "# setup the train input function using the train_x and train_y datasource\n",
    "train_input_fn = tf.estimator.inputs.pandas_input_fn(train_x, y=train_y, num_epochs=5000, shuffle=True)\n"
   ]
  },
  {
   "cell_type": "markdown",
   "metadata": {},
   "source": [
    "# 6. Train Classifier"
   ]
  },
  {
   "cell_type": "code",
   "execution_count": 20,
   "metadata": {},
   "outputs": [
    {
     "name": "stdout",
     "output_type": "stream",
     "text": [
      "INFO:tensorflow:Create CheckpointSaverHook.\n",
      "INFO:tensorflow:Restoring parameters from models/temp/iris/model.ckpt-11134\n",
      "INFO:tensorflow:Saving checkpoints for 11135 into models/temp/iris/model.ckpt.\n",
      "INFO:tensorflow:loss = 2.313552, step = 11135\n",
      "INFO:tensorflow:global_step/sec: 375.876\n",
      "INFO:tensorflow:loss = 0.080842994, step = 11235 (0.269 sec)\n",
      "INFO:tensorflow:global_step/sec: 419.157\n",
      "INFO:tensorflow:loss = 0.3448599, step = 11335 (0.241 sec)\n",
      "INFO:tensorflow:global_step/sec: 430.008\n",
      "INFO:tensorflow:loss = 0.16130687, step = 11435 (0.231 sec)\n",
      "INFO:tensorflow:global_step/sec: 407.5\n",
      "INFO:tensorflow:loss = 0.052545644, step = 11535 (0.245 sec)\n",
      "INFO:tensorflow:global_step/sec: 421.454\n",
      "INFO:tensorflow:loss = 0.21741676, step = 11635 (0.238 sec)\n",
      "INFO:tensorflow:global_step/sec: 426.696\n",
      "INFO:tensorflow:loss = 0.21941863, step = 11735 (0.236 sec)\n",
      "INFO:tensorflow:global_step/sec: 436.083\n",
      "INFO:tensorflow:loss = 0.23122805, step = 11835 (0.229 sec)\n",
      "INFO:tensorflow:global_step/sec: 432.901\n",
      "INFO:tensorflow:loss = 0.088225454, step = 11935 (0.231 sec)\n",
      "INFO:tensorflow:global_step/sec: 432.066\n",
      "INFO:tensorflow:loss = 0.05042515, step = 12035 (0.231 sec)\n",
      "INFO:tensorflow:global_step/sec: 443.335\n",
      "INFO:tensorflow:loss = 0.09444959, step = 12135 (0.225 sec)\n",
      "INFO:tensorflow:global_step/sec: 435.686\n",
      "INFO:tensorflow:loss = 0.04753318, step = 12235 (0.230 sec)\n",
      "INFO:tensorflow:global_step/sec: 416.831\n",
      "INFO:tensorflow:loss = 0.07835114, step = 12335 (0.241 sec)\n",
      "INFO:tensorflow:global_step/sec: 433.109\n",
      "INFO:tensorflow:loss = 0.07805376, step = 12435 (0.230 sec)\n",
      "INFO:tensorflow:global_step/sec: 449.085\n",
      "INFO:tensorflow:loss = 0.017354973, step = 12535 (0.223 sec)\n",
      "INFO:tensorflow:global_step/sec: 425.206\n",
      "INFO:tensorflow:loss = 0.055279363, step = 12635 (0.234 sec)\n",
      "INFO:tensorflow:global_step/sec: 385.126\n",
      "INFO:tensorflow:loss = 0.08669866, step = 12735 (0.259 sec)\n",
      "INFO:tensorflow:global_step/sec: 443.178\n",
      "INFO:tensorflow:loss = 0.02841784, step = 12835 (0.227 sec)\n",
      "INFO:tensorflow:global_step/sec: 442.296\n",
      "INFO:tensorflow:loss = 0.11034973, step = 12935 (0.225 sec)\n",
      "INFO:tensorflow:global_step/sec: 403.421\n",
      "INFO:tensorflow:loss = 0.049119063, step = 13035 (0.248 sec)\n",
      "INFO:tensorflow:global_step/sec: 387.006\n",
      "INFO:tensorflow:loss = 0.032199934, step = 13135 (0.258 sec)\n",
      "INFO:tensorflow:global_step/sec: 382.718\n",
      "INFO:tensorflow:loss = 0.08447342, step = 13235 (0.261 sec)\n",
      "INFO:tensorflow:global_step/sec: 433.905\n",
      "INFO:tensorflow:loss = 0.0147678275, step = 13335 (0.232 sec)\n",
      "INFO:tensorflow:global_step/sec: 430.1\n",
      "INFO:tensorflow:loss = 0.028460782, step = 13435 (0.233 sec)\n",
      "INFO:tensorflow:global_step/sec: 421.612\n",
      "INFO:tensorflow:loss = 0.06427377, step = 13535 (0.235 sec)\n",
      "INFO:tensorflow:global_step/sec: 443.508\n",
      "INFO:tensorflow:loss = 0.024670228, step = 13635 (0.227 sec)\n",
      "INFO:tensorflow:global_step/sec: 426.909\n",
      "INFO:tensorflow:loss = 0.032662373, step = 13735 (0.233 sec)\n",
      "INFO:tensorflow:global_step/sec: 413.557\n",
      "INFO:tensorflow:loss = 0.058308005, step = 13835 (0.241 sec)\n",
      "INFO:tensorflow:global_step/sec: 438.56\n",
      "INFO:tensorflow:loss = 0.06125116, step = 13935 (0.229 sec)\n",
      "INFO:tensorflow:global_step/sec: 407.209\n",
      "INFO:tensorflow:loss = 0.04456445, step = 14035 (0.246 sec)\n",
      "INFO:tensorflow:global_step/sec: 441.987\n",
      "INFO:tensorflow:loss = 0.06125685, step = 14135 (0.225 sec)\n",
      "INFO:tensorflow:global_step/sec: 413.98\n",
      "INFO:tensorflow:loss = 0.011847135, step = 14235 (0.241 sec)\n",
      "INFO:tensorflow:global_step/sec: 429.275\n",
      "INFO:tensorflow:loss = 0.027840367, step = 14335 (0.232 sec)\n",
      "INFO:tensorflow:global_step/sec: 427.122\n",
      "INFO:tensorflow:loss = 0.045948144, step = 14435 (0.236 sec)\n",
      "INFO:tensorflow:global_step/sec: 424.544\n",
      "INFO:tensorflow:loss = 0.0051579066, step = 14535 (0.234 sec)\n",
      "INFO:tensorflow:global_step/sec: 451.28\n",
      "INFO:tensorflow:loss = 0.03357461, step = 14635 (0.222 sec)\n",
      "INFO:tensorflow:global_step/sec: 404.652\n",
      "INFO:tensorflow:loss = 0.026112298, step = 14735 (0.249 sec)\n",
      "INFO:tensorflow:global_step/sec: 436.021\n",
      "INFO:tensorflow:loss = 0.047315568, step = 14835 (0.228 sec)\n",
      "INFO:tensorflow:global_step/sec: 438.124\n",
      "INFO:tensorflow:loss = 0.010742628, step = 14935 (0.228 sec)\n",
      "INFO:tensorflow:global_step/sec: 408.248\n",
      "INFO:tensorflow:loss = 0.009404935, step = 15035 (0.243 sec)\n",
      "INFO:tensorflow:global_step/sec: 413.768\n",
      "INFO:tensorflow:loss = 0.02225822, step = 15135 (0.244 sec)\n",
      "INFO:tensorflow:global_step/sec: 433.556\n",
      "INFO:tensorflow:loss = 0.013527666, step = 15235 (0.227 sec)\n",
      "INFO:tensorflow:Saving checkpoints for 15236 into models/temp/iris/model.ckpt.\n",
      "INFO:tensorflow:Loss for final step: 0.008435671.\n"
     ]
    },
    {
     "data": {
      "text/plain": [
       "<tensorflow.python.estimator.canned.dnn.DNNClassifier at 0x121586910>"
      ]
     },
     "execution_count": 20,
     "metadata": {},
     "output_type": "execute_result"
    }
   ],
   "source": [
    "# this is where training actually occurs, this will be a long running process on large datasets\n",
    "classifier.train(input_fn=train_input_fn)\n"
   ]
  },
  {
   "cell_type": "markdown",
   "metadata": {},
   "source": [
    "# 7. Test classifier with the 30% split data"
   ]
  },
  {
   "cell_type": "code",
   "execution_count": 21,
   "metadata": {},
   "outputs": [],
   "source": [
    "# validate the model using the x_test values to get a prediction for each one\n",
    "# then you can compare the predicted values against the known values in test_y\n",
    "# which will give you an accuracy score in percentage\n",
    "test_input_fn = tf.estimator.inputs.pandas_input_fn(test_x, num_epochs=1, shuffle=False)\n"
   ]
  },
  {
   "cell_type": "code",
   "execution_count": 22,
   "metadata": {},
   "outputs": [
    {
     "name": "stdout",
     "output_type": "stream",
     "text": [
      "INFO:tensorflow:Restoring parameters from models/temp/iris/model.ckpt-15236\n",
      "[{'probabilities': array([4.2560906e-11, 1.0000000e+00, 8.9509850e-10], dtype=float32), 'logits': array([-9.437962, 14.442122, -6.391964], dtype=float32), 'classes': array(['1'], dtype=object), 'class_ids': array([1])}, {'probabilities': array([7.9246104e-10, 9.9999762e-01, 2.3611196e-06], dtype=float32), 'logits': array([-10.131441 ,  10.824433 ,  -2.1319387], dtype=float32), 'classes': array(['1'], dtype=object), 'class_ids': array([1])}, {'probabilities': array([9.9999702e-01, 2.9430219e-06, 0.0000000e+00], dtype=float32), 'logits': array([ 42.639114,  29.903044, -65.61733 ], dtype=float32), 'classes': array(['0'], dtype=object), 'class_ids': array([0])}, {'probabilities': array([2.2223619e-19, 7.8350119e-13, 1.0000000e+00], dtype=float32), 'logits': array([-21.961908,  -6.886364,  20.98864 ], dtype=float32), 'classes': array(['2'], dtype=object), 'class_ids': array([2])}, {'probabilities': array([1.6616247e-14, 1.0000000e+00, 1.0842008e-11], dtype=float32), 'logits': array([-13.438431 ,  18.289965 ,  -6.9576287], dtype=float32), 'classes': array(['1'], dtype=object), 'class_ids': array([1])}, {'probabilities': array([8.2640535e-13, 1.9210858e-04, 9.9980789e-01], dtype=float32), 'logits': array([-17.245901,   2.018339,  10.575597], dtype=float32), 'classes': array(['2'], dtype=object), 'class_ids': array([2])}, {'probabilities': array([4.1995674e-09, 1.0000000e+00, 1.9693226e-13], dtype=float32), 'logits': array([ -3.2976995,  15.990585 , -13.26533  ], dtype=float32), 'classes': array(['1'], dtype=object), 'class_ids': array([1])}, {'probabilities': array([2.0988940e-08, 9.9999774e-01, 2.3211094e-06], dtype=float32), 'logits': array([-7.9262795,  9.752989 , -3.2204745], dtype=float32), 'classes': array(['1'], dtype=object), 'class_ids': array([1])}, {'probabilities': array([9.9999321e-01, 6.8222707e-06, 0.0000000e+00], dtype=float32), 'logits': array([ 39.843502,  27.94819 , -61.32223 ], dtype=float32), 'classes': array(['0'], dtype=object), 'class_ids': array([0])}, {'probabilities': array([1.10121734e-16, 2.64432656e-05, 9.99973536e-01], dtype=float32), 'logits': array([-23.06184 ,   3.142597,  13.68308 ], dtype=float32), 'classes': array(['2'], dtype=object), 'class_ids': array([2])}, {'probabilities': array([1.8330776e-09, 1.0000000e+00, 8.2574622e-17], dtype=float32), 'logits': array([ -1.1971861,  18.920084 , -18.112747 ], dtype=float32), 'classes': array(['1'], dtype=object), 'class_ids': array([1])}, {'probabilities': array([9.999902e-01, 9.795657e-06, 0.000000e+00], dtype=float32), 'logits': array([ 44.470154,  32.936592, -70.59847 ], dtype=float32), 'classes': array(['0'], dtype=object), 'class_ids': array([0])}, {'probabilities': array([3.7830604e-20, 3.3891874e-12, 1.0000000e+00], dtype=float32), 'logits': array([-23.778868,  -5.468133,  20.942299], dtype=float32), 'classes': array(['2'], dtype=object), 'class_ids': array([2])}, {'probabilities': array([2.8477767e-09, 1.0000000e+00, 9.5869120e-15], dtype=float32), 'logits': array([ -2.523583,  17.153145, -15.125232], dtype=float32), 'classes': array(['1'], dtype=object), 'class_ids': array([1])}, {'probabilities': array([4.5908894e-09, 1.0000000e+00, 2.6077711e-08], dtype=float32), 'logits': array([-7.3972893, 11.801902 , -5.6602826], dtype=float32), 'classes': array(['1'], dtype=object), 'class_ids': array([1])}, {'probabilities': array([2.8299833e-06, 9.9911362e-01, 8.8352640e-04], dtype=float32), 'logits': array([-6.6109204,  6.163432 , -0.8672705], dtype=float32), 'classes': array(['1'], dtype=object), 'class_ids': array([1])}, {'probabilities': array([2.8786866e-09, 1.0000000e+00, 3.7575002e-14], dtype=float32), 'logits': array([ -3.014543,  16.651388, -14.261048], dtype=float32), 'classes': array(['1'], dtype=object), 'class_ids': array([1])}, {'probabilities': array([4.922488e-09, 1.000000e+00, 7.259586e-11], dtype=float32), 'logits': array([-5.2789903, 13.850461 , -9.495652 ], dtype=float32), 'classes': array(['1'], dtype=object), 'class_ids': array([1])}, {'probabilities': array([2.2577150e-14, 9.9883598e-01, 1.1640348e-03], dtype=float32), 'logits': array([-20.071945,  11.348729,   4.594031], dtype=float32), 'classes': array(['1'], dtype=object), 'class_ids': array([1])}, {'probabilities': array([1.0451086e-15, 2.0734966e-08, 1.0000000e+00], dtype=float32), 'logits': array([-19.279078,  -2.475868,  15.215577], dtype=float32), 'classes': array(['2'], dtype=object), 'class_ids': array([2])}, {'probabilities': array([9.9999440e-01, 5.5487913e-06, 0.0000000e+00], dtype=float32), 'logits': array([ 40.530506,  28.428581, -62.377724], dtype=float32), 'classes': array(['0'], dtype=object), 'class_ids': array([0])}, {'probabilities': array([9.9998510e-01, 1.4852454e-05, 0.0000000e+00], dtype=float32), 'logits': array([ 37.256638,  26.139307, -57.347843], dtype=float32), 'classes': array(['0'], dtype=object), 'class_ids': array([0])}, {'probabilities': array([9.999976e-01, 2.387870e-06, 0.000000e+00], dtype=float32), 'logits': array([ 43.334175,  30.389069, -66.6852  ], dtype=float32), 'classes': array(['0'], dtype=object), 'class_ids': array([0])}, {'probabilities': array([2.1007081e-09, 1.0000000e+00, 1.1070069e-11], dtype=float32), 'logits': array([ -5.192836 ,  14.7881565, -10.438621 ], dtype=float32), 'classes': array(['1'], dtype=object), 'class_ids': array([1])}, {'probabilities': array([2.3502405e-17, 2.4194154e-07, 9.9999976e-01], dtype=float32), 'logits': array([-22.65646   ,   0.39839807,  15.632968  ], dtype=float32), 'classes': array(['2'], dtype=object), 'class_ids': array([2])}, {'probabilities': array([9.9995148e-01, 4.8573194e-05, 0.0000000e+00], dtype=float32), 'logits': array([ 36.653225,  26.720835, -57.59501 ], dtype=float32), 'classes': array(['0'], dtype=object), 'class_ids': array([0])}, {'probabilities': array([9.999975e-01, 2.514777e-06, 0.000000e+00], dtype=float32), 'logits': array([ 43.162003,  30.268679, -66.420685], dtype=float32), 'classes': array(['0'], dtype=object), 'class_ids': array([0])}, {'probabilities': array([1.3437027e-08, 1.0000000e+00, 4.8704758e-21], dtype=float32), 'logits': array([  3.7775545,  21.902807 , -24.86829  ], dtype=float32), 'classes': array(['1'], dtype=object), 'class_ids': array([1])}, {'probabilities': array([9.999908e-01, 9.125739e-06, 0.000000e+00], dtype=float32), 'logits': array([ 38.876198,  27.271795, -59.83609 ], dtype=float32), 'classes': array(['0'], dtype=object), 'class_ids': array([0])}, {'probabilities': array([4.3656620e-08, 1.0000000e+00, 3.4659417e-12], dtype=float32), 'logits': array([ -2.6728778,  14.274034 , -12.114003 ], dtype=float32), 'classes': array(['1'], dtype=object), 'class_ids': array([1])}, {'probabilities': array([2.9837271e-24, 5.3200819e-17, 1.0000000e+00], dtype=float32), 'logits': array([-27.011501, -10.315088,  27.15737 ], dtype=float32), 'classes': array(['2'], dtype=object), 'class_ids': array([2])}, {'probabilities': array([1.7377348e-05, 9.9998224e-01, 3.3314319e-07], dtype=float32), 'logits': array([-2.4671378,  8.493187 , -6.421489 ], dtype=float32), 'classes': array(['1'], dtype=object), 'class_ids': array([1])}, {'probabilities': array([1.3285585e-10, 1.0000000e+00, 1.4630746e-09], dtype=float32), 'logits': array([-8.842807, 13.898951, -6.443775], dtype=float32), 'classes': array(['1'], dtype=object), 'class_ids': array([1])}, {'probabilities': array([6.3477876e-30, 2.3019415e-20, 1.0000000e+00], dtype=float32), 'logits': array([-33.979164, -11.967663,  33.250286], dtype=float32), 'classes': array(['2'], dtype=object), 'class_ids': array([2])}, {'probabilities': array([8.9159344e-13, 4.8445662e-07, 9.9999952e-01], dtype=float32), 'logits': array([-15.390256,  -2.184728,  12.35551 ], dtype=float32), 'classes': array(['2'], dtype=object), 'class_ids': array([2])}, {'probabilities': array([9.999995e-01, 4.432433e-07, 0.000000e+00], dtype=float32), 'logits': array([ 48.965923,  34.336777, -75.35251 ], dtype=float32), 'classes': array(['0'], dtype=object), 'class_ids': array([0])}, {'probabilities': array([1.3129885e-20, 1.1466796e-13, 1.0000000e+00], dtype=float32), 'logits': array([-23.473078,  -7.490416,  22.30632 ], dtype=float32), 'classes': array(['2'], dtype=object), 'class_ids': array([2])}, {'probabilities': array([9.9999475e-01, 5.2778669e-06, 0.0000000e+00], dtype=float32), 'logits': array([ 41.635437,  29.483454, -64.42688 ], dtype=float32), 'classes': array(['0'], dtype=object), 'class_ids': array([0])}, {'probabilities': array([9.9999821e-01, 1.7431695e-06, 0.0000000e+00], dtype=float32), 'logits': array([ 44.380577,  31.120773, -68.29287 ], dtype=float32), 'classes': array(['0'], dtype=object), 'class_ids': array([0])}, {'probabilities': array([2.2324380e-20, 2.8244724e-13, 1.0000000e+00], dtype=float32), 'logits': array([-23.34639  ,  -6.9930663,  21.902218 ], dtype=float32), 'classes': array(['2'], dtype=object), 'class_ids': array([2])}, {'probabilities': array([9.9999225e-01, 7.7714121e-06, 0.0000000e+00], dtype=float32), 'logits': array([ 39.410366,  27.645315, -60.65677 ], dtype=float32), 'classes': array(['0'], dtype=object), 'class_ids': array([0])}, {'probabilities': array([9.999974e-01, 2.619237e-06, 0.000000e+00], dtype=float32), 'logits': array([ 43.026672,  30.174047, -66.21277 ], dtype=float32), 'classes': array(['0'], dtype=object), 'class_ids': array([0])}, {'probabilities': array([9.9999154e-01, 8.4758449e-06, 0.0000000e+00], dtype=float32), 'logits': array([ 41.16529,  29.48701, -64.11849], dtype=float32), 'classes': array(['0'], dtype=object), 'class_ids': array([0])}, {'probabilities': array([1.1260161e-09, 9.9999988e-01, 7.5576025e-08], dtype=float32), 'logits': array([-8.755002, 11.849578, -4.548549], dtype=float32), 'classes': array(['1'], dtype=object), 'class_ids': array([1])}, {'probabilities': array([5.3898734e-09, 1.0000000e+00, 1.3855623e-17], dtype=float32), 'logits': array([  0.18786752,  19.226612  , -19.591228  ], dtype=float32), 'classes': array(['1'], dtype=object), 'class_ids': array([1])}]\n"
     ]
    }
   ],
   "source": [
    "test_result = list(classifier.predict(input_fn=test_input_fn))\n",
    "\n",
    "print(test_result)"
   ]
  },
  {
   "cell_type": "code",
   "execution_count": 23,
   "metadata": {},
   "outputs": [],
   "source": [
    "# build an array with just the predicted species (label encoded values) \n",
    "# filtering out all other prediction response data\n",
    "predicted_y = []\n",
    "for each in test_result:\n",
    "    predicted_y.append(each['class_ids'][0])"
   ]
  },
  {
   "cell_type": "code",
   "execution_count": 24,
   "metadata": {
    "scrolled": true
   },
   "outputs": [
    {
     "name": "stdout",
     "output_type": "stream",
     "text": [
      "OVERALL ACCURACY:\n",
      "0.9555555555555556\n",
      "\n",
      "CONFUSION MATRIX:\n",
      "[[15  0  0]\n",
      " [ 0 18  1]\n",
      " [ 0  1 10]]\n"
     ]
    }
   ],
   "source": [
    "# compare the predicted scores on the test data against the actual test_y values\n",
    "# with both a confusion matrix and an accuracy score\n",
    "print('OVERALL ACCURACY:')\n",
    "print(accuracy_score(test_y, predicted_y))\n",
    "\n",
    "print('')\n",
    "\n",
    "print('CONFUSION MATRIX:')\n",
    "print(confusion_matrix(test_y, predicted_y))\n"
   ]
  },
  {
   "cell_type": "markdown",
   "metadata": {},
   "source": [
    "# 8. Predict with new data records "
   ]
  },
  {
   "cell_type": "code",
   "execution_count": 25,
   "metadata": {},
   "outputs": [],
   "source": [
    "# test using single records (real world values)\n",
    "# one Iris-setosa, one Iris-versicolor\n",
    "new_records = pd.DataFrame([\n",
    "    [5.1, 3.5, 1.4, 0.2],  # first value to predict\n",
    "    [5.7, 2.8, 4.1, 1.3]], # second value to predict\n",
    "    columns=prediction_feature_columns)\n",
    " \n",
    "# these values must be scaled, to match what is used in the model\n",
    "scaled_new_records = pd.DataFrame(sc.transform(new_records), columns=[new_records.columns], index=new_records.index)\n",
    "\n",
    "# actual values used from test data above \n",
    "#SepalLengthCm, SepalWidthCm, PetalLengthCm, PetalWidthCm\n",
    "# 5.1, 3.5, 1.4, 0.2 : 0 (Iris-setosa)\n",
    "# 5.7, 2.8, 4.1, 1.3 : 1 (Iris-versicolor)\n"
   ]
  },
  {
   "cell_type": "code",
   "execution_count": 26,
   "metadata": {},
   "outputs": [],
   "source": [
    "# predict using the model to get a prediction for each item passed\n",
    "prediction_input_fn = tf.estimator.inputs.pandas_input_fn(scaled_new_records, num_epochs=1, shuffle=False)"
   ]
  },
  {
   "cell_type": "code",
   "execution_count": 27,
   "metadata": {},
   "outputs": [
    {
     "name": "stdout",
     "output_type": "stream",
     "text": [
      "INFO:tensorflow:Restoring parameters from models/temp/iris/model.ckpt-15236\n"
     ]
    },
    {
     "data": {
      "text/plain": [
       "[{'class_ids': array([0]),\n",
       "  'classes': array(['0'], dtype=object),\n",
       "  'logits': array([ 44.347195,  31.10162 , -68.24801 ], dtype=float32),\n",
       "  'probabilities': array([9.999982e-01, 1.768150e-06, 0.000000e+00], dtype=float32)},\n",
       " {'class_ids': array([1]),\n",
       "  'classes': array(['1'], dtype=object),\n",
       "  'logits': array([ -2.6728773,  14.274034 , -12.114003 ], dtype=float32),\n",
       "  'probabilities': array([4.3656620e-08, 1.0000000e+00, 3.4659417e-12], dtype=float32)}]"
      ]
     },
     "execution_count": 27,
     "metadata": {},
     "output_type": "execute_result"
    }
   ],
   "source": [
    "prediction_result = list(classifier.predict(input_fn=prediction_input_fn))\n",
    "\n",
    "prediction_result"
   ]
  },
  {
   "cell_type": "markdown",
   "metadata": {},
   "source": [
    "# 9. Decode new predictions"
   ]
  },
  {
   "cell_type": "code",
   "execution_count": 28,
   "metadata": {
    "scrolled": true
   },
   "outputs": [
    {
     "name": "stdout",
     "output_type": "stream",
     "text": [
      "   SepalLengthCm  SepalWidthCm  PetalLengthCm  PetalWidthCm\n",
      "0            5.1           3.5            1.4           0.2\n",
      "*** PREDICTION: 0 (Label Decoded: Iris-setosa)\n",
      "\n",
      "   SepalLengthCm  SepalWidthCm  PetalLengthCm  PetalWidthCm\n",
      "1            5.7           2.8            4.1           1.3\n",
      "*** PREDICTION: 1 (Label Decoded: Iris-versicolor)\n",
      "\n"
     ]
    },
    {
     "name": "stderr",
     "output_type": "stream",
     "text": [
      "/Users/jameswolf/anaconda/lib/python2.7/site-packages/sklearn/preprocessing/label.py:151: DeprecationWarning: The truth value of an empty array is ambiguous. Returning False, but in future this will result in an error. Use `array.size > 0` to check that an array is not empty.\n",
      "  if diff:\n",
      "/Users/jameswolf/anaconda/lib/python2.7/site-packages/sklearn/preprocessing/label.py:151: DeprecationWarning: The truth value of an empty array is ambiguous. Returning False, but in future this will result in an error. Use `array.size > 0` to check that an array is not empty.\n",
      "  if diff:\n"
     ]
    }
   ],
   "source": [
    "# for each of the results\n",
    "i = 0\n",
    "for each in prediction_result:\n",
    "    # print the values used in the prediction\n",
    "    print(new_records.iloc[[i]])\n",
    "    \n",
    "    # print the transformed label-encoded value\n",
    "    print('*** PREDICTION: ' + str(each['class_ids'][0]) + ' (Label Decoded: ' + str(le.inverse_transform(each['class_ids'][0]))+ ')')\n",
    "    print('')\n",
    "    \n",
    "    # go to next row\n",
    "    i = i + 1\n",
    "    \n",
    "#-1.870024, -0.124958, -1.511870, -1.444450 : 0\n",
    "# 1.522676, -0.124958, 1.217684, 1.185010 : 1"
   ]
  },
  {
   "cell_type": "markdown",
   "metadata": {},
   "source": [
    "# 10. Save Model for Tensorflow Serving"
   ]
  },
  {
   "cell_type": "code",
   "execution_count": 29,
   "metadata": {},
   "outputs": [
    {
     "name": "stdout",
     "output_type": "stream",
     "text": [
      "INFO:tensorflow:Restoring parameters from models/temp/iris/model.ckpt-15236\n",
      "INFO:tensorflow:Assets added to graph.\n",
      "INFO:tensorflow:No assets to write.\n",
      "INFO:tensorflow:SavedModel written to: serving/models/iris/temp-1524945804/saved_model.pb\n"
     ]
    },
    {
     "data": {
      "text/plain": [
       "'serving/models/iris/1524945804'"
      ]
     },
     "execution_count": 29,
     "metadata": {},
     "output_type": "execute_result"
    }
   ],
   "source": [
    "export_dir=\"serving/models/iris/\"\n",
    "\n",
    "feature_spec = tf.feature_column.make_parse_example_spec(my_feature_columns)\n",
    "\n",
    "input_receiver_fn = tf.estimator.export.build_parsing_serving_input_receiver_fn(feature_spec)\n",
    "\n",
    "classifier.export_savedmodel(export_dir, input_receiver_fn, as_text=False) "
   ]
  },
  {
   "cell_type": "markdown",
   "metadata": {},
   "source": [
    "# 11. Make predictions from the saved DNNClassifier model"
   ]
  },
  {
   "cell_type": "markdown",
   "metadata": {},
   "source": [
    "https://www.kaggle.com/jeffcarp/example-save-and-load-a-tensorflow-model"
   ]
  },
  {
   "cell_type": "code",
   "execution_count": 30,
   "metadata": {},
   "outputs": [
    {
     "name": "stdout",
     "output_type": "stream",
     "text": [
      "INFO:tensorflow:Using default config.\n",
      "INFO:tensorflow:Using config: {'_save_checkpoints_secs': 600, '_session_config': None, '_keep_checkpoint_max': 5, '_task_type': 'worker', '_is_chief': True, '_cluster_spec': <tensorflow.python.training.server_lib.ClusterSpec object at 0x122c36290>, '_save_checkpoints_steps': None, '_keep_checkpoint_every_n_hours': 10000, '_service': None, '_num_ps_replicas': 0, '_tf_random_seed': None, '_master': '', '_num_worker_replicas': 1, '_task_id': 0, '_log_step_count_steps': 100, '_model_dir': 'models/temp/iris', '_save_summary_steps': 100}\n",
      "INFO:tensorflow:Restoring parameters from models/temp/iris/model.ckpt-15236\n"
     ]
    },
    {
     "data": {
      "text/plain": [
       "[{'class_ids': array([0]),\n",
       "  'classes': array(['0'], dtype=object),\n",
       "  'logits': array([ 44.347195,  31.10162 , -68.24801 ], dtype=float32),\n",
       "  'probabilities': array([9.999982e-01, 1.768150e-06, 0.000000e+00], dtype=float32)},\n",
       " {'class_ids': array([1]),\n",
       "  'classes': array(['1'], dtype=object),\n",
       "  'logits': array([ -2.6728773,  14.274034 , -12.114003 ], dtype=float32),\n",
       "  'probabilities': array([4.3656620e-08, 1.0000000e+00, 3.4659417e-12], dtype=float32)}]"
      ]
     },
     "execution_count": 30,
     "metadata": {},
     "output_type": "execute_result"
    }
   ],
   "source": [
    "# this should load the model from the last saved in the model_dir\n",
    "# so everything it needs should be included below\n",
    "\n",
    "# input column names\n",
    "columns_names = ['SepalLengthCm','SepalWidthCm','PetalLengthCm','PetalWidthCm']\n",
    "\n",
    "# where the model was last saved \n",
    "model_path = 'models/temp/iris' \n",
    "\n",
    "# define columns in model using the column_names list\n",
    "# Feature columns describe how to use the input.\n",
    "# you need to define the name and type for each column of your training data\n",
    "hardcoded_feature_columns = []\n",
    "\n",
    "# numeric coulmns\n",
    "hardcoded_feature_columns.append(tf.feature_column.numeric_column(key='SepalLengthCm'));\n",
    "hardcoded_feature_columns.append(tf.feature_column.numeric_column(key='SepalWidthCm'));\n",
    "hardcoded_feature_columns.append(tf.feature_column.numeric_column(key='PetalLengthCm'));\n",
    "hardcoded_feature_columns.append(tf.feature_column.numeric_column(key='PetalWidthCm'));   \n",
    "\n",
    "#hardcoded_feature_columns = []\n",
    "#for key in columns_names:\n",
    "#    hardcoded_feature_columns.append(tf.feature_column.numeric_column(key=key))\n",
    "#    print(key)\n",
    "\n",
    "# create a classifier using the defined columns and the pre-defined model\n",
    "saved_estimator = tf.estimator.DNNClassifier(\n",
    "    # feature column array of tf.feature_column types, defined in the prev step\n",
    "    feature_columns=hardcoded_feature_columns,\n",
    "    # Two hidden layers of 10 nodes each.\n",
    "    hidden_units=[10, 10, 10],\n",
    "    # The model must choose between 3 classes.\n",
    "    n_classes=3,\n",
    "    # use saved model from folder\n",
    "    model_dir=model_path\n",
    ")\n",
    "\n",
    "# test using single records (2 real world values)\n",
    "# one Iris-setosa, one Iris-versicolor\n",
    "records_to_predict = pd.DataFrame([\n",
    "    [5.1, 3.5, 1.4, 0.2], # first records features\n",
    "    [5.7, 2.8, 4.1, 1.3]],# second record features\n",
    "    columns=columns_names)# defined column names\n",
    " \n",
    "# these values must be scaled, to match what is used in the model\n",
    "scaled_records_to_predict = pd.DataFrame(sc.transform(records_to_predict), columns=[records_to_predict.columns], index=records_to_predict.index)\n",
    "\n",
    "# predict using the model to get a prediction for each item passed\n",
    "saved_prediction_input_fn = tf.estimator.inputs.pandas_input_fn(scaled_records_to_predict, num_epochs=1, shuffle=False)\n",
    "\n",
    "# make predictions and store as a list\n",
    "saved_prediction_result = list(saved_estimator.predict(input_fn=saved_prediction_input_fn))\n",
    "\n",
    "# output prediction values\n",
    "saved_prediction_result\n",
    "\n",
    "#SepalLengthCm, SepalWidthCm, PetalLengthCm, PetalWidthCm\n",
    "#-1.870024, -0.124958, -1.511870, -1.444450 : 0\n",
    "# 1.522676, -0.124958, 1.217684, 1.185010 : 1\n",
    "#estimator_from_file = load_estimator_model('models/iris/1520662093')"
   ]
  },
  {
   "cell_type": "markdown",
   "metadata": {},
   "source": [
    "# END"
   ]
  },
  {
   "cell_type": "markdown",
   "metadata": {},
   "source": [
    "Just testing features and note below this line, not part of main execution"
   ]
  },
  {
   "cell_type": "code",
   "execution_count": null,
   "metadata": {},
   "outputs": [],
   "source": [
    "df.head()"
   ]
  },
  {
   "cell_type": "code",
   "execution_count": null,
   "metadata": {},
   "outputs": [],
   "source": []
  }
 ],
 "metadata": {
  "anaconda-cloud": {},
  "kernelspec": {
   "display_name": "Python [default]",
   "language": "python",
   "name": "python2"
  },
  "language_info": {
   "codemirror_mode": {
    "name": "ipython",
    "version": 2
   },
   "file_extension": ".py",
   "mimetype": "text/x-python",
   "name": "python",
   "nbconvert_exporter": "python",
   "pygments_lexer": "ipython2",
   "version": "2.7.12"
  }
 },
 "nbformat": 4,
 "nbformat_minor": 2
}
