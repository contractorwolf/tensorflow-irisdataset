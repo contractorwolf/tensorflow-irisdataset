{
 "cells": [
  {
   "cell_type": "markdown",
   "metadata": {},
   "source": [
    "# 1. Setup libraries for Machine Learning "
   ]
  },
  {
   "cell_type": "markdown",
   "metadata": {},
   "source": [
    "The first step is to import all the libaries that will be needed to parse and explore the data"
   ]
  },
  {
   "cell_type": "code",
   "execution_count": 1,
   "metadata": {},
   "outputs": [
    {
     "name": "stdout",
     "output_type": "stream",
     "text": [
      "('TENSORFLOW VERSION: ', '1.4.1')\n"
     ]
    }
   ],
   "source": [
    "# IMPORT LIBRARIES (must be installed via pip)\n",
    "# ----------------------------------------------------------------------------\n",
    "\n",
    "# This Python 3 environment comes with many helpful analytics libraries installed\n",
    "# It is defined by the kaggle/python docker image: https://github.com/kaggle/docker-python\n",
    "import numpy as np              # linear algebra\n",
    "import pandas as pd             # data processing, CSV file I/O (e.g. pd.read_csv)\n",
    "import matplotlib.pyplot as plt # plotting\n",
    "import seaborn as sns           # plotting\n",
    "import tensorflow as tf         # machine learning\n",
    "import sys                      # for facets stuff\n",
    "import base64                   # for facets stuff\n",
    "\n",
    "# generic_feature_statistics_generator is in the facets directory\n",
    "sys.path.append('./facets/facets_overview/python')\n",
    "\n",
    "# ML libraries \n",
    "from sklearn.preprocessing import LabelEncoder\n",
    "from sklearn.preprocessing import StandardScaler\n",
    "from sklearn.model_selection import train_test_split\n",
    "from sklearn.metrics import confusion_matrix, accuracy_score\n",
    "\n",
    "# calculate the feature statistics from the datasets and stringify it for use in facets overview\n",
    "from generic_feature_statistics_generator import GenericFeatureStatisticsGenerator\n",
    "from IPython.core.display import display, HTML\n",
    "\n",
    "# tell jupyter notebook to diplay plotted data inline\n",
    "%matplotlib inline \n",
    "\n",
    "# SET LOCAL VARIABLES\n",
    "# -----------------------------------------------------------------------------\n",
    "\n",
    "# define local file for training data with features and labels\n",
    "csv_file = 'datasets/iris.csv'\n",
    "\n",
    "# define feature columns for input feature data \n",
    "prediction_feature_columns = ['SepalLengthCm','SepalWidthCm','PetalLengthCm','PetalWidthCm']\n",
    "\n",
    "# path to save the model for future training or tensorflow serving\n",
    "model_path = 'models/temp/iris'\n",
    "\n",
    "# verify version of tensorflow, should be 1.4+ to use new Estimators features\n",
    "print('TENSORFLOW VERSION: ', tf.__version__)\n"
   ]
  },
  {
   "cell_type": "markdown",
   "metadata": {},
   "source": [
    "# 2. Import Dataset from local CSV file"
   ]
  },
  {
   "cell_type": "code",
   "execution_count": 2,
   "metadata": {},
   "outputs": [
    {
     "data": {
      "text/html": [
       "<div>\n",
       "<table border=\"1\" class=\"dataframe\">\n",
       "  <thead>\n",
       "    <tr style=\"text-align: right;\">\n",
       "      <th></th>\n",
       "      <th>Id</th>\n",
       "      <th>SepalLengthCm</th>\n",
       "      <th>SepalWidthCm</th>\n",
       "      <th>PetalLengthCm</th>\n",
       "      <th>PetalWidthCm</th>\n",
       "      <th>Species</th>\n",
       "    </tr>\n",
       "  </thead>\n",
       "  <tbody>\n",
       "    <tr>\n",
       "      <th>0</th>\n",
       "      <td>1</td>\n",
       "      <td>5.1</td>\n",
       "      <td>3.5</td>\n",
       "      <td>1.4</td>\n",
       "      <td>0.2</td>\n",
       "      <td>Iris-setosa</td>\n",
       "    </tr>\n",
       "    <tr>\n",
       "      <th>1</th>\n",
       "      <td>2</td>\n",
       "      <td>4.9</td>\n",
       "      <td>3.0</td>\n",
       "      <td>1.4</td>\n",
       "      <td>0.2</td>\n",
       "      <td>Iris-setosa</td>\n",
       "    </tr>\n",
       "    <tr>\n",
       "      <th>2</th>\n",
       "      <td>3</td>\n",
       "      <td>4.7</td>\n",
       "      <td>3.2</td>\n",
       "      <td>1.3</td>\n",
       "      <td>0.2</td>\n",
       "      <td>Iris-setosa</td>\n",
       "    </tr>\n",
       "    <tr>\n",
       "      <th>3</th>\n",
       "      <td>4</td>\n",
       "      <td>4.6</td>\n",
       "      <td>3.1</td>\n",
       "      <td>1.5</td>\n",
       "      <td>0.2</td>\n",
       "      <td>Iris-setosa</td>\n",
       "    </tr>\n",
       "    <tr>\n",
       "      <th>4</th>\n",
       "      <td>5</td>\n",
       "      <td>5.0</td>\n",
       "      <td>3.6</td>\n",
       "      <td>1.4</td>\n",
       "      <td>0.2</td>\n",
       "      <td>Iris-setosa</td>\n",
       "    </tr>\n",
       "  </tbody>\n",
       "</table>\n",
       "</div>"
      ],
      "text/plain": [
       "   Id  SepalLengthCm  SepalWidthCm  PetalLengthCm  PetalWidthCm      Species\n",
       "0   1            5.1           3.5            1.4           0.2  Iris-setosa\n",
       "1   2            4.9           3.0            1.4           0.2  Iris-setosa\n",
       "2   3            4.7           3.2            1.3           0.2  Iris-setosa\n",
       "3   4            4.6           3.1            1.5           0.2  Iris-setosa\n",
       "4   5            5.0           3.6            1.4           0.2  Iris-setosa"
      ]
     },
     "execution_count": 2,
     "metadata": {},
     "output_type": "execute_result"
    }
   ],
   "source": [
    "# get full dataset from local CSV file\n",
    "df = pd.read_csv(csv_file)\n",
    "df.head()"
   ]
  },
  {
   "cell_type": "markdown",
   "metadata": {},
   "source": [
    "# 3. Clean up the Dataset"
   ]
  },
  {
   "cell_type": "code",
   "execution_count": 3,
   "metadata": {},
   "outputs": [],
   "source": [
    "# drop unnecessary 'Id' column from the dataset, doesnt help predict the label\n",
    "df.drop('Id', inplace=True, axis=1)"
   ]
  },
  {
   "cell_type": "code",
   "execution_count": 4,
   "metadata": {},
   "outputs": [
    {
     "data": {
      "text/html": [
       "<div>\n",
       "<table border=\"1\" class=\"dataframe\">\n",
       "  <thead>\n",
       "    <tr style=\"text-align: right;\">\n",
       "      <th></th>\n",
       "      <th>SepalLengthCm</th>\n",
       "      <th>SepalWidthCm</th>\n",
       "      <th>PetalLengthCm</th>\n",
       "      <th>PetalWidthCm</th>\n",
       "      <th>Species</th>\n",
       "    </tr>\n",
       "  </thead>\n",
       "  <tbody>\n",
       "    <tr>\n",
       "      <th>0</th>\n",
       "      <td>5.4</td>\n",
       "      <td>3.7</td>\n",
       "      <td>1.5</td>\n",
       "      <td>0.2</td>\n",
       "      <td>Iris-setosa</td>\n",
       "    </tr>\n",
       "    <tr>\n",
       "      <th>1</th>\n",
       "      <td>4.9</td>\n",
       "      <td>2.4</td>\n",
       "      <td>3.3</td>\n",
       "      <td>1.0</td>\n",
       "      <td>Iris-versicolor</td>\n",
       "    </tr>\n",
       "    <tr>\n",
       "      <th>2</th>\n",
       "      <td>5.8</td>\n",
       "      <td>2.7</td>\n",
       "      <td>5.1</td>\n",
       "      <td>1.9</td>\n",
       "      <td>Iris-virginica</td>\n",
       "    </tr>\n",
       "    <tr>\n",
       "      <th>3</th>\n",
       "      <td>6.3</td>\n",
       "      <td>2.5</td>\n",
       "      <td>5.0</td>\n",
       "      <td>1.9</td>\n",
       "      <td>Iris-virginica</td>\n",
       "    </tr>\n",
       "    <tr>\n",
       "      <th>4</th>\n",
       "      <td>5.6</td>\n",
       "      <td>2.8</td>\n",
       "      <td>4.9</td>\n",
       "      <td>2.0</td>\n",
       "      <td>Iris-virginica</td>\n",
       "    </tr>\n",
       "  </tbody>\n",
       "</table>\n",
       "</div>"
      ],
      "text/plain": [
       "   SepalLengthCm  SepalWidthCm  PetalLengthCm  PetalWidthCm          Species\n",
       "0            5.4           3.7            1.5           0.2      Iris-setosa\n",
       "1            4.9           2.4            3.3           1.0  Iris-versicolor\n",
       "2            5.8           2.7            5.1           1.9   Iris-virginica\n",
       "3            6.3           2.5            5.0           1.9   Iris-virginica\n",
       "4            5.6           2.8            4.9           2.0   Iris-virginica"
      ]
     },
     "execution_count": 4,
     "metadata": {},
     "output_type": "execute_result"
    }
   ],
   "source": [
    "# ALWAYS randomize sample\n",
    "df = df.sample(frac=1).reset_index(drop=True)\n",
    "df.head()"
   ]
  },
  {
   "cell_type": "code",
   "execution_count": 5,
   "metadata": {},
   "outputs": [
    {
     "data": {
      "text/html": [
       "<link rel=\"import\" href=\"/nbextensions/facets-dist/facets-jupyter.html\" >\n",
       "        <facets-overview id=\"overview\"></facets-overview>\n",
       "        <script>\n",
       "          document.querySelector(\"#overview\").protoInput = \"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\";\n",
       "        </script>"
      ],
      "text/plain": [
       "<IPython.core.display.HTML object>"
      ]
     },
     "metadata": {},
     "output_type": "display_data"
    }
   ],
   "source": [
    "# generate statistics for template\n",
    "gfsg = GenericFeatureStatisticsGenerator()\n",
    "\n",
    "# load data\n",
    "proto = gfsg.ProtoFromDataFrames([{'name': 'train', 'table': df}])\n",
    "\n",
    "# create base64 string for html template\n",
    "protostr = base64.b64encode(proto.SerializeToString()).decode(\"utf-8\")\n",
    "\n",
    "# Display the facets overview visualization for this data\n",
    "overview_template = \"\"\"<link rel=\"import\" href=\"/nbextensions/facets-dist/facets-jupyter.html\" >\n",
    "        <facets-overview id=\"overview\"></facets-overview>\n",
    "        <script>\n",
    "          document.querySelector(\"#overview\").protoInput = \"{protostr}\";\n",
    "        </script>\"\"\"\n",
    "\n",
    "# load data into template\n",
    "overview_html = overview_template.format(protostr=protostr)\n",
    "\n",
    "# display template\n",
    "display(HTML(overview_html))"
   ]
  },
  {
   "cell_type": "code",
   "execution_count": 6,
   "metadata": {
    "scrolled": false
   },
   "outputs": [
    {
     "data": {
      "text/html": [
       "<link rel=\"import\" href=\"/nbextensions/facets-dist/facets-jupyter.html\">\n",
       "        <facets-dive sprite-image-width=\"32\" sprite-image-height=\"32\" id=\"deepdive\" height=\"600\" height=\"1000\"></facets-dive>\n",
       "        <script>\n",
       "          document.querySelector(\"#deepdive\").data = [{\"SepalLengthCm\":5.4,\"SepalWidthCm\":3.7,\"PetalLengthCm\":1.5,\"PetalWidthCm\":0.2,\"Species\":\"Iris-setosa\"},{\"SepalLengthCm\":4.9,\"SepalWidthCm\":2.4,\"PetalLengthCm\":3.3,\"PetalWidthCm\":1.0,\"Species\":\"Iris-versicolor\"},{\"SepalLengthCm\":5.8,\"SepalWidthCm\":2.7,\"PetalLengthCm\":5.1,\"PetalWidthCm\":1.9,\"Species\":\"Iris-virginica\"},{\"SepalLengthCm\":6.3,\"SepalWidthCm\":2.5,\"PetalLengthCm\":5.0,\"PetalWidthCm\":1.9,\"Species\":\"Iris-virginica\"},{\"SepalLengthCm\":5.6,\"SepalWidthCm\":2.8,\"PetalLengthCm\":4.9,\"PetalWidthCm\":2.0,\"Species\":\"Iris-virginica\"},{\"SepalLengthCm\":6.7,\"SepalWidthCm\":3.0,\"PetalLengthCm\":5.0,\"PetalWidthCm\":1.7,\"Species\":\"Iris-versicolor\"},{\"SepalLengthCm\":6.0,\"SepalWidthCm\":3.0,\"PetalLengthCm\":4.8,\"PetalWidthCm\":1.8,\"Species\":\"Iris-virginica\"},{\"SepalLengthCm\":6.7,\"SepalWidthCm\":3.1,\"PetalLengthCm\":4.7,\"PetalWidthCm\":1.5,\"Species\":\"Iris-versicolor\"},{\"SepalLengthCm\":5.5,\"SepalWidthCm\":2.6,\"PetalLengthCm\":4.4,\"PetalWidthCm\":1.2,\"Species\":\"Iris-versicolor\"},{\"SepalLengthCm\":4.8,\"SepalWidthCm\":3.4,\"PetalLengthCm\":1.6,\"PetalWidthCm\":0.2,\"Species\":\"Iris-setosa\"},{\"SepalLengthCm\":6.0,\"SepalWidthCm\":3.4,\"PetalLengthCm\":4.5,\"PetalWidthCm\":1.6,\"Species\":\"Iris-versicolor\"},{\"SepalLengthCm\":6.3,\"SepalWidthCm\":3.3,\"PetalLengthCm\":4.7,\"PetalWidthCm\":1.6,\"Species\":\"Iris-versicolor\"},{\"SepalLengthCm\":5.5,\"SepalWidthCm\":2.4,\"PetalLengthCm\":3.8,\"PetalWidthCm\":1.1,\"Species\":\"Iris-versicolor\"},{\"SepalLengthCm\":5.5,\"SepalWidthCm\":4.2,\"PetalLengthCm\":1.4,\"PetalWidthCm\":0.2,\"Species\":\"Iris-setosa\"},{\"SepalLengthCm\":6.2,\"SepalWidthCm\":3.4,\"PetalLengthCm\":5.4,\"PetalWidthCm\":2.3,\"Species\":\"Iris-virginica\"},{\"SepalLengthCm\":4.4,\"SepalWidthCm\":3.2,\"PetalLengthCm\":1.3,\"PetalWidthCm\":0.2,\"Species\":\"Iris-setosa\"},{\"SepalLengthCm\":5.0,\"SepalWidthCm\":3.0,\"PetalLengthCm\":1.6,\"PetalWidthCm\":0.2,\"Species\":\"Iris-setosa\"},{\"SepalLengthCm\":6.3,\"SepalWidthCm\":2.9,\"PetalLengthCm\":5.6,\"PetalWidthCm\":1.8,\"Species\":\"Iris-virginica\"},{\"SepalLengthCm\":6.3,\"SepalWidthCm\":3.4,\"PetalLengthCm\":5.6,\"PetalWidthCm\":2.4,\"Species\":\"Iris-virginica\"},{\"SepalLengthCm\":6.3,\"SepalWidthCm\":2.7,\"PetalLengthCm\":4.9,\"PetalWidthCm\":1.8,\"Species\":\"Iris-virginica\"},{\"SepalLengthCm\":6.1,\"SepalWidthCm\":2.9,\"PetalLengthCm\":4.7,\"PetalWidthCm\":1.4,\"Species\":\"Iris-versicolor\"},{\"SepalLengthCm\":4.6,\"SepalWidthCm\":3.4,\"PetalLengthCm\":1.4,\"PetalWidthCm\":0.3,\"Species\":\"Iris-setosa\"},{\"SepalLengthCm\":6.5,\"SepalWidthCm\":3.0,\"PetalLengthCm\":5.5,\"PetalWidthCm\":1.8,\"Species\":\"Iris-virginica\"},{\"SepalLengthCm\":5.0,\"SepalWidthCm\":3.4,\"PetalLengthCm\":1.5,\"PetalWidthCm\":0.2,\"Species\":\"Iris-setosa\"},{\"SepalLengthCm\":6.1,\"SepalWidthCm\":2.8,\"PetalLengthCm\":4.7,\"PetalWidthCm\":1.2,\"Species\":\"Iris-versicolor\"},{\"SepalLengthCm\":6.0,\"SepalWidthCm\":2.7,\"PetalLengthCm\":5.1,\"PetalWidthCm\":1.6,\"Species\":\"Iris-versicolor\"},{\"SepalLengthCm\":5.5,\"SepalWidthCm\":2.3,\"PetalLengthCm\":4.0,\"PetalWidthCm\":1.3,\"Species\":\"Iris-versicolor\"},{\"SepalLengthCm\":5.7,\"SepalWidthCm\":3.8,\"PetalLengthCm\":1.7,\"PetalWidthCm\":0.3,\"Species\":\"Iris-setosa\"},{\"SepalLengthCm\":5.5,\"SepalWidthCm\":3.5,\"PetalLengthCm\":1.3,\"PetalWidthCm\":0.2,\"Species\":\"Iris-setosa\"},{\"SepalLengthCm\":5.8,\"SepalWidthCm\":4.0,\"PetalLengthCm\":1.2,\"PetalWidthCm\":0.2,\"Species\":\"Iris-setosa\"},{\"SepalLengthCm\":5.1,\"SepalWidthCm\":3.7,\"PetalLengthCm\":1.5,\"PetalWidthCm\":0.4,\"Species\":\"Iris-setosa\"},{\"SepalLengthCm\":6.4,\"SepalWidthCm\":2.8,\"PetalLengthCm\":5.6,\"PetalWidthCm\":2.2,\"Species\":\"Iris-virginica\"},{\"SepalLengthCm\":6.3,\"SepalWidthCm\":2.8,\"PetalLengthCm\":5.1,\"PetalWidthCm\":1.5,\"Species\":\"Iris-virginica\"},{\"SepalLengthCm\":6.5,\"SepalWidthCm\":3.0,\"PetalLengthCm\":5.2,\"PetalWidthCm\":2.0,\"Species\":\"Iris-virginica\"},{\"SepalLengthCm\":5.1,\"SepalWidthCm\":3.5,\"PetalLengthCm\":1.4,\"PetalWidthCm\":0.2,\"Species\":\"Iris-setosa\"},{\"SepalLengthCm\":4.8,\"SepalWidthCm\":3.1,\"PetalLengthCm\":1.6,\"PetalWidthCm\":0.2,\"Species\":\"Iris-setosa\"},{\"SepalLengthCm\":6.0,\"SepalWidthCm\":2.2,\"PetalLengthCm\":4.0,\"PetalWidthCm\":1.0,\"Species\":\"Iris-versicolor\"},{\"SepalLengthCm\":5.1,\"SepalWidthCm\":3.8,\"PetalLengthCm\":1.9,\"PetalWidthCm\":0.4,\"Species\":\"Iris-setosa\"},{\"SepalLengthCm\":6.2,\"SepalWidthCm\":2.2,\"PetalLengthCm\":4.5,\"PetalWidthCm\":1.5,\"Species\":\"Iris-versicolor\"},{\"SepalLengthCm\":6.4,\"SepalWidthCm\":3.2,\"PetalLengthCm\":4.5,\"PetalWidthCm\":1.5,\"Species\":\"Iris-versicolor\"},{\"SepalLengthCm\":7.7,\"SepalWidthCm\":2.6,\"PetalLengthCm\":6.9,\"PetalWidthCm\":2.3,\"Species\":\"Iris-virginica\"},{\"SepalLengthCm\":5.0,\"SepalWidthCm\":3.6,\"PetalLengthCm\":1.4,\"PetalWidthCm\":0.2,\"Species\":\"Iris-setosa\"},{\"SepalLengthCm\":5.4,\"SepalWidthCm\":3.9,\"PetalLengthCm\":1.7,\"PetalWidthCm\":0.4,\"Species\":\"Iris-setosa\"},{\"SepalLengthCm\":6.3,\"SepalWidthCm\":2.5,\"PetalLengthCm\":4.9,\"PetalWidthCm\":1.5,\"Species\":\"Iris-versicolor\"},{\"SepalLengthCm\":6.0,\"SepalWidthCm\":2.9,\"PetalLengthCm\":4.5,\"PetalWidthCm\":1.5,\"Species\":\"Iris-versicolor\"},{\"SepalLengthCm\":5.6,\"SepalWidthCm\":3.0,\"PetalLengthCm\":4.1,\"PetalWidthCm\":1.3,\"Species\":\"Iris-versicolor\"},{\"SepalLengthCm\":5.0,\"SepalWidthCm\":3.5,\"PetalLengthCm\":1.3,\"PetalWidthCm\":0.3,\"Species\":\"Iris-setosa\"},{\"SepalLengthCm\":5.4,\"SepalWidthCm\":3.0,\"PetalLengthCm\":4.5,\"PetalWidthCm\":1.5,\"Species\":\"Iris-versicolor\"},{\"SepalLengthCm\":5.2,\"SepalWidthCm\":4.1,\"PetalLengthCm\":1.5,\"PetalWidthCm\":0.1,\"Species\":\"Iris-setosa\"},{\"SepalLengthCm\":7.2,\"SepalWidthCm\":3.0,\"PetalLengthCm\":5.8,\"PetalWidthCm\":1.6,\"Species\":\"Iris-virginica\"},{\"SepalLengthCm\":6.7,\"SepalWidthCm\":2.5,\"PetalLengthCm\":5.8,\"PetalWidthCm\":1.8,\"Species\":\"Iris-virginica\"},{\"SepalLengthCm\":5.1,\"SepalWidthCm\":3.8,\"PetalLengthCm\":1.5,\"PetalWidthCm\":0.3,\"Species\":\"Iris-setosa\"},{\"SepalLengthCm\":7.1,\"SepalWidthCm\":3.0,\"PetalLengthCm\":5.9,\"PetalWidthCm\":2.1,\"Species\":\"Iris-virginica\"},{\"SepalLengthCm\":5.7,\"SepalWidthCm\":3.0,\"PetalLengthCm\":4.2,\"PetalWidthCm\":1.2,\"Species\":\"Iris-versicolor\"},{\"SepalLengthCm\":6.7,\"SepalWidthCm\":3.1,\"PetalLengthCm\":5.6,\"PetalWidthCm\":2.4,\"Species\":\"Iris-virginica\"},{\"SepalLengthCm\":5.7,\"SepalWidthCm\":2.8,\"PetalLengthCm\":4.1,\"PetalWidthCm\":1.3,\"Species\":\"Iris-versicolor\"},{\"SepalLengthCm\":5.8,\"SepalWidthCm\":2.7,\"PetalLengthCm\":4.1,\"PetalWidthCm\":1.0,\"Species\":\"Iris-versicolor\"},{\"SepalLengthCm\":6.9,\"SepalWidthCm\":3.2,\"PetalLengthCm\":5.7,\"PetalWidthCm\":2.3,\"Species\":\"Iris-virginica\"},{\"SepalLengthCm\":4.5,\"SepalWidthCm\":2.3,\"PetalLengthCm\":1.3,\"PetalWidthCm\":0.3,\"Species\":\"Iris-setosa\"},{\"SepalLengthCm\":4.9,\"SepalWidthCm\":2.5,\"PetalLengthCm\":4.5,\"PetalWidthCm\":1.7,\"Species\":\"Iris-virginica\"},{\"SepalLengthCm\":7.7,\"SepalWidthCm\":2.8,\"PetalLengthCm\":6.7,\"PetalWidthCm\":2.0,\"Species\":\"Iris-virginica\"},{\"SepalLengthCm\":4.9,\"SepalWidthCm\":3.0,\"PetalLengthCm\":1.4,\"PetalWidthCm\":0.2,\"Species\":\"Iris-setosa\"},{\"SepalLengthCm\":5.1,\"SepalWidthCm\":3.8,\"PetalLengthCm\":1.6,\"PetalWidthCm\":0.2,\"Species\":\"Iris-setosa\"},{\"SepalLengthCm\":5.0,\"SepalWidthCm\":2.0,\"PetalLengthCm\":3.5,\"PetalWidthCm\":1.0,\"Species\":\"Iris-versicolor\"},{\"SepalLengthCm\":4.8,\"SepalWidthCm\":3.4,\"PetalLengthCm\":1.9,\"PetalWidthCm\":0.2,\"Species\":\"Iris-setosa\"},{\"SepalLengthCm\":6.6,\"SepalWidthCm\":2.9,\"PetalLengthCm\":4.6,\"PetalWidthCm\":1.3,\"Species\":\"Iris-versicolor\"},{\"SepalLengthCm\":5.9,\"SepalWidthCm\":3.2,\"PetalLengthCm\":4.8,\"PetalWidthCm\":1.8,\"Species\":\"Iris-versicolor\"},{\"SepalLengthCm\":6.9,\"SepalWidthCm\":3.1,\"PetalLengthCm\":4.9,\"PetalWidthCm\":1.5,\"Species\":\"Iris-versicolor\"},{\"SepalLengthCm\":5.7,\"SepalWidthCm\":4.4,\"PetalLengthCm\":1.5,\"PetalWidthCm\":0.4,\"Species\":\"Iris-setosa\"},{\"SepalLengthCm\":7.3,\"SepalWidthCm\":2.9,\"PetalLengthCm\":6.3,\"PetalWidthCm\":1.8,\"Species\":\"Iris-virginica\"},{\"SepalLengthCm\":7.7,\"SepalWidthCm\":3.8,\"PetalLengthCm\":6.7,\"PetalWidthCm\":2.2,\"Species\":\"Iris-virginica\"},{\"SepalLengthCm\":6.4,\"SepalWidthCm\":3.1,\"PetalLengthCm\":5.5,\"PetalWidthCm\":1.8,\"Species\":\"Iris-virginica\"},{\"SepalLengthCm\":6.7,\"SepalWidthCm\":3.3,\"PetalLengthCm\":5.7,\"PetalWidthCm\":2.5,\"Species\":\"Iris-virginica\"},{\"SepalLengthCm\":5.0,\"SepalWidthCm\":3.4,\"PetalLengthCm\":1.6,\"PetalWidthCm\":0.4,\"Species\":\"Iris-setosa\"},{\"SepalLengthCm\":6.8,\"SepalWidthCm\":3.2,\"PetalLengthCm\":5.9,\"PetalWidthCm\":2.3,\"Species\":\"Iris-virginica\"},{\"SepalLengthCm\":5.1,\"SepalWidthCm\":3.4,\"PetalLengthCm\":1.5,\"PetalWidthCm\":0.2,\"Species\":\"Iris-setosa\"},{\"SepalLengthCm\":6.9,\"SepalWidthCm\":3.1,\"PetalLengthCm\":5.1,\"PetalWidthCm\":2.3,\"Species\":\"Iris-virginica\"},{\"SepalLengthCm\":6.8,\"SepalWidthCm\":2.8,\"PetalLengthCm\":4.8,\"PetalWidthCm\":1.4,\"Species\":\"Iris-versicolor\"},{\"SepalLengthCm\":5.6,\"SepalWidthCm\":2.7,\"PetalLengthCm\":4.2,\"PetalWidthCm\":1.3,\"Species\":\"Iris-versicolor\"},{\"SepalLengthCm\":6.4,\"SepalWidthCm\":2.7,\"PetalLengthCm\":5.3,\"PetalWidthCm\":1.9,\"Species\":\"Iris-virginica\"},{\"SepalLengthCm\":5.0,\"SepalWidthCm\":3.5,\"PetalLengthCm\":1.6,\"PetalWidthCm\":0.6,\"Species\":\"Iris-setosa\"},{\"SepalLengthCm\":5.7,\"SepalWidthCm\":2.5,\"PetalLengthCm\":5.0,\"PetalWidthCm\":2.0,\"Species\":\"Iris-virginica\"},{\"SepalLengthCm\":7.0,\"SepalWidthCm\":3.2,\"PetalLengthCm\":4.7,\"PetalWidthCm\":1.4,\"Species\":\"Iris-versicolor\"},{\"SepalLengthCm\":5.2,\"SepalWidthCm\":3.5,\"PetalLengthCm\":1.5,\"PetalWidthCm\":0.2,\"Species\":\"Iris-setosa\"},{\"SepalLengthCm\":4.9,\"SepalWidthCm\":3.1,\"PetalLengthCm\":1.5,\"PetalWidthCm\":0.1,\"Species\":\"Iris-setosa\"},{\"SepalLengthCm\":5.3,\"SepalWidthCm\":3.7,\"PetalLengthCm\":1.5,\"PetalWidthCm\":0.2,\"Species\":\"Iris-setosa\"},{\"SepalLengthCm\":5.5,\"SepalWidthCm\":2.4,\"PetalLengthCm\":3.7,\"PetalWidthCm\":1.0,\"Species\":\"Iris-versicolor\"},{\"SepalLengthCm\":5.6,\"SepalWidthCm\":2.9,\"PetalLengthCm\":3.6,\"PetalWidthCm\":1.3,\"Species\":\"Iris-versicolor\"},{\"SepalLengthCm\":6.9,\"SepalWidthCm\":3.1,\"PetalLengthCm\":5.4,\"PetalWidthCm\":2.1,\"Species\":\"Iris-virginica\"},{\"SepalLengthCm\":5.6,\"SepalWidthCm\":3.0,\"PetalLengthCm\":4.5,\"PetalWidthCm\":1.5,\"Species\":\"Iris-versicolor\"},{\"SepalLengthCm\":4.8,\"SepalWidthCm\":3.0,\"PetalLengthCm\":1.4,\"PetalWidthCm\":0.1,\"Species\":\"Iris-setosa\"},{\"SepalLengthCm\":6.5,\"SepalWidthCm\":2.8,\"PetalLengthCm\":4.6,\"PetalWidthCm\":1.5,\"Species\":\"Iris-versicolor\"},{\"SepalLengthCm\":6.5,\"SepalWidthCm\":3.2,\"PetalLengthCm\":5.1,\"PetalWidthCm\":2.0,\"Species\":\"Iris-virginica\"},{\"SepalLengthCm\":5.5,\"SepalWidthCm\":2.5,\"PetalLengthCm\":4.0,\"PetalWidthCm\":1.3,\"Species\":\"Iris-versicolor\"},{\"SepalLengthCm\":5.1,\"SepalWidthCm\":2.5,\"PetalLengthCm\":3.0,\"PetalWidthCm\":1.1,\"Species\":\"Iris-versicolor\"},{\"SepalLengthCm\":6.3,\"SepalWidthCm\":3.3,\"PetalLengthCm\":6.0,\"PetalWidthCm\":2.5,\"Species\":\"Iris-virginica\"},{\"SepalLengthCm\":5.8,\"SepalWidthCm\":2.6,\"PetalLengthCm\":4.0,\"PetalWidthCm\":1.2,\"Species\":\"Iris-versicolor\"},{\"SepalLengthCm\":4.9,\"SepalWidthCm\":3.1,\"PetalLengthCm\":1.5,\"PetalWidthCm\":0.1,\"Species\":\"Iris-setosa\"},{\"SepalLengthCm\":6.5,\"SepalWidthCm\":3.0,\"PetalLengthCm\":5.8,\"PetalWidthCm\":2.2,\"Species\":\"Iris-virginica\"},{\"SepalLengthCm\":6.1,\"SepalWidthCm\":3.0,\"PetalLengthCm\":4.6,\"PetalWidthCm\":1.4,\"Species\":\"Iris-versicolor\"},{\"SepalLengthCm\":7.9,\"SepalWidthCm\":3.8,\"PetalLengthCm\":6.4,\"PetalWidthCm\":2.0,\"Species\":\"Iris-virginica\"},{\"SepalLengthCm\":6.4,\"SepalWidthCm\":2.8,\"PetalLengthCm\":5.6,\"PetalWidthCm\":2.1,\"Species\":\"Iris-virginica\"},{\"SepalLengthCm\":5.9,\"SepalWidthCm\":3.0,\"PetalLengthCm\":4.2,\"PetalWidthCm\":1.5,\"Species\":\"Iris-versicolor\"},{\"SepalLengthCm\":5.4,\"SepalWidthCm\":3.9,\"PetalLengthCm\":1.3,\"PetalWidthCm\":0.4,\"Species\":\"Iris-setosa\"},{\"SepalLengthCm\":6.1,\"SepalWidthCm\":2.8,\"PetalLengthCm\":4.0,\"PetalWidthCm\":1.3,\"Species\":\"Iris-versicolor\"},{\"SepalLengthCm\":4.7,\"SepalWidthCm\":3.2,\"PetalLengthCm\":1.6,\"PetalWidthCm\":0.2,\"Species\":\"Iris-setosa\"},{\"SepalLengthCm\":4.6,\"SepalWidthCm\":3.6,\"PetalLengthCm\":1.0,\"PetalWidthCm\":0.2,\"Species\":\"Iris-setosa\"},{\"SepalLengthCm\":5.0,\"SepalWidthCm\":3.2,\"PetalLengthCm\":1.2,\"PetalWidthCm\":0.2,\"Species\":\"Iris-setosa\"},{\"SepalLengthCm\":6.0,\"SepalWidthCm\":2.2,\"PetalLengthCm\":5.0,\"PetalWidthCm\":1.5,\"Species\":\"Iris-virginica\"},{\"SepalLengthCm\":5.8,\"SepalWidthCm\":2.8,\"PetalLengthCm\":5.1,\"PetalWidthCm\":2.4,\"Species\":\"Iris-virginica\"},{\"SepalLengthCm\":6.4,\"SepalWidthCm\":3.2,\"PetalLengthCm\":5.3,\"PetalWidthCm\":2.3,\"Species\":\"Iris-virginica\"},{\"SepalLengthCm\":4.8,\"SepalWidthCm\":3.0,\"PetalLengthCm\":1.4,\"PetalWidthCm\":0.3,\"Species\":\"Iris-setosa\"},{\"SepalLengthCm\":6.6,\"SepalWidthCm\":3.0,\"PetalLengthCm\":4.4,\"PetalWidthCm\":1.4,\"Species\":\"Iris-versicolor\"},{\"SepalLengthCm\":5.1,\"SepalWidthCm\":3.3,\"PetalLengthCm\":1.7,\"PetalWidthCm\":0.5,\"Species\":\"Iris-setosa\"},{\"SepalLengthCm\":6.7,\"SepalWidthCm\":3.0,\"PetalLengthCm\":5.2,\"PetalWidthCm\":2.3,\"Species\":\"Iris-virginica\"},{\"SepalLengthCm\":4.9,\"SepalWidthCm\":3.1,\"PetalLengthCm\":1.5,\"PetalWidthCm\":0.1,\"Species\":\"Iris-setosa\"},{\"SepalLengthCm\":4.6,\"SepalWidthCm\":3.1,\"PetalLengthCm\":1.5,\"PetalWidthCm\":0.2,\"Species\":\"Iris-setosa\"},{\"SepalLengthCm\":5.4,\"SepalWidthCm\":3.4,\"PetalLengthCm\":1.5,\"PetalWidthCm\":0.4,\"Species\":\"Iris-setosa\"},{\"SepalLengthCm\":5.6,\"SepalWidthCm\":2.5,\"PetalLengthCm\":3.9,\"PetalWidthCm\":1.1,\"Species\":\"Iris-versicolor\"},{\"SepalLengthCm\":4.4,\"SepalWidthCm\":2.9,\"PetalLengthCm\":1.4,\"PetalWidthCm\":0.2,\"Species\":\"Iris-setosa\"},{\"SepalLengthCm\":6.3,\"SepalWidthCm\":2.3,\"PetalLengthCm\":4.4,\"PetalWidthCm\":1.3,\"Species\":\"Iris-versicolor\"},{\"SepalLengthCm\":5.8,\"SepalWidthCm\":2.7,\"PetalLengthCm\":3.9,\"PetalWidthCm\":1.2,\"Species\":\"Iris-versicolor\"},{\"SepalLengthCm\":7.6,\"SepalWidthCm\":3.0,\"PetalLengthCm\":6.6,\"PetalWidthCm\":2.1,\"Species\":\"Iris-virginica\"},{\"SepalLengthCm\":7.2,\"SepalWidthCm\":3.6,\"PetalLengthCm\":6.1,\"PetalWidthCm\":2.5,\"Species\":\"Iris-virginica\"},{\"SepalLengthCm\":4.6,\"SepalWidthCm\":3.2,\"PetalLengthCm\":1.4,\"PetalWidthCm\":0.2,\"Species\":\"Iris-setosa\"},{\"SepalLengthCm\":4.7,\"SepalWidthCm\":3.2,\"PetalLengthCm\":1.3,\"PetalWidthCm\":0.2,\"Species\":\"Iris-setosa\"},{\"SepalLengthCm\":5.0,\"SepalWidthCm\":3.3,\"PetalLengthCm\":1.4,\"PetalWidthCm\":0.2,\"Species\":\"Iris-setosa\"},{\"SepalLengthCm\":5.2,\"SepalWidthCm\":3.4,\"PetalLengthCm\":1.4,\"PetalWidthCm\":0.2,\"Species\":\"Iris-setosa\"},{\"SepalLengthCm\":5.1,\"SepalWidthCm\":3.5,\"PetalLengthCm\":1.4,\"PetalWidthCm\":0.3,\"Species\":\"Iris-setosa\"},{\"SepalLengthCm\":7.2,\"SepalWidthCm\":3.2,\"PetalLengthCm\":6.0,\"PetalWidthCm\":1.8,\"Species\":\"Iris-virginica\"},{\"SepalLengthCm\":5.7,\"SepalWidthCm\":2.6,\"PetalLengthCm\":3.5,\"PetalWidthCm\":1.0,\"Species\":\"Iris-versicolor\"},{\"SepalLengthCm\":5.8,\"SepalWidthCm\":2.7,\"PetalLengthCm\":5.1,\"PetalWidthCm\":1.9,\"Species\":\"Iris-virginica\"},{\"SepalLengthCm\":5.9,\"SepalWidthCm\":3.0,\"PetalLengthCm\":5.1,\"PetalWidthCm\":1.8,\"Species\":\"Iris-virginica\"},{\"SepalLengthCm\":4.4,\"SepalWidthCm\":3.0,\"PetalLengthCm\":1.3,\"PetalWidthCm\":0.2,\"Species\":\"Iris-setosa\"},{\"SepalLengthCm\":6.1,\"SepalWidthCm\":3.0,\"PetalLengthCm\":4.9,\"PetalWidthCm\":1.8,\"Species\":\"Iris-virginica\"},{\"SepalLengthCm\":6.7,\"SepalWidthCm\":3.1,\"PetalLengthCm\":4.4,\"PetalWidthCm\":1.4,\"Species\":\"Iris-versicolor\"},{\"SepalLengthCm\":5.4,\"SepalWidthCm\":3.4,\"PetalLengthCm\":1.7,\"PetalWidthCm\":0.2,\"Species\":\"Iris-setosa\"},{\"SepalLengthCm\":6.7,\"SepalWidthCm\":3.3,\"PetalLengthCm\":5.7,\"PetalWidthCm\":2.1,\"Species\":\"Iris-virginica\"},{\"SepalLengthCm\":6.1,\"SepalWidthCm\":2.6,\"PetalLengthCm\":5.6,\"PetalWidthCm\":1.4,\"Species\":\"Iris-virginica\"},{\"SepalLengthCm\":5.7,\"SepalWidthCm\":2.8,\"PetalLengthCm\":4.5,\"PetalWidthCm\":1.3,\"Species\":\"Iris-versicolor\"},{\"SepalLengthCm\":5.0,\"SepalWidthCm\":2.3,\"PetalLengthCm\":3.3,\"PetalWidthCm\":1.0,\"Species\":\"Iris-versicolor\"},{\"SepalLengthCm\":6.2,\"SepalWidthCm\":2.9,\"PetalLengthCm\":4.3,\"PetalWidthCm\":1.3,\"Species\":\"Iris-versicolor\"},{\"SepalLengthCm\":4.3,\"SepalWidthCm\":3.0,\"PetalLengthCm\":1.1,\"PetalWidthCm\":0.1,\"Species\":\"Iris-setosa\"},{\"SepalLengthCm\":7.7,\"SepalWidthCm\":3.0,\"PetalLengthCm\":6.1,\"PetalWidthCm\":2.3,\"Species\":\"Iris-virginica\"},{\"SepalLengthCm\":7.4,\"SepalWidthCm\":2.8,\"PetalLengthCm\":6.1,\"PetalWidthCm\":1.9,\"Species\":\"Iris-virginica\"},{\"SepalLengthCm\":5.7,\"SepalWidthCm\":2.9,\"PetalLengthCm\":4.2,\"PetalWidthCm\":1.3,\"Species\":\"Iris-versicolor\"},{\"SepalLengthCm\":5.2,\"SepalWidthCm\":2.7,\"PetalLengthCm\":3.9,\"PetalWidthCm\":1.4,\"Species\":\"Iris-versicolor\"},{\"SepalLengthCm\":6.4,\"SepalWidthCm\":2.9,\"PetalLengthCm\":4.3,\"PetalWidthCm\":1.3,\"Species\":\"Iris-versicolor\"},{\"SepalLengthCm\":6.2,\"SepalWidthCm\":2.8,\"PetalLengthCm\":4.8,\"PetalWidthCm\":1.8,\"Species\":\"Iris-virginica\"},{\"SepalLengthCm\":6.8,\"SepalWidthCm\":3.0,\"PetalLengthCm\":5.5,\"PetalWidthCm\":2.1,\"Species\":\"Iris-virginica\"}];\n",
       "        </script>"
      ],
      "text/plain": [
       "<IPython.core.display.HTML object>"
      ]
     },
     "metadata": {},
     "output_type": "display_data"
    }
   ],
   "source": [
    "# convert dataframe to json string to be used by the html template\n",
    "jsonstr = df.to_json(orient='records')\n",
    "\n",
    "# Display the Dive visualization for this data\n",
    "deepdive_template = \"\"\"<link rel=\"import\" href=\"/nbextensions/facets-dist/facets-jupyter.html\">\n",
    "        <facets-dive sprite-image-width=\"32\" sprite-image-height=\"32\" id=\"deepdive\" height=\"600\" height=\"1000\"></facets-dive>\n",
    "        <script>\n",
    "          document.querySelector(\"#deepdive\").data = {jsonstr};\n",
    "        </script>\"\"\"\n",
    "\n",
    "# load data into template\n",
    "deepdive_html = deepdive_template.format(jsonstr=jsonstr)\n",
    "\n",
    "#display template\n",
    "display(HTML(deepdive_html))"
   ]
  },
  {
   "cell_type": "code",
   "execution_count": 7,
   "metadata": {},
   "outputs": [
    {
     "data": {
      "text/html": [
       "<div>\n",
       "<table border=\"1\" class=\"dataframe\">\n",
       "  <thead>\n",
       "    <tr style=\"text-align: right;\">\n",
       "      <th></th>\n",
       "      <th>SepalLengthCm</th>\n",
       "      <th>SepalWidthCm</th>\n",
       "      <th>PetalLengthCm</th>\n",
       "      <th>PetalWidthCm</th>\n",
       "      <th>Species</th>\n",
       "    </tr>\n",
       "  </thead>\n",
       "  <tbody>\n",
       "    <tr>\n",
       "      <th>0</th>\n",
       "      <td>5.4</td>\n",
       "      <td>3.7</td>\n",
       "      <td>1.5</td>\n",
       "      <td>0.2</td>\n",
       "      <td>0</td>\n",
       "    </tr>\n",
       "    <tr>\n",
       "      <th>1</th>\n",
       "      <td>4.9</td>\n",
       "      <td>2.4</td>\n",
       "      <td>3.3</td>\n",
       "      <td>1.0</td>\n",
       "      <td>1</td>\n",
       "    </tr>\n",
       "    <tr>\n",
       "      <th>2</th>\n",
       "      <td>5.8</td>\n",
       "      <td>2.7</td>\n",
       "      <td>5.1</td>\n",
       "      <td>1.9</td>\n",
       "      <td>2</td>\n",
       "    </tr>\n",
       "    <tr>\n",
       "      <th>3</th>\n",
       "      <td>6.3</td>\n",
       "      <td>2.5</td>\n",
       "      <td>5.0</td>\n",
       "      <td>1.9</td>\n",
       "      <td>2</td>\n",
       "    </tr>\n",
       "    <tr>\n",
       "      <th>4</th>\n",
       "      <td>5.6</td>\n",
       "      <td>2.8</td>\n",
       "      <td>4.9</td>\n",
       "      <td>2.0</td>\n",
       "      <td>2</td>\n",
       "    </tr>\n",
       "  </tbody>\n",
       "</table>\n",
       "</div>"
      ],
      "text/plain": [
       "   SepalLengthCm  SepalWidthCm  PetalLengthCm  PetalWidthCm  Species\n",
       "0            5.4           3.7            1.5           0.2        0\n",
       "1            4.9           2.4            3.3           1.0        1\n",
       "2            5.8           2.7            5.1           1.9        2\n",
       "3            6.3           2.5            5.0           1.9        2\n",
       "4            5.6           2.8            4.9           2.0        2"
      ]
     },
     "execution_count": 7,
     "metadata": {},
     "output_type": "execute_result"
    }
   ],
   "source": [
    "# label encode the string label: Species\n",
    "# it should be a numeric value, instead of a string value\n",
    "# to do: use one-hot encoder instead of label encoder\n",
    "le = LabelEncoder()\n",
    "df.Species = le.fit_transform(df.Species)\n",
    "\n",
    "# show the cleaned dataset\n",
    "df.head()"
   ]
  },
  {
   "cell_type": "code",
   "execution_count": 8,
   "metadata": {},
   "outputs": [
    {
     "data": {
      "text/plain": [
       "0    0\n",
       "1    1\n",
       "2    2\n",
       "3    2\n",
       "4    2\n",
       "Name: Species, dtype: int64"
      ]
     },
     "execution_count": 8,
     "metadata": {},
     "output_type": "execute_result"
    }
   ],
   "source": [
    "# set just the label column to y for the train_test_split()\n",
    "# *** need to shuffle the dataset first?\n",
    "data_label = df.Species\n",
    "data_label.head()"
   ]
  },
  {
   "cell_type": "code",
   "execution_count": 9,
   "metadata": {},
   "outputs": [
    {
     "data": {
      "text/html": [
       "<div>\n",
       "<table border=\"1\" class=\"dataframe\">\n",
       "  <thead>\n",
       "    <tr style=\"text-align: right;\">\n",
       "      <th></th>\n",
       "      <th>SepalLengthCm</th>\n",
       "      <th>SepalWidthCm</th>\n",
       "      <th>PetalLengthCm</th>\n",
       "      <th>PetalWidthCm</th>\n",
       "    </tr>\n",
       "  </thead>\n",
       "  <tbody>\n",
       "    <tr>\n",
       "      <th>0</th>\n",
       "      <td>5.4</td>\n",
       "      <td>3.7</td>\n",
       "      <td>1.5</td>\n",
       "      <td>0.2</td>\n",
       "    </tr>\n",
       "    <tr>\n",
       "      <th>1</th>\n",
       "      <td>4.9</td>\n",
       "      <td>2.4</td>\n",
       "      <td>3.3</td>\n",
       "      <td>1.0</td>\n",
       "    </tr>\n",
       "    <tr>\n",
       "      <th>2</th>\n",
       "      <td>5.8</td>\n",
       "      <td>2.7</td>\n",
       "      <td>5.1</td>\n",
       "      <td>1.9</td>\n",
       "    </tr>\n",
       "    <tr>\n",
       "      <th>3</th>\n",
       "      <td>6.3</td>\n",
       "      <td>2.5</td>\n",
       "      <td>5.0</td>\n",
       "      <td>1.9</td>\n",
       "    </tr>\n",
       "    <tr>\n",
       "      <th>4</th>\n",
       "      <td>5.6</td>\n",
       "      <td>2.8</td>\n",
       "      <td>4.9</td>\n",
       "      <td>2.0</td>\n",
       "    </tr>\n",
       "  </tbody>\n",
       "</table>\n",
       "</div>"
      ],
      "text/plain": [
       "   SepalLengthCm  SepalWidthCm  PetalLengthCm  PetalWidthCm\n",
       "0            5.4           3.7            1.5           0.2\n",
       "1            4.9           2.4            3.3           1.0\n",
       "2            5.8           2.7            5.1           1.9\n",
       "3            6.3           2.5            5.0           1.9\n",
       "4            5.6           2.8            4.9           2.0"
      ]
     },
     "execution_count": 9,
     "metadata": {},
     "output_type": "execute_result"
    }
   ],
   "source": [
    "# remove the species column so that you can scale the rest of the values\n",
    "# the values are already stored in y variable\n",
    "# *** convert this to X values here, for clarity?\n",
    "data_features = df.drop('Species', inplace=False, axis=1)\n",
    "data_features.head()\n"
   ]
  },
  {
   "cell_type": "code",
   "execution_count": 10,
   "metadata": {},
   "outputs": [
    {
     "data": {
      "text/html": [
       "<div>\n",
       "<table border=\"1\" class=\"dataframe\">\n",
       "  <thead>\n",
       "    <tr style=\"text-align: right;\">\n",
       "      <th></th>\n",
       "      <th>SepalLengthCm</th>\n",
       "      <th>SepalWidthCm</th>\n",
       "      <th>PetalLengthCm</th>\n",
       "      <th>PetalWidthCm</th>\n",
       "    </tr>\n",
       "  </thead>\n",
       "  <tbody>\n",
       "    <tr>\n",
       "      <th>0</th>\n",
       "      <td>-0.537178</td>\n",
       "      <td>1.494863</td>\n",
       "      <td>-1.284407</td>\n",
       "      <td>-1.312977</td>\n",
       "    </tr>\n",
       "    <tr>\n",
       "      <th>1</th>\n",
       "      <td>-1.143017</td>\n",
       "      <td>-1.513375</td>\n",
       "      <td>-0.260824</td>\n",
       "      <td>-0.261193</td>\n",
       "    </tr>\n",
       "    <tr>\n",
       "      <th>2</th>\n",
       "      <td>-0.052506</td>\n",
       "      <td>-0.819166</td>\n",
       "      <td>0.762759</td>\n",
       "      <td>0.922064</td>\n",
       "    </tr>\n",
       "    <tr>\n",
       "      <th>3</th>\n",
       "      <td>0.553333</td>\n",
       "      <td>-1.281972</td>\n",
       "      <td>0.705893</td>\n",
       "      <td>0.922064</td>\n",
       "    </tr>\n",
       "    <tr>\n",
       "      <th>4</th>\n",
       "      <td>-0.294842</td>\n",
       "      <td>-0.587764</td>\n",
       "      <td>0.649027</td>\n",
       "      <td>1.053537</td>\n",
       "    </tr>\n",
       "  </tbody>\n",
       "</table>\n",
       "</div>"
      ],
      "text/plain": [
       "   SepalLengthCm  SepalWidthCm  PetalLengthCm  PetalWidthCm\n",
       "0      -0.537178      1.494863      -1.284407     -1.312977\n",
       "1      -1.143017     -1.513375      -0.260824     -0.261193\n",
       "2      -0.052506     -0.819166       0.762759      0.922064\n",
       "3       0.553333     -1.281972       0.705893      0.922064\n",
       "4      -0.294842     -0.587764       0.649027      1.053537"
      ]
     },
     "execution_count": 10,
     "metadata": {},
     "output_type": "execute_result"
    }
   ],
   "source": [
    "# scale data for better results\n",
    "# so that columns with larger values dont get weighed more\n",
    "# example: age change of 40 years (significant) vs income change of $40 (not significant)\n",
    "\n",
    "sc = StandardScaler(copy=True, with_mean=True, with_std=True)\n",
    "scaled_features = pd.DataFrame(sc.fit_transform(data_features), columns=[data_features.columns], index=data_features.index)\n",
    "\n",
    "# show scaled X values \n",
    "scaled_features.head() \n",
    "# THIS IS A DATAFRAME"
   ]
  },
  {
   "cell_type": "code",
   "execution_count": 11,
   "metadata": {},
   "outputs": [
    {
     "data": {
      "text/plain": [
       "0    0\n",
       "1    1\n",
       "2    2\n",
       "3    2\n",
       "4    2\n",
       "Name: Species, dtype: int64"
      ]
     },
     "execution_count": 11,
     "metadata": {},
     "output_type": "execute_result"
    }
   ],
   "source": [
    "# show labels (y values in equasion)\n",
    "data_label.head()\n",
    "# THIS IS A SERIES\n"
   ]
  },
  {
   "cell_type": "code",
   "execution_count": 12,
   "metadata": {},
   "outputs": [],
   "source": [
    "# do a 70/30 split of the data into a train_x and train_y (70% for training) \n",
    "# and a test_x and test_y (30% for validation) \n",
    "# X is a DATAFRAME of scaled features\n",
    "# y is a SERIES of labels\n",
    "train_x, test_x, train_y, test_y = train_test_split(scaled_features, data_label, test_size=0.30, random_state=101)\n",
    " "
   ]
  },
  {
   "cell_type": "code",
   "execution_count": 13,
   "metadata": {},
   "outputs": [
    {
     "name": "stdout",
     "output_type": "stream",
     "text": [
      "<class 'pandas.core.frame.DataFrame'>\n",
      "Int64Index: 45 entries, 33 to 66\n",
      "Data columns (total 4 columns):\n",
      "SepalLengthCm    45 non-null float64\n",
      "SepalWidthCm     45 non-null float64\n",
      "PetalLengthCm    45 non-null float64\n",
      "PetalWidthCm     45 non-null float64\n",
      "dtypes: float64(4)\n",
      "memory usage: 1.8 KB\n"
     ]
    }
   ],
   "source": [
    "test_x.info()"
   ]
  },
  {
   "cell_type": "markdown",
   "metadata": {},
   "source": [
    "# 4. Create Feature Columns List for Classifier"
   ]
  },
  {
   "cell_type": "code",
   "execution_count": 14,
   "metadata": {},
   "outputs": [],
   "source": [
    "# Feature columns describe how to use the input.\n",
    "# you need to define the name and type for each column of your training data\n",
    "my_feature_columns = []\n",
    "\n",
    "# numeric coulmns\n",
    "my_feature_columns.append(tf.feature_column.numeric_column(key='SepalLengthCm'));\n",
    "my_feature_columns.append(tf.feature_column.numeric_column(key='SepalWidthCm'));\n",
    "my_feature_columns.append(tf.feature_column.numeric_column(key='PetalLengthCm'));\n",
    "my_feature_columns.append(tf.feature_column.numeric_column(key='PetalWidthCm'));   \n",
    "\n",
    "# other column types\n",
    "# hashed strings or categorical features\n",
    "# example:\n",
    "# state = tf.feature_column.categorical_column_with_hash_bucket('state',100) \n",
    "# pick the right size for your data\n",
    "\n",
    "    "
   ]
  },
  {
   "cell_type": "markdown",
   "metadata": {},
   "source": [
    "# 5. Create Classifier from Feature Column list"
   ]
  },
  {
   "cell_type": "code",
   "execution_count": 15,
   "metadata": {},
   "outputs": [
    {
     "name": "stdout",
     "output_type": "stream",
     "text": [
      "INFO:tensorflow:Using default config.\n",
      "INFO:tensorflow:Using config: {'_save_checkpoints_secs': 600, '_session_config': None, '_keep_checkpoint_max': 5, '_task_type': 'worker', '_is_chief': True, '_cluster_spec': <tensorflow.python.training.server_lib.ClusterSpec object at 0x1218546d0>, '_save_checkpoints_steps': None, '_keep_checkpoint_every_n_hours': 10000, '_service': None, '_num_ps_replicas': 0, '_tf_random_seed': None, '_master': '', '_num_worker_replicas': 1, '_task_id': 0, '_log_step_count_steps': 100, '_model_dir': 'models/temp/iris', '_save_summary_steps': 100}\n"
     ]
    }
   ],
   "source": [
    "# Build 2 hidden layer DNN with 10, 10 units respectively\n",
    "# uses feature column types defined in the previous step\n",
    "classifier = tf.estimator.DNNClassifier(\n",
    "    # feature columns defined in the prev step\n",
    "    feature_columns=my_feature_columns,\n",
    "    # Two hidden layers of 10 nodes each.\n",
    "    hidden_units=[10, 10, 10],\n",
    "    # The model must choose between 3 classes.\n",
    "    n_classes=data_label.nunique(),\n",
    "    # save the model to a folder when run, reuse the same way\n",
    "    model_dir=model_path\n",
    ")\n"
   ]
  },
  {
   "cell_type": "code",
   "execution_count": 16,
   "metadata": {},
   "outputs": [],
   "source": [
    "# setup the train input function using the train_x and train_y datasource\n",
    "train_input_fn = tf.estimator.inputs.pandas_input_fn(train_x, y=train_y, num_epochs=5000, shuffle=True)\n"
   ]
  },
  {
   "cell_type": "markdown",
   "metadata": {},
   "source": [
    "# 6. Train Classifier"
   ]
  },
  {
   "cell_type": "code",
   "execution_count": 17,
   "metadata": {},
   "outputs": [
    {
     "name": "stdout",
     "output_type": "stream",
     "text": [
      "INFO:tensorflow:Create CheckpointSaverHook.\n",
      "INFO:tensorflow:Restoring parameters from models/temp/iris/model.ckpt-8204\n",
      "INFO:tensorflow:Saving checkpoints for 8205 into models/temp/iris/model.ckpt.\n",
      "INFO:tensorflow:loss = 77.341034, step = 8205\n",
      "INFO:tensorflow:global_step/sec: 389.734\n",
      "INFO:tensorflow:loss = 0.47247326, step = 8305 (0.261 sec)\n",
      "INFO:tensorflow:global_step/sec: 417.599\n",
      "INFO:tensorflow:loss = 0.33949822, step = 8405 (0.238 sec)\n",
      "INFO:tensorflow:global_step/sec: 387.514\n",
      "INFO:tensorflow:loss = 0.31105655, step = 8505 (0.258 sec)\n",
      "INFO:tensorflow:global_step/sec: 406.666\n",
      "INFO:tensorflow:loss = 0.22861943, step = 8605 (0.246 sec)\n",
      "INFO:tensorflow:global_step/sec: 433.129\n",
      "INFO:tensorflow:loss = 0.1562928, step = 8705 (0.231 sec)\n",
      "INFO:tensorflow:global_step/sec: 423.243\n",
      "INFO:tensorflow:loss = 0.13484488, step = 8805 (0.239 sec)\n",
      "INFO:tensorflow:global_step/sec: 408.345\n",
      "INFO:tensorflow:loss = 0.124146976, step = 8905 (0.245 sec)\n",
      "INFO:tensorflow:global_step/sec: 420.523\n",
      "INFO:tensorflow:loss = 0.17856687, step = 9005 (0.236 sec)\n",
      "INFO:tensorflow:global_step/sec: 396.78\n",
      "INFO:tensorflow:loss = 0.050724655, step = 9105 (0.252 sec)\n",
      "INFO:tensorflow:global_step/sec: 449.796\n",
      "INFO:tensorflow:loss = 0.22422957, step = 9205 (0.221 sec)\n",
      "INFO:tensorflow:global_step/sec: 402.749\n",
      "INFO:tensorflow:loss = 0.10886678, step = 9305 (0.250 sec)\n",
      "INFO:tensorflow:global_step/sec: 355.29\n",
      "INFO:tensorflow:loss = 0.06519508, step = 9405 (0.280 sec)\n",
      "INFO:tensorflow:global_step/sec: 375.655\n",
      "INFO:tensorflow:loss = 0.14697072, step = 9505 (0.266 sec)\n",
      "INFO:tensorflow:global_step/sec: 371.272\n",
      "INFO:tensorflow:loss = 0.09020415, step = 9605 (0.269 sec)\n",
      "INFO:tensorflow:global_step/sec: 356.271\n",
      "INFO:tensorflow:loss = 0.13189581, step = 9705 (0.281 sec)\n",
      "INFO:tensorflow:global_step/sec: 408.994\n",
      "INFO:tensorflow:loss = 0.039944947, step = 9805 (0.248 sec)\n",
      "INFO:tensorflow:global_step/sec: 373.501\n",
      "INFO:tensorflow:loss = 0.16452536, step = 9905 (0.268 sec)\n",
      "INFO:tensorflow:global_step/sec: 399.391\n",
      "INFO:tensorflow:loss = 0.040858746, step = 10005 (0.245 sec)\n",
      "INFO:tensorflow:global_step/sec: 423.144\n",
      "INFO:tensorflow:loss = 0.0652845, step = 10105 (0.238 sec)\n",
      "INFO:tensorflow:global_step/sec: 405.66\n",
      "INFO:tensorflow:loss = 0.08093798, step = 10205 (0.247 sec)\n",
      "INFO:tensorflow:global_step/sec: 423.34\n",
      "INFO:tensorflow:loss = 0.06710099, step = 10305 (0.234 sec)\n",
      "INFO:tensorflow:global_step/sec: 404.632\n",
      "INFO:tensorflow:loss = 0.10542406, step = 10405 (0.250 sec)\n",
      "INFO:tensorflow:global_step/sec: 407.297\n",
      "INFO:tensorflow:loss = 0.06970455, step = 10505 (0.244 sec)\n",
      "INFO:tensorflow:global_step/sec: 433.105\n",
      "INFO:tensorflow:loss = 0.034075253, step = 10605 (0.233 sec)\n",
      "INFO:tensorflow:global_step/sec: 415.923\n",
      "INFO:tensorflow:loss = 0.079038106, step = 10705 (0.239 sec)\n",
      "INFO:tensorflow:global_step/sec: 434.524\n",
      "INFO:tensorflow:loss = 0.0499089, step = 10805 (0.234 sec)\n",
      "INFO:tensorflow:global_step/sec: 431.859\n",
      "INFO:tensorflow:loss = 0.06605768, step = 10905 (0.228 sec)\n",
      "INFO:tensorflow:global_step/sec: 439.18\n",
      "INFO:tensorflow:loss = 0.08630429, step = 11005 (0.227 sec)\n",
      "INFO:tensorflow:global_step/sec: 419.729\n",
      "INFO:tensorflow:loss = 0.07718118, step = 11105 (0.239 sec)\n",
      "INFO:tensorflow:global_step/sec: 414.933\n",
      "INFO:tensorflow:loss = 0.10899545, step = 11205 (0.243 sec)\n",
      "INFO:tensorflow:global_step/sec: 385.907\n",
      "INFO:tensorflow:loss = 0.047940228, step = 11305 (0.258 sec)\n",
      "INFO:tensorflow:global_step/sec: 439.014\n",
      "INFO:tensorflow:loss = 0.015077051, step = 11405 (0.227 sec)\n",
      "INFO:tensorflow:global_step/sec: 398.54\n",
      "INFO:tensorflow:loss = 0.044023324, step = 11505 (0.252 sec)\n",
      "INFO:tensorflow:global_step/sec: 415.134\n",
      "INFO:tensorflow:loss = 0.07875999, step = 11605 (0.240 sec)\n",
      "INFO:tensorflow:global_step/sec: 394.356\n",
      "INFO:tensorflow:loss = 0.044073883, step = 11705 (0.254 sec)\n",
      "INFO:tensorflow:global_step/sec: 429.251\n",
      "INFO:tensorflow:loss = 0.041447517, step = 11805 (0.234 sec)\n",
      "INFO:tensorflow:global_step/sec: 352.716\n",
      "INFO:tensorflow:loss = 0.031863898, step = 11905 (0.285 sec)\n",
      "INFO:tensorflow:global_step/sec: 390.768\n",
      "INFO:tensorflow:loss = 0.06744143, step = 12005 (0.258 sec)\n",
      "INFO:tensorflow:global_step/sec: 357.024\n",
      "INFO:tensorflow:loss = 0.030308135, step = 12105 (0.278 sec)\n",
      "INFO:tensorflow:global_step/sec: 412.449\n",
      "INFO:tensorflow:loss = 0.06590016, step = 12205 (0.239 sec)\n",
      "INFO:tensorflow:global_step/sec: 407.491\n",
      "INFO:tensorflow:loss = 0.037296038, step = 12305 (0.244 sec)\n",
      "INFO:tensorflow:Saving checkpoints for 12306 into models/temp/iris/model.ckpt.\n",
      "INFO:tensorflow:Loss for final step: 0.0050207605.\n"
     ]
    },
    {
     "data": {
      "text/plain": [
       "<tensorflow.python.estimator.canned.dnn.DNNClassifier at 0x1218bb050>"
      ]
     },
     "execution_count": 17,
     "metadata": {},
     "output_type": "execute_result"
    }
   ],
   "source": [
    "# this is where training actually occurs, this will be a long running process on large datasets\n",
    "classifier.train(input_fn=train_input_fn)\n"
   ]
  },
  {
   "cell_type": "markdown",
   "metadata": {},
   "source": [
    "# 7. Test classifier with the 30% split data"
   ]
  },
  {
   "cell_type": "code",
   "execution_count": 18,
   "metadata": {},
   "outputs": [],
   "source": [
    "# validate the model using the x_test values to get a prediction for each one\n",
    "# then you can compare the predicted values against the known values in test_y\n",
    "# which will give you an accuracy score in percentage\n",
    "test_input_fn = tf.estimator.inputs.pandas_input_fn(test_x, num_epochs=1, shuffle=False)\n"
   ]
  },
  {
   "cell_type": "code",
   "execution_count": 19,
   "metadata": {},
   "outputs": [
    {
     "name": "stdout",
     "output_type": "stream",
     "text": [
      "INFO:tensorflow:Restoring parameters from models/temp/iris/model.ckpt-12306\n",
      "[{'probabilities': array([1.1489269e-08, 1.8662671e-05, 9.9998128e-01], dtype=float32), 'logits': array([-9.509177 , -2.1163101,  8.772656 ], dtype=float32), 'classes': array(['2'], dtype=object), 'class_ids': array([2])}, {'probabilities': array([9.9999547e-01, 4.5274141e-06, 2.2725922e-17], dtype=float32), 'logits': array([ 16.233528 ,   3.9281735, -22.089495 ], dtype=float32), 'classes': array(['0'], dtype=object), 'class_ids': array([0])}, {'probabilities': array([1.0641408e-05, 9.0658122e-01, 9.3408152e-02], dtype=float32), 'logits': array([-8.405992  ,  2.9466913 ,  0.67398924], dtype=float32), 'classes': array(['1'], dtype=object), 'class_ids': array([1])}, {'probabilities': array([8.2058724e-09, 1.5196923e-05, 9.9998474e-01], dtype=float32), 'logits': array([-9.683038 , -2.1590407,  8.935362 ], dtype=float32), 'classes': array(['2'], dtype=object), 'class_ids': array([2])}, {'probabilities': array([8.2258844e-12, 2.3411074e-07, 9.9999976e-01], dtype=float32), 'logits': array([-13.208853 ,  -2.9525886,  12.314882 ], dtype=float32), 'classes': array(['2'], dtype=object), 'class_ids': array([2])}, {'probabilities': array([2.0207741e-10, 1.6210965e-06, 9.9999833e-01], dtype=float32), 'logits': array([-11.573865 ,  -2.5839036,  10.748503 ], dtype=float32), 'classes': array(['2'], dtype=object), 'class_ids': array([2])}, {'probabilities': array([9.9999964e-01, 3.6931166e-07, 7.0603121e-17], dtype=float32), 'logits': array([ 17.141891 ,   2.3302665, -20.047565 ], dtype=float32), 'classes': array(['0'], dtype=object), 'class_ids': array([0])}, {'probabilities': array([3.3182838e-11, 1.0000000e+00, 1.6091359e-21], dtype=float32), 'logits': array([ -4.741504,  19.387484, -28.491106], dtype=float32), 'classes': array(['1'], dtype=object), 'class_ids': array([1])}, {'probabilities': array([9.4384180e-09, 1.0000000e+00, 1.7570308e-15], dtype=float32), 'logits': array([ -4.2834735,  14.1950035, -19.780146 ], dtype=float32), 'classes': array(['1'], dtype=object), 'class_ids': array([1])}, {'probabilities': array([4.8162176e-05, 9.9995184e-01, 3.0892704e-15], dtype=float32), 'logits': array([  1.8352814,  11.77617  , -21.634623 ], dtype=float32), 'classes': array(['1'], dtype=object), 'class_ids': array([1])}, {'probabilities': array([1.19260955e-11, 1.00000000e+00, 3.90573723e-21], dtype=float32), 'logits': array([ -5.600058,  19.552235, -27.439606], dtype=float32), 'classes': array(['1'], dtype=object), 'class_ids': array([1])}, {'probabilities': array([3.0629522e-05, 9.7855240e-01, 2.1416906e-02], dtype=float32), 'logits': array([-7.1711736 ,  3.2006917 , -0.62120205], dtype=float32), 'classes': array(['1'], dtype=object), 'class_ids': array([1])}, {'probabilities': array([3.6266750e-11, 5.7807995e-07, 9.9999940e-01], dtype=float32), 'logits': array([-12.444099,  -2.767532,  11.596021], dtype=float32), 'classes': array(['2'], dtype=object), 'class_ids': array([2])}, {'probabilities': array([3.1396180e-13, 3.2711522e-08, 1.0000000e+00], dtype=float32), 'logits': array([-14.870888 ,  -3.3169208,  13.918617 ], dtype=float32), 'classes': array(['2'], dtype=object), 'class_ids': array([2])}, {'probabilities': array([9.9999893e-01, 1.1318908e-06, 5.3754183e-18], dtype=float32), 'logits': array([ 17.316647 ,   3.6250262, -22.44805  ], dtype=float32), 'classes': array(['0'], dtype=object), 'class_ids': array([0])}, {'probabilities': array([1.1827253e-10, 1.1784020e-06, 9.9999881e-01], dtype=float32), 'logits': array([-11.842667 ,  -2.6359885,  11.015362 ], dtype=float32), 'classes': array(['2'], dtype=object), 'class_ids': array([2])}, {'probabilities': array([1.4655608e-09, 5.3723275e-06, 9.9999464e-01], dtype=float32), 'logits': array([-10.56143  ,  -2.3546507,   9.779593 ], dtype=float32), 'classes': array(['2'], dtype=object), 'class_ids': array([2])}, {'probabilities': array([4.8479650e-13, 1.0000000e+00, 1.3984721e-23], dtype=float32), 'logits': array([ -6.4567113,  21.898336 , -30.725742 ], dtype=float32), 'classes': array(['1'], dtype=object), 'class_ids': array([1])}, {'probabilities': array([9.9999857e-01, 1.4438356e-06, 4.8789797e-16], dtype=float32), 'logits': array([ 16.01424  ,   2.5660338, -19.242182 ], dtype=float32), 'classes': array(['0'], dtype=object), 'class_ids': array([0])}, {'probabilities': array([4.4570315e-06, 1.3239658e-03, 9.9867165e-01], dtype=float32), 'logits': array([-6.733744 , -1.0398405,  5.5859537], dtype=float32), 'classes': array(['2'], dtype=object), 'class_ids': array([2])}, {'probabilities': array([9.9999356e-01, 6.4050651e-06, 9.7871659e-15], dtype=float32), 'logits': array([ 14.502003 ,   2.5435877, -17.755697 ], dtype=float32), 'classes': array(['0'], dtype=object), 'class_ids': array([0])}, {'probabilities': array([9.99999881e-01, 1.15310364e-07, 9.33296884e-18], dtype=float32), 'logits': array([ 18.205194,   2.229556, -21.007784], dtype=float32), 'classes': array(['0'], dtype=object), 'class_ids': array([0])}, {'probabilities': array([9.999987e-01, 1.335847e-06, 4.442900e-18], dtype=float32), 'logits': array([ 17.283762 ,   3.7578182, -22.671461 ], dtype=float32), 'classes': array(['0'], dtype=object), 'class_ids': array([0])}, {'probabilities': array([2.4590596e-10, 1.0000000e+00, 1.6508530e-17], dtype=float32), 'logits': array([ -5.5895457,  16.536526 , -22.106127 ], dtype=float32), 'classes': array(['1'], dtype=object), 'class_ids': array([1])}, {'probabilities': array([9.9999869e-01, 1.3633586e-06, 6.1452923e-18], dtype=float32), 'logits': array([ 17.185377 ,   3.6798196, -22.445467 ], dtype=float32), 'classes': array(['0'], dtype=object), 'class_ids': array([0])}, {'probabilities': array([9.9999845e-01, 1.5117822e-06, 6.3742236e-16], dtype=float32), 'logits': array([ 15.921879 ,   2.5196595, -19.067217 ], dtype=float32), 'classes': array(['0'], dtype=object), 'class_ids': array([0])}, {'probabilities': array([5.012292e-10, 1.000000e+00, 4.188767e-17], dtype=float32), 'logits': array([ -5.429308,  15.98465 , -21.72689 ], dtype=float32), 'classes': array(['1'], dtype=object), 'class_ids': array([1])}, {'probabilities': array([1.6829931e-10, 1.4641859e-06, 9.9999857e-01], dtype=float32), 'logits': array([-11.658646 ,  -2.5875785,  10.846631 ], dtype=float32), 'classes': array(['2'], dtype=object), 'class_ids': array([2])}, {'probabilities': array([5.9729240e-07, 2.9573127e-04, 9.9970359e-01], dtype=float32), 'logits': array([-7.6390142, -1.4342146,  6.6915483], dtype=float32), 'classes': array(['2'], dtype=object), 'class_ids': array([2])}, {'probabilities': array([9.9999964e-01, 4.1340442e-07, 1.7863663e-17], dtype=float32), 'logits': array([ 17.52371 ,   2.824871, -21.040052], dtype=float32), 'classes': array(['0'], dtype=object), 'class_ids': array([0])}, {'probabilities': array([1.1239074e-12, 1.0000000e+00, 5.6886861e-23], dtype=float32), 'logits': array([ -6.1844273,  21.329782 , -29.891193 ], dtype=float32), 'classes': array(['1'], dtype=object), 'class_ids': array([1])}, {'probabilities': array([1.1153616e-07, 9.9999988e-01, 8.5623121e-13], dtype=float32), 'logits': array([ -4.287545,  11.721372, -16.064863], dtype=float32), 'classes': array(['1'], dtype=object), 'class_ids': array([1])}, {'probabilities': array([9.9999869e-01, 1.3654001e-06, 8.4706372e-17], dtype=float32), 'logits': array([ 16.515493 ,   3.0114317, -20.491846 ], dtype=float32), 'classes': array(['0'], dtype=object), 'class_ids': array([0])}, {'probabilities': array([5.8805988e-10, 1.0000000e+00, 3.7118344e-17], dtype=float32), 'logits': array([ -5.128352,  16.125841, -21.70658 ], dtype=float32), 'classes': array(['1'], dtype=object), 'class_ids': array([1])}, {'probabilities': array([2.3958543e-10, 1.0000000e+00, 6.2503426e-18], dtype=float32), 'logits': array([ -5.33389 ,  16.81822 , -22.795675], dtype=float32), 'classes': array(['1'], dtype=object), 'class_ids': array([1])}, {'probabilities': array([1.2189602e-11, 1.0000000e+00, 7.1886575e-21], dtype=float32), 'logits': array([ -5.7947717,  19.335667 , -27.046118 ], dtype=float32), 'classes': array(['1'], dtype=object), 'class_ids': array([1])}, {'probabilities': array([8.4355504e-13, 1.0000000e+00, 1.7100075e-25], dtype=float32), 'logits': array([ -4.8609  ,  22.940252, -34.08788 ], dtype=float32), 'classes': array(['1'], dtype=object), 'class_ids': array([1])}, {'probabilities': array([9.99997377e-01, 2.62411754e-06, 1.05584816e-17], dtype=float32), 'logits': array([ 16.71714  ,   3.8663769, -22.372458 ], dtype=float32), 'classes': array(['0'], dtype=object), 'class_ids': array([0])}, {'probabilities': array([4.9321279e-06, 9.9999511e-01, 1.9882477e-17], dtype=float32), 'logits': array([  1.5143877,  13.734123 , -24.722563 ], dtype=float32), 'classes': array(['1'], dtype=object), 'class_ids': array([1])}, {'probabilities': array([8.8078558e-11, 1.0000000e+00, 2.7051802e-19], dtype=float32), 'logits': array([ -5.2287507,  17.924042 , -24.829906 ], dtype=float32), 'classes': array(['1'], dtype=object), 'class_ids': array([1])}, {'probabilities': array([9.9999917e-01, 8.3927750e-07, 2.8421531e-16], dtype=float32), 'logits': array([ 16.39126  ,   2.4005365, -19.405539 ], dtype=float32), 'classes': array(['0'], dtype=object), 'class_ids': array([0])}, {'probabilities': array([3.7749309e-08, 3.8223970e-05, 9.9996173e-01], dtype=float32), 'logits': array([-8.903694, -1.983443,  8.188566], dtype=float32), 'classes': array(['2'], dtype=object), 'class_ids': array([2])}, {'probabilities': array([9.9999976e-01, 2.8667387e-07, 3.6852491e-19], dtype=float32), 'logits': array([ 18.694513,   3.629593, -23.750267], dtype=float32), 'classes': array(['0'], dtype=object), 'class_ids': array([0])}, {'probabilities': array([1.1566661e-08, 1.0000000e+00, 4.0339225e-11], dtype=float32), 'logits': array([ -7.0438037,  11.231335 , -12.702363 ], dtype=float32), 'classes': array(['1'], dtype=object), 'class_ids': array([1])}, {'probabilities': array([1.6517592e-05, 9.9997520e-01, 8.1811768e-06], dtype=float32), 'logits': array([-5.355512 ,  5.6555476, -6.0581017], dtype=float32), 'classes': array(['1'], dtype=object), 'class_ids': array([1])}]\n"
     ]
    }
   ],
   "source": [
    "test_result = list(classifier.predict(input_fn=test_input_fn))\n",
    "\n",
    "print(test_result)"
   ]
  },
  {
   "cell_type": "code",
   "execution_count": 20,
   "metadata": {},
   "outputs": [],
   "source": [
    "# build an array with just the predicted species (label encoded values) \n",
    "# filtering out all other prediction response data\n",
    "predicted_y = []\n",
    "for each in test_result:\n",
    "    predicted_y.append(each['class_ids'][0])"
   ]
  },
  {
   "cell_type": "code",
   "execution_count": 21,
   "metadata": {
    "scrolled": true
   },
   "outputs": [
    {
     "name": "stdout",
     "output_type": "stream",
     "text": [
      "OVERALL ACCURACY:\n",
      "0.9555555555555556\n",
      "\n",
      "CONFUSION MATRIX:\n",
      "[[14  0  0]\n",
      " [ 0 18  1]\n",
      " [ 0  1 11]]\n"
     ]
    }
   ],
   "source": [
    "# compare the predicted scores on the test data against the actual test_y values\n",
    "# with both a confusion matrix and an accuracy score\n",
    "print('OVERALL ACCURACY:')\n",
    "print(accuracy_score(test_y, predicted_y))\n",
    "\n",
    "print('')\n",
    "\n",
    "print('CONFUSION MATRIX:')\n",
    "print(confusion_matrix(test_y, predicted_y))\n"
   ]
  },
  {
   "cell_type": "markdown",
   "metadata": {},
   "source": [
    "# 8. Predict with new data records "
   ]
  },
  {
   "cell_type": "code",
   "execution_count": 22,
   "metadata": {},
   "outputs": [],
   "source": [
    "# test using single records (real world values)\n",
    "# one Iris-setosa, one Iris-versicolor\n",
    "new_records = pd.DataFrame([\n",
    "    [5.1, 3.5, 1.4, 0.2],  # first value to predict\n",
    "    [5.7, 2.8, 4.1, 1.3]], # second value to predict\n",
    "    columns=prediction_feature_columns)\n",
    " \n",
    "# these values must be scaled, to match what is used in the model\n",
    "scaled_new_records = pd.DataFrame(sc.transform(new_records), columns=[new_records.columns], index=new_records.index)\n",
    "\n",
    "#SepalLengthCm, SepalWidthCm, PetalLengthCm, PetalWidthCm\n",
    "#-1.870024, -0.124958, -1.511870, -1.444450 : 0\n",
    "# 1.522676, -0.124958, 1.217684, 1.185010 : 1\n"
   ]
  },
  {
   "cell_type": "code",
   "execution_count": 23,
   "metadata": {},
   "outputs": [],
   "source": [
    "# predict using the model to get a prediction for each item passed\n",
    "prediction_input_fn = tf.estimator.inputs.pandas_input_fn(scaled_new_records, num_epochs=1, shuffle=False)"
   ]
  },
  {
   "cell_type": "code",
   "execution_count": 24,
   "metadata": {},
   "outputs": [
    {
     "name": "stdout",
     "output_type": "stream",
     "text": [
      "INFO:tensorflow:Restoring parameters from models/temp/iris/model.ckpt-12306\n"
     ]
    },
    {
     "data": {
      "text/plain": [
       "[{'class_ids': array([0]),\n",
       "  'classes': array(['0'], dtype=object),\n",
       "  'logits': array([ 17.42134 ,   3.224774, -21.743052], dtype=float32),\n",
       "  'probabilities': array([9.9999928e-01, 6.8313847e-07, 9.7976293e-18], dtype=float32)},\n",
       " {'class_ids': array([1]),\n",
       "  'classes': array(['1'], dtype=object),\n",
       "  'logits': array([ -5.7947717,  19.335667 , -27.04612  ], dtype=float32),\n",
       "  'probabilities': array([1.2189602e-11, 1.0000000e+00, 7.1886301e-21], dtype=float32)}]"
      ]
     },
     "execution_count": 24,
     "metadata": {},
     "output_type": "execute_result"
    }
   ],
   "source": [
    "prediction_result = list(classifier.predict(input_fn=prediction_input_fn))\n",
    "\n",
    "prediction_result"
   ]
  },
  {
   "cell_type": "markdown",
   "metadata": {},
   "source": [
    "# 9. Decode new predictions"
   ]
  },
  {
   "cell_type": "code",
   "execution_count": 25,
   "metadata": {
    "scrolled": true
   },
   "outputs": [
    {
     "name": "stdout",
     "output_type": "stream",
     "text": [
      "   SepalLengthCm  SepalWidthCm  PetalLengthCm  PetalWidthCm\n",
      "0            5.1           3.5            1.4           0.2\n",
      "*** PREDICTION: 0 (Label Decoded: Iris-setosa)\n",
      "\n",
      "   SepalLengthCm  SepalWidthCm  PetalLengthCm  PetalWidthCm\n",
      "1            5.7           2.8            4.1           1.3\n",
      "*** PREDICTION: 1 (Label Decoded: Iris-versicolor)\n",
      "\n"
     ]
    },
    {
     "name": "stderr",
     "output_type": "stream",
     "text": [
      "/Users/jameswolf/anaconda/lib/python2.7/site-packages/sklearn/preprocessing/label.py:151: DeprecationWarning: The truth value of an empty array is ambiguous. Returning False, but in future this will result in an error. Use `array.size > 0` to check that an array is not empty.\n",
      "  if diff:\n",
      "/Users/jameswolf/anaconda/lib/python2.7/site-packages/sklearn/preprocessing/label.py:151: DeprecationWarning: The truth value of an empty array is ambiguous. Returning False, but in future this will result in an error. Use `array.size > 0` to check that an array is not empty.\n",
      "  if diff:\n"
     ]
    }
   ],
   "source": [
    "# for each of the results\n",
    "i = 0\n",
    "for each in prediction_result:\n",
    "    # print the values used in the prediction\n",
    "    print(new_records.iloc[[i]])\n",
    "    \n",
    "    # print the transformed label-encoded value\n",
    "    print('*** PREDICTION: ' + str(each['class_ids'][0]) + ' (Label Decoded: ' + str(le.inverse_transform(each['class_ids'][0]))+ ')')\n",
    "    print('')\n",
    "    \n",
    "    # go to next row\n",
    "    i = i + 1\n",
    "    \n",
    "#-1.870024, -0.124958, -1.511870, -1.444450 : 0\n",
    "# 1.522676, -0.124958, 1.217684, 1.185010 : 1"
   ]
  },
  {
   "cell_type": "markdown",
   "metadata": {},
   "source": [
    "# 10. Save Model for Tensorflow Serving"
   ]
  },
  {
   "cell_type": "code",
   "execution_count": 26,
   "metadata": {},
   "outputs": [
    {
     "name": "stdout",
     "output_type": "stream",
     "text": [
      "INFO:tensorflow:Restoring parameters from models/temp/iris/model.ckpt-12306\n",
      "INFO:tensorflow:Assets added to graph.\n",
      "INFO:tensorflow:No assets to write.\n",
      "INFO:tensorflow:SavedModel written to: serving/models/iris/temp-1523814296/saved_model.pb\n"
     ]
    },
    {
     "data": {
      "text/plain": [
       "'serving/models/iris/1523814296'"
      ]
     },
     "execution_count": 26,
     "metadata": {},
     "output_type": "execute_result"
    }
   ],
   "source": [
    "export_dir=\"serving/models/iris/\"\n",
    "\n",
    "feature_spec = tf.feature_column.make_parse_example_spec(my_feature_columns)\n",
    "\n",
    "input_receiver_fn = tf.estimator.export.build_parsing_serving_input_receiver_fn(feature_spec)\n",
    "\n",
    "classifier.export_savedmodel(export_dir, input_receiver_fn, as_text=False) "
   ]
  },
  {
   "cell_type": "markdown",
   "metadata": {},
   "source": [
    "# 11. Make predictions from the saved DNNClassifier model"
   ]
  },
  {
   "cell_type": "markdown",
   "metadata": {},
   "source": [
    "https://www.kaggle.com/jeffcarp/example-save-and-load-a-tensorflow-model"
   ]
  },
  {
   "cell_type": "code",
   "execution_count": 27,
   "metadata": {},
   "outputs": [
    {
     "name": "stdout",
     "output_type": "stream",
     "text": [
      "INFO:tensorflow:Using default config.\n",
      "INFO:tensorflow:Using config: {'_save_checkpoints_secs': 600, '_session_config': None, '_keep_checkpoint_max': 5, '_task_type': 'worker', '_is_chief': True, '_cluster_spec': <tensorflow.python.training.server_lib.ClusterSpec object at 0x1239a6750>, '_save_checkpoints_steps': None, '_keep_checkpoint_every_n_hours': 10000, '_service': None, '_num_ps_replicas': 0, '_tf_random_seed': None, '_master': '', '_num_worker_replicas': 1, '_task_id': 0, '_log_step_count_steps': 100, '_model_dir': 'models/temp/iris', '_save_summary_steps': 100}\n",
      "INFO:tensorflow:Restoring parameters from models/temp/iris/model.ckpt-12306\n"
     ]
    },
    {
     "data": {
      "text/plain": [
       "[{'class_ids': array([0]),\n",
       "  'classes': array(['0'], dtype=object),\n",
       "  'logits': array([ 17.42134 ,   3.224774, -21.743052], dtype=float32),\n",
       "  'probabilities': array([9.9999928e-01, 6.8313847e-07, 9.7976293e-18], dtype=float32)},\n",
       " {'class_ids': array([1]),\n",
       "  'classes': array(['1'], dtype=object),\n",
       "  'logits': array([ -5.7947717,  19.335667 , -27.04612  ], dtype=float32),\n",
       "  'probabilities': array([1.2189602e-11, 1.0000000e+00, 7.1886301e-21], dtype=float32)}]"
      ]
     },
     "execution_count": 27,
     "metadata": {},
     "output_type": "execute_result"
    }
   ],
   "source": [
    "# this should load the model from the last saved in the model_dir\n",
    "# so everything it needs should be included below\n",
    "\n",
    "# input column names\n",
    "columns_names = ['SepalLengthCm','SepalWidthCm','PetalLengthCm','PetalWidthCm']\n",
    "\n",
    "# where the model was last saved \n",
    "model_path = 'models/temp/iris' \n",
    "\n",
    "# define columns in model using the column_names list\n",
    "# Feature columns describe how to use the input.\n",
    "# you need to define the name and type for each column of your training data\n",
    "hardcoded_feature_columns = []\n",
    "\n",
    "# numeric coulmns\n",
    "hardcoded_feature_columns.append(tf.feature_column.numeric_column(key='SepalLengthCm'));\n",
    "hardcoded_feature_columns.append(tf.feature_column.numeric_column(key='SepalWidthCm'));\n",
    "hardcoded_feature_columns.append(tf.feature_column.numeric_column(key='PetalLengthCm'));\n",
    "hardcoded_feature_columns.append(tf.feature_column.numeric_column(key='PetalWidthCm'));   \n",
    "\n",
    "#hardcoded_feature_columns = []\n",
    "#for key in columns_names:\n",
    "#    hardcoded_feature_columns.append(tf.feature_column.numeric_column(key=key))\n",
    "#    print(key)\n",
    "\n",
    "# create a classifier using the defined columns and the pre-defined model\n",
    "saved_estimator = tf.estimator.DNNClassifier(\n",
    "    # feature column array of tf.feature_column types, defined in the prev step\n",
    "    feature_columns=hardcoded_feature_columns,\n",
    "    # Two hidden layers of 10 nodes each.\n",
    "    hidden_units=[10, 10, 10],\n",
    "    # The model must choose between 3 classes.\n",
    "    n_classes=3,\n",
    "    # use saved model from folder\n",
    "    model_dir=model_path\n",
    ")\n",
    "\n",
    "# test using single records (2 real world values)\n",
    "# one Iris-setosa, one Iris-versicolor\n",
    "records_to_predict = pd.DataFrame([\n",
    "    [5.1, 3.5, 1.4, 0.2], # first records features\n",
    "    [5.7, 2.8, 4.1, 1.3]],# second record features\n",
    "    columns=columns_names)# defined column names\n",
    " \n",
    "# these values must be scaled, to match what is used in the model\n",
    "scaled_records_to_predict = pd.DataFrame(sc.transform(records_to_predict), columns=[records_to_predict.columns], index=records_to_predict.index)\n",
    "\n",
    "# predict using the model to get a prediction for each item passed\n",
    "saved_prediction_input_fn = tf.estimator.inputs.pandas_input_fn(scaled_records_to_predict, num_epochs=1, shuffle=False)\n",
    "\n",
    "# make predictions and store as a list\n",
    "saved_prediction_result = list(saved_estimator.predict(input_fn=saved_prediction_input_fn))\n",
    "\n",
    "# output prediction values\n",
    "saved_prediction_result\n",
    "\n",
    "#SepalLengthCm, SepalWidthCm, PetalLengthCm, PetalWidthCm\n",
    "#-1.870024, -0.124958, -1.511870, -1.444450 : 0\n",
    "# 1.522676, -0.124958, 1.217684, 1.185010 : 1\n",
    "#estimator_from_file = load_estimator_model('models/iris/1520662093')"
   ]
  },
  {
   "cell_type": "markdown",
   "metadata": {},
   "source": [
    "# END"
   ]
  },
  {
   "cell_type": "markdown",
   "metadata": {},
   "source": [
    "Just testing features and note below this line, not part of main execution"
   ]
  },
  {
   "cell_type": "code",
   "execution_count": null,
   "metadata": {},
   "outputs": [],
   "source": [
    "df.head()"
   ]
  },
  {
   "cell_type": "code",
   "execution_count": null,
   "metadata": {},
   "outputs": [],
   "source": []
  }
 ],
 "metadata": {
  "anaconda-cloud": {},
  "kernelspec": {
   "display_name": "Python [default]",
   "language": "python",
   "name": "python2"
  },
  "language_info": {
   "codemirror_mode": {
    "name": "ipython",
    "version": 2
   },
   "file_extension": ".py",
   "mimetype": "text/x-python",
   "name": "python",
   "nbconvert_exporter": "python",
   "pygments_lexer": "ipython2",
   "version": "2.7.12"
  }
 },
 "nbformat": 4,
 "nbformat_minor": 2
}
