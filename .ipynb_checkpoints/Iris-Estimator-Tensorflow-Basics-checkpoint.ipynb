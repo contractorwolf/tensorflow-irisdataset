{
 "cells": [
  {
   "cell_type": "markdown",
   "metadata": {},
   "source": [
    "# 1. Setup libraries for Machine Learning "
   ]
  },
  {
   "cell_type": "markdown",
   "metadata": {},
   "source": [
    "The first step is to import all the libaries that will be needed to parse and explore the data"
   ]
  },
  {
   "cell_type": "code",
   "execution_count": 1,
   "metadata": {},
   "outputs": [
    {
     "name": "stdout",
     "output_type": "stream",
     "text": [
      "TENSORFLOW VERSION: 1.4.1\n"
     ]
    }
   ],
   "source": [
    "# IMPORT LIBRARIES (must be installed via pip)\n",
    "# ----------------------------------------------------------------------------\n",
    "\n",
    "# This Python 3 environment comes with many helpful analytics libraries installed\n",
    "# It is defined by the kaggle/python docker image: https://github.com/kaggle/docker-python\n",
    "import numpy as np              # linear algebra\n",
    "import pandas as pd             # data processing, CSV file I/O (e.g. pd.read_csv)\n",
    "import matplotlib.pyplot as plt # plotting\n",
    "import seaborn as sns           # plotting\n",
    "import tensorflow as tf         # machine learning\n",
    "\n",
    "\n",
    "# ML libraries \n",
    "from sklearn.preprocessing import LabelEncoder\n",
    "from sklearn.preprocessing import StandardScaler\n",
    "from sklearn.model_selection import train_test_split\n",
    "from sklearn.metrics import confusion_matrix, accuracy_score\n",
    "\n",
    "# tell jupyter notebook to diplay plotted data inline\n",
    "%matplotlib inline \n",
    "\n",
    "# SET LOCAL VARIABLES\n",
    "# -----------------------------------------------------------------------------\n",
    "\n",
    "# define local file for training data with features and labels\n",
    "csv_file = 'datasets/iris.csv'\n",
    "\n",
    "# define feature columns for input feature data \n",
    "prediction_feature_columns = ['SepalLengthCm','SepalWidthCm','PetalLengthCm','PetalWidthCm']\n",
    "\n",
    "# path to save the model for future training or tensorflow serving\n",
    "model_path = 'models/temp/iris'\n",
    "\n",
    "# verify version of tensorflow, should be 1.4+ to use new Estimators features\n",
    "print('TENSORFLOW VERSION: ' + tf.__version__)\n"
   ]
  },
  {
   "cell_type": "markdown",
   "metadata": {},
   "source": [
    "# 2. Import Dataset from local CSV file"
   ]
  },
  {
   "cell_type": "markdown",
   "metadata": {},
   "source": [
    "You will first need to load your raw data from a local CSV file, and you should attempt to output the columns after each step for verification.  "
   ]
  },
  {
   "cell_type": "code",
   "execution_count": 2,
   "metadata": {},
   "outputs": [
    {
     "data": {
      "text/html": [
       "<div>\n",
       "<table border=\"1\" class=\"dataframe\">\n",
       "  <thead>\n",
       "    <tr style=\"text-align: right;\">\n",
       "      <th></th>\n",
       "      <th>Id</th>\n",
       "      <th>SepalLengthCm</th>\n",
       "      <th>SepalWidthCm</th>\n",
       "      <th>PetalLengthCm</th>\n",
       "      <th>PetalWidthCm</th>\n",
       "      <th>Species</th>\n",
       "    </tr>\n",
       "  </thead>\n",
       "  <tbody>\n",
       "    <tr>\n",
       "      <th>0</th>\n",
       "      <td>1</td>\n",
       "      <td>5.1</td>\n",
       "      <td>3.5</td>\n",
       "      <td>1.4</td>\n",
       "      <td>0.2</td>\n",
       "      <td>Iris-setosa</td>\n",
       "    </tr>\n",
       "    <tr>\n",
       "      <th>1</th>\n",
       "      <td>2</td>\n",
       "      <td>4.9</td>\n",
       "      <td>3.0</td>\n",
       "      <td>1.4</td>\n",
       "      <td>0.2</td>\n",
       "      <td>Iris-setosa</td>\n",
       "    </tr>\n",
       "    <tr>\n",
       "      <th>2</th>\n",
       "      <td>3</td>\n",
       "      <td>4.7</td>\n",
       "      <td>3.2</td>\n",
       "      <td>1.3</td>\n",
       "      <td>0.2</td>\n",
       "      <td>Iris-setosa</td>\n",
       "    </tr>\n",
       "    <tr>\n",
       "      <th>3</th>\n",
       "      <td>4</td>\n",
       "      <td>4.6</td>\n",
       "      <td>3.1</td>\n",
       "      <td>1.5</td>\n",
       "      <td>0.2</td>\n",
       "      <td>Iris-setosa</td>\n",
       "    </tr>\n",
       "    <tr>\n",
       "      <th>4</th>\n",
       "      <td>5</td>\n",
       "      <td>5.0</td>\n",
       "      <td>3.6</td>\n",
       "      <td>1.4</td>\n",
       "      <td>0.2</td>\n",
       "      <td>Iris-setosa</td>\n",
       "    </tr>\n",
       "  </tbody>\n",
       "</table>\n",
       "</div>"
      ],
      "text/plain": [
       "   Id  SepalLengthCm  SepalWidthCm  PetalLengthCm  PetalWidthCm      Species\n",
       "0   1            5.1           3.5            1.4           0.2  Iris-setosa\n",
       "1   2            4.9           3.0            1.4           0.2  Iris-setosa\n",
       "2   3            4.7           3.2            1.3           0.2  Iris-setosa\n",
       "3   4            4.6           3.1            1.5           0.2  Iris-setosa\n",
       "4   5            5.0           3.6            1.4           0.2  Iris-setosa"
      ]
     },
     "execution_count": 2,
     "metadata": {},
     "output_type": "execute_result"
    }
   ],
   "source": [
    "# get full dataset from local CSV file\n",
    "df = pd.read_csv(csv_file)\n",
    "df.head()\n"
   ]
  },
  {
   "cell_type": "code",
   "execution_count": 3,
   "metadata": {},
   "outputs": [
    {
     "data": {
      "text/plain": [
       "<matplotlib.axes._subplots.AxesSubplot at 0x1211413d0>"
      ]
     },
     "execution_count": 3,
     "metadata": {},
     "output_type": "execute_result"
    },
    {
     "data": {
      "image/png": "[encoded data removed]",
      "text/plain": [
       "<matplotlib.figure.Figure at 0x106ae0d90>"
      ]
     },
     "metadata": {},
     "output_type": "display_data"
    }
   ],
   "source": [
    "df['SepalLengthCm'].hist()"
   ]
  },
  {
   "cell_type": "code",
   "execution_count": 4,
   "metadata": {},
   "outputs": [
    {
     "data": {
      "text/plain": [
       "<matplotlib.axes._subplots.AxesSubplot at 0x121347d50>"
      ]
     },
     "execution_count": 4,
     "metadata": {},
     "output_type": "execute_result"
    },
    {
     "data": {
      "image/png": "[encoded data removed]",
      "text/plain": [
       "<matplotlib.figure.Figure at 0x121334b10>"
      ]
     },
     "metadata": {},
     "output_type": "display_data"
    }
   ],
   "source": [
    "df.plot(kind=\"scatter\", x=\"SepalLengthCm\",y=\"SepalWidthCm\", c=['blue','green','red'], s=100, alpha=.8)"
   ]
  },
  {
   "cell_type": "code",
   "execution_count": 5,
   "metadata": {},
   "outputs": [
    {
     "data": {
      "text/plain": [
       "<matplotlib.axes._subplots.AxesSubplot at 0x12140ac10>"
      ]
     },
     "execution_count": 5,
     "metadata": {},
     "output_type": "execute_result"
    },
    {
     "data": {
      "image/png": "[encoded data removed]",
      "text/plain": [
       "<matplotlib.figure.Figure at 0x121428b90>"
      ]
     },
     "metadata": {},
     "output_type": "display_data"
    }
   ],
   "source": [
    "df.plot(kind=\"scatter\", x=\"PetalLengthCm\",y=\"PetalWidthCm\", c=['blue','green','red'], s=100, alpha=.8)"
   ]
  },
  {
   "cell_type": "markdown",
   "metadata": {},
   "source": [
    "# 3. Clean up the Dataset"
   ]
  },
  {
   "cell_type": "markdown",
   "metadata": {},
   "source": [
    "1. eliminate noise in data (remove columns not tied to the label)\n",
    "2. make values numeric (remove strings with numeric or hash values)\n",
    "3. randomize order (removes order bias)\n",
    "4. scale data (scaled according to the data, for training and prediction)"
   ]
  },
  {
   "cell_type": "code",
   "execution_count": 6,
   "metadata": {},
   "outputs": [],
   "source": [
    "# drop unnecessary 'Id' column from the dataset, doesnt help predict the label\n",
    "df.drop('Id', inplace=True, axis=1)"
   ]
  },
  {
   "cell_type": "code",
   "execution_count": 7,
   "metadata": {},
   "outputs": [
    {
     "data": {
      "text/html": [
       "<div>\n",
       "<table border=\"1\" class=\"dataframe\">\n",
       "  <thead>\n",
       "    <tr style=\"text-align: right;\">\n",
       "      <th></th>\n",
       "      <th>SepalLengthCm</th>\n",
       "      <th>SepalWidthCm</th>\n",
       "      <th>PetalLengthCm</th>\n",
       "      <th>PetalWidthCm</th>\n",
       "      <th>Species</th>\n",
       "    </tr>\n",
       "  </thead>\n",
       "  <tbody>\n",
       "    <tr>\n",
       "      <th>0</th>\n",
       "      <td>6.8</td>\n",
       "      <td>3.0</td>\n",
       "      <td>5.5</td>\n",
       "      <td>2.1</td>\n",
       "      <td>Iris-virginica</td>\n",
       "    </tr>\n",
       "    <tr>\n",
       "      <th>1</th>\n",
       "      <td>6.3</td>\n",
       "      <td>3.3</td>\n",
       "      <td>6.0</td>\n",
       "      <td>2.5</td>\n",
       "      <td>Iris-virginica</td>\n",
       "    </tr>\n",
       "    <tr>\n",
       "      <th>2</th>\n",
       "      <td>6.6</td>\n",
       "      <td>2.9</td>\n",
       "      <td>4.6</td>\n",
       "      <td>1.3</td>\n",
       "      <td>Iris-versicolor</td>\n",
       "    </tr>\n",
       "    <tr>\n",
       "      <th>3</th>\n",
       "      <td>7.2</td>\n",
       "      <td>3.0</td>\n",
       "      <td>5.8</td>\n",
       "      <td>1.6</td>\n",
       "      <td>Iris-virginica</td>\n",
       "    </tr>\n",
       "    <tr>\n",
       "      <th>4</th>\n",
       "      <td>6.2</td>\n",
       "      <td>2.2</td>\n",
       "      <td>4.5</td>\n",
       "      <td>1.5</td>\n",
       "      <td>Iris-versicolor</td>\n",
       "    </tr>\n",
       "  </tbody>\n",
       "</table>\n",
       "</div>"
      ],
      "text/plain": [
       "   SepalLengthCm  SepalWidthCm  PetalLengthCm  PetalWidthCm          Species\n",
       "0            6.8           3.0            5.5           2.1   Iris-virginica\n",
       "1            6.3           3.3            6.0           2.5   Iris-virginica\n",
       "2            6.6           2.9            4.6           1.3  Iris-versicolor\n",
       "3            7.2           3.0            5.8           1.6   Iris-virginica\n",
       "4            6.2           2.2            4.5           1.5  Iris-versicolor"
      ]
     },
     "execution_count": 7,
     "metadata": {},
     "output_type": "execute_result"
    }
   ],
   "source": [
    "# ALWAYS randomize sample\n",
    "df = df.sample(frac=1).reset_index(drop=True)\n",
    "df.head()"
   ]
  },
  {
   "cell_type": "code",
   "execution_count": 8,
   "metadata": {},
   "outputs": [
    {
     "data": {
      "text/html": [
       "<div>\n",
       "<table border=\"1\" class=\"dataframe\">\n",
       "  <thead>\n",
       "    <tr style=\"text-align: right;\">\n",
       "      <th></th>\n",
       "      <th>SepalLengthCm</th>\n",
       "      <th>SepalWidthCm</th>\n",
       "      <th>PetalLengthCm</th>\n",
       "      <th>PetalWidthCm</th>\n",
       "      <th>Species</th>\n",
       "    </tr>\n",
       "  </thead>\n",
       "  <tbody>\n",
       "    <tr>\n",
       "      <th>0</th>\n",
       "      <td>6.8</td>\n",
       "      <td>3.0</td>\n",
       "      <td>5.5</td>\n",
       "      <td>2.1</td>\n",
       "      <td>2</td>\n",
       "    </tr>\n",
       "    <tr>\n",
       "      <th>1</th>\n",
       "      <td>6.3</td>\n",
       "      <td>3.3</td>\n",
       "      <td>6.0</td>\n",
       "      <td>2.5</td>\n",
       "      <td>2</td>\n",
       "    </tr>\n",
       "    <tr>\n",
       "      <th>2</th>\n",
       "      <td>6.6</td>\n",
       "      <td>2.9</td>\n",
       "      <td>4.6</td>\n",
       "      <td>1.3</td>\n",
       "      <td>1</td>\n",
       "    </tr>\n",
       "    <tr>\n",
       "      <th>3</th>\n",
       "      <td>7.2</td>\n",
       "      <td>3.0</td>\n",
       "      <td>5.8</td>\n",
       "      <td>1.6</td>\n",
       "      <td>2</td>\n",
       "    </tr>\n",
       "    <tr>\n",
       "      <th>4</th>\n",
       "      <td>6.2</td>\n",
       "      <td>2.2</td>\n",
       "      <td>4.5</td>\n",
       "      <td>1.5</td>\n",
       "      <td>1</td>\n",
       "    </tr>\n",
       "  </tbody>\n",
       "</table>\n",
       "</div>"
      ],
      "text/plain": [
       "   SepalLengthCm  SepalWidthCm  PetalLengthCm  PetalWidthCm  Species\n",
       "0            6.8           3.0            5.5           2.1        2\n",
       "1            6.3           3.3            6.0           2.5        2\n",
       "2            6.6           2.9            4.6           1.3        1\n",
       "3            7.2           3.0            5.8           1.6        2\n",
       "4            6.2           2.2            4.5           1.5        1"
      ]
     },
     "execution_count": 8,
     "metadata": {},
     "output_type": "execute_result"
    }
   ],
   "source": [
    "# label encode the string label: Species\n",
    "# it should be a numeric value, instead of a string value\n",
    "# to do: use one-hot encoder instead of label encoder\n",
    "le = LabelEncoder()\n",
    "df.Species = le.fit_transform(df.Species)\n",
    "\n",
    "# show the cleaned dataset\n",
    "df.head()"
   ]
  },
  {
   "cell_type": "code",
   "execution_count": 9,
   "metadata": {},
   "outputs": [
    {
     "data": {
      "text/plain": [
       "0    2\n",
       "1    2\n",
       "2    1\n",
       "3    2\n",
       "4    1\n",
       "Name: Species, dtype: int64"
      ]
     },
     "execution_count": 9,
     "metadata": {},
     "output_type": "execute_result"
    }
   ],
   "source": [
    "# set just the label column to y for the train_test_split()\n",
    "data_label = df.Species\n",
    "data_label.head()"
   ]
  },
  {
   "cell_type": "code",
   "execution_count": 10,
   "metadata": {},
   "outputs": [
    {
     "data": {
      "text/html": [
       "<div>\n",
       "<table border=\"1\" class=\"dataframe\">\n",
       "  <thead>\n",
       "    <tr style=\"text-align: right;\">\n",
       "      <th></th>\n",
       "      <th>SepalLengthCm</th>\n",
       "      <th>SepalWidthCm</th>\n",
       "      <th>PetalLengthCm</th>\n",
       "      <th>PetalWidthCm</th>\n",
       "    </tr>\n",
       "  </thead>\n",
       "  <tbody>\n",
       "    <tr>\n",
       "      <th>0</th>\n",
       "      <td>6.8</td>\n",
       "      <td>3.0</td>\n",
       "      <td>5.5</td>\n",
       "      <td>2.1</td>\n",
       "    </tr>\n",
       "    <tr>\n",
       "      <th>1</th>\n",
       "      <td>6.3</td>\n",
       "      <td>3.3</td>\n",
       "      <td>6.0</td>\n",
       "      <td>2.5</td>\n",
       "    </tr>\n",
       "    <tr>\n",
       "      <th>2</th>\n",
       "      <td>6.6</td>\n",
       "      <td>2.9</td>\n",
       "      <td>4.6</td>\n",
       "      <td>1.3</td>\n",
       "    </tr>\n",
       "    <tr>\n",
       "      <th>3</th>\n",
       "      <td>7.2</td>\n",
       "      <td>3.0</td>\n",
       "      <td>5.8</td>\n",
       "      <td>1.6</td>\n",
       "    </tr>\n",
       "    <tr>\n",
       "      <th>4</th>\n",
       "      <td>6.2</td>\n",
       "      <td>2.2</td>\n",
       "      <td>4.5</td>\n",
       "      <td>1.5</td>\n",
       "    </tr>\n",
       "  </tbody>\n",
       "</table>\n",
       "</div>"
      ],
      "text/plain": [
       "   SepalLengthCm  SepalWidthCm  PetalLengthCm  PetalWidthCm\n",
       "0            6.8           3.0            5.5           2.1\n",
       "1            6.3           3.3            6.0           2.5\n",
       "2            6.6           2.9            4.6           1.3\n",
       "3            7.2           3.0            5.8           1.6\n",
       "4            6.2           2.2            4.5           1.5"
      ]
     },
     "execution_count": 10,
     "metadata": {},
     "output_type": "execute_result"
    }
   ],
   "source": [
    "# remove the species column so that you can scale the rest of the values\n",
    "# the values are already stored in y variable\n",
    "# *** convert this to X values here, for clarity?\n",
    "data_features = df.drop('Species', inplace=False, axis=1)\n",
    "data_features.head()\n"
   ]
  },
  {
   "cell_type": "code",
   "execution_count": 11,
   "metadata": {},
   "outputs": [
    {
     "data": {
      "text/html": [
       "<div>\n",
       "<table border=\"1\" class=\"dataframe\">\n",
       "  <thead>\n",
       "    <tr style=\"text-align: right;\">\n",
       "      <th></th>\n",
       "      <th>SepalLengthCm</th>\n",
       "      <th>SepalWidthCm</th>\n",
       "      <th>PetalLengthCm</th>\n",
       "      <th>PetalWidthCm</th>\n",
       "    </tr>\n",
       "  </thead>\n",
       "  <tbody>\n",
       "    <tr>\n",
       "      <th>0</th>\n",
       "      <td>1.159173</td>\n",
       "      <td>-0.124958</td>\n",
       "      <td>0.990221</td>\n",
       "      <td>1.185010</td>\n",
       "    </tr>\n",
       "    <tr>\n",
       "      <th>1</th>\n",
       "      <td>0.553333</td>\n",
       "      <td>0.569251</td>\n",
       "      <td>1.274550</td>\n",
       "      <td>1.710902</td>\n",
       "    </tr>\n",
       "    <tr>\n",
       "      <th>2</th>\n",
       "      <td>0.916837</td>\n",
       "      <td>-0.356361</td>\n",
       "      <td>0.478430</td>\n",
       "      <td>0.133226</td>\n",
       "    </tr>\n",
       "    <tr>\n",
       "      <th>3</th>\n",
       "      <td>1.643844</td>\n",
       "      <td>-0.124958</td>\n",
       "      <td>1.160819</td>\n",
       "      <td>0.527645</td>\n",
       "    </tr>\n",
       "    <tr>\n",
       "      <th>4</th>\n",
       "      <td>0.432165</td>\n",
       "      <td>-1.976181</td>\n",
       "      <td>0.421564</td>\n",
       "      <td>0.396172</td>\n",
       "    </tr>\n",
       "  </tbody>\n",
       "</table>\n",
       "</div>"
      ],
      "text/plain": [
       "   SepalLengthCm  SepalWidthCm  PetalLengthCm  PetalWidthCm\n",
       "0       1.159173     -0.124958       0.990221      1.185010\n",
       "1       0.553333      0.569251       1.274550      1.710902\n",
       "2       0.916837     -0.356361       0.478430      0.133226\n",
       "3       1.643844     -0.124958       1.160819      0.527645\n",
       "4       0.432165     -1.976181       0.421564      0.396172"
      ]
     },
     "execution_count": 11,
     "metadata": {},
     "output_type": "execute_result"
    }
   ],
   "source": [
    "# scale data for better results\n",
    "# so that columns with larger values dont get weighed more\n",
    "# example: age change of 40 years (significant) vs income change of $40 (not significant)\n",
    "\n",
    "sc = StandardScaler(copy=True, with_mean=True, with_std=True)\n",
    "scaled_features = pd.DataFrame(sc.fit_transform(data_features), columns=[data_features.columns], index=data_features.index)\n",
    "\n",
    "# show scaled X values \n",
    "scaled_features.head() \n",
    "# THIS IS A DATAFRAME"
   ]
  },
  {
   "cell_type": "code",
   "execution_count": 12,
   "metadata": {},
   "outputs": [
    {
     "data": {
      "text/plain": [
       "0    2\n",
       "1    2\n",
       "2    1\n",
       "3    2\n",
       "4    1\n",
       "Name: Species, dtype: int64"
      ]
     },
     "execution_count": 12,
     "metadata": {},
     "output_type": "execute_result"
    }
   ],
   "source": [
    "# show labels (y values in equasion)\n",
    "data_label.head()\n",
    "# THIS IS A SERIES\n"
   ]
  },
  {
   "cell_type": "code",
   "execution_count": 13,
   "metadata": {},
   "outputs": [],
   "source": [
    "# do a 70/30 split of the data into a train_x and train_y (70% for training) \n",
    "# and a test_x and test_y (30% for validation) \n",
    "# X is a DATAFRAME of scaled features\n",
    "# y is a SERIES of labels\n",
    "train_x, test_x, train_y, test_y = train_test_split(scaled_features, data_label, test_size=0.30, random_state=42)\n",
    " "
   ]
  },
  {
   "cell_type": "code",
   "execution_count": 14,
   "metadata": {},
   "outputs": [
    {
     "name": "stdout",
     "output_type": "stream",
     "text": [
      "<class 'pandas.core.frame.DataFrame'>\n",
      "Int64Index: 45 entries, 73 to 10\n",
      "Data columns (total 4 columns):\n",
      "SepalLengthCm    45 non-null float64\n",
      "SepalWidthCm     45 non-null float64\n",
      "PetalLengthCm    45 non-null float64\n",
      "PetalWidthCm     45 non-null float64\n",
      "dtypes: float64(4)\n",
      "memory usage: 1.8 KB\n"
     ]
    }
   ],
   "source": [
    "test_x.info()"
   ]
  },
  {
   "cell_type": "markdown",
   "metadata": {},
   "source": [
    "# 4. Create Feature Columns List for Classifier"
   ]
  },
  {
   "cell_type": "code",
   "execution_count": 15,
   "metadata": {},
   "outputs": [],
   "source": [
    "# Feature columns describe how to use the input.\n",
    "# you need to define the name and type for each column of your training data\n",
    "my_feature_columns = []\n",
    "\n",
    "# numeric coulmns\n",
    "my_feature_columns.append(tf.feature_column.numeric_column(key='SepalLengthCm'));\n",
    "my_feature_columns.append(tf.feature_column.numeric_column(key='SepalWidthCm'));\n",
    "my_feature_columns.append(tf.feature_column.numeric_column(key='PetalLengthCm'));\n",
    "my_feature_columns.append(tf.feature_column.numeric_column(key='PetalWidthCm'));   \n",
    "\n",
    "# other column types\n",
    "# hashed strings or categorical features\n",
    "# example:\n",
    "# state = tf.feature_column.categorical_column_with_hash_bucket('state',100) \n",
    "# pick the right size for your data\n"
   ]
  },
  {
   "cell_type": "markdown",
   "metadata": {},
   "source": [
    "# 5. Create Classifier from Feature Column list"
   ]
  },
  {
   "cell_type": "code",
   "execution_count": 16,
   "metadata": {},
   "outputs": [
    {
     "name": "stdout",
     "output_type": "stream",
     "text": [
      "INFO:tensorflow:Using default config.\n",
      "INFO:tensorflow:Using config: {'_save_checkpoints_secs': 600, '_session_config': None, '_keep_checkpoint_max': 5, '_task_type': 'worker', '_is_chief': True, '_cluster_spec': <tensorflow.python.training.server_lib.ClusterSpec object at 0x1212212d0>, '_save_checkpoints_steps': None, '_keep_checkpoint_every_n_hours': 10000, '_service': None, '_num_ps_replicas': 0, '_tf_random_seed': None, '_master': '', '_num_worker_replicas': 1, '_task_id': 0, '_log_step_count_steps': 100, '_model_dir': 'models/temp/iris', '_save_summary_steps': 100}\n"
     ]
    }
   ],
   "source": [
    "# Build 3 hidden layer DNN with 10, 10, 10 units respectively\n",
    "# uses feature column types defined in the previous step\n",
    "classifier = tf.estimator.DNNClassifier(\n",
    "    # feature columns defined in the prev step\n",
    "    feature_columns=my_feature_columns,\n",
    "    # three hidden layers of 10 nodes each.\n",
    "    hidden_units=[10, 10, 10],\n",
    "    # model must choose between the 3 classes in dataset\n",
    "    n_classes=data_label.nunique(),\n",
    "    # save the model to a folder when run, reuse the same way\n",
    "    model_dir=model_path\n",
    ")\n"
   ]
  },
  {
   "cell_type": "code",
   "execution_count": 17,
   "metadata": {},
   "outputs": [],
   "source": [
    "# setup the train input function using the train_x and train_y datasource\n",
    "train_input_fn = tf.estimator.inputs.pandas_input_fn(train_x, y=train_y, num_epochs=5000, shuffle=True)\n"
   ]
  },
  {
   "cell_type": "markdown",
   "metadata": {},
   "source": [
    "# 6. Train Classifier"
   ]
  },
  {
   "cell_type": "code",
   "execution_count": 18,
   "metadata": {},
   "outputs": [
    {
     "name": "stdout",
     "output_type": "stream",
     "text": [
      "INFO:tensorflow:Create CheckpointSaverHook.\n",
      "INFO:tensorflow:Restoring parameters from models/temp/iris/model.ckpt-7032\n",
      "INFO:tensorflow:Saving checkpoints for 7033 into models/temp/iris/model.ckpt.\n",
      "INFO:tensorflow:loss = 0.03125506, step = 7033\n",
      "INFO:tensorflow:global_step/sec: 379.071\n",
      "INFO:tensorflow:loss = 0.027887993, step = 7133 (0.267 sec)\n",
      "INFO:tensorflow:global_step/sec: 413.85\n",
      "INFO:tensorflow:loss = 0.006192602, step = 7233 (0.242 sec)\n",
      "INFO:tensorflow:global_step/sec: 452.104\n",
      "INFO:tensorflow:loss = 0.011164855, step = 7333 (0.224 sec)\n",
      "INFO:tensorflow:global_step/sec: 427.968\n",
      "INFO:tensorflow:loss = 0.00696274, step = 7433 (0.231 sec)\n",
      "INFO:tensorflow:global_step/sec: 444.144\n",
      "INFO:tensorflow:loss = 0.009541657, step = 7533 (0.226 sec)\n",
      "INFO:tensorflow:global_step/sec: 433.89\n",
      "INFO:tensorflow:loss = 0.006453999, step = 7633 (0.232 sec)\n",
      "INFO:tensorflow:global_step/sec: 398.211\n",
      "INFO:tensorflow:loss = 0.0036330333, step = 7733 (0.250 sec)\n",
      "INFO:tensorflow:global_step/sec: 421.939\n",
      "INFO:tensorflow:loss = 0.0056619025, step = 7833 (0.237 sec)\n",
      "INFO:tensorflow:global_step/sec: 446.507\n",
      "INFO:tensorflow:loss = 0.0059712334, step = 7933 (0.223 sec)\n",
      "INFO:tensorflow:global_step/sec: 411.861\n",
      "INFO:tensorflow:loss = 0.003886971, step = 8033 (0.244 sec)\n",
      "INFO:tensorflow:global_step/sec: 391.004\n",
      "INFO:tensorflow:loss = 0.005572751, step = 8133 (0.254 sec)\n",
      "INFO:tensorflow:global_step/sec: 442.376\n",
      "INFO:tensorflow:loss = 0.0050989087, step = 8233 (0.226 sec)\n",
      "INFO:tensorflow:global_step/sec: 444.565\n",
      "INFO:tensorflow:loss = 0.0037602228, step = 8333 (0.225 sec)\n",
      "INFO:tensorflow:global_step/sec: 437.734\n",
      "INFO:tensorflow:loss = 0.0049069338, step = 8433 (0.229 sec)\n",
      "INFO:tensorflow:global_step/sec: 450.134\n",
      "INFO:tensorflow:loss = 0.0033112534, step = 8533 (0.222 sec)\n",
      "INFO:tensorflow:global_step/sec: 396.913\n",
      "INFO:tensorflow:loss = 0.0045396797, step = 8633 (0.251 sec)\n",
      "INFO:tensorflow:global_step/sec: 444.382\n",
      "INFO:tensorflow:loss = 0.0028650144, step = 8733 (0.226 sec)\n",
      "INFO:tensorflow:global_step/sec: 454.225\n",
      "INFO:tensorflow:loss = 0.005227418, step = 8833 (0.222 sec)\n",
      "INFO:tensorflow:global_step/sec: 433.452\n",
      "INFO:tensorflow:loss = 0.0021592157, step = 8933 (0.228 sec)\n",
      "INFO:tensorflow:global_step/sec: 398.536\n",
      "INFO:tensorflow:loss = 0.0021078363, step = 9033 (0.252 sec)\n",
      "INFO:tensorflow:global_step/sec: 386.837\n",
      "INFO:tensorflow:loss = 0.003952457, step = 9133 (0.260 sec)\n",
      "INFO:tensorflow:global_step/sec: 430.173\n",
      "INFO:tensorflow:loss = 0.0029403078, step = 9233 (0.234 sec)\n",
      "INFO:tensorflow:global_step/sec: 392.853\n",
      "INFO:tensorflow:loss = 0.0024568061, step = 9333 (0.249 sec)\n",
      "INFO:tensorflow:global_step/sec: 442.758\n",
      "INFO:tensorflow:loss = 0.004030251, step = 9433 (0.228 sec)\n",
      "INFO:tensorflow:global_step/sec: 414.927\n",
      "INFO:tensorflow:loss = 0.0027860422, step = 9533 (0.240 sec)\n",
      "INFO:tensorflow:global_step/sec: 429.043\n",
      "INFO:tensorflow:loss = 0.003648564, step = 9633 (0.231 sec)\n",
      "INFO:tensorflow:global_step/sec: 386.951\n",
      "INFO:tensorflow:loss = 0.0022600044, step = 9733 (0.260 sec)\n",
      "INFO:tensorflow:global_step/sec: 397.654\n",
      "INFO:tensorflow:loss = 0.0035478303, step = 9833 (0.250 sec)\n",
      "INFO:tensorflow:global_step/sec: 363.929\n",
      "INFO:tensorflow:loss = 0.0029524975, step = 9933 (0.275 sec)\n",
      "INFO:tensorflow:global_step/sec: 424.643\n",
      "INFO:tensorflow:loss = 0.002379709, step = 10033 (0.236 sec)\n",
      "INFO:tensorflow:global_step/sec: 430.376\n",
      "INFO:tensorflow:loss = 0.0025426256, step = 10133 (0.232 sec)\n",
      "INFO:tensorflow:global_step/sec: 406.868\n",
      "INFO:tensorflow:loss = 0.0028235102, step = 10233 (0.245 sec)\n",
      "INFO:tensorflow:global_step/sec: 422.983\n",
      "INFO:tensorflow:loss = 0.0028159744, step = 10333 (0.237 sec)\n",
      "INFO:tensorflow:global_step/sec: 375.779\n",
      "INFO:tensorflow:loss = 0.0039345454, step = 10433 (0.266 sec)\n",
      "INFO:tensorflow:global_step/sec: 372.168\n",
      "INFO:tensorflow:loss = 0.0026486423, step = 10533 (0.269 sec)\n",
      "INFO:tensorflow:global_step/sec: 373.593\n",
      "INFO:tensorflow:loss = 0.0025509046, step = 10633 (0.267 sec)\n",
      "INFO:tensorflow:global_step/sec: 443.392\n",
      "INFO:tensorflow:loss = 0.0020257938, step = 10733 (0.225 sec)\n",
      "INFO:tensorflow:global_step/sec: 403.283\n",
      "INFO:tensorflow:loss = 0.0028747632, step = 10833 (0.249 sec)\n",
      "INFO:tensorflow:global_step/sec: 399.308\n",
      "INFO:tensorflow:loss = 0.0023647083, step = 10933 (0.249 sec)\n",
      "INFO:tensorflow:global_step/sec: 387.624\n",
      "INFO:tensorflow:loss = 0.0027190926, step = 11033 (0.259 sec)\n",
      "INFO:tensorflow:global_step/sec: 436.112\n",
      "INFO:tensorflow:loss = 0.0017709844, step = 11133 (0.227 sec)\n",
      "INFO:tensorflow:Saving checkpoints for 11134 into models/temp/iris/model.ckpt.\n",
      "INFO:tensorflow:Loss for final step: 0.0017037146.\n"
     ]
    },
    {
     "data": {
      "text/plain": [
       "<tensorflow.python.estimator.canned.dnn.DNNClassifier at 0x12132ac90>"
      ]
     },
     "execution_count": 18,
     "metadata": {},
     "output_type": "execute_result"
    }
   ],
   "source": [
    "# this is where training actually occurs, this will be a long running process on large datasets\n",
    "classifier.train(input_fn=train_input_fn)\n"
   ]
  },
  {
   "cell_type": "markdown",
   "metadata": {},
   "source": [
    "# 7. Test classifier with the 30% split data"
   ]
  },
  {
   "cell_type": "code",
   "execution_count": 19,
   "metadata": {},
   "outputs": [],
   "source": [
    "# validate the model using the x_test values to get a prediction for each one\n",
    "# then you can compare the predicted values against the known values in test_y\n",
    "# which will give you an accuracy score in percentage\n",
    "test_input_fn = tf.estimator.inputs.pandas_input_fn(test_x, num_epochs=1, shuffle=False)\n"
   ]
  },
  {
   "cell_type": "code",
   "execution_count": 20,
   "metadata": {},
   "outputs": [
    {
     "name": "stdout",
     "output_type": "stream",
     "text": [
      "INFO:tensorflow:Restoring parameters from models/temp/iris/model.ckpt-11134\n",
      "[{'probabilities': array([9.5018410e-11, 3.4488931e-01, 6.5511066e-01], dtype=float32), 'logits': array([-16.230999 ,   5.7814193,   6.423    ], dtype=float32), 'classes': array(['2'], dtype=object), 'class_ids': array([2])}, {'probabilities': array([1.9511995e-10, 1.0000000e+00, 1.5999125e-09], dtype=float32), 'logits': array([-8.662031 , 13.6953745, -6.5579424], dtype=float32), 'classes': array(['1'], dtype=object), 'class_ids': array([1])}, {'probabilities': array([1.0734203e-11, 1.8962471e-02, 9.8103756e-01], dtype=float32), 'logits': array([-17.000132,   4.29216 ,   8.238309], dtype=float32), 'classes': array(['2'], dtype=object), 'class_ids': array([2])}, {'probabilities': array([6.4018653e-09, 9.9999988e-01, 1.3824911e-07], dtype=float32), 'logits': array([-7.790273 , 11.076404 , -4.7178054], dtype=float32), 'classes': array(['1'], dtype=object), 'class_ids': array([1])}, {'probabilities': array([9.9999857e-01, 1.4025104e-06, 1.0607639e-37], dtype=float32), 'logits': array([ 34.260273,  20.783028, -50.87638 ], dtype=float32), 'classes': array(['0'], dtype=object), 'class_ids': array([0])}, {'probabilities': array([9.9999619e-01, 3.7770312e-06, 5.1903959e-35], dtype=float32), 'logits': array([ 31.764318,  19.27775 , -47.179348], dtype=float32), 'classes': array(['0'], dtype=object), 'class_ids': array([0])}, {'probabilities': array([4.239695e-17, 5.299888e-09, 1.000000e+00], dtype=float32), 'logits': array([-21.137436 ,  -2.4935613,  16.56202  ], dtype=float32), 'classes': array(['2'], dtype=object), 'class_ids': array([2])}, {'probabilities': array([1.09220155e-14, 8.88552734e-07, 9.99999166e-01], dtype=float32), 'logits': array([-18.778101  ,  -0.56377804,  13.369893  ], dtype=float32), 'classes': array(['2'], dtype=object), 'class_ids': array([2])}, {'probabilities': array([2.0186608e-08, 1.0000000e+00, 5.7466564e-13], dtype=float32), 'logits': array([ -2.6955237,  15.022723 , -13.162265 ], dtype=float32), 'classes': array(['1'], dtype=object), 'class_ids': array([1])}, {'probabilities': array([1.7768264e-23, 2.4119500e-12, 1.0000000e+00], dtype=float32), 'logits': array([-29.10524  ,  -3.4711957,  23.27939  ], dtype=float32), 'classes': array(['2'], dtype=object), 'class_ids': array([2])}, {'probabilities': array([8.2572607e-20, 2.1376368e-11, 1.0000000e+00], dtype=float32), 'logits': array([-23.907288 ,  -4.5354133,  20.033321 ], dtype=float32), 'classes': array(['2'], dtype=object), 'class_ids': array([2])}, {'probabilities': array([2.3193913e-07, 9.9999976e-01, 4.3435858e-15], dtype=float32), 'logits': array([  0.67814493,  15.954935  , -17.115139  ], dtype=float32), 'classes': array(['1'], dtype=object), 'class_ids': array([1])}, {'probabilities': array([1.0456427e-08, 1.0000000e+00, 2.1893605e-11], dtype=float32), 'logits': array([ -4.429897,  13.946152, -10.598674], dtype=float32), 'classes': array(['1'], dtype=object), 'class_ids': array([1])}, {'probabilities': array([5.777033e-09, 1.000000e+00, 3.304074e-11], dtype=float32), 'logits': array([ -4.987922,  13.981454, -10.151826], dtype=float32), 'classes': array(['1'], dtype=object), 'class_ids': array([1])}, {'probabilities': array([1.2600338e-16, 1.0961888e-06, 9.9999893e-01], dtype=float32), 'logits': array([-21.969393 ,   0.9171599,  14.64083  ], dtype=float32), 'classes': array(['2'], dtype=object), 'class_ids': array([2])}, {'probabilities': array([9.9999714e-01, 2.8696045e-06, 9.3161759e-36], dtype=float32), 'logits': array([ 32.456577,  19.695244, -48.20473 ], dtype=float32), 'classes': array(['0'], dtype=object), 'class_ids': array([0])}, {'probabilities': array([9.9999940e-01, 5.5728924e-07, 0.0000000e+00], dtype=float32), 'logits': array([ 36.585556,  22.185375, -54.32061 ], dtype=float32), 'classes': array(['0'], dtype=object), 'class_ids': array([0])}, {'probabilities': array([9.9999893e-01, 1.0177525e-06, 0.0000000e+00], dtype=float32), 'logits': array([ 36.68355,  22.88564, -55.29936], dtype=float32), 'classes': array(['0'], dtype=object), 'class_ids': array([0])}, {'probabilities': array([2.7858242e-15, 2.9986307e-08, 1.0000000e+00], dtype=float32), 'logits': array([-18.687025 ,  -2.495317 ,  14.8272085], dtype=float32), 'classes': array(['2'], dtype=object), 'class_ids': array([2])}, {'probabilities': array([9.9999857e-01, 1.4025104e-06, 1.0607639e-37], dtype=float32), 'logits': array([ 34.260273,  20.783028, -50.87638 ], dtype=float32), 'classes': array(['0'], dtype=object), 'class_ids': array([0])}, {'probabilities': array([9.9999893e-01, 1.1043007e-06, 0.0000000e+00], dtype=float32), 'logits': array([ 37.939644,  24.223347, -57.76419 ], dtype=float32), 'classes': array(['0'], dtype=object), 'class_ids': array([0])}, {'probabilities': array([2.2623509e-11, 1.0000000e+00, 2.9969835e-12], dtype=float32), 'logits': array([ -8.018077,  16.493954, -10.039461], dtype=float32), 'classes': array(['1'], dtype=object), 'class_ids': array([1])}, {'probabilities': array([9.9999988e-01, 8.9387946e-08, 0.0000000e+00], dtype=float32), 'logits': array([ 42.395126,  26.164846, -63.544395], dtype=float32), 'classes': array(['0'], dtype=object), 'class_ids': array([0])}, {'probabilities': array([1.8072150e-13, 1.0793919e-05, 9.9998915e-01], dtype=float32), 'logits': array([-17.538507  ,   0.36678544,  11.803302  ], dtype=float32), 'classes': array(['2'], dtype=object), 'class_ids': array([2])}, {'probabilities': array([1.6963802e-04, 9.9983037e-01, 1.0470841e-11], dtype=float32), 'logits': array([  2.6636524,  11.345326 , -13.936932 ], dtype=float32), 'classes': array(['1'], dtype=object), 'class_ids': array([1])}, {'probabilities': array([3.5552847e-10, 1.0000000e+00, 2.2296322e-10], dtype=float32), 'logits': array([-7.550473, 14.206943, -8.017073], dtype=float32), 'classes': array(['1'], dtype=object), 'class_ids': array([1])}, {'probabilities': array([9.9999857e-01, 1.4893923e-06, 8.6219759e-38], dtype=float32), 'logits': array([ 34.303352,  20.886211, -51.04056 ], dtype=float32), 'classes': array(['0'], dtype=object), 'class_ids': array([0])}, {'probabilities': array([9.9999583e-01, 4.1610538e-06, 0.0000000e+00], dtype=float32), 'logits': array([ 35.260143,  22.870405, -54.048367], dtype=float32), 'classes': array(['0'], dtype=object), 'class_ids': array([0])}, {'probabilities': array([3.7195483e-11, 2.3283534e-05, 9.9997675e-01], dtype=float32), 'logits': array([-13.994849 ,  -0.6477791,  10.019961 ], dtype=float32), 'classes': array(['2'], dtype=object), 'class_ids': array([2])}, {'probabilities': array([2.4192729e-18, 1.6648638e-10, 1.0000000e+00], dtype=float32), 'logits': array([-22.094135 ,  -4.0471787,  18.46893  ], dtype=float32), 'classes': array(['2'], dtype=object), 'class_ids': array([2])}, {'probabilities': array([9.999993e-01, 6.651026e-07, 0.000000e+00], dtype=float32), 'logits': array([ 36.139977,  21.916653, -53.660614], dtype=float32), 'classes': array(['0'], dtype=object), 'class_ids': array([0])}, {'probabilities': array([2.3305894e-18, 1.4880880e-10, 1.0000000e+00], dtype=float32), 'logits': array([-22.10902 ,  -4.13697 ,  18.491388], dtype=float32), 'classes': array(['2'], dtype=object), 'class_ids': array([2])}, {'probabilities': array([2.6421882e-22, 6.8594082e-11, 1.0000000e+00], dtype=float32), 'logits': array([-28.26634  ,  -1.9838883,  21.418926 ], dtype=float32), 'classes': array(['2'], dtype=object), 'class_ids': array([2])}, {'probabilities': array([3.2444754e-05, 9.9996758e-01, 1.9497076e-10], dtype=float32), 'logits': array([  0.47637224,  10.812312  , -11.545828  ], dtype=float32), 'classes': array(['1'], dtype=object), 'class_ids': array([1])}, {'probabilities': array([1.5608742e-12, 1.5132983e-01, 8.4867013e-01], dtype=float32), 'logits': array([-18.93427  ,   6.3632116,   8.08742  ], dtype=float32), 'classes': array(['2'], dtype=object), 'class_ids': array([2])}, {'probabilities': array([1.2944444e-04, 9.9987054e-01, 4.4413002e-09], dtype=float32), 'logits': array([ 0.39038754,  9.342517  , -9.889671  ], dtype=float32), 'classes': array(['1'], dtype=object), 'class_ids': array([1])}, {'probabilities': array([3.6706899e-07, 9.9999964e-01, 5.2740505e-09], dtype=float32), 'logits': array([-3.7881021, 11.0296135, -8.030852 ], dtype=float32), 'classes': array(['1'], dtype=object), 'class_ids': array([1])}, {'probabilities': array([9.9999964e-01, 3.2665764e-07, 0.0000000e+00], dtype=float32), 'logits': array([ 38.086887,  23.152534, -56.62465 ], dtype=float32), 'classes': array(['0'], dtype=object), 'class_ids': array([0])}, {'probabilities': array([5.4513051e-13, 9.8130357e-01, 1.8696401e-02], dtype=float32), 'logits': array([-18.731514,   9.487364,   5.526813], dtype=float32), 'classes': array(['1'], dtype=object), 'class_ids': array([1])}, {'probabilities': array([9.9999928e-01, 6.5926497e-07, 0.0000000e+00], dtype=float32), 'logits': array([ 36.162186,  21.930046, -53.693512], dtype=float32), 'classes': array(['0'], dtype=object), 'class_ids': array([0])}, {'probabilities': array([7.9673097e-32, 5.3693576e-18, 1.0000000e+00], dtype=float32), 'logits': array([-38.86257  ,  -7.0210214,  32.7448   ], dtype=float32), 'classes': array(['2'], dtype=object), 'class_ids': array([2])}, {'probabilities': array([1.7435003e-19, 5.0418409e-11, 1.0000000e+00], dtype=float32), 'logits': array([-23.65301 ,  -4.170454,  19.54021 ], dtype=float32), 'classes': array(['2'], dtype=object), 'class_ids': array([2])}, {'probabilities': array([9.9999964e-01, 3.7133532e-07, 0.0000000e+00], dtype=float32), 'logits': array([ 37.608395,  22.802235, -55.835648], dtype=float32), 'classes': array(['0'], dtype=object), 'class_ids': array([0])}, {'probabilities': array([6.5270757e-07, 9.9999940e-01, 3.0004436e-11], dtype=float32), 'logits': array([ -1.6422467,  12.599889 , -11.6297865], dtype=float32), 'classes': array(['1'], dtype=object), 'class_ids': array([1])}, {'probabilities': array([9.9999881e-01, 1.1767894e-06, 3.5418018e-38], dtype=float32), 'logits': array([ 34.702374,  21.049654, -51.531223], dtype=float32), 'classes': array(['0'], dtype=object), 'class_ids': array([0])}]\n"
     ]
    }
   ],
   "source": [
    "test_result = list(classifier.predict(input_fn=test_input_fn))\n",
    "\n",
    "print(test_result)"
   ]
  },
  {
   "cell_type": "code",
   "execution_count": 21,
   "metadata": {},
   "outputs": [],
   "source": [
    "# build an array with just the predicted species (label encoded values) \n",
    "# filtering out all other prediction response data\n",
    "predicted_y = []\n",
    "for each in test_result:\n",
    "    predicted_y.append(each['class_ids'][0])"
   ]
  },
  {
   "cell_type": "code",
   "execution_count": 22,
   "metadata": {
    "scrolled": true
   },
   "outputs": [
    {
     "name": "stdout",
     "output_type": "stream",
     "text": [
      "OVERALL ACCURACY:\n",
      "0.9555555555555556\n",
      "\n",
      "CONFUSION MATRIX:\n",
      "[[15  0  0]\n",
      " [ 0 14  2]\n",
      " [ 0  0 14]]\n"
     ]
    }
   ],
   "source": [
    "# compare the predicted scores on the test data against the actual test_y values\n",
    "# with both a confusion matrix and an accuracy score\n",
    "print('OVERALL ACCURACY:')\n",
    "print(accuracy_score(test_y, predicted_y))\n",
    "\n",
    "print('')\n",
    "\n",
    "print('CONFUSION MATRIX:')\n",
    "print(confusion_matrix(test_y, predicted_y))\n"
   ]
  },
  {
   "cell_type": "markdown",
   "metadata": {},
   "source": [
    "# 8. Predict with new data records "
   ]
  },
  {
   "cell_type": "code",
   "execution_count": 23,
   "metadata": {},
   "outputs": [],
   "source": [
    "# test using single records (real world values)\n",
    "# one Iris-setosa, one Iris-versicolor\n",
    "new_records = pd.DataFrame([\n",
    "    [5.1, 3.5, 1.4, 0.2],  # first value to predict\n",
    "    [5.7, 2.8, 4.1, 1.3]], # second value to predict\n",
    "    columns=prediction_feature_columns)\n",
    " \n",
    "# these values must be scaled, to match what is used in the model\n",
    "scaled_new_records = pd.DataFrame(sc.transform(new_records), columns=[new_records.columns], index=new_records.index)\n",
    "\n",
    "# actual values used from test data above \n",
    "#SepalLengthCm, SepalWidthCm, PetalLengthCm, PetalWidthCm\n",
    "# 5.1, 3.5, 1.4, 0.2 : 0 (Iris-setosa)\n",
    "# 5.7, 2.8, 4.1, 1.3 : 1 (Iris-versicolor)\n"
   ]
  },
  {
   "cell_type": "code",
   "execution_count": 24,
   "metadata": {},
   "outputs": [],
   "source": [
    "# predict using the model to get a prediction for each item passed\n",
    "prediction_input_fn = tf.estimator.inputs.pandas_input_fn(scaled_new_records, num_epochs=1, shuffle=False)"
   ]
  },
  {
   "cell_type": "code",
   "execution_count": 25,
   "metadata": {},
   "outputs": [
    {
     "name": "stdout",
     "output_type": "stream",
     "text": [
      "INFO:tensorflow:Restoring parameters from models/temp/iris/model.ckpt-11134\n"
     ]
    },
    {
     "data": {
      "text/plain": [
       "[{'class_ids': array([0]),\n",
       "  'classes': array(['0'], dtype=object),\n",
       "  'logits': array([ 37.096973,  22.493805, -55.07813 ], dtype=float32),\n",
       "  'probabilities': array([9.9999952e-01, 4.5490876e-07, 0.0000000e+00], dtype=float32)},\n",
       " {'class_ids': array([1]),\n",
       "  'classes': array(['1'], dtype=object),\n",
       "  'logits': array([-3.7881021, 11.0296135, -8.030852 ], dtype=float32),\n",
       "  'probabilities': array([3.6706899e-07, 9.9999964e-01, 5.2740510e-09], dtype=float32)}]"
      ]
     },
     "execution_count": 25,
     "metadata": {},
     "output_type": "execute_result"
    }
   ],
   "source": [
    "prediction_result = list(classifier.predict(input_fn=prediction_input_fn))\n",
    "\n",
    "prediction_result"
   ]
  },
  {
   "cell_type": "markdown",
   "metadata": {},
   "source": [
    "# 9. Decode new predictions"
   ]
  },
  {
   "cell_type": "code",
   "execution_count": 26,
   "metadata": {
    "scrolled": true
   },
   "outputs": [
    {
     "name": "stdout",
     "output_type": "stream",
     "text": [
      "   SepalLengthCm  SepalWidthCm  PetalLengthCm  PetalWidthCm\n",
      "0            5.1           3.5            1.4           0.2\n",
      "*** PREDICTION: 0 (Label Decoded: Iris-setosa)\n",
      "\n",
      "   SepalLengthCm  SepalWidthCm  PetalLengthCm  PetalWidthCm\n",
      "1            5.7           2.8            4.1           1.3\n",
      "*** PREDICTION: 1 (Label Decoded: Iris-versicolor)\n",
      "\n"
     ]
    },
    {
     "name": "stderr",
     "output_type": "stream",
     "text": [
      "/Users/jameswolf/anaconda/lib/python2.7/site-packages/sklearn/preprocessing/label.py:151: DeprecationWarning: The truth value of an empty array is ambiguous. Returning False, but in future this will result in an error. Use `array.size > 0` to check that an array is not empty.\n",
      "  if diff:\n",
      "/Users/jameswolf/anaconda/lib/python2.7/site-packages/sklearn/preprocessing/label.py:151: DeprecationWarning: The truth value of an empty array is ambiguous. Returning False, but in future this will result in an error. Use `array.size > 0` to check that an array is not empty.\n",
      "  if diff:\n"
     ]
    }
   ],
   "source": [
    "# for each of the results\n",
    "i = 0\n",
    "for each in prediction_result:\n",
    "    # print the values used in the prediction\n",
    "    print(new_records.iloc[[i]])\n",
    "    \n",
    "    # print the transformed label-encoded value\n",
    "    print('*** PREDICTION: ' + str(each['class_ids'][0]) + ' (Label Decoded: ' + str(le.inverse_transform(each['class_ids'][0]))+ ')')\n",
    "    print('')\n",
    "    \n",
    "    # go to next row\n",
    "    i = i + 1\n",
    "    \n",
    "#-1.870024, -0.124958, -1.511870, -1.444450 : 0\n",
    "# 1.522676, -0.124958, 1.217684, 1.185010 : 1"
   ]
  },
  {
   "cell_type": "markdown",
   "metadata": {},
   "source": [
    "# 10. Save Model for Tensorflow Serving"
   ]
  },
  {
   "cell_type": "code",
   "execution_count": 27,
   "metadata": {},
   "outputs": [
    {
     "name": "stdout",
     "output_type": "stream",
     "text": [
      "INFO:tensorflow:Restoring parameters from models/temp/iris/model.ckpt-11134\n",
      "INFO:tensorflow:Assets added to graph.\n",
      "INFO:tensorflow:No assets to write.\n",
      "INFO:tensorflow:SavedModel written to: serving/models/iris/temp-1524945674/saved_model.pb\n"
     ]
    },
    {
     "data": {
      "text/plain": [
       "'serving/models/iris/1524945674'"
      ]
     },
     "execution_count": 27,
     "metadata": {},
     "output_type": "execute_result"
    }
   ],
   "source": [
    "export_dir=\"serving/models/iris/\"\n",
    "\n",
    "feature_spec = tf.feature_column.make_parse_example_spec(my_feature_columns)\n",
    "\n",
    "input_receiver_fn = tf.estimator.export.build_parsing_serving_input_receiver_fn(feature_spec)\n",
    "\n",
    "classifier.export_savedmodel(export_dir, input_receiver_fn, as_text=False) "
   ]
  },
  {
   "cell_type": "markdown",
   "metadata": {},
   "source": [
    "# 11. Make predictions from the saved DNNClassifier model"
   ]
  },
  {
   "cell_type": "markdown",
   "metadata": {},
   "source": [
    "https://www.kaggle.com/jeffcarp/example-save-and-load-a-tensorflow-model"
   ]
  },
  {
   "cell_type": "code",
   "execution_count": 28,
   "metadata": {},
   "outputs": [
    {
     "name": "stdout",
     "output_type": "stream",
     "text": [
      "INFO:tensorflow:Using default config.\n",
      "INFO:tensorflow:Using config: {'_save_checkpoints_secs': 600, '_session_config': None, '_keep_checkpoint_max': 5, '_task_type': 'worker', '_is_chief': True, '_cluster_spec': <tensorflow.python.training.server_lib.ClusterSpec object at 0x12132a810>, '_save_checkpoints_steps': None, '_keep_checkpoint_every_n_hours': 10000, '_service': None, '_num_ps_replicas': 0, '_tf_random_seed': None, '_master': '', '_num_worker_replicas': 1, '_task_id': 0, '_log_step_count_steps': 100, '_model_dir': 'models/temp/iris', '_save_summary_steps': 100}\n",
      "INFO:tensorflow:Restoring parameters from models/temp/iris/model.ckpt-11134\n"
     ]
    },
    {
     "data": {
      "text/plain": [
       "[{'class_ids': array([0]),\n",
       "  'classes': array(['0'], dtype=object),\n",
       "  'logits': array([ 37.096973,  22.493805, -55.07813 ], dtype=float32),\n",
       "  'probabilities': array([9.9999952e-01, 4.5490876e-07, 0.0000000e+00], dtype=float32)},\n",
       " {'class_ids': array([1]),\n",
       "  'classes': array(['1'], dtype=object),\n",
       "  'logits': array([-3.7881021, 11.0296135, -8.030852 ], dtype=float32),\n",
       "  'probabilities': array([3.6706899e-07, 9.9999964e-01, 5.2740510e-09], dtype=float32)}]"
      ]
     },
     "execution_count": 28,
     "metadata": {},
     "output_type": "execute_result"
    }
   ],
   "source": [
    "# this should load the model from the last saved in the model_dir\n",
    "# so everything it needs should be included below\n",
    "\n",
    "# input column names\n",
    "columns_names = ['SepalLengthCm','SepalWidthCm','PetalLengthCm','PetalWidthCm']\n",
    "\n",
    "# where the model was last saved \n",
    "model_path = 'models/temp/iris' \n",
    "\n",
    "# define columns in model using the column_names list\n",
    "# Feature columns describe how to use the input.\n",
    "# you need to define the name and type for each column of your training data\n",
    "hardcoded_feature_columns = []\n",
    "\n",
    "# numeric coulmns\n",
    "hardcoded_feature_columns.append(tf.feature_column.numeric_column(key='SepalLengthCm'));\n",
    "hardcoded_feature_columns.append(tf.feature_column.numeric_column(key='SepalWidthCm'));\n",
    "hardcoded_feature_columns.append(tf.feature_column.numeric_column(key='PetalLengthCm'));\n",
    "hardcoded_feature_columns.append(tf.feature_column.numeric_column(key='PetalWidthCm'));   \n",
    "\n",
    "#hardcoded_feature_columns = []\n",
    "#for key in columns_names:\n",
    "#    hardcoded_feature_columns.append(tf.feature_column.numeric_column(key=key))\n",
    "#    print(key)\n",
    "\n",
    "# create a classifier using the defined columns and the pre-defined model\n",
    "saved_estimator = tf.estimator.DNNClassifier(\n",
    "    # feature column array of tf.feature_column types, defined in the prev step\n",
    "    feature_columns=hardcoded_feature_columns,\n",
    "    # Two hidden layers of 10 nodes each.\n",
    "    hidden_units=[10, 10, 10],\n",
    "    # The model must choose between 3 classes.\n",
    "    n_classes=3,\n",
    "    # use saved model from folder\n",
    "    model_dir=model_path\n",
    ")\n",
    "\n",
    "# test using single records (2 real world values)\n",
    "# one Iris-setosa, one Iris-versicolor\n",
    "records_to_predict = pd.DataFrame([\n",
    "    [5.1, 3.5, 1.4, 0.2], # first records features\n",
    "    [5.7, 2.8, 4.1, 1.3]],# second record features\n",
    "    columns=columns_names)# defined column names\n",
    " \n",
    "# these values must be scaled, to match what is used in the model\n",
    "scaled_records_to_predict = pd.DataFrame(sc.transform(records_to_predict), columns=[records_to_predict.columns], index=records_to_predict.index)\n",
    "\n",
    "# predict using the model to get a prediction for each item passed\n",
    "saved_prediction_input_fn = tf.estimator.inputs.pandas_input_fn(scaled_records_to_predict, num_epochs=1, shuffle=False)\n",
    "\n",
    "# make predictions and store as a list\n",
    "saved_prediction_result = list(saved_estimator.predict(input_fn=saved_prediction_input_fn))\n",
    "\n",
    "# output prediction values\n",
    "saved_prediction_result\n",
    "\n",
    "#SepalLengthCm, SepalWidthCm, PetalLengthCm, PetalWidthCm\n",
    "#-1.870024, -0.124958, -1.511870, -1.444450 : 0\n",
    "# 1.522676, -0.124958, 1.217684, 1.185010 : 1\n",
    "#estimator_from_file = load_estimator_model('models/iris/1520662093')"
   ]
  },
  {
   "cell_type": "markdown",
   "metadata": {},
   "source": [
    "# END"
   ]
  },
  {
   "cell_type": "markdown",
   "metadata": {},
   "source": [
    "Just testing features and note below this line, not part of main execution"
   ]
  },
  {
   "cell_type": "code",
   "execution_count": null,
   "metadata": {},
   "outputs": [],
   "source": []
  }
 ],
 "metadata": {
  "anaconda-cloud": {},
  "kernelspec": {
   "display_name": "Python [default]",
   "language": "python",
   "name": "python2"
  },
  "language_info": {
   "codemirror_mode": {
    "name": "ipython",
    "version": 2
   },
   "file_extension": ".py",
   "mimetype": "text/x-python",
   "name": "python",
   "nbconvert_exporter": "python",
   "pygments_lexer": "ipython2",
   "version": "2.7.12"
  }
 },
 "nbformat": 4,
 "nbformat_minor": 2
}
