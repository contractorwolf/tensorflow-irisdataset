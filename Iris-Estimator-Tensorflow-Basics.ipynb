{
 "cells": [
  {
   "cell_type": "markdown",
   "metadata": {},
   "source": [
    "# 1. Setup libraries for Machine Learning "
   ]
  },
  {
   "cell_type": "markdown",
   "metadata": {},
   "source": [
    "The first step is to import all the libaries that will be needed to parse and explore the data"
   ]
  },
  {
   "cell_type": "code",
   "execution_count": 1,
   "metadata": {},
   "outputs": [
    {
     "name": "stdout",
     "output_type": "stream",
     "text": [
      "('TENSORFLOW VERSION: ', '1.4.1')\n"
     ]
    }
   ],
   "source": [
    "# IMPORT LIBRARIES (must be installed via pip)\n",
    "# ----------------------------------------------------------------------------\n",
    "\n",
    "# This Python 3 environment comes with many helpful analytics libraries installed\n",
    "# It is defined by the kaggle/python docker image: https://github.com/kaggle/docker-python\n",
    "import numpy as np              # linear algebra\n",
    "import pandas as pd             # data processing, CSV file I/O (e.g. pd.read_csv)\n",
    "import matplotlib.pyplot as plt # plotting\n",
    "import seaborn as sns           # plotting\n",
    "import tensorflow as tf         # machine learning\n",
    "import sys                      # for facets stuff\n",
    "import base64                   # for facets stuff\n",
    "\n",
    "# generic_feature_statistics_generator is in the facets directory\n",
    "sys.path.append('./facets/facets_overview/python')\n",
    "\n",
    "# ML libraries \n",
    "from sklearn.preprocessing import LabelEncoder\n",
    "from sklearn.preprocessing import StandardScaler\n",
    "from sklearn.model_selection import train_test_split\n",
    "from sklearn.metrics import confusion_matrix, accuracy_score\n",
    "\n",
    "# calculate the feature statistics from the datasets and stringify it for use in facets overview\n",
    "from generic_feature_statistics_generator import GenericFeatureStatisticsGenerator\n",
    "from IPython.core.display import display, HTML\n",
    "\n",
    "# tell jupyter notebook to diplay plotted data inline\n",
    "%matplotlib inline \n",
    "\n",
    "# SET LOCAL VARIABLES\n",
    "# -----------------------------------------------------------------------------\n",
    "\n",
    "# define local file for training data with features and labels\n",
    "csv_file = 'datasets/iris.csv'\n",
    "\n",
    "# define feature columns for input feature data \n",
    "prediction_feature_columns = ['SepalLengthCm','SepalWidthCm','PetalLengthCm','PetalWidthCm']\n",
    "\n",
    "# path to save the model for future training or tensorflow serving\n",
    "model_path = 'models/temp/iris'\n",
    "\n",
    "# verify version of tensorflow, should be 1.4+ to use new Estimators features\n",
    "print('TENSORFLOW VERSION: ', tf.__version__)\n"
   ]
  },
  {
   "cell_type": "markdown",
   "metadata": {},
   "source": [
    "# 2. Import Dataset from local CSV file"
   ]
  },
  {
   "cell_type": "code",
   "execution_count": 2,
   "metadata": {},
   "outputs": [
    {
     "data": {
      "text/html": [
       "<div>\n",
       "<table border=\"1\" class=\"dataframe\">\n",
       "  <thead>\n",
       "    <tr style=\"text-align: right;\">\n",
       "      <th></th>\n",
       "      <th>Id</th>\n",
       "      <th>SepalLengthCm</th>\n",
       "      <th>SepalWidthCm</th>\n",
       "      <th>PetalLengthCm</th>\n",
       "      <th>PetalWidthCm</th>\n",
       "      <th>Species</th>\n",
       "    </tr>\n",
       "  </thead>\n",
       "  <tbody>\n",
       "    <tr>\n",
       "      <th>0</th>\n",
       "      <td>1</td>\n",
       "      <td>5.1</td>\n",
       "      <td>3.5</td>\n",
       "      <td>1.4</td>\n",
       "      <td>0.2</td>\n",
       "      <td>Iris-setosa</td>\n",
       "    </tr>\n",
       "    <tr>\n",
       "      <th>1</th>\n",
       "      <td>2</td>\n",
       "      <td>4.9</td>\n",
       "      <td>3.0</td>\n",
       "      <td>1.4</td>\n",
       "      <td>0.2</td>\n",
       "      <td>Iris-setosa</td>\n",
       "    </tr>\n",
       "    <tr>\n",
       "      <th>2</th>\n",
       "      <td>3</td>\n",
       "      <td>4.7</td>\n",
       "      <td>3.2</td>\n",
       "      <td>1.3</td>\n",
       "      <td>0.2</td>\n",
       "      <td>Iris-setosa</td>\n",
       "    </tr>\n",
       "    <tr>\n",
       "      <th>3</th>\n",
       "      <td>4</td>\n",
       "      <td>4.6</td>\n",
       "      <td>3.1</td>\n",
       "      <td>1.5</td>\n",
       "      <td>0.2</td>\n",
       "      <td>Iris-setosa</td>\n",
       "    </tr>\n",
       "    <tr>\n",
       "      <th>4</th>\n",
       "      <td>5</td>\n",
       "      <td>5.0</td>\n",
       "      <td>3.6</td>\n",
       "      <td>1.4</td>\n",
       "      <td>0.2</td>\n",
       "      <td>Iris-setosa</td>\n",
       "    </tr>\n",
       "  </tbody>\n",
       "</table>\n",
       "</div>"
      ],
      "text/plain": [
       "   Id  SepalLengthCm  SepalWidthCm  PetalLengthCm  PetalWidthCm      Species\n",
       "0   1            5.1           3.5            1.4           0.2  Iris-setosa\n",
       "1   2            4.9           3.0            1.4           0.2  Iris-setosa\n",
       "2   3            4.7           3.2            1.3           0.2  Iris-setosa\n",
       "3   4            4.6           3.1            1.5           0.2  Iris-setosa\n",
       "4   5            5.0           3.6            1.4           0.2  Iris-setosa"
      ]
     },
     "execution_count": 2,
     "metadata": {},
     "output_type": "execute_result"
    }
   ],
   "source": [
    "# get full dataset from local CSV file\n",
    "df = pd.read_csv(csv_file)\n",
    "df.head()"
   ]
  },
  {
   "cell_type": "markdown",
   "metadata": {},
   "source": [
    "# 3. Clean up the Dataset"
   ]
  },
  {
   "cell_type": "code",
   "execution_count": 3,
   "metadata": {},
   "outputs": [],
   "source": [
    "# drop unnecessary 'Id' column from the dataset, doesnt help predict the label\n",
    "df.drop('Id', inplace=True, axis=1)"
   ]
  },
  {
   "cell_type": "code",
   "execution_count": 4,
   "metadata": {},
   "outputs": [
    {
     "data": {
      "text/html": [
       "<div>\n",
       "<table border=\"1\" class=\"dataframe\">\n",
       "  <thead>\n",
       "    <tr style=\"text-align: right;\">\n",
       "      <th></th>\n",
       "      <th>SepalLengthCm</th>\n",
       "      <th>SepalWidthCm</th>\n",
       "      <th>PetalLengthCm</th>\n",
       "      <th>PetalWidthCm</th>\n",
       "      <th>Species</th>\n",
       "    </tr>\n",
       "  </thead>\n",
       "  <tbody>\n",
       "    <tr>\n",
       "      <th>0</th>\n",
       "      <td>5.2</td>\n",
       "      <td>2.7</td>\n",
       "      <td>3.9</td>\n",
       "      <td>1.4</td>\n",
       "      <td>Iris-versicolor</td>\n",
       "    </tr>\n",
       "    <tr>\n",
       "      <th>1</th>\n",
       "      <td>6.0</td>\n",
       "      <td>2.7</td>\n",
       "      <td>5.1</td>\n",
       "      <td>1.6</td>\n",
       "      <td>Iris-versicolor</td>\n",
       "    </tr>\n",
       "    <tr>\n",
       "      <th>2</th>\n",
       "      <td>6.3</td>\n",
       "      <td>2.5</td>\n",
       "      <td>5.0</td>\n",
       "      <td>1.9</td>\n",
       "      <td>Iris-virginica</td>\n",
       "    </tr>\n",
       "    <tr>\n",
       "      <th>3</th>\n",
       "      <td>4.8</td>\n",
       "      <td>3.1</td>\n",
       "      <td>1.6</td>\n",
       "      <td>0.2</td>\n",
       "      <td>Iris-setosa</td>\n",
       "    </tr>\n",
       "    <tr>\n",
       "      <th>4</th>\n",
       "      <td>5.0</td>\n",
       "      <td>3.4</td>\n",
       "      <td>1.5</td>\n",
       "      <td>0.2</td>\n",
       "      <td>Iris-setosa</td>\n",
       "    </tr>\n",
       "  </tbody>\n",
       "</table>\n",
       "</div>"
      ],
      "text/plain": [
       "   SepalLengthCm  SepalWidthCm  PetalLengthCm  PetalWidthCm          Species\n",
       "0            5.2           2.7            3.9           1.4  Iris-versicolor\n",
       "1            6.0           2.7            5.1           1.6  Iris-versicolor\n",
       "2            6.3           2.5            5.0           1.9   Iris-virginica\n",
       "3            4.8           3.1            1.6           0.2      Iris-setosa\n",
       "4            5.0           3.4            1.5           0.2      Iris-setosa"
      ]
     },
     "execution_count": 4,
     "metadata": {},
     "output_type": "execute_result"
    }
   ],
   "source": [
    "# ALWAYS randomize sample\n",
    "df = df.sample(frac=1).reset_index(drop=True)\n",
    "df.head()"
   ]
  },
  {
   "cell_type": "code",
   "execution_count": 5,
   "metadata": {},
   "outputs": [
    {
     "data": {
      "text/html": [
       "<div>\n",
       "<table border=\"1\" class=\"dataframe\">\n",
       "  <thead>\n",
       "    <tr style=\"text-align: right;\">\n",
       "      <th></th>\n",
       "      <th>SepalLengthCm</th>\n",
       "      <th>SepalWidthCm</th>\n",
       "      <th>PetalLengthCm</th>\n",
       "      <th>PetalWidthCm</th>\n",
       "      <th>Species</th>\n",
       "    </tr>\n",
       "  </thead>\n",
       "  <tbody>\n",
       "    <tr>\n",
       "      <th>0</th>\n",
       "      <td>5.2</td>\n",
       "      <td>2.7</td>\n",
       "      <td>3.9</td>\n",
       "      <td>1.4</td>\n",
       "      <td>1</td>\n",
       "    </tr>\n",
       "    <tr>\n",
       "      <th>1</th>\n",
       "      <td>6.0</td>\n",
       "      <td>2.7</td>\n",
       "      <td>5.1</td>\n",
       "      <td>1.6</td>\n",
       "      <td>1</td>\n",
       "    </tr>\n",
       "    <tr>\n",
       "      <th>2</th>\n",
       "      <td>6.3</td>\n",
       "      <td>2.5</td>\n",
       "      <td>5.0</td>\n",
       "      <td>1.9</td>\n",
       "      <td>2</td>\n",
       "    </tr>\n",
       "    <tr>\n",
       "      <th>3</th>\n",
       "      <td>4.8</td>\n",
       "      <td>3.1</td>\n",
       "      <td>1.6</td>\n",
       "      <td>0.2</td>\n",
       "      <td>0</td>\n",
       "    </tr>\n",
       "    <tr>\n",
       "      <th>4</th>\n",
       "      <td>5.0</td>\n",
       "      <td>3.4</td>\n",
       "      <td>1.5</td>\n",
       "      <td>0.2</td>\n",
       "      <td>0</td>\n",
       "    </tr>\n",
       "  </tbody>\n",
       "</table>\n",
       "</div>"
      ],
      "text/plain": [
       "   SepalLengthCm  SepalWidthCm  PetalLengthCm  PetalWidthCm  Species\n",
       "0            5.2           2.7            3.9           1.4        1\n",
       "1            6.0           2.7            5.1           1.6        1\n",
       "2            6.3           2.5            5.0           1.9        2\n",
       "3            4.8           3.1            1.6           0.2        0\n",
       "4            5.0           3.4            1.5           0.2        0"
      ]
     },
     "execution_count": 5,
     "metadata": {},
     "output_type": "execute_result"
    }
   ],
   "source": [
    "# label encode the string label: Species\n",
    "# it should be a numeric value, instead of a string value\n",
    "# to do: use one-hot encoder instead of label encoder\n",
    "le = LabelEncoder()\n",
    "df.Species = le.fit_transform(df.Species)\n",
    "\n",
    "# show the cleaned dataset\n",
    "df.head()"
   ]
  },
  {
   "cell_type": "code",
   "execution_count": 6,
   "metadata": {},
   "outputs": [
    {
     "data": {
      "text/plain": [
       "0    1\n",
       "1    1\n",
       "2    2\n",
       "3    0\n",
       "4    0\n",
       "Name: Species, dtype: int64"
      ]
     },
     "execution_count": 6,
     "metadata": {},
     "output_type": "execute_result"
    }
   ],
   "source": [
    "# set just the label column to y for the train_test_split()\n",
    "# *** need to shuffle the dataset first?\n",
    "data_label = df.Species\n",
    "data_label.head()"
   ]
  },
  {
   "cell_type": "code",
   "execution_count": 7,
   "metadata": {},
   "outputs": [
    {
     "data": {
      "text/html": [
       "<div>\n",
       "<table border=\"1\" class=\"dataframe\">\n",
       "  <thead>\n",
       "    <tr style=\"text-align: right;\">\n",
       "      <th></th>\n",
       "      <th>SepalLengthCm</th>\n",
       "      <th>SepalWidthCm</th>\n",
       "      <th>PetalLengthCm</th>\n",
       "      <th>PetalWidthCm</th>\n",
       "    </tr>\n",
       "  </thead>\n",
       "  <tbody>\n",
       "    <tr>\n",
       "      <th>0</th>\n",
       "      <td>5.2</td>\n",
       "      <td>2.7</td>\n",
       "      <td>3.9</td>\n",
       "      <td>1.4</td>\n",
       "    </tr>\n",
       "    <tr>\n",
       "      <th>1</th>\n",
       "      <td>6.0</td>\n",
       "      <td>2.7</td>\n",
       "      <td>5.1</td>\n",
       "      <td>1.6</td>\n",
       "    </tr>\n",
       "    <tr>\n",
       "      <th>2</th>\n",
       "      <td>6.3</td>\n",
       "      <td>2.5</td>\n",
       "      <td>5.0</td>\n",
       "      <td>1.9</td>\n",
       "    </tr>\n",
       "    <tr>\n",
       "      <th>3</th>\n",
       "      <td>4.8</td>\n",
       "      <td>3.1</td>\n",
       "      <td>1.6</td>\n",
       "      <td>0.2</td>\n",
       "    </tr>\n",
       "    <tr>\n",
       "      <th>4</th>\n",
       "      <td>5.0</td>\n",
       "      <td>3.4</td>\n",
       "      <td>1.5</td>\n",
       "      <td>0.2</td>\n",
       "    </tr>\n",
       "  </tbody>\n",
       "</table>\n",
       "</div>"
      ],
      "text/plain": [
       "   SepalLengthCm  SepalWidthCm  PetalLengthCm  PetalWidthCm\n",
       "0            5.2           2.7            3.9           1.4\n",
       "1            6.0           2.7            5.1           1.6\n",
       "2            6.3           2.5            5.0           1.9\n",
       "3            4.8           3.1            1.6           0.2\n",
       "4            5.0           3.4            1.5           0.2"
      ]
     },
     "execution_count": 7,
     "metadata": {},
     "output_type": "execute_result"
    }
   ],
   "source": [
    "# remove the species column so that you can scale the rest of the values\n",
    "# the values are already stored in y variable\n",
    "# *** convert this to X values here, for clarity?\n",
    "data_features = df.drop('Species', inplace=False, axis=1)\n",
    "data_features.head()\n"
   ]
  },
  {
   "cell_type": "code",
   "execution_count": 8,
   "metadata": {},
   "outputs": [
    {
     "data": {
      "text/html": [
       "<div>\n",
       "<table border=\"1\" class=\"dataframe\">\n",
       "  <thead>\n",
       "    <tr style=\"text-align: right;\">\n",
       "      <th></th>\n",
       "      <th>SepalLengthCm</th>\n",
       "      <th>SepalWidthCm</th>\n",
       "      <th>PetalLengthCm</th>\n",
       "      <th>PetalWidthCm</th>\n",
       "    </tr>\n",
       "  </thead>\n",
       "  <tbody>\n",
       "    <tr>\n",
       "      <th>0</th>\n",
       "      <td>-0.779513</td>\n",
       "      <td>-0.819166</td>\n",
       "      <td>0.080370</td>\n",
       "      <td>0.264699</td>\n",
       "    </tr>\n",
       "    <tr>\n",
       "      <th>1</th>\n",
       "      <td>0.189830</td>\n",
       "      <td>-0.819166</td>\n",
       "      <td>0.762759</td>\n",
       "      <td>0.527645</td>\n",
       "    </tr>\n",
       "    <tr>\n",
       "      <th>2</th>\n",
       "      <td>0.553333</td>\n",
       "      <td>-1.281972</td>\n",
       "      <td>0.705893</td>\n",
       "      <td>0.922064</td>\n",
       "    </tr>\n",
       "    <tr>\n",
       "      <th>3</th>\n",
       "      <td>-1.264185</td>\n",
       "      <td>0.106445</td>\n",
       "      <td>-1.227541</td>\n",
       "      <td>-1.312977</td>\n",
       "    </tr>\n",
       "    <tr>\n",
       "      <th>4</th>\n",
       "      <td>-1.021849</td>\n",
       "      <td>0.800654</td>\n",
       "      <td>-1.284407</td>\n",
       "      <td>-1.312977</td>\n",
       "    </tr>\n",
       "  </tbody>\n",
       "</table>\n",
       "</div>"
      ],
      "text/plain": [
       "   SepalLengthCm  SepalWidthCm  PetalLengthCm  PetalWidthCm\n",
       "0      -0.779513     -0.819166       0.080370      0.264699\n",
       "1       0.189830     -0.819166       0.762759      0.527645\n",
       "2       0.553333     -1.281972       0.705893      0.922064\n",
       "3      -1.264185      0.106445      -1.227541     -1.312977\n",
       "4      -1.021849      0.800654      -1.284407     -1.312977"
      ]
     },
     "execution_count": 8,
     "metadata": {},
     "output_type": "execute_result"
    }
   ],
   "source": [
    "# scale data for better results\n",
    "# so that columns with larger values dont get weighed more\n",
    "# example: age change of 40 years (significant) vs income change of $40 (not significant)\n",
    "\n",
    "sc = StandardScaler(copy=True, with_mean=True, with_std=True)\n",
    "scaled_features = pd.DataFrame(sc.fit_transform(data_features), columns=[data_features.columns], index=data_features.index)\n",
    "\n",
    "# show scaled X values \n",
    "scaled_features.head() \n",
    "# THIS IS A DATAFRAME"
   ]
  },
  {
   "cell_type": "code",
   "execution_count": 9,
   "metadata": {},
   "outputs": [
    {
     "data": {
      "text/plain": [
       "0    1\n",
       "1    1\n",
       "2    2\n",
       "3    0\n",
       "4    0\n",
       "Name: Species, dtype: int64"
      ]
     },
     "execution_count": 9,
     "metadata": {},
     "output_type": "execute_result"
    }
   ],
   "source": [
    "# show labels (y values in equasion)\n",
    "data_label.head()\n",
    "# THIS IS A SERIES\n"
   ]
  },
  {
   "cell_type": "code",
   "execution_count": 10,
   "metadata": {},
   "outputs": [],
   "source": [
    "# do a 70/30 split of the data into a train_x and train_y (70% for training) \n",
    "# and a test_x and test_y (30% for validation) \n",
    "# X is a DATAFRAME of scaled features\n",
    "# y is a SERIES of labels\n",
    "train_x, test_x, train_y, test_y = train_test_split(scaled_features, data_label, test_size=0.30, random_state=101)\n",
    " "
   ]
  },
  {
   "cell_type": "code",
   "execution_count": 11,
   "metadata": {},
   "outputs": [
    {
     "name": "stdout",
     "output_type": "stream",
     "text": [
      "<class 'pandas.core.frame.DataFrame'>\n",
      "Int64Index: 45 entries, 33 to 66\n",
      "Data columns (total 4 columns):\n",
      "SepalLengthCm    45 non-null float64\n",
      "SepalWidthCm     45 non-null float64\n",
      "PetalLengthCm    45 non-null float64\n",
      "PetalWidthCm     45 non-null float64\n",
      "dtypes: float64(4)\n",
      "memory usage: 1.8 KB\n"
     ]
    }
   ],
   "source": [
    "test_x.info()"
   ]
  },
  {
   "cell_type": "markdown",
   "metadata": {},
   "source": [
    "# 4. Create Feature Columns List for Classifier"
   ]
  },
  {
   "cell_type": "code",
   "execution_count": 12,
   "metadata": {},
   "outputs": [],
   "source": [
    "# Feature columns describe how to use the input.\n",
    "# you need to define the name and type for each column of your training data\n",
    "my_feature_columns = []\n",
    "\n",
    "# numeric coulmns\n",
    "my_feature_columns.append(tf.feature_column.numeric_column(key='SepalLengthCm'));\n",
    "my_feature_columns.append(tf.feature_column.numeric_column(key='SepalWidthCm'));\n",
    "my_feature_columns.append(tf.feature_column.numeric_column(key='PetalLengthCm'));\n",
    "my_feature_columns.append(tf.feature_column.numeric_column(key='PetalWidthCm'));   \n",
    "\n",
    "# other column types\n",
    "# hashed strings or categorical features\n",
    "# example:\n",
    "# state = tf.feature_column.categorical_column_with_hash_bucket('state',100) \n",
    "# pick the right size for your data\n",
    "\n",
    "    "
   ]
  },
  {
   "cell_type": "markdown",
   "metadata": {},
   "source": [
    "# 5. Create Classifier from Feature Column list"
   ]
  },
  {
   "cell_type": "code",
   "execution_count": 13,
   "metadata": {},
   "outputs": [
    {
     "name": "stdout",
     "output_type": "stream",
     "text": [
      "INFO:tensorflow:Using default config.\n",
      "INFO:tensorflow:Using config: {'_save_checkpoints_secs': 600, '_session_config': None, '_keep_checkpoint_max': 5, '_task_type': 'worker', '_is_chief': True, '_cluster_spec': <tensorflow.python.training.server_lib.ClusterSpec object at 0x105b0b2d0>, '_save_checkpoints_steps': None, '_keep_checkpoint_every_n_hours': 10000, '_service': None, '_num_ps_replicas': 0, '_tf_random_seed': None, '_master': '', '_num_worker_replicas': 1, '_task_id': 0, '_log_step_count_steps': 100, '_model_dir': 'models/temp/iris', '_save_summary_steps': 100}\n"
     ]
    }
   ],
   "source": [
    "# Build 2 hidden layer DNN with 10, 10 units respectively\n",
    "# uses feature column types defined in the previous step\n",
    "classifier = tf.estimator.DNNClassifier(\n",
    "    # feature columns defined in the prev step\n",
    "    feature_columns=my_feature_columns,\n",
    "    # Two hidden layers of 10 nodes each.\n",
    "    hidden_units=[10, 10, 10],\n",
    "    # The model must choose between 3 classes.\n",
    "    n_classes=data_label.nunique(),\n",
    "    # save the model to a folder when run, reuse the same way\n",
    "    model_dir=model_path\n",
    ")\n"
   ]
  },
  {
   "cell_type": "code",
   "execution_count": 14,
   "metadata": {},
   "outputs": [],
   "source": [
    "# setup the train input function using the train_x and train_y datasource\n",
    "train_input_fn = tf.estimator.inputs.pandas_input_fn(train_x, y=train_y, num_epochs=5000, shuffle=True)\n"
   ]
  },
  {
   "cell_type": "markdown",
   "metadata": {},
   "source": [
    "# 6. Train Classifier"
   ]
  },
  {
   "cell_type": "code",
   "execution_count": 15,
   "metadata": {},
   "outputs": [
    {
     "name": "stdout",
     "output_type": "stream",
     "text": [
      "INFO:tensorflow:Create CheckpointSaverHook.\n",
      "INFO:tensorflow:Restoring parameters from models/temp/iris/model.ckpt-4102\n",
      "INFO:tensorflow:Saving checkpoints for 4103 into models/temp/iris/model.ckpt.\n",
      "INFO:tensorflow:loss = 9.979402, step = 4103\n",
      "INFO:tensorflow:global_step/sec: 378.025\n",
      "INFO:tensorflow:loss = 0.046675794, step = 4203 (0.270 sec)\n",
      "INFO:tensorflow:global_step/sec: 421.93\n",
      "INFO:tensorflow:loss = 0.05322541, step = 4303 (0.236 sec)\n",
      "INFO:tensorflow:global_step/sec: 427.316\n",
      "INFO:tensorflow:loss = 0.0328029, step = 4403 (0.235 sec)\n",
      "INFO:tensorflow:global_step/sec: 419.771\n",
      "INFO:tensorflow:loss = 0.017753016, step = 4503 (0.238 sec)\n",
      "INFO:tensorflow:global_step/sec: 429.924\n",
      "INFO:tensorflow:loss = 0.008391418, step = 4603 (0.232 sec)\n",
      "INFO:tensorflow:global_step/sec: 428.275\n",
      "INFO:tensorflow:loss = 0.006189149, step = 4703 (0.235 sec)\n",
      "INFO:tensorflow:global_step/sec: 422.691\n",
      "INFO:tensorflow:loss = 0.0056996853, step = 4803 (0.237 sec)\n",
      "INFO:tensorflow:global_step/sec: 424.863\n",
      "INFO:tensorflow:loss = 0.01425304, step = 4903 (0.236 sec)\n",
      "INFO:tensorflow:global_step/sec: 433.328\n",
      "INFO:tensorflow:loss = 0.008657504, step = 5003 (0.231 sec)\n",
      "INFO:tensorflow:global_step/sec: 380.147\n",
      "INFO:tensorflow:loss = 0.009123312, step = 5103 (0.264 sec)\n",
      "INFO:tensorflow:global_step/sec: 381.7\n",
      "INFO:tensorflow:loss = 0.004841548, step = 5203 (0.261 sec)\n",
      "INFO:tensorflow:global_step/sec: 419.192\n",
      "INFO:tensorflow:loss = 0.010776287, step = 5303 (0.239 sec)\n",
      "INFO:tensorflow:global_step/sec: 395.49\n",
      "INFO:tensorflow:loss = 0.0064445892, step = 5403 (0.253 sec)\n",
      "INFO:tensorflow:global_step/sec: 424.202\n",
      "INFO:tensorflow:loss = 0.009632524, step = 5503 (0.235 sec)\n",
      "INFO:tensorflow:global_step/sec: 445.889\n",
      "INFO:tensorflow:loss = 0.0075114323, step = 5603 (0.223 sec)\n",
      "INFO:tensorflow:global_step/sec: 358.738\n",
      "INFO:tensorflow:loss = 0.008756828, step = 5703 (0.278 sec)\n",
      "INFO:tensorflow:global_step/sec: 334.824\n",
      "INFO:tensorflow:loss = 0.009368748, step = 5803 (0.302 sec)\n",
      "INFO:tensorflow:global_step/sec: 434.016\n",
      "INFO:tensorflow:loss = 0.003557119, step = 5903 (0.229 sec)\n",
      "INFO:tensorflow:global_step/sec: 366.736\n",
      "INFO:tensorflow:loss = 0.0024394067, step = 6003 (0.272 sec)\n",
      "INFO:tensorflow:global_step/sec: 408.053\n",
      "INFO:tensorflow:loss = 0.0063531753, step = 6103 (0.246 sec)\n",
      "INFO:tensorflow:global_step/sec: 413.715\n",
      "INFO:tensorflow:loss = 0.0037901725, step = 6203 (0.242 sec)\n",
      "INFO:tensorflow:global_step/sec: 390.238\n",
      "INFO:tensorflow:loss = 0.006206652, step = 6303 (0.257 sec)\n",
      "INFO:tensorflow:global_step/sec: 369.686\n",
      "INFO:tensorflow:loss = 0.0033900184, step = 6403 (0.269 sec)\n",
      "INFO:tensorflow:global_step/sec: 419.669\n",
      "INFO:tensorflow:loss = 0.007913707, step = 6503 (0.240 sec)\n",
      "INFO:tensorflow:global_step/sec: 423.026\n",
      "INFO:tensorflow:loss = 0.008622704, step = 6603 (0.234 sec)\n",
      "INFO:tensorflow:global_step/sec: 416.828\n",
      "INFO:tensorflow:loss = 0.007106741, step = 6703 (0.240 sec)\n",
      "INFO:tensorflow:global_step/sec: 447.379\n",
      "INFO:tensorflow:loss = 0.0043421574, step = 6803 (0.223 sec)\n",
      "INFO:tensorflow:global_step/sec: 412.679\n",
      "INFO:tensorflow:loss = 0.0034496444, step = 6903 (0.241 sec)\n",
      "INFO:tensorflow:global_step/sec: 405.638\n",
      "INFO:tensorflow:loss = 0.0051157055, step = 7003 (0.246 sec)\n",
      "INFO:tensorflow:global_step/sec: 420.592\n",
      "INFO:tensorflow:loss = 0.001773728, step = 7103 (0.239 sec)\n",
      "INFO:tensorflow:global_step/sec: 426.187\n",
      "INFO:tensorflow:loss = 0.0019898242, step = 7203 (0.237 sec)\n",
      "INFO:tensorflow:global_step/sec: 408.61\n",
      "INFO:tensorflow:loss = 0.0024275412, step = 7303 (0.244 sec)\n",
      "INFO:tensorflow:global_step/sec: 424.648\n",
      "INFO:tensorflow:loss = 0.0049390392, step = 7403 (0.236 sec)\n",
      "INFO:tensorflow:global_step/sec: 423.248\n",
      "INFO:tensorflow:loss = 0.0044513834, step = 7503 (0.237 sec)\n",
      "INFO:tensorflow:global_step/sec: 368.251\n",
      "INFO:tensorflow:loss = 0.0035672872, step = 7603 (0.270 sec)\n",
      "INFO:tensorflow:global_step/sec: 386.711\n",
      "INFO:tensorflow:loss = 0.0020309868, step = 7703 (0.257 sec)\n",
      "INFO:tensorflow:global_step/sec: 359.773\n",
      "INFO:tensorflow:loss = 0.00431882, step = 7803 (0.277 sec)\n",
      "INFO:tensorflow:global_step/sec: 426.51\n",
      "INFO:tensorflow:loss = 0.003258305, step = 7903 (0.237 sec)\n",
      "INFO:tensorflow:global_step/sec: 376.325\n",
      "INFO:tensorflow:loss = 0.0026386054, step = 8003 (0.266 sec)\n",
      "INFO:tensorflow:global_step/sec: 401.953\n",
      "INFO:tensorflow:loss = 0.002775332, step = 8103 (0.246 sec)\n",
      "INFO:tensorflow:global_step/sec: 414.046\n",
      "INFO:tensorflow:loss = 0.0028957312, step = 8203 (0.242 sec)\n",
      "INFO:tensorflow:Saving checkpoints for 8204 into models/temp/iris/model.ckpt.\n",
      "INFO:tensorflow:Loss for final step: 0.0025921834.\n"
     ]
    },
    {
     "data": {
      "text/plain": [
       "<tensorflow.python.estimator.canned.dnn.DNNClassifier at 0x122187c10>"
      ]
     },
     "execution_count": 15,
     "metadata": {},
     "output_type": "execute_result"
    }
   ],
   "source": [
    "# this is where training actually occurs, this will be a long running process on large datasets\n",
    "classifier.train(input_fn=train_input_fn)\n"
   ]
  },
  {
   "cell_type": "markdown",
   "metadata": {},
   "source": [
    "# 7. Test classifier with the 30% split data"
   ]
  },
  {
   "cell_type": "code",
   "execution_count": 16,
   "metadata": {},
   "outputs": [],
   "source": [
    "# validate the model using the x_test values to get a prediction for each one\n",
    "# then you can compare the predicted values against the known values in test_y\n",
    "# which will give you an accuracy score in percentage\n",
    "test_input_fn = tf.estimator.inputs.pandas_input_fn(test_x, num_epochs=1, shuffle=False)\n"
   ]
  },
  {
   "cell_type": "code",
   "execution_count": 17,
   "metadata": {},
   "outputs": [
    {
     "name": "stdout",
     "output_type": "stream",
     "text": [
      "INFO:tensorflow:Restoring parameters from models/temp/iris/model.ckpt-8204\n",
      "[{'probabilities': array([9.9999547e-01, 9.2534287e-07, 3.5777209e-06], dtype=float32), 'logits': array([  3.1587887, -10.734308 ,  -9.381991 ], dtype=float32), 'classes': array(['0'], dtype=object), 'class_ids': array([0])}, {'probabilities': array([6.81924030e-06, 9.99874115e-01, 1.19026736e-04], dtype=float32), 'logits': array([-5.948494 ,  5.9471426, -3.0888941], dtype=float32), 'classes': array(['1'], dtype=object), 'class_ids': array([1])}, {'probabilities': array([9.9999750e-01, 5.8873155e-07, 1.9301501e-06], dtype=float32), 'logits': array([  3.263673 , -11.08162  ,  -9.8942375], dtype=float32), 'classes': array(['0'], dtype=object), 'class_ids': array([0])}, {'probabilities': array([6.8275594e-06, 9.9999082e-01, 2.3684036e-06], dtype=float32), 'logits': array([-5.4181128,  6.4764214, -6.476864 ], dtype=float32), 'classes': array(['1'], dtype=object), 'class_ids': array([1])}, {'probabilities': array([9.9999857e-01, 3.5405395e-07, 1.0264832e-06], dtype=float32), 'logits': array([  3.3795805, -11.474235 , -10.40979  ], dtype=float32), 'classes': array(['0'], dtype=object), 'class_ids': array([0])}, {'probabilities': array([1.6766796e-07, 9.9999046e-01, 9.3890649e-06], dtype=float32), 'logits': array([-7.911543 ,  7.689728 , -3.8862274], dtype=float32), 'classes': array(['1'], dtype=object), 'class_ids': array([1])}, {'probabilities': array([1.1563563e-05, 9.9989462e-01, 9.3835501e-05], dtype=float32), 'logits': array([-5.512178 ,  5.8553686, -3.4184935], dtype=float32), 'classes': array(['1'], dtype=object), 'class_ids': array([1])}, {'probabilities': array([5.8099852e-07, 9.9999905e-01, 3.7482474e-07], dtype=float32), 'logits': array([-6.516762 ,  7.8417554, -6.9550505], dtype=float32), 'classes': array(['1'], dtype=object), 'class_ids': array([1])}, {'probabilities': array([8.3921009e-11, 5.8729654e-10, 1.0000000e+00], dtype=float32), 'logits': array([-7.577174 , -5.6315207, 15.62397  ], dtype=float32), 'classes': array(['2'], dtype=object), 'class_ids': array([2])}, {'probabilities': array([6.6587278e-09, 1.1667984e-07, 9.9999988e-01], dtype=float32), 'logits': array([-6.6949167, -3.8314114, 12.132421 ], dtype=float32), 'classes': array(['2'], dtype=object), 'class_ids': array([2])}, {'probabilities': array([9.9999964e-01, 6.3947404e-08, 2.5479943e-07], dtype=float32), 'logits': array([  3.7457457, -12.819459 , -11.437043 ], dtype=float32), 'classes': array(['0'], dtype=object), 'class_ids': array([0])}, {'probabilities': array([8.3290315e-06, 9.9999070e-01, 9.2116414e-07], dtype=float32), 'logits': array([-5.3690147,  6.3267393, -7.570879 ], dtype=float32), 'classes': array(['1'], dtype=object), 'class_ids': array([1])}, {'probabilities': array([1.00959705e-05, 9.99122918e-01, 8.66915041e-04], dtype=float32), 'logits': array([-6.2397833,  5.2627134, -1.786979 ], dtype=float32), 'classes': array(['1'], dtype=object), 'class_ids': array([1])}, {'probabilities': array([9.9998915e-01, 4.6271534e-06, 6.2542363e-06], dtype=float32), 'logits': array([ 2.711906, -9.571652, -9.270335], dtype=float32), 'classes': array(['0'], dtype=object), 'class_ids': array([0])}, {'probabilities': array([1.0907238e-07, 9.9999964e-01, 2.5954802e-07], dtype=float32), 'logits': array([-7.5078077,  8.523445 , -6.6408787], dtype=float32), 'classes': array(['1'], dtype=object), 'class_ids': array([1])}, {'probabilities': array([1.0000000e+00, 4.2121382e-09, 2.5096632e-08], dtype=float32), 'logits': array([  4.3232346, -14.962061 , -13.177298 ], dtype=float32), 'classes': array(['0'], dtype=object), 'class_ids': array([0])}, {'probabilities': array([7.3724817e-07, 9.9999905e-01, 2.4701598e-07], dtype=float32), 'logits': array([-6.4126124,  7.707728 , -7.5060835], dtype=float32), 'classes': array(['1'], dtype=object), 'class_ids': array([1])}, {'probabilities': array([2.26603370e-05, 1.10195465e-01, 8.89781833e-01], dtype=float32), 'logits': array([-6.7467737,  1.742621 ,  3.8313415], dtype=float32), 'classes': array(['2'], dtype=object), 'class_ids': array([2])}, {'probabilities': array([9.4240841e-06, 9.9997401e-01, 1.6540887e-05], dtype=float32), 'logits': array([-5.3468733,  6.225343 , -4.7843056], dtype=float32), 'classes': array(['1'], dtype=object), 'class_ids': array([1])}, {'probabilities': array([6.636934e-16, 1.730944e-17, 1.000000e+00], dtype=float32), 'logits': array([ -8.657243, -12.303811,  26.291468], dtype=float32), 'classes': array(['2'], dtype=object), 'class_ids': array([2])}, {'probabilities': array([7.0697537e-09, 4.5229041e-05, 9.9995482e-01], dtype=float32), 'logits': array([-9.270073 , -0.5064039,  9.497322 ], dtype=float32), 'classes': array(['2'], dtype=object), 'class_ids': array([2])}, {'probabilities': array([1.0506604e-05, 9.9998295e-01, 6.5152244e-06], dtype=float32), 'logits': array([-5.225571,  6.237918, -5.703434], dtype=float32), 'classes': array(['1'], dtype=object), 'class_ids': array([1])}, {'probabilities': array([1.2321896e-06, 9.9999833e-01, 4.8528563e-07], dtype=float32), 'logits': array([-6.1495495,  7.4571667, -7.08136  ], dtype=float32), 'classes': array(['1'], dtype=object), 'class_ids': array([1])}, {'probabilities': array([9.9999952e-01, 1.0573612e-07, 3.0005501e-07], dtype=float32), 'logits': array([  3.6163948, -12.445925 , -11.4029045], dtype=float32), 'classes': array(['0'], dtype=object), 'class_ids': array([0])}, {'probabilities': array([4.5093379e-06, 9.9999452e-01, 9.5249834e-07], dtype=float32), 'logits': array([-5.545174,  6.764181, -7.099991], dtype=float32), 'classes': array(['1'], dtype=object), 'class_ids': array([1])}, {'probabilities': array([9.9999082e-01, 1.9472595e-06, 7.2539465e-06], dtype=float32), 'logits': array([  2.9962904, -10.152788 ,  -8.837666 ], dtype=float32), 'classes': array(['0'], dtype=object), 'class_ids': array([0])}, {'probabilities': array([1.0452306e-07, 9.9999821e-01, 1.6639580e-06], dtype=float32), 'logits': array([-7.817906,  8.255951, -5.050359], dtype=float32), 'classes': array(['1'], dtype=object), 'class_ids': array([1])}, {'probabilities': array([1.3754697e-13, 5.0309276e-15, 1.0000000e+00], dtype=float32), 'logits': array([ -7.269635, -10.577998,  22.345175], dtype=float32), 'classes': array(['2'], dtype=object), 'class_ids': array([2])}, {'probabilities': array([1.0628426e-12, 1.6823092e-13, 1.0000000e+00], dtype=float32), 'logits': array([-7.19981 , -9.043175, 20.370264], dtype=float32), 'classes': array(['2'], dtype=object), 'class_ids': array([2])}, {'probabilities': array([2.4889214e-06, 9.9999678e-01, 6.7408041e-07], dtype=float32), 'logits': array([-5.9358945,  6.967764 , -7.2421494], dtype=float32), 'classes': array(['1'], dtype=object), 'class_ids': array([1])}, {'probabilities': array([9.9999547e-01, 1.1707519e-06, 3.3265883e-06], dtype=float32), 'logits': array([  3.1170819, -10.540778 ,  -9.496477 ], dtype=float32), 'classes': array(['0'], dtype=object), 'class_ids': array([0])}, {'probabilities': array([9.9999523e-01, 1.3164170e-06, 3.4020054e-06], dtype=float32), 'logits': array([  3.0943747, -10.446218 ,  -9.496766 ], dtype=float32), 'classes': array(['0'], dtype=object), 'class_ids': array([0])}, {'probabilities': array([1.03824805e-05, 9.99933839e-01, 5.57770618e-05], dtype=float32), 'logits': array([-5.475188 ,  6.000137 , -3.7939448], dtype=float32), 'classes': array(['1'], dtype=object), 'class_ids': array([1])}, {'probabilities': array([9.9999619e-01, 9.4260503e-07, 2.8477727e-06], dtype=float32), 'logits': array([  3.1627738, -10.711841 ,  -9.606195 ], dtype=float32), 'classes': array(['0'], dtype=object), 'class_ids': array([0])}, {'probabilities': array([7.4426338e-23, 1.0583993e-25, 1.0000000e+00], dtype=float32), 'logits': array([-12.245459, -18.801094,  38.706776], dtype=float32), 'classes': array(['2'], dtype=object), 'class_ids': array([2])}, {'probabilities': array([4.217056e-06, 9.999914e-01, 4.409594e-06], dtype=float32), 'logits': array([-5.6809015,  6.695463 , -5.636256 ], dtype=float32), 'classes': array(['1'], dtype=object), 'class_ids': array([1])}, {'probabilities': array([9.9999654e-01, 2.4008232e-06, 1.0244861e-06], dtype=float32), 'logits': array([  2.6624243, -10.277271 , -11.128892 ], dtype=float32), 'classes': array(['0'], dtype=object), 'class_ids': array([0])}, {'probabilities': array([9.9999964e-01, 6.2231074e-08, 2.3147417e-07], dtype=float32), 'logits': array([  3.7540047, -12.838407 , -11.524793 ], dtype=float32), 'classes': array(['0'], dtype=object), 'class_ids': array([0])}, {'probabilities': array([9.665339e-13, 5.923929e-14, 1.000000e+00], dtype=float32), 'logits': array([-6.8938026, -9.685933 , 20.771257 ], dtype=float32), 'classes': array(['2'], dtype=object), 'class_ids': array([2])}, {'probabilities': array([4.0643083e-17, 5.4002698e-19, 1.0000000e+00], dtype=float32), 'logits': array([ -9.277058, -13.598022,  28.464645], dtype=float32), 'classes': array(['2'], dtype=object), 'class_ids': array([2])}, {'probabilities': array([2.2140139e-06, 9.9999702e-01, 7.1600465e-07], dtype=float32), 'logits': array([-6.0307803,  6.9899197, -7.1596565], dtype=float32), 'classes': array(['1'], dtype=object), 'class_ids': array([1])}, {'probabilities': array([2.2150379e-14, 1.7016933e-15, 1.0000000e+00], dtype=float32), 'logits': array([ -8.080633, -10.646864,  23.360289], dtype=float32), 'classes': array(['2'], dtype=object), 'class_ids': array([2])}, {'probabilities': array([9.9999571e-01, 9.9747808e-07, 3.3501647e-06], dtype=float32), 'logits': array([  3.1468668, -10.6711645,  -9.45963  ], dtype=float32), 'classes': array(['0'], dtype=object), 'class_ids': array([0])}, {'probabilities': array([9.9998319e-01, 1.3261711e-05, 3.6268641e-06], dtype=float32), 'logits': array([  2.2641137,  -8.966499 , -10.263012 ], dtype=float32), 'classes': array(['0'], dtype=object), 'class_ids': array([0])}, {'probabilities': array([3.8480844e-06, 9.9993277e-01, 6.3468848e-05], dtype=float32), 'logits': array([-6.1864834,  6.2813845, -3.3835099], dtype=float32), 'classes': array(['1'], dtype=object), 'class_ids': array([1])}]\n"
     ]
    }
   ],
   "source": [
    "test_result = list(classifier.predict(input_fn=test_input_fn))\n",
    "\n",
    "print(test_result)"
   ]
  },
  {
   "cell_type": "code",
   "execution_count": 18,
   "metadata": {},
   "outputs": [],
   "source": [
    "# build an array with just the predicted species (label encoded values) \n",
    "# filtering out all other prediction response data\n",
    "predicted_y = []\n",
    "for each in test_result:\n",
    "    predicted_y.append(each['class_ids'][0])"
   ]
  },
  {
   "cell_type": "code",
   "execution_count": 19,
   "metadata": {
    "scrolled": true
   },
   "outputs": [
    {
     "name": "stdout",
     "output_type": "stream",
     "text": [
      "OVERALL ACCURACY:\n",
      "0.9777777777777777\n",
      "\n",
      "CONFUSION MATRIX:\n",
      "[[15  0  0]\n",
      " [ 0 19  1]\n",
      " [ 0  0 10]]\n"
     ]
    }
   ],
   "source": [
    "# compare the predicted scores on the test data against the actual test_y values\n",
    "# with both a confusion matrix and an accuracy score\n",
    "print('OVERALL ACCURACY:')\n",
    "print(accuracy_score(test_y, predicted_y))\n",
    "\n",
    "print('')\n",
    "\n",
    "print('CONFUSION MATRIX:')\n",
    "print(confusion_matrix(test_y, predicted_y))\n"
   ]
  },
  {
   "cell_type": "markdown",
   "metadata": {},
   "source": [
    "# 8. Predict with new data records "
   ]
  },
  {
   "cell_type": "code",
   "execution_count": 20,
   "metadata": {},
   "outputs": [],
   "source": [
    "# test using single records (real world values)\n",
    "# one Iris-setosa, one Iris-versicolor\n",
    "new_records = pd.DataFrame([\n",
    "    [5.1, 3.5, 1.4, 0.2],  # first value to predict\n",
    "    [5.7, 2.8, 4.1, 1.3]], # second value to predict\n",
    "    columns=prediction_feature_columns)\n",
    " \n",
    "# these values must be scaled, to match what is used in the model\n",
    "scaled_new_records = pd.DataFrame(sc.transform(new_records), columns=[new_records.columns], index=new_records.index)\n",
    "\n",
    "#SepalLengthCm, SepalWidthCm, PetalLengthCm, PetalWidthCm\n",
    "#-1.870024, -0.124958, -1.511870, -1.444450 : 0\n",
    "# 1.522676, -0.124958, 1.217684, 1.185010 : 1\n"
   ]
  },
  {
   "cell_type": "code",
   "execution_count": 21,
   "metadata": {},
   "outputs": [],
   "source": [
    "# predict using the model to get a prediction for each item passed\n",
    "prediction_input_fn = tf.estimator.inputs.pandas_input_fn(scaled_new_records, num_epochs=1, shuffle=False)"
   ]
  },
  {
   "cell_type": "code",
   "execution_count": 22,
   "metadata": {},
   "outputs": [
    {
     "name": "stdout",
     "output_type": "stream",
     "text": [
      "INFO:tensorflow:Restoring parameters from models/temp/iris/model.ckpt-8204\n"
     ]
    },
    {
     "data": {
      "text/plain": [
       "[{'class_ids': array([0]),\n",
       "  'classes': array(['0'], dtype=object),\n",
       "  'logits': array([  3.5583658, -12.1811075, -11.008649 ], dtype=float32),\n",
       "  'probabilities': array([9.9999940e-01, 1.4602705e-07, 4.7165631e-07], dtype=float32)},\n",
       " {'class_ids': array([1]),\n",
       "  'classes': array(['1'], dtype=object),\n",
       "  'logits': array([-5.5727987,  6.7019377, -5.983691 ], dtype=float32),\n",
       "  'probabilities': array([4.6681662e-06, 9.9999225e-01, 3.0952663e-06], dtype=float32)}]"
      ]
     },
     "execution_count": 22,
     "metadata": {},
     "output_type": "execute_result"
    }
   ],
   "source": [
    "prediction_result = list(classifier.predict(input_fn=prediction_input_fn))\n",
    "\n",
    "prediction_result"
   ]
  },
  {
   "cell_type": "markdown",
   "metadata": {},
   "source": [
    "# 9. Decode new predictions"
   ]
  },
  {
   "cell_type": "code",
   "execution_count": 23,
   "metadata": {
    "scrolled": true
   },
   "outputs": [
    {
     "name": "stdout",
     "output_type": "stream",
     "text": [
      "   SepalLengthCm  SepalWidthCm  PetalLengthCm  PetalWidthCm\n",
      "0            5.1           3.5            1.4           0.2\n",
      "*** PREDICTION: 0 (Label Decoded: Iris-setosa)\n",
      "\n",
      "   SepalLengthCm  SepalWidthCm  PetalLengthCm  PetalWidthCm\n",
      "1            5.7           2.8            4.1           1.3\n",
      "*** PREDICTION: 1 (Label Decoded: Iris-versicolor)\n",
      "\n"
     ]
    },
    {
     "name": "stderr",
     "output_type": "stream",
     "text": [
      "/Users/jameswolf/anaconda/lib/python2.7/site-packages/sklearn/preprocessing/label.py:151: DeprecationWarning: The truth value of an empty array is ambiguous. Returning False, but in future this will result in an error. Use `array.size > 0` to check that an array is not empty.\n",
      "  if diff:\n",
      "/Users/jameswolf/anaconda/lib/python2.7/site-packages/sklearn/preprocessing/label.py:151: DeprecationWarning: The truth value of an empty array is ambiguous. Returning False, but in future this will result in an error. Use `array.size > 0` to check that an array is not empty.\n",
      "  if diff:\n"
     ]
    }
   ],
   "source": [
    "# for each of the results\n",
    "i = 0\n",
    "for each in prediction_result:\n",
    "    # print the values used in the prediction\n",
    "    print(new_records.iloc[[i]])\n",
    "    \n",
    "    # print the transformed label-encoded value\n",
    "    print('*** PREDICTION: ' + str(each['class_ids'][0]) + ' (Label Decoded: ' + str(le.inverse_transform(each['class_ids'][0]))+ ')')\n",
    "    print('')\n",
    "    \n",
    "    # go to next row\n",
    "    i = i + 1\n",
    "    \n",
    "#-1.870024, -0.124958, -1.511870, -1.444450 : 0\n",
    "# 1.522676, -0.124958, 1.217684, 1.185010 : 1"
   ]
  },
  {
   "cell_type": "markdown",
   "metadata": {},
   "source": [
    "# 10. Save Model for Tensorflow Serving"
   ]
  },
  {
   "cell_type": "code",
   "execution_count": 24,
   "metadata": {},
   "outputs": [
    {
     "name": "stdout",
     "output_type": "stream",
     "text": [
      "INFO:tensorflow:Restoring parameters from models/temp/iris/model.ckpt-8204\n",
      "INFO:tensorflow:Assets added to graph.\n",
      "INFO:tensorflow:No assets to write.\n",
      "INFO:tensorflow:SavedModel written to: serving/models/iris/temp-1523737141/saved_model.pb\n"
     ]
    },
    {
     "data": {
      "text/plain": [
       "'serving/models/iris/1523737141'"
      ]
     },
     "execution_count": 24,
     "metadata": {},
     "output_type": "execute_result"
    }
   ],
   "source": [
    "export_dir=\"serving/models/iris/\"\n",
    "\n",
    "feature_spec = tf.feature_column.make_parse_example_spec(my_feature_columns)\n",
    "\n",
    "input_receiver_fn = tf.estimator.export.build_parsing_serving_input_receiver_fn(feature_spec)\n",
    "\n",
    "classifier.export_savedmodel(export_dir, input_receiver_fn, as_text=False) "
   ]
  },
  {
   "cell_type": "markdown",
   "metadata": {},
   "source": [
    "# 11. Make predictions from the saved DNNClassifier model"
   ]
  },
  {
   "cell_type": "markdown",
   "metadata": {},
   "source": [
    "https://www.kaggle.com/jeffcarp/example-save-and-load-a-tensorflow-model"
   ]
  },
  {
   "cell_type": "code",
   "execution_count": 25,
   "metadata": {},
   "outputs": [
    {
     "name": "stdout",
     "output_type": "stream",
     "text": [
      "SepalLengthCm\n",
      "SepalWidthCm\n",
      "PetalLengthCm\n",
      "PetalWidthCm\n",
      "INFO:tensorflow:Using default config.\n",
      "INFO:tensorflow:Using config: {'_save_checkpoints_secs': 600, '_session_config': None, '_keep_checkpoint_max': 5, '_task_type': 'worker', '_is_chief': True, '_cluster_spec': <tensorflow.python.training.server_lib.ClusterSpec object at 0x123fcd390>, '_save_checkpoints_steps': None, '_keep_checkpoint_every_n_hours': 10000, '_service': None, '_num_ps_replicas': 0, '_tf_random_seed': None, '_master': '', '_num_worker_replicas': 1, '_task_id': 0, '_log_step_count_steps': 100, '_model_dir': 'models/temp/iris', '_save_summary_steps': 100}\n",
      "INFO:tensorflow:Restoring parameters from models/temp/iris/model.ckpt-8204\n"
     ]
    },
    {
     "data": {
      "text/plain": [
       "[{'class_ids': array([0]),\n",
       "  'classes': array(['0'], dtype=object),\n",
       "  'logits': array([  3.5583658, -12.1811075, -11.008649 ], dtype=float32),\n",
       "  'probabilities': array([9.9999940e-01, 1.4602705e-07, 4.7165631e-07], dtype=float32)},\n",
       " {'class_ids': array([1]),\n",
       "  'classes': array(['1'], dtype=object),\n",
       "  'logits': array([-5.5727987,  6.7019377, -5.983691 ], dtype=float32),\n",
       "  'probabilities': array([4.6681662e-06, 9.9999225e-01, 3.0952663e-06], dtype=float32)}]"
      ]
     },
     "execution_count": 25,
     "metadata": {},
     "output_type": "execute_result"
    }
   ],
   "source": [
    "# this should load the model from the last saved in the model_dir\n",
    "# so everything it needs should be included below\n",
    "\n",
    "# input column names\n",
    "columns_names = ['SepalLengthCm','SepalWidthCm','PetalLengthCm','PetalWidthCm']\n",
    "\n",
    "# where the model was last saved \n",
    "model_path = 'models/temp/iris' \n",
    "\n",
    "# define columns in model using the column_names list\n",
    "hardcoded_feature_columns = []\n",
    "for key in columns_names:\n",
    "    hardcoded_feature_columns.append(tf.feature_column.numeric_column(key=key))\n",
    "    print(key)\n",
    "\n",
    "# create a classifier using the defined columns and the pre-defined model\n",
    "saved_estimator = tf.estimator.DNNClassifier(\n",
    "    # feature column array of tf.feature_column types, defined in the prev step\n",
    "    feature_columns=hardcoded_feature_columns,\n",
    "    # Two hidden layers of 10 nodes each.\n",
    "    hidden_units=[10, 10, 10],\n",
    "    # The model must choose between 3 classes.\n",
    "    n_classes=3,\n",
    "    # use saved model from folder\n",
    "    model_dir=model_path\n",
    ")\n",
    "\n",
    "# test using single records (2 real world values)\n",
    "# one Iris-setosa, one Iris-versicolor\n",
    "records_to_predict = pd.DataFrame([\n",
    "    [5.1, 3.5, 1.4, 0.2], # first records features\n",
    "    [5.7, 2.8, 4.1, 1.3]],# second record features\n",
    "    columns=columns_names)# defined column names\n",
    " \n",
    "# these values must be scaled, to match what is used in the model\n",
    "scaled_records_to_predict = pd.DataFrame(sc.transform(records_to_predict), columns=[records_to_predict.columns], index=records_to_predict.index)\n",
    "\n",
    "# predict using the model to get a prediction for each item passed\n",
    "saved_prediction_input_fn = tf.estimator.inputs.pandas_input_fn(scaled_records_to_predict, num_epochs=1, shuffle=False)\n",
    "\n",
    "# make predictions and store as a list\n",
    "saved_prediction_result = list(saved_estimator.predict(input_fn=saved_prediction_input_fn))\n",
    "\n",
    "# output prediction values\n",
    "saved_prediction_result\n",
    "\n",
    "#SepalLengthCm, SepalWidthCm, PetalLengthCm, PetalWidthCm\n",
    "#-1.870024, -0.124958, -1.511870, -1.444450 : 0\n",
    "# 1.522676, -0.124958, 1.217684, 1.185010 : 1\n",
    "#estimator_from_file = load_estimator_model('models/iris/1520662093')"
   ]
  },
  {
   "cell_type": "markdown",
   "metadata": {},
   "source": [
    "# END"
   ]
  },
  {
   "cell_type": "markdown",
   "metadata": {},
   "source": [
    "Just testing features and note below this line, not part of main execution"
   ]
  },
  {
   "cell_type": "code",
   "execution_count": 26,
   "metadata": {},
   "outputs": [
    {
     "data": {
      "text/html": [
       "<div>\n",
       "<table border=\"1\" class=\"dataframe\">\n",
       "  <thead>\n",
       "    <tr style=\"text-align: right;\">\n",
       "      <th></th>\n",
       "      <th>SepalLengthCm</th>\n",
       "      <th>SepalWidthCm</th>\n",
       "      <th>PetalLengthCm</th>\n",
       "      <th>PetalWidthCm</th>\n",
       "      <th>Species</th>\n",
       "    </tr>\n",
       "  </thead>\n",
       "  <tbody>\n",
       "    <tr>\n",
       "      <th>0</th>\n",
       "      <td>5.2</td>\n",
       "      <td>2.7</td>\n",
       "      <td>3.9</td>\n",
       "      <td>1.4</td>\n",
       "      <td>1</td>\n",
       "    </tr>\n",
       "    <tr>\n",
       "      <th>1</th>\n",
       "      <td>6.0</td>\n",
       "      <td>2.7</td>\n",
       "      <td>5.1</td>\n",
       "      <td>1.6</td>\n",
       "      <td>1</td>\n",
       "    </tr>\n",
       "    <tr>\n",
       "      <th>2</th>\n",
       "      <td>6.3</td>\n",
       "      <td>2.5</td>\n",
       "      <td>5.0</td>\n",
       "      <td>1.9</td>\n",
       "      <td>2</td>\n",
       "    </tr>\n",
       "    <tr>\n",
       "      <th>3</th>\n",
       "      <td>4.8</td>\n",
       "      <td>3.1</td>\n",
       "      <td>1.6</td>\n",
       "      <td>0.2</td>\n",
       "      <td>0</td>\n",
       "    </tr>\n",
       "    <tr>\n",
       "      <th>4</th>\n",
       "      <td>5.0</td>\n",
       "      <td>3.4</td>\n",
       "      <td>1.5</td>\n",
       "      <td>0.2</td>\n",
       "      <td>0</td>\n",
       "    </tr>\n",
       "  </tbody>\n",
       "</table>\n",
       "</div>"
      ],
      "text/plain": [
       "   SepalLengthCm  SepalWidthCm  PetalLengthCm  PetalWidthCm  Species\n",
       "0            5.2           2.7            3.9           1.4        1\n",
       "1            6.0           2.7            5.1           1.6        1\n",
       "2            6.3           2.5            5.0           1.9        2\n",
       "3            4.8           3.1            1.6           0.2        0\n",
       "4            5.0           3.4            1.5           0.2        0"
      ]
     },
     "execution_count": 26,
     "metadata": {},
     "output_type": "execute_result"
    }
   ],
   "source": [
    "df.head()"
   ]
  },
  {
   "cell_type": "code",
   "execution_count": 27,
   "metadata": {},
   "outputs": [
    {
     "data": {
      "text/html": [
       "<link rel=\"import\" href=\"/nbextensions/facets-dist/facets-jupyter.html\" >\n",
       "        <facets-overview id=\"overview\"></facets-overview>\n",
       "        <script>\n",
       "          document.querySelector(\"#overview\").protoInput = \"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\";\n",
       "        </script>"
      ],
      "text/plain": [
       "<IPython.core.display.HTML object>"
      ]
     },
     "metadata": {},
     "output_type": "display_data"
    }
   ],
   "source": [
    "# generate statistics for template\n",
    "gfsg = GenericFeatureStatisticsGenerator()\n",
    "\n",
    "# load data\n",
    "proto = gfsg.ProtoFromDataFrames([{'name': 'train', 'table': df}])\n",
    "\n",
    "# create base64 string for html template\n",
    "protostr = base64.b64encode(proto.SerializeToString()).decode(\"utf-8\")\n",
    "\n",
    "# Display the facets overview visualization for this data\n",
    "overview_template = \"\"\"<link rel=\"import\" href=\"/nbextensions/facets-dist/facets-jupyter.html\" >\n",
    "        <facets-overview id=\"overview\"></facets-overview>\n",
    "        <script>\n",
    "          document.querySelector(\"#overview\").protoInput = \"{protostr}\";\n",
    "        </script>\"\"\"\n",
    "\n",
    "# load data into template\n",
    "overview_html = overview_template.format(protostr=protostr)\n",
    "\n",
    "# display template\n",
    "display(HTML(overview_html))"
   ]
  },
  {
   "cell_type": "code",
   "execution_count": 28,
   "metadata": {
    "scrolled": false
   },
   "outputs": [
    {
     "data": {
      "text/html": [
       "<link rel=\"import\" href=\"/nbextensions/facets-dist/facets-jupyter.html\">\n",
       "        <facets-dive sprite-image-width=\"32\" sprite-image-height=\"32\" id=\"deepdive\" height=\"600\" height=\"1000\"></facets-dive>\n",
       "        <script>\n",
       "          document.querySelector(\"#deepdive\").data = [{\"SepalLengthCm\":5.2,\"SepalWidthCm\":2.7,\"PetalLengthCm\":3.9,\"PetalWidthCm\":1.4,\"Species\":1},{\"SepalLengthCm\":6.0,\"SepalWidthCm\":2.7,\"PetalLengthCm\":5.1,\"PetalWidthCm\":1.6,\"Species\":1},{\"SepalLengthCm\":6.3,\"SepalWidthCm\":2.5,\"PetalLengthCm\":5.0,\"PetalWidthCm\":1.9,\"Species\":2},{\"SepalLengthCm\":4.8,\"SepalWidthCm\":3.1,\"PetalLengthCm\":1.6,\"PetalWidthCm\":0.2,\"Species\":0},{\"SepalLengthCm\":5.0,\"SepalWidthCm\":3.4,\"PetalLengthCm\":1.5,\"PetalWidthCm\":0.2,\"Species\":0},{\"SepalLengthCm\":6.5,\"SepalWidthCm\":3.0,\"PetalLengthCm\":5.8,\"PetalWidthCm\":2.2,\"Species\":2},{\"SepalLengthCm\":6.4,\"SepalWidthCm\":2.9,\"PetalLengthCm\":4.3,\"PetalWidthCm\":1.3,\"Species\":1},{\"SepalLengthCm\":5.7,\"SepalWidthCm\":2.6,\"PetalLengthCm\":3.5,\"PetalWidthCm\":1.0,\"Species\":1},{\"SepalLengthCm\":5.8,\"SepalWidthCm\":2.6,\"PetalLengthCm\":4.0,\"PetalWidthCm\":1.2,\"Species\":1},{\"SepalLengthCm\":5.1,\"SepalWidthCm\":3.8,\"PetalLengthCm\":1.9,\"PetalWidthCm\":0.4,\"Species\":0},{\"SepalLengthCm\":6.9,\"SepalWidthCm\":3.1,\"PetalLengthCm\":4.9,\"PetalWidthCm\":1.5,\"Species\":1},{\"SepalLengthCm\":6.9,\"SepalWidthCm\":3.1,\"PetalLengthCm\":5.1,\"PetalWidthCm\":2.3,\"Species\":2},{\"SepalLengthCm\":5.1,\"SepalWidthCm\":3.7,\"PetalLengthCm\":1.5,\"PetalWidthCm\":0.4,\"Species\":0},{\"SepalLengthCm\":7.2,\"SepalWidthCm\":3.0,\"PetalLengthCm\":5.8,\"PetalWidthCm\":1.6,\"Species\":2},{\"SepalLengthCm\":5.6,\"SepalWidthCm\":2.8,\"PetalLengthCm\":4.9,\"PetalWidthCm\":2.0,\"Species\":2},{\"SepalLengthCm\":6.5,\"SepalWidthCm\":3.0,\"PetalLengthCm\":5.2,\"PetalWidthCm\":2.0,\"Species\":2},{\"SepalLengthCm\":5.5,\"SepalWidthCm\":2.6,\"PetalLengthCm\":4.4,\"PetalWidthCm\":1.2,\"Species\":1},{\"SepalLengthCm\":5.0,\"SepalWidthCm\":3.2,\"PetalLengthCm\":1.2,\"PetalWidthCm\":0.2,\"Species\":0},{\"SepalLengthCm\":5.7,\"SepalWidthCm\":2.5,\"PetalLengthCm\":5.0,\"PetalWidthCm\":2.0,\"Species\":2},{\"SepalLengthCm\":6.4,\"SepalWidthCm\":2.8,\"PetalLengthCm\":5.6,\"PetalWidthCm\":2.2,\"Species\":2},{\"SepalLengthCm\":5.2,\"SepalWidthCm\":4.1,\"PetalLengthCm\":1.5,\"PetalWidthCm\":0.1,\"Species\":0},{\"SepalLengthCm\":7.0,\"SepalWidthCm\":3.2,\"PetalLengthCm\":4.7,\"PetalWidthCm\":1.4,\"Species\":1},{\"SepalLengthCm\":7.1,\"SepalWidthCm\":3.0,\"PetalLengthCm\":5.9,\"PetalWidthCm\":2.1,\"Species\":2},{\"SepalLengthCm\":6.7,\"SepalWidthCm\":3.1,\"PetalLengthCm\":5.6,\"PetalWidthCm\":2.4,\"Species\":2},{\"SepalLengthCm\":4.9,\"SepalWidthCm\":2.5,\"PetalLengthCm\":4.5,\"PetalWidthCm\":1.7,\"Species\":2},{\"SepalLengthCm\":6.4,\"SepalWidthCm\":3.2,\"PetalLengthCm\":5.3,\"PetalWidthCm\":2.3,\"Species\":2},{\"SepalLengthCm\":4.9,\"SepalWidthCm\":3.1,\"PetalLengthCm\":1.5,\"PetalWidthCm\":0.1,\"Species\":0},{\"SepalLengthCm\":5.2,\"SepalWidthCm\":3.4,\"PetalLengthCm\":1.4,\"PetalWidthCm\":0.2,\"Species\":0},{\"SepalLengthCm\":4.8,\"SepalWidthCm\":3.4,\"PetalLengthCm\":1.6,\"PetalWidthCm\":0.2,\"Species\":0},{\"SepalLengthCm\":4.8,\"SepalWidthCm\":3.0,\"PetalLengthCm\":1.4,\"PetalWidthCm\":0.1,\"Species\":0},{\"SepalLengthCm\":6.5,\"SepalWidthCm\":3.2,\"PetalLengthCm\":5.1,\"PetalWidthCm\":2.0,\"Species\":2},{\"SepalLengthCm\":5.9,\"SepalWidthCm\":3.2,\"PetalLengthCm\":4.8,\"PetalWidthCm\":1.8,\"Species\":1},{\"SepalLengthCm\":5.6,\"SepalWidthCm\":2.9,\"PetalLengthCm\":3.6,\"PetalWidthCm\":1.3,\"Species\":1},{\"SepalLengthCm\":4.4,\"SepalWidthCm\":3.0,\"PetalLengthCm\":1.3,\"PetalWidthCm\":0.2,\"Species\":0},{\"SepalLengthCm\":6.8,\"SepalWidthCm\":2.8,\"PetalLengthCm\":4.8,\"PetalWidthCm\":1.4,\"Species\":1},{\"SepalLengthCm\":6.7,\"SepalWidthCm\":3.0,\"PetalLengthCm\":5.2,\"PetalWidthCm\":2.3,\"Species\":2},{\"SepalLengthCm\":5.0,\"SepalWidthCm\":3.5,\"PetalLengthCm\":1.6,\"PetalWidthCm\":0.6,\"Species\":0},{\"SepalLengthCm\":5.9,\"SepalWidthCm\":3.0,\"PetalLengthCm\":5.1,\"PetalWidthCm\":1.8,\"Species\":2},{\"SepalLengthCm\":6.1,\"SepalWidthCm\":2.6,\"PetalLengthCm\":5.6,\"PetalWidthCm\":1.4,\"Species\":2},{\"SepalLengthCm\":4.4,\"SepalWidthCm\":3.2,\"PetalLengthCm\":1.3,\"PetalWidthCm\":0.2,\"Species\":0},{\"SepalLengthCm\":5.3,\"SepalWidthCm\":3.7,\"PetalLengthCm\":1.5,\"PetalWidthCm\":0.2,\"Species\":0},{\"SepalLengthCm\":6.7,\"SepalWidthCm\":3.1,\"PetalLengthCm\":4.4,\"PetalWidthCm\":1.4,\"Species\":1},{\"SepalLengthCm\":6.1,\"SepalWidthCm\":3.0,\"PetalLengthCm\":4.6,\"PetalWidthCm\":1.4,\"Species\":1},{\"SepalLengthCm\":4.6,\"SepalWidthCm\":3.2,\"PetalLengthCm\":1.4,\"PetalWidthCm\":0.2,\"Species\":0},{\"SepalLengthCm\":6.0,\"SepalWidthCm\":3.4,\"PetalLengthCm\":4.5,\"PetalWidthCm\":1.6,\"Species\":1},{\"SepalLengthCm\":5.0,\"SepalWidthCm\":3.3,\"PetalLengthCm\":1.4,\"PetalWidthCm\":0.2,\"Species\":0},{\"SepalLengthCm\":5.4,\"SepalWidthCm\":3.7,\"PetalLengthCm\":1.5,\"PetalWidthCm\":0.2,\"Species\":0},{\"SepalLengthCm\":6.3,\"SepalWidthCm\":2.7,\"PetalLengthCm\":4.9,\"PetalWidthCm\":1.8,\"Species\":2},{\"SepalLengthCm\":6.3,\"SepalWidthCm\":3.3,\"PetalLengthCm\":4.7,\"PetalWidthCm\":1.6,\"Species\":1},{\"SepalLengthCm\":7.9,\"SepalWidthCm\":3.8,\"PetalLengthCm\":6.4,\"PetalWidthCm\":2.0,\"Species\":2},{\"SepalLengthCm\":4.6,\"SepalWidthCm\":3.4,\"PetalLengthCm\":1.4,\"PetalWidthCm\":0.3,\"Species\":0},{\"SepalLengthCm\":5.7,\"SepalWidthCm\":3.8,\"PetalLengthCm\":1.7,\"PetalWidthCm\":0.3,\"Species\":0},{\"SepalLengthCm\":6.2,\"SepalWidthCm\":2.2,\"PetalLengthCm\":4.5,\"PetalWidthCm\":1.5,\"Species\":1},{\"SepalLengthCm\":5.6,\"SepalWidthCm\":2.5,\"PetalLengthCm\":3.9,\"PetalWidthCm\":1.1,\"Species\":1},{\"SepalLengthCm\":5.0,\"SepalWidthCm\":3.4,\"PetalLengthCm\":1.6,\"PetalWidthCm\":0.4,\"Species\":0},{\"SepalLengthCm\":6.1,\"SepalWidthCm\":2.8,\"PetalLengthCm\":4.7,\"PetalWidthCm\":1.2,\"Species\":1},{\"SepalLengthCm\":5.8,\"SepalWidthCm\":2.7,\"PetalLengthCm\":5.1,\"PetalWidthCm\":1.9,\"Species\":2},{\"SepalLengthCm\":7.6,\"SepalWidthCm\":3.0,\"PetalLengthCm\":6.6,\"PetalWidthCm\":2.1,\"Species\":2},{\"SepalLengthCm\":5.5,\"SepalWidthCm\":2.5,\"PetalLengthCm\":4.0,\"PetalWidthCm\":1.3,\"Species\":1},{\"SepalLengthCm\":4.3,\"SepalWidthCm\":3.0,\"PetalLengthCm\":1.1,\"PetalWidthCm\":0.1,\"Species\":0},{\"SepalLengthCm\":5.7,\"SepalWidthCm\":2.8,\"PetalLengthCm\":4.1,\"PetalWidthCm\":1.3,\"Species\":1},{\"SepalLengthCm\":5.1,\"SepalWidthCm\":3.8,\"PetalLengthCm\":1.5,\"PetalWidthCm\":0.3,\"Species\":0},{\"SepalLengthCm\":4.7,\"SepalWidthCm\":3.2,\"PetalLengthCm\":1.3,\"PetalWidthCm\":0.2,\"Species\":0},{\"SepalLengthCm\":6.3,\"SepalWidthCm\":3.4,\"PetalLengthCm\":5.6,\"PetalWidthCm\":2.4,\"Species\":2},{\"SepalLengthCm\":4.4,\"SepalWidthCm\":2.9,\"PetalLengthCm\":1.4,\"PetalWidthCm\":0.2,\"Species\":0},{\"SepalLengthCm\":5.4,\"SepalWidthCm\":3.9,\"PetalLengthCm\":1.7,\"PetalWidthCm\":0.4,\"Species\":0},{\"SepalLengthCm\":6.0,\"SepalWidthCm\":2.9,\"PetalLengthCm\":4.5,\"PetalWidthCm\":1.5,\"Species\":1},{\"SepalLengthCm\":7.2,\"SepalWidthCm\":3.2,\"PetalLengthCm\":6.0,\"PetalWidthCm\":1.8,\"Species\":2},{\"SepalLengthCm\":5.7,\"SepalWidthCm\":2.8,\"PetalLengthCm\":4.5,\"PetalWidthCm\":1.3,\"Species\":1},{\"SepalLengthCm\":5.5,\"SepalWidthCm\":3.5,\"PetalLengthCm\":1.3,\"PetalWidthCm\":0.2,\"Species\":0},{\"SepalLengthCm\":5.7,\"SepalWidthCm\":4.4,\"PetalLengthCm\":1.5,\"PetalWidthCm\":0.4,\"Species\":0},{\"SepalLengthCm\":6.3,\"SepalWidthCm\":3.3,\"PetalLengthCm\":6.0,\"PetalWidthCm\":2.5,\"Species\":2},{\"SepalLengthCm\":6.8,\"SepalWidthCm\":3.0,\"PetalLengthCm\":5.5,\"PetalWidthCm\":2.1,\"Species\":2},{\"SepalLengthCm\":5.0,\"SepalWidthCm\":3.5,\"PetalLengthCm\":1.3,\"PetalWidthCm\":0.3,\"Species\":0},{\"SepalLengthCm\":5.5,\"SepalWidthCm\":4.2,\"PetalLengthCm\":1.4,\"PetalWidthCm\":0.2,\"Species\":0},{\"SepalLengthCm\":5.4,\"SepalWidthCm\":3.9,\"PetalLengthCm\":1.3,\"PetalWidthCm\":0.4,\"Species\":0},{\"SepalLengthCm\":5.8,\"SepalWidthCm\":2.7,\"PetalLengthCm\":5.1,\"PetalWidthCm\":1.9,\"Species\":2},{\"SepalLengthCm\":5.1,\"SepalWidthCm\":3.3,\"PetalLengthCm\":1.7,\"PetalWidthCm\":0.5,\"Species\":0},{\"SepalLengthCm\":6.4,\"SepalWidthCm\":2.7,\"PetalLengthCm\":5.3,\"PetalWidthCm\":1.9,\"Species\":2},{\"SepalLengthCm\":5.1,\"SepalWidthCm\":3.5,\"PetalLengthCm\":1.4,\"PetalWidthCm\":0.2,\"Species\":0},{\"SepalLengthCm\":6.0,\"SepalWidthCm\":2.2,\"PetalLengthCm\":5.0,\"PetalWidthCm\":1.5,\"Species\":2},{\"SepalLengthCm\":6.9,\"SepalWidthCm\":3.2,\"PetalLengthCm\":5.7,\"PetalWidthCm\":2.3,\"Species\":2},{\"SepalLengthCm\":4.9,\"SepalWidthCm\":3.1,\"PetalLengthCm\":1.5,\"PetalWidthCm\":0.1,\"Species\":0},{\"SepalLengthCm\":6.3,\"SepalWidthCm\":2.3,\"PetalLengthCm\":4.4,\"PetalWidthCm\":1.3,\"Species\":1},{\"SepalLengthCm\":5.5,\"SepalWidthCm\":2.4,\"PetalLengthCm\":3.8,\"PetalWidthCm\":1.1,\"Species\":1},{\"SepalLengthCm\":5.2,\"SepalWidthCm\":3.5,\"PetalLengthCm\":1.5,\"PetalWidthCm\":0.2,\"Species\":0},{\"SepalLengthCm\":5.4,\"SepalWidthCm\":3.4,\"PetalLengthCm\":1.5,\"PetalWidthCm\":0.4,\"Species\":0},{\"SepalLengthCm\":5.6,\"SepalWidthCm\":2.7,\"PetalLengthCm\":4.2,\"PetalWidthCm\":1.3,\"Species\":1},{\"SepalLengthCm\":6.1,\"SepalWidthCm\":2.8,\"PetalLengthCm\":4.0,\"PetalWidthCm\":1.3,\"Species\":1},{\"SepalLengthCm\":4.8,\"SepalWidthCm\":3.4,\"PetalLengthCm\":1.9,\"PetalWidthCm\":0.2,\"Species\":0},{\"SepalLengthCm\":5.8,\"SepalWidthCm\":2.7,\"PetalLengthCm\":3.9,\"PetalWidthCm\":1.2,\"Species\":1},{\"SepalLengthCm\":5.0,\"SepalWidthCm\":3.6,\"PetalLengthCm\":1.4,\"PetalWidthCm\":0.2,\"Species\":0},{\"SepalLengthCm\":5.1,\"SepalWidthCm\":2.5,\"PetalLengthCm\":3.0,\"PetalWidthCm\":1.1,\"Species\":1},{\"SepalLengthCm\":5.0,\"SepalWidthCm\":2.0,\"PetalLengthCm\":3.5,\"PetalWidthCm\":1.0,\"Species\":1},{\"SepalLengthCm\":6.7,\"SepalWidthCm\":3.3,\"PetalLengthCm\":5.7,\"PetalWidthCm\":2.1,\"Species\":2},{\"SepalLengthCm\":5.6,\"SepalWidthCm\":3.0,\"PetalLengthCm\":4.1,\"PetalWidthCm\":1.3,\"Species\":1},{\"SepalLengthCm\":6.3,\"SepalWidthCm\":2.8,\"PetalLengthCm\":5.1,\"PetalWidthCm\":1.5,\"Species\":2},{\"SepalLengthCm\":5.8,\"SepalWidthCm\":2.7,\"PetalLengthCm\":4.1,\"PetalWidthCm\":1.0,\"Species\":1},{\"SepalLengthCm\":6.1,\"SepalWidthCm\":3.0,\"PetalLengthCm\":4.9,\"PetalWidthCm\":1.8,\"Species\":2},{\"SepalLengthCm\":5.7,\"SepalWidthCm\":3.0,\"PetalLengthCm\":4.2,\"PetalWidthCm\":1.2,\"Species\":1},{\"SepalLengthCm\":7.7,\"SepalWidthCm\":3.0,\"PetalLengthCm\":6.1,\"PetalWidthCm\":2.3,\"Species\":2},{\"SepalLengthCm\":7.7,\"SepalWidthCm\":3.8,\"PetalLengthCm\":6.7,\"PetalWidthCm\":2.2,\"Species\":2},{\"SepalLengthCm\":6.5,\"SepalWidthCm\":3.0,\"PetalLengthCm\":5.5,\"PetalWidthCm\":1.8,\"Species\":2},{\"SepalLengthCm\":4.6,\"SepalWidthCm\":3.1,\"PetalLengthCm\":1.5,\"PetalWidthCm\":0.2,\"Species\":0},{\"SepalLengthCm\":4.7,\"SepalWidthCm\":3.2,\"PetalLengthCm\":1.6,\"PetalWidthCm\":0.2,\"Species\":0},{\"SepalLengthCm\":4.9,\"SepalWidthCm\":3.0,\"PetalLengthCm\":1.4,\"PetalWidthCm\":0.2,\"Species\":0},{\"SepalLengthCm\":5.9,\"SepalWidthCm\":3.0,\"PetalLengthCm\":4.2,\"PetalWidthCm\":1.5,\"Species\":1},{\"SepalLengthCm\":4.8,\"SepalWidthCm\":3.0,\"PetalLengthCm\":1.4,\"PetalWidthCm\":0.3,\"Species\":0},{\"SepalLengthCm\":6.8,\"SepalWidthCm\":3.2,\"PetalLengthCm\":5.9,\"PetalWidthCm\":2.3,\"Species\":2},{\"SepalLengthCm\":6.7,\"SepalWidthCm\":3.1,\"PetalLengthCm\":4.7,\"PetalWidthCm\":1.5,\"Species\":1},{\"SepalLengthCm\":5.8,\"SepalWidthCm\":4.0,\"PetalLengthCm\":1.2,\"PetalWidthCm\":0.2,\"Species\":0},{\"SepalLengthCm\":5.1,\"SepalWidthCm\":3.4,\"PetalLengthCm\":1.5,\"PetalWidthCm\":0.2,\"Species\":0},{\"SepalLengthCm\":7.7,\"SepalWidthCm\":2.6,\"PetalLengthCm\":6.9,\"PetalWidthCm\":2.3,\"Species\":2},{\"SepalLengthCm\":5.0,\"SepalWidthCm\":2.3,\"PetalLengthCm\":3.3,\"PetalWidthCm\":1.0,\"Species\":1},{\"SepalLengthCm\":6.3,\"SepalWidthCm\":2.9,\"PetalLengthCm\":5.6,\"PetalWidthCm\":1.8,\"Species\":2},{\"SepalLengthCm\":7.4,\"SepalWidthCm\":2.8,\"PetalLengthCm\":6.1,\"PetalWidthCm\":1.9,\"Species\":2},{\"SepalLengthCm\":5.6,\"SepalWidthCm\":3.0,\"PetalLengthCm\":4.5,\"PetalWidthCm\":1.5,\"Species\":1},{\"SepalLengthCm\":6.0,\"SepalWidthCm\":3.0,\"PetalLengthCm\":4.8,\"PetalWidthCm\":1.8,\"Species\":2},{\"SepalLengthCm\":5.4,\"SepalWidthCm\":3.0,\"PetalLengthCm\":4.5,\"PetalWidthCm\":1.5,\"Species\":1},{\"SepalLengthCm\":6.4,\"SepalWidthCm\":2.8,\"PetalLengthCm\":5.6,\"PetalWidthCm\":2.1,\"Species\":2},{\"SepalLengthCm\":5.8,\"SepalWidthCm\":2.8,\"PetalLengthCm\":5.1,\"PetalWidthCm\":2.4,\"Species\":2},{\"SepalLengthCm\":6.0,\"SepalWidthCm\":2.2,\"PetalLengthCm\":4.0,\"PetalWidthCm\":1.0,\"Species\":1},{\"SepalLengthCm\":5.0,\"SepalWidthCm\":3.0,\"PetalLengthCm\":1.6,\"PetalWidthCm\":0.2,\"Species\":0},{\"SepalLengthCm\":5.5,\"SepalWidthCm\":2.3,\"PetalLengthCm\":4.0,\"PetalWidthCm\":1.3,\"Species\":1},{\"SepalLengthCm\":6.2,\"SepalWidthCm\":2.8,\"PetalLengthCm\":4.8,\"PetalWidthCm\":1.8,\"Species\":2},{\"SepalLengthCm\":4.6,\"SepalWidthCm\":3.6,\"PetalLengthCm\":1.0,\"PetalWidthCm\":0.2,\"Species\":0},{\"SepalLengthCm\":7.3,\"SepalWidthCm\":2.9,\"PetalLengthCm\":6.3,\"PetalWidthCm\":1.8,\"Species\":2},{\"SepalLengthCm\":6.5,\"SepalWidthCm\":2.8,\"PetalLengthCm\":4.6,\"PetalWidthCm\":1.5,\"Species\":1},{\"SepalLengthCm\":6.7,\"SepalWidthCm\":2.5,\"PetalLengthCm\":5.8,\"PetalWidthCm\":1.8,\"Species\":2},{\"SepalLengthCm\":6.4,\"SepalWidthCm\":3.2,\"PetalLengthCm\":4.5,\"PetalWidthCm\":1.5,\"Species\":1},{\"SepalLengthCm\":4.5,\"SepalWidthCm\":2.3,\"PetalLengthCm\":1.3,\"PetalWidthCm\":0.3,\"Species\":0},{\"SepalLengthCm\":6.6,\"SepalWidthCm\":3.0,\"PetalLengthCm\":4.4,\"PetalWidthCm\":1.4,\"Species\":1},{\"SepalLengthCm\":6.6,\"SepalWidthCm\":2.9,\"PetalLengthCm\":4.6,\"PetalWidthCm\":1.3,\"Species\":1},{\"SepalLengthCm\":6.2,\"SepalWidthCm\":2.9,\"PetalLengthCm\":4.3,\"PetalWidthCm\":1.3,\"Species\":1},{\"SepalLengthCm\":6.7,\"SepalWidthCm\":3.3,\"PetalLengthCm\":5.7,\"PetalWidthCm\":2.5,\"Species\":2},{\"SepalLengthCm\":7.7,\"SepalWidthCm\":2.8,\"PetalLengthCm\":6.7,\"PetalWidthCm\":2.0,\"Species\":2},{\"SepalLengthCm\":5.7,\"SepalWidthCm\":2.9,\"PetalLengthCm\":4.2,\"PetalWidthCm\":1.3,\"Species\":1},{\"SepalLengthCm\":5.1,\"SepalWidthCm\":3.5,\"PetalLengthCm\":1.4,\"PetalWidthCm\":0.3,\"Species\":0},{\"SepalLengthCm\":6.3,\"SepalWidthCm\":2.5,\"PetalLengthCm\":4.9,\"PetalWidthCm\":1.5,\"Species\":1},{\"SepalLengthCm\":6.4,\"SepalWidthCm\":3.1,\"PetalLengthCm\":5.5,\"PetalWidthCm\":1.8,\"Species\":2},{\"SepalLengthCm\":4.9,\"SepalWidthCm\":2.4,\"PetalLengthCm\":3.3,\"PetalWidthCm\":1.0,\"Species\":1},{\"SepalLengthCm\":6.7,\"SepalWidthCm\":3.0,\"PetalLengthCm\":5.0,\"PetalWidthCm\":1.7,\"Species\":1},{\"SepalLengthCm\":5.5,\"SepalWidthCm\":2.4,\"PetalLengthCm\":3.7,\"PetalWidthCm\":1.0,\"Species\":1},{\"SepalLengthCm\":6.2,\"SepalWidthCm\":3.4,\"PetalLengthCm\":5.4,\"PetalWidthCm\":2.3,\"Species\":2},{\"SepalLengthCm\":5.4,\"SepalWidthCm\":3.4,\"PetalLengthCm\":1.7,\"PetalWidthCm\":0.2,\"Species\":0},{\"SepalLengthCm\":7.2,\"SepalWidthCm\":3.6,\"PetalLengthCm\":6.1,\"PetalWidthCm\":2.5,\"Species\":2},{\"SepalLengthCm\":6.9,\"SepalWidthCm\":3.1,\"PetalLengthCm\":5.4,\"PetalWidthCm\":2.1,\"Species\":2},{\"SepalLengthCm\":5.1,\"SepalWidthCm\":3.8,\"PetalLengthCm\":1.6,\"PetalWidthCm\":0.2,\"Species\":0},{\"SepalLengthCm\":4.9,\"SepalWidthCm\":3.1,\"PetalLengthCm\":1.5,\"PetalWidthCm\":0.1,\"Species\":0},{\"SepalLengthCm\":6.1,\"SepalWidthCm\":2.9,\"PetalLengthCm\":4.7,\"PetalWidthCm\":1.4,\"Species\":1}];\n",
       "        </script>"
      ],
      "text/plain": [
       "<IPython.core.display.HTML object>"
      ]
     },
     "metadata": {},
     "output_type": "display_data"
    }
   ],
   "source": [
    "# convert dataframe to json string to be used by the html template\n",
    "jsonstr = df.to_json(orient='records')\n",
    "\n",
    "# Display the Dive visualization for this data\n",
    "deepdive_template = \"\"\"<link rel=\"import\" href=\"/nbextensions/facets-dist/facets-jupyter.html\">\n",
    "        <facets-dive sprite-image-width=\"32\" sprite-image-height=\"32\" id=\"deepdive\" height=\"600\" height=\"1000\"></facets-dive>\n",
    "        <script>\n",
    "          document.querySelector(\"#deepdive\").data = {jsonstr};\n",
    "        </script>\"\"\"\n",
    "\n",
    "# load data into template\n",
    "deepdive_html = deepdive_template.format(jsonstr=jsonstr)\n",
    "\n",
    "#display template\n",
    "display(HTML(deepdive_html))"
   ]
  },
  {
   "cell_type": "code",
   "execution_count": null,
   "metadata": {},
   "outputs": [],
   "source": []
  }
 ],
 "metadata": {
  "anaconda-cloud": {},
  "kernelspec": {
   "display_name": "Python [default]",
   "language": "python",
   "name": "python2"
  },
  "language_info": {
   "codemirror_mode": {
    "name": "ipython",
    "version": 2
   },
   "file_extension": ".py",
   "mimetype": "text/x-python",
   "name": "python",
   "nbconvert_exporter": "python",
   "pygments_lexer": "ipython2",
   "version": "2.7.12"
  }
 },
 "nbformat": 4,
 "nbformat_minor": 2
}
