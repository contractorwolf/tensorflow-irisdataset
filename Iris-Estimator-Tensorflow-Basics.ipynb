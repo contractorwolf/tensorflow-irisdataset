{
 "cells": [
  {
   "cell_type": "markdown",
   "metadata": {},
   "source": [
    "# 1. Setup libraries for Machine Learning "
   ]
  },
  {
   "cell_type": "markdown",
   "metadata": {},
   "source": [
    "The first step is to import all the libaries that will be needed to parse and explore the data"
   ]
  },
  {
   "cell_type": "code",
   "execution_count": 1,
   "metadata": {},
   "outputs": [
    {
     "name": "stdout",
     "output_type": "stream",
     "text": [
      "('TENSORFLOW VERSION: ', '1.4.1')\n"
     ]
    }
   ],
   "source": [
    "import sys\n",
    "import pandas as pd\n",
    "import base64\n",
    "\n",
    "# Add the facets overview python code to the python path\n",
    "import sys\n",
    "# generic_feature_statistics_generator is in the facets directory\n",
    "sys.path.append('./facets/facets_overview/python')\n",
    "\n",
    "\n",
    "from generic_feature_statistics_generator import GenericFeatureStatisticsGenerator\n",
    "from IPython.core.display import display, HTML\n",
    "\n",
    "# This Python 3 environment comes with many helpful analytics libraries installed\n",
    "# It is defined by the kaggle/python docker image: https://github.com/kaggle/docker-python\n",
    "import numpy as np              # linear algebra\n",
    "import pandas as pd             # data processing, CSV file I/O (e.g. pd.read_csv)\n",
    "import matplotlib.pyplot as plt # plotting\n",
    "import seaborn as sns           # plotting\n",
    "import tensorflow as tf         # machine learning\n",
    "\n",
    "# ML libraries \n",
    "from sklearn.preprocessing import LabelEncoder\n",
    "from sklearn.preprocessing import StandardScaler\n",
    "from sklearn.model_selection import train_test_split\n",
    "from sklearn.metrics import confusion_matrix, accuracy_score\n",
    "\n",
    "# path to save the model for future training or tensorflow serving\n",
    "model_path = 'models/temp/iris'\n",
    "\n",
    "# define feature columns for input feature data \n",
    "# *** pull this from the dataset?\n",
    "prediction_feature_columns = ['SepalLengthCm','SepalWidthCm','PetalLengthCm','PetalWidthCm']\n",
    "\n",
    "# define loacl file for training data with features and labels\n",
    "csv_file = 'datasets/iris.csv'\n",
    "\n",
    "# tell jupyter notebook to diplay plotted data inline\n",
    "%matplotlib inline \n",
    "\n",
    "# verify version of tensorflow, should be 1.4+ to use new Estimators feature\n",
    "print('TENSORFLOW VERSION: ', tf.__version__)\n"
   ]
  },
  {
   "cell_type": "markdown",
   "metadata": {},
   "source": [
    "# 2. Import Dataset from local CSV file"
   ]
  },
  {
   "cell_type": "code",
   "execution_count": 2,
   "metadata": {},
   "outputs": [
    {
     "data": {
      "text/html": [
       "<div>\n",
       "<table border=\"1\" class=\"dataframe\">\n",
       "  <thead>\n",
       "    <tr style=\"text-align: right;\">\n",
       "      <th></th>\n",
       "      <th>Id</th>\n",
       "      <th>SepalLengthCm</th>\n",
       "      <th>SepalWidthCm</th>\n",
       "      <th>PetalLengthCm</th>\n",
       "      <th>PetalWidthCm</th>\n",
       "      <th>Species</th>\n",
       "    </tr>\n",
       "  </thead>\n",
       "  <tbody>\n",
       "    <tr>\n",
       "      <th>0</th>\n",
       "      <td>1</td>\n",
       "      <td>5.1</td>\n",
       "      <td>3.5</td>\n",
       "      <td>1.4</td>\n",
       "      <td>0.2</td>\n",
       "      <td>Iris-setosa</td>\n",
       "    </tr>\n",
       "    <tr>\n",
       "      <th>1</th>\n",
       "      <td>2</td>\n",
       "      <td>4.9</td>\n",
       "      <td>3.0</td>\n",
       "      <td>1.4</td>\n",
       "      <td>0.2</td>\n",
       "      <td>Iris-setosa</td>\n",
       "    </tr>\n",
       "    <tr>\n",
       "      <th>2</th>\n",
       "      <td>3</td>\n",
       "      <td>4.7</td>\n",
       "      <td>3.2</td>\n",
       "      <td>1.3</td>\n",
       "      <td>0.2</td>\n",
       "      <td>Iris-setosa</td>\n",
       "    </tr>\n",
       "    <tr>\n",
       "      <th>3</th>\n",
       "      <td>4</td>\n",
       "      <td>4.6</td>\n",
       "      <td>3.1</td>\n",
       "      <td>1.5</td>\n",
       "      <td>0.2</td>\n",
       "      <td>Iris-setosa</td>\n",
       "    </tr>\n",
       "    <tr>\n",
       "      <th>4</th>\n",
       "      <td>5</td>\n",
       "      <td>5.0</td>\n",
       "      <td>3.6</td>\n",
       "      <td>1.4</td>\n",
       "      <td>0.2</td>\n",
       "      <td>Iris-setosa</td>\n",
       "    </tr>\n",
       "  </tbody>\n",
       "</table>\n",
       "</div>"
      ],
      "text/plain": [
       "   Id  SepalLengthCm  SepalWidthCm  PetalLengthCm  PetalWidthCm      Species\n",
       "0   1            5.1           3.5            1.4           0.2  Iris-setosa\n",
       "1   2            4.9           3.0            1.4           0.2  Iris-setosa\n",
       "2   3            4.7           3.2            1.3           0.2  Iris-setosa\n",
       "3   4            4.6           3.1            1.5           0.2  Iris-setosa\n",
       "4   5            5.0           3.6            1.4           0.2  Iris-setosa"
      ]
     },
     "execution_count": 2,
     "metadata": {},
     "output_type": "execute_result"
    }
   ],
   "source": [
    "# get full dataset from local CSV file\n",
    "df = pd.read_csv(csv_file)\n",
    "df.head()"
   ]
  },
  {
   "cell_type": "markdown",
   "metadata": {},
   "source": [
    "# 3. Clean up the Dataset"
   ]
  },
  {
   "cell_type": "code",
   "execution_count": 3,
   "metadata": {},
   "outputs": [],
   "source": [
    "# drop unnecessary 'Id' column from the dataset, doesnt help predict the label\n",
    "df.drop('Id', inplace=True, axis=1)"
   ]
  },
  {
   "cell_type": "code",
   "execution_count": 4,
   "metadata": {},
   "outputs": [
    {
     "data": {
      "text/html": [
       "<div>\n",
       "<table border=\"1\" class=\"dataframe\">\n",
       "  <thead>\n",
       "    <tr style=\"text-align: right;\">\n",
       "      <th></th>\n",
       "      <th>SepalLengthCm</th>\n",
       "      <th>SepalWidthCm</th>\n",
       "      <th>PetalLengthCm</th>\n",
       "      <th>PetalWidthCm</th>\n",
       "      <th>Species</th>\n",
       "    </tr>\n",
       "  </thead>\n",
       "  <tbody>\n",
       "    <tr>\n",
       "      <th>0</th>\n",
       "      <td>5.9</td>\n",
       "      <td>3.0</td>\n",
       "      <td>5.1</td>\n",
       "      <td>1.8</td>\n",
       "      <td>Iris-virginica</td>\n",
       "    </tr>\n",
       "    <tr>\n",
       "      <th>1</th>\n",
       "      <td>5.2</td>\n",
       "      <td>4.1</td>\n",
       "      <td>1.5</td>\n",
       "      <td>0.1</td>\n",
       "      <td>Iris-setosa</td>\n",
       "    </tr>\n",
       "    <tr>\n",
       "      <th>2</th>\n",
       "      <td>5.3</td>\n",
       "      <td>3.7</td>\n",
       "      <td>1.5</td>\n",
       "      <td>0.2</td>\n",
       "      <td>Iris-setosa</td>\n",
       "    </tr>\n",
       "    <tr>\n",
       "      <th>3</th>\n",
       "      <td>7.2</td>\n",
       "      <td>3.6</td>\n",
       "      <td>6.1</td>\n",
       "      <td>2.5</td>\n",
       "      <td>Iris-virginica</td>\n",
       "    </tr>\n",
       "    <tr>\n",
       "      <th>4</th>\n",
       "      <td>5.1</td>\n",
       "      <td>3.8</td>\n",
       "      <td>1.5</td>\n",
       "      <td>0.3</td>\n",
       "      <td>Iris-setosa</td>\n",
       "    </tr>\n",
       "  </tbody>\n",
       "</table>\n",
       "</div>"
      ],
      "text/plain": [
       "   SepalLengthCm  SepalWidthCm  PetalLengthCm  PetalWidthCm         Species\n",
       "0            5.9           3.0            5.1           1.8  Iris-virginica\n",
       "1            5.2           4.1            1.5           0.1     Iris-setosa\n",
       "2            5.3           3.7            1.5           0.2     Iris-setosa\n",
       "3            7.2           3.6            6.1           2.5  Iris-virginica\n",
       "4            5.1           3.8            1.5           0.3     Iris-setosa"
      ]
     },
     "execution_count": 4,
     "metadata": {},
     "output_type": "execute_result"
    }
   ],
   "source": [
    "# ALWAYS randomize sample\n",
    "df = df.sample(frac=1).reset_index(drop=True)\n",
    "df.head()"
   ]
  },
  {
   "cell_type": "code",
   "execution_count": 5,
   "metadata": {},
   "outputs": [
    {
     "data": {
      "text/html": [
       "<div>\n",
       "<table border=\"1\" class=\"dataframe\">\n",
       "  <thead>\n",
       "    <tr style=\"text-align: right;\">\n",
       "      <th></th>\n",
       "      <th>SepalLengthCm</th>\n",
       "      <th>SepalWidthCm</th>\n",
       "      <th>PetalLengthCm</th>\n",
       "      <th>PetalWidthCm</th>\n",
       "      <th>Species</th>\n",
       "    </tr>\n",
       "  </thead>\n",
       "  <tbody>\n",
       "    <tr>\n",
       "      <th>0</th>\n",
       "      <td>5.9</td>\n",
       "      <td>3.0</td>\n",
       "      <td>5.1</td>\n",
       "      <td>1.8</td>\n",
       "      <td>2</td>\n",
       "    </tr>\n",
       "    <tr>\n",
       "      <th>1</th>\n",
       "      <td>5.2</td>\n",
       "      <td>4.1</td>\n",
       "      <td>1.5</td>\n",
       "      <td>0.1</td>\n",
       "      <td>0</td>\n",
       "    </tr>\n",
       "    <tr>\n",
       "      <th>2</th>\n",
       "      <td>5.3</td>\n",
       "      <td>3.7</td>\n",
       "      <td>1.5</td>\n",
       "      <td>0.2</td>\n",
       "      <td>0</td>\n",
       "    </tr>\n",
       "    <tr>\n",
       "      <th>3</th>\n",
       "      <td>7.2</td>\n",
       "      <td>3.6</td>\n",
       "      <td>6.1</td>\n",
       "      <td>2.5</td>\n",
       "      <td>2</td>\n",
       "    </tr>\n",
       "    <tr>\n",
       "      <th>4</th>\n",
       "      <td>5.1</td>\n",
       "      <td>3.8</td>\n",
       "      <td>1.5</td>\n",
       "      <td>0.3</td>\n",
       "      <td>0</td>\n",
       "    </tr>\n",
       "  </tbody>\n",
       "</table>\n",
       "</div>"
      ],
      "text/plain": [
       "   SepalLengthCm  SepalWidthCm  PetalLengthCm  PetalWidthCm  Species\n",
       "0            5.9           3.0            5.1           1.8        2\n",
       "1            5.2           4.1            1.5           0.1        0\n",
       "2            5.3           3.7            1.5           0.2        0\n",
       "3            7.2           3.6            6.1           2.5        2\n",
       "4            5.1           3.8            1.5           0.3        0"
      ]
     },
     "execution_count": 5,
     "metadata": {},
     "output_type": "execute_result"
    }
   ],
   "source": [
    "# label encode the string label: Species\n",
    "# it should be a numeric value, instead of a string value\n",
    "# to do: use one-hot encoder instead of label encoder\n",
    "le = LabelEncoder()\n",
    "df.Species = le.fit_transform(df.Species)\n",
    "\n",
    "# show the cleaned dataset\n",
    "df.head()"
   ]
  },
  {
   "cell_type": "code",
   "execution_count": 11,
   "metadata": {},
   "outputs": [
    {
     "data": {
      "text/plain": [
       "0    2\n",
       "1    0\n",
       "2    0\n",
       "3    2\n",
       "4    0\n",
       "Name: Species, dtype: int64"
      ]
     },
     "execution_count": 11,
     "metadata": {},
     "output_type": "execute_result"
    }
   ],
   "source": [
    "# set just the label column to y for the train_test_split()\n",
    "# *** need to shuffle the dataset first?\n",
    "data_label = df.Species\n",
    "data_label.head()"
   ]
  },
  {
   "cell_type": "code",
   "execution_count": 6,
   "metadata": {},
   "outputs": [
    {
     "data": {
      "text/html": [
       "<div>\n",
       "<table border=\"1\" class=\"dataframe\">\n",
       "  <thead>\n",
       "    <tr style=\"text-align: right;\">\n",
       "      <th></th>\n",
       "      <th>SepalLengthCm</th>\n",
       "      <th>SepalWidthCm</th>\n",
       "      <th>PetalLengthCm</th>\n",
       "      <th>PetalWidthCm</th>\n",
       "    </tr>\n",
       "  </thead>\n",
       "  <tbody>\n",
       "    <tr>\n",
       "      <th>0</th>\n",
       "      <td>5.9</td>\n",
       "      <td>3.0</td>\n",
       "      <td>5.1</td>\n",
       "      <td>1.8</td>\n",
       "    </tr>\n",
       "    <tr>\n",
       "      <th>1</th>\n",
       "      <td>5.2</td>\n",
       "      <td>4.1</td>\n",
       "      <td>1.5</td>\n",
       "      <td>0.1</td>\n",
       "    </tr>\n",
       "    <tr>\n",
       "      <th>2</th>\n",
       "      <td>5.3</td>\n",
       "      <td>3.7</td>\n",
       "      <td>1.5</td>\n",
       "      <td>0.2</td>\n",
       "    </tr>\n",
       "    <tr>\n",
       "      <th>3</th>\n",
       "      <td>7.2</td>\n",
       "      <td>3.6</td>\n",
       "      <td>6.1</td>\n",
       "      <td>2.5</td>\n",
       "    </tr>\n",
       "    <tr>\n",
       "      <th>4</th>\n",
       "      <td>5.1</td>\n",
       "      <td>3.8</td>\n",
       "      <td>1.5</td>\n",
       "      <td>0.3</td>\n",
       "    </tr>\n",
       "  </tbody>\n",
       "</table>\n",
       "</div>"
      ],
      "text/plain": [
       "   SepalLengthCm  SepalWidthCm  PetalLengthCm  PetalWidthCm\n",
       "0            5.9           3.0            5.1           1.8\n",
       "1            5.2           4.1            1.5           0.1\n",
       "2            5.3           3.7            1.5           0.2\n",
       "3            7.2           3.6            6.1           2.5\n",
       "4            5.1           3.8            1.5           0.3"
      ]
     },
     "execution_count": 6,
     "metadata": {},
     "output_type": "execute_result"
    }
   ],
   "source": [
    "# remove the species column so that you can scale the rest of the values\n",
    "# the values are already stored in y variable\n",
    "# *** convert this to X values here, for clarity?\n",
    "data_features = df.drop('Species', inplace=False, axis=1)\n",
    "data_features.head()\n"
   ]
  },
  {
   "cell_type": "code",
   "execution_count": 9,
   "metadata": {},
   "outputs": [
    {
     "data": {
      "text/html": [
       "<div>\n",
       "<table border=\"1\" class=\"dataframe\">\n",
       "  <thead>\n",
       "    <tr style=\"text-align: right;\">\n",
       "      <th></th>\n",
       "      <th>SepalLengthCm</th>\n",
       "      <th>SepalWidthCm</th>\n",
       "      <th>PetalLengthCm</th>\n",
       "      <th>PetalWidthCm</th>\n",
       "    </tr>\n",
       "  </thead>\n",
       "  <tbody>\n",
       "    <tr>\n",
       "      <th>0</th>\n",
       "      <td>0.068662</td>\n",
       "      <td>-0.124958</td>\n",
       "      <td>0.762759</td>\n",
       "      <td>0.790591</td>\n",
       "    </tr>\n",
       "    <tr>\n",
       "      <th>1</th>\n",
       "      <td>-0.779513</td>\n",
       "      <td>2.420475</td>\n",
       "      <td>-1.284407</td>\n",
       "      <td>-1.444450</td>\n",
       "    </tr>\n",
       "    <tr>\n",
       "      <th>2</th>\n",
       "      <td>-0.658345</td>\n",
       "      <td>1.494863</td>\n",
       "      <td>-1.284407</td>\n",
       "      <td>-1.312977</td>\n",
       "    </tr>\n",
       "    <tr>\n",
       "      <th>3</th>\n",
       "      <td>1.643844</td>\n",
       "      <td>1.263460</td>\n",
       "      <td>1.331416</td>\n",
       "      <td>1.710902</td>\n",
       "    </tr>\n",
       "    <tr>\n",
       "      <th>4</th>\n",
       "      <td>-0.900681</td>\n",
       "      <td>1.726266</td>\n",
       "      <td>-1.284407</td>\n",
       "      <td>-1.181504</td>\n",
       "    </tr>\n",
       "  </tbody>\n",
       "</table>\n",
       "</div>"
      ],
      "text/plain": [
       "   SepalLengthCm  SepalWidthCm  PetalLengthCm  PetalWidthCm\n",
       "0       0.068662     -0.124958       0.762759      0.790591\n",
       "1      -0.779513      2.420475      -1.284407     -1.444450\n",
       "2      -0.658345      1.494863      -1.284407     -1.312977\n",
       "3       1.643844      1.263460       1.331416      1.710902\n",
       "4      -0.900681      1.726266      -1.284407     -1.181504"
      ]
     },
     "execution_count": 9,
     "metadata": {},
     "output_type": "execute_result"
    }
   ],
   "source": [
    "# scale data for better results\n",
    "# so that columns with larger values dont get weighed more\n",
    "# example: age change of 40 years (significant) vs income change of $40 (not significant)\n",
    "\n",
    "sc = StandardScaler(copy=True, with_mean=True, with_std=True)\n",
    "scaled_features = pd.DataFrame(sc.fit_transform(data_features), columns=[data_features.columns], index=data_features.index)\n",
    "\n",
    "# show scaled X values \n",
    "scaled_features.head() \n",
    "# THIS IS A DATAFRAME"
   ]
  },
  {
   "cell_type": "code",
   "execution_count": 12,
   "metadata": {},
   "outputs": [
    {
     "data": {
      "text/plain": [
       "0    2\n",
       "1    0\n",
       "2    0\n",
       "3    2\n",
       "4    0\n",
       "Name: Species, dtype: int64"
      ]
     },
     "execution_count": 12,
     "metadata": {},
     "output_type": "execute_result"
    }
   ],
   "source": [
    "# show labels (y values in equasion)\n",
    "data_label.head()\n",
    "# THIS IS A SERIES\n"
   ]
  },
  {
   "cell_type": "code",
   "execution_count": 13,
   "metadata": {},
   "outputs": [],
   "source": [
    "# do a 70/30 split of the data into a train_x and train_y (70% for training) \n",
    "# and a test_x and test_y (30% for validation) \n",
    "# X is a DATAFRAME of scaled features\n",
    "# y is a SERIES of labels\n",
    "train_x, test_x, train_y, test_y = train_test_split(scaled_features, data_label, test_size=0.30, random_state=101)\n",
    " "
   ]
  },
  {
   "cell_type": "code",
   "execution_count": 14,
   "metadata": {},
   "outputs": [
    {
     "name": "stdout",
     "output_type": "stream",
     "text": [
      "<class 'pandas.core.frame.DataFrame'>\n",
      "Int64Index: 45 entries, 33 to 66\n",
      "Data columns (total 4 columns):\n",
      "SepalLengthCm    45 non-null float64\n",
      "SepalWidthCm     45 non-null float64\n",
      "PetalLengthCm    45 non-null float64\n",
      "PetalWidthCm     45 non-null float64\n",
      "dtypes: float64(4)\n",
      "memory usage: 1.8 KB\n"
     ]
    }
   ],
   "source": [
    "test_x.info()"
   ]
  },
  {
   "cell_type": "markdown",
   "metadata": {},
   "source": [
    "# 4. Create Feature Columns List for Classifier"
   ]
  },
  {
   "cell_type": "code",
   "execution_count": 15,
   "metadata": {},
   "outputs": [],
   "source": [
    "# Feature columns describe how to use the input.\n",
    "# you need to define the name and type for each column of your training data\n",
    "my_feature_columns = []\n",
    "\n",
    "# numeric coulmns\n",
    "my_feature_columns.append(tf.feature_column.numeric_column(key='SepalLengthCm'));\n",
    "my_feature_columns.append(tf.feature_column.numeric_column(key='SepalWidthCm'));\n",
    "my_feature_columns.append(tf.feature_column.numeric_column(key='PetalLengthCm'));\n",
    "my_feature_columns.append(tf.feature_column.numeric_column(key='PetalWidthCm'));   \n",
    "\n",
    "# other column types\n",
    "# hashed strings or categorical features\n",
    "# example:\n",
    "# state = tf.feature_column.categorical_column_with_hash_bucket('state',100) \n",
    "# pick the right size for your data\n",
    "\n",
    "    "
   ]
  },
  {
   "cell_type": "markdown",
   "metadata": {},
   "source": [
    "# 5. Create Classifier from Feature Column list"
   ]
  },
  {
   "cell_type": "code",
   "execution_count": 16,
   "metadata": {},
   "outputs": [
    {
     "name": "stdout",
     "output_type": "stream",
     "text": [
      "INFO:tensorflow:Using default config.\n",
      "INFO:tensorflow:Using config: {'_save_checkpoints_secs': 600, '_session_config': None, '_keep_checkpoint_max': 5, '_task_type': 'worker', '_is_chief': True, '_cluster_spec': <tensorflow.python.training.server_lib.ClusterSpec object at 0x121a728d0>, '_save_checkpoints_steps': None, '_keep_checkpoint_every_n_hours': 10000, '_service': None, '_num_ps_replicas': 0, '_tf_random_seed': None, '_master': '', '_num_worker_replicas': 1, '_task_id': 0, '_log_step_count_steps': 100, '_model_dir': 'models/temp/iris', '_save_summary_steps': 100}\n"
     ]
    }
   ],
   "source": [
    "# Build 2 hidden layer DNN with 10, 10 units respectively\n",
    "# uses feature column types defined in the previous step\n",
    "classifier = tf.estimator.DNNClassifier(\n",
    "    # feature columns defined in the prev step\n",
    "    feature_columns=my_feature_columns,\n",
    "    # Two hidden layers of 10 nodes each.\n",
    "    hidden_units=[10, 10],\n",
    "    # The model must choose between 3 classes.\n",
    "    n_classes=3,\n",
    "    # save the model to a folder when run, reuse the same way\n",
    "    model_dir=model_path\n",
    ")\n"
   ]
  },
  {
   "cell_type": "code",
   "execution_count": 17,
   "metadata": {},
   "outputs": [],
   "source": [
    "# setup the train input function using the train_x and train_y datasource\n",
    "train_input_fn = tf.estimator.inputs.pandas_input_fn(train_x, y=train_y, num_epochs=5000, shuffle=True)\n"
   ]
  },
  {
   "cell_type": "markdown",
   "metadata": {},
   "source": [
    "# 6. Train Classifier"
   ]
  },
  {
   "cell_type": "code",
   "execution_count": 18,
   "metadata": {},
   "outputs": [
    {
     "name": "stdout",
     "output_type": "stream",
     "text": [
      "INFO:tensorflow:Create CheckpointSaverHook.\n",
      "INFO:tensorflow:Restoring parameters from models/temp/iris/model.ckpt-4102\n",
      "INFO:tensorflow:Saving checkpoints for 4103 into models/temp/iris/model.ckpt.\n",
      "INFO:tensorflow:loss = 5.604626, step = 4103\n",
      "INFO:tensorflow:global_step/sec: 380.548\n",
      "INFO:tensorflow:loss = 0.6619314, step = 4203 (0.268 sec)\n",
      "INFO:tensorflow:global_step/sec: 376.393\n",
      "INFO:tensorflow:loss = 0.15026246, step = 4303 (0.265 sec)\n",
      "INFO:tensorflow:global_step/sec: 380.205\n",
      "INFO:tensorflow:loss = 0.35306287, step = 4403 (0.263 sec)\n",
      "INFO:tensorflow:global_step/sec: 376.59\n",
      "INFO:tensorflow:loss = 0.29147115, step = 4503 (0.269 sec)\n",
      "INFO:tensorflow:global_step/sec: 343.415\n",
      "INFO:tensorflow:loss = 0.1299471, step = 4603 (0.287 sec)\n",
      "INFO:tensorflow:global_step/sec: 325.166\n",
      "INFO:tensorflow:loss = 0.14205196, step = 4703 (0.311 sec)\n",
      "INFO:tensorflow:global_step/sec: 385.17\n",
      "INFO:tensorflow:loss = 0.22692503, step = 4803 (0.255 sec)\n",
      "INFO:tensorflow:global_step/sec: 337.486\n",
      "INFO:tensorflow:loss = 0.09548258, step = 4903 (0.301 sec)\n",
      "INFO:tensorflow:global_step/sec: 384.394\n",
      "INFO:tensorflow:loss = 0.21961953, step = 5003 (0.256 sec)\n",
      "INFO:tensorflow:global_step/sec: 416.828\n",
      "INFO:tensorflow:loss = 0.09378722, step = 5103 (0.241 sec)\n",
      "INFO:tensorflow:global_step/sec: 393.455\n",
      "INFO:tensorflow:loss = 0.0728579, step = 5203 (0.255 sec)\n",
      "INFO:tensorflow:global_step/sec: 435.257\n",
      "INFO:tensorflow:loss = 0.17773283, step = 5303 (0.231 sec)\n",
      "INFO:tensorflow:global_step/sec: 404.855\n",
      "INFO:tensorflow:loss = 0.08402468, step = 5403 (0.245 sec)\n",
      "INFO:tensorflow:global_step/sec: 410.762\n",
      "INFO:tensorflow:loss = 0.08797601, step = 5503 (0.242 sec)\n",
      "INFO:tensorflow:global_step/sec: 386.418\n",
      "INFO:tensorflow:loss = 0.05710268, step = 5603 (0.258 sec)\n",
      "INFO:tensorflow:global_step/sec: 415.019\n",
      "INFO:tensorflow:loss = 0.06777411, step = 5703 (0.243 sec)\n",
      "INFO:tensorflow:global_step/sec: 408.493\n",
      "INFO:tensorflow:loss = 0.023150057, step = 5803 (0.243 sec)\n",
      "INFO:tensorflow:global_step/sec: 382.414\n",
      "INFO:tensorflow:loss = 0.117283, step = 5903 (0.262 sec)\n",
      "INFO:tensorflow:global_step/sec: 375.594\n",
      "INFO:tensorflow:loss = 0.0708043, step = 6003 (0.268 sec)\n",
      "INFO:tensorflow:global_step/sec: 300.739\n",
      "INFO:tensorflow:loss = 0.07242769, step = 6103 (0.330 sec)\n",
      "INFO:tensorflow:global_step/sec: 359.068\n",
      "INFO:tensorflow:loss = 0.081152305, step = 6203 (0.278 sec)\n",
      "INFO:tensorflow:global_step/sec: 354.456\n",
      "INFO:tensorflow:loss = 0.0776295, step = 6303 (0.289 sec)\n",
      "INFO:tensorflow:global_step/sec: 305.593\n",
      "INFO:tensorflow:loss = 0.060450587, step = 6403 (0.321 sec)\n",
      "INFO:tensorflow:global_step/sec: 336.03\n",
      "INFO:tensorflow:loss = 0.037004795, step = 6503 (0.299 sec)\n",
      "INFO:tensorflow:global_step/sec: 416.483\n",
      "INFO:tensorflow:loss = 0.06748934, step = 6603 (0.238 sec)\n",
      "INFO:tensorflow:global_step/sec: 407.513\n",
      "INFO:tensorflow:loss = 0.070777066, step = 6703 (0.247 sec)\n",
      "INFO:tensorflow:global_step/sec: 419.344\n",
      "INFO:tensorflow:loss = 0.061003968, step = 6803 (0.239 sec)\n",
      "INFO:tensorflow:global_step/sec: 396.639\n",
      "INFO:tensorflow:loss = 0.048245043, step = 6903 (0.251 sec)\n",
      "INFO:tensorflow:global_step/sec: 364.197\n",
      "INFO:tensorflow:loss = 0.085501514, step = 7003 (0.273 sec)\n",
      "INFO:tensorflow:global_step/sec: 420.751\n",
      "INFO:tensorflow:loss = 0.012209652, step = 7103 (0.239 sec)\n",
      "INFO:tensorflow:global_step/sec: 406.291\n",
      "INFO:tensorflow:loss = 0.014013074, step = 7203 (0.246 sec)\n",
      "INFO:tensorflow:global_step/sec: 409.992\n",
      "INFO:tensorflow:loss = 0.05041157, step = 7303 (0.243 sec)\n",
      "INFO:tensorflow:global_step/sec: 350.08\n",
      "INFO:tensorflow:loss = 0.022517093, step = 7403 (0.288 sec)\n",
      "INFO:tensorflow:global_step/sec: 426.157\n",
      "INFO:tensorflow:loss = 0.012360173, step = 7503 (0.237 sec)\n",
      "INFO:tensorflow:global_step/sec: 405.741\n",
      "INFO:tensorflow:loss = 0.026722157, step = 7603 (0.243 sec)\n",
      "INFO:tensorflow:global_step/sec: 422.786\n",
      "INFO:tensorflow:loss = 0.058590114, step = 7703 (0.238 sec)\n",
      "INFO:tensorflow:global_step/sec: 359.343\n",
      "INFO:tensorflow:loss = 0.057419885, step = 7803 (0.282 sec)\n",
      "INFO:tensorflow:global_step/sec: 334.455\n",
      "INFO:tensorflow:loss = 0.008306049, step = 7903 (0.299 sec)\n",
      "INFO:tensorflow:global_step/sec: 336.589\n",
      "INFO:tensorflow:loss = 0.035549648, step = 8003 (0.295 sec)\n",
      "INFO:tensorflow:global_step/sec: 384.561\n",
      "INFO:tensorflow:loss = 0.03276121, step = 8103 (0.258 sec)\n",
      "INFO:tensorflow:global_step/sec: 412.069\n",
      "INFO:tensorflow:loss = 0.084209606, step = 8203 (0.242 sec)\n",
      "INFO:tensorflow:Saving checkpoints for 8204 into models/temp/iris/model.ckpt.\n",
      "INFO:tensorflow:Loss for final step: 0.007022194.\n"
     ]
    },
    {
     "data": {
      "text/plain": [
       "<tensorflow.python.estimator.canned.dnn.DNNClassifier at 0x121a29e50>"
      ]
     },
     "execution_count": 18,
     "metadata": {},
     "output_type": "execute_result"
    }
   ],
   "source": [
    "# this is where training actually occurs, this will be a long running process on large datasets\n",
    "classifier.train(input_fn=train_input_fn)\n"
   ]
  },
  {
   "cell_type": "markdown",
   "metadata": {},
   "source": [
    "# 7. Test classifier with the 30% split data"
   ]
  },
  {
   "cell_type": "code",
   "execution_count": 19,
   "metadata": {},
   "outputs": [],
   "source": [
    "# validate the model using the x_test values to get a prediction for each one\n",
    "# then you can compare the predicted values against the known values in test_y\n",
    "# which will give you an accuracy score in percentage\n",
    "test_input_fn = tf.estimator.inputs.pandas_input_fn(test_x, num_epochs=1, shuffle=False)\n"
   ]
  },
  {
   "cell_type": "code",
   "execution_count": 20,
   "metadata": {},
   "outputs": [
    {
     "name": "stdout",
     "output_type": "stream",
     "text": [
      "INFO:tensorflow:Restoring parameters from models/temp/iris/model.ckpt-8204\n",
      "[{'probabilities': array([2.8553191e-07, 1.4047559e-07, 9.9999952e-01], dtype=float32), 'logits': array([-7.725773 , -8.435093 ,  7.3431387], dtype=float32), 'classes': array(['2'], dtype=object), 'class_ids': array([2])}, {'probabilities': array([9.9999976e-01, 3.7455752e-08, 2.6093042e-07], dtype=float32), 'logits': array([  6.5559154, -10.544189 ,  -8.603096 ], dtype=float32), 'classes': array(['0'], dtype=object), 'class_ids': array([0])}, {'probabilities': array([9.9999952e-01, 4.2856321e-08, 4.8011344e-07], dtype=float32), 'logits': array([  6.7573376, -10.208074 ,  -7.7919054], dtype=float32), 'classes': array(['0'], dtype=object), 'class_ids': array([0])}, {'probabilities': array([9.9999797e-01, 1.2909488e-06, 7.0771358e-07], dtype=float32), 'logits': array([ 6.238935 , -7.3211956, -7.92229  ], dtype=float32), 'classes': array(['0'], dtype=object), 'class_ids': array([0])}, {'probabilities': array([9.9997199e-01, 3.9304645e-08, 2.7965780e-05], dtype=float32), 'logits': array([  6.7523546, -10.2995405,  -3.732146 ], dtype=float32), 'classes': array(['0'], dtype=object), 'class_ids': array([0])}, {'probabilities': array([8.4417743e-06, 2.4280593e-02, 9.7571099e-01], dtype=float32), 'logits': array([-9.307955 , -1.3437148,  2.3497741], dtype=float32), 'classes': array(['2'], dtype=object), 'class_ids': array([2])}, {'probabilities': array([3.51865607e-12, 1.00250505e-16, 1.00000000e+00], dtype=float32), 'logits': array([-10.448323, -20.91424 ,  15.924619], dtype=float32), 'classes': array(['2'], dtype=object), 'class_ids': array([2])}, {'probabilities': array([6.6952408e-09, 4.9057616e-11, 1.0000000e+00], dtype=float32), 'logits': array([ -8.444724, -13.360882,  10.377145], dtype=float32), 'classes': array(['2'], dtype=object), 'class_ids': array([2])}, {'probabilities': array([6.8903699e-07, 9.3571413e-07, 9.9999833e-01], dtype=float32), 'logits': array([-7.6493144, -7.3433   ,  6.538655 ], dtype=float32), 'classes': array(['2'], dtype=object), 'class_ids': array([2])}, {'probabilities': array([1.00000000e+00, 1.12168136e-10, 1.21614907e-09], dtype=float32), 'logits': array([  6.9628277, -15.948195 , -13.564748 ], dtype=float32), 'classes': array(['0'], dtype=object), 'class_ids': array([0])}, {'probabilities': array([9.999999e-01, 2.304934e-08, 6.175316e-08], dtype=float32), 'logits': array([  6.0470963, -11.538532 , -10.553024 ], dtype=float32), 'classes': array(['0'], dtype=object), 'class_ids': array([0])}, {'probabilities': array([9.9999678e-01, 1.7556797e-06, 1.3727863e-06], dtype=float32), 'logits': array([ 6.3813596, -6.871292 , -7.117305 ], dtype=float32), 'classes': array(['0'], dtype=object), 'class_ids': array([0])}, {'probabilities': array([7.4284761e-09, 8.3465734e-11, 1.0000000e+00], dtype=float32), 'logits': array([ -8.52769 , -13.016328,  10.190256], dtype=float32), 'classes': array(['2'], dtype=object), 'class_ids': array([2])}, {'probabilities': array([9.9999082e-01, 9.0260373e-06, 1.6949083e-07], dtype=float32), 'logits': array([  4.7127237,  -6.902664 , -10.877734 ], dtype=float32), 'classes': array(['0'], dtype=object), 'class_ids': array([0])}, {'probabilities': array([4.6205477e-07, 2.4212744e-07, 9.9999928e-01], dtype=float32), 'logits': array([-7.526244, -8.172462,  7.061338], dtype=float32), 'classes': array(['2'], dtype=object), 'class_ids': array([2])}, {'probabilities': array([4.0083408e-09, 1.2117705e-13, 1.0000000e+00], dtype=float32), 'logits': array([ -6.7016582, -17.108292 ,  12.633231 ], dtype=float32), 'classes': array(['2'], dtype=object), 'class_ids': array([2])}, {'probabilities': array([9.9999964e-01, 1.0605380e-08, 3.2508109e-07], dtype=float32), 'logits': array([  7.1230936, -11.2388115,  -7.8160973], dtype=float32), 'classes': array(['0'], dtype=object), 'class_ids': array([0])}, {'probabilities': array([5.2426783e-09, 9.9999964e-01, 3.8566540e-07], dtype=float32), 'logits': array([-11.455434 ,   7.611    ,  -7.1572948], dtype=float32), 'classes': array(['1'], dtype=object), 'class_ids': array([1])}, {'probabilities': array([1.9653093e-07, 1.4579465e-08, 9.9999976e-01], dtype=float32), 'logits': array([-7.3595366, -9.960744 ,  8.082909 ], dtype=float32), 'classes': array(['2'], dtype=object), 'class_ids': array([2])}, {'probabilities': array([1.7860787e-08, 9.9999809e-01, 1.8737181e-06], dtype=float32), 'logits': array([-11.180598 ,   6.660059 ,  -6.5275245], dtype=float32), 'classes': array(['1'], dtype=object), 'class_ids': array([1])}, {'probabilities': array([6.9708194e-06, 3.9995345e-01, 6.0003954e-01], dtype=float32), 'logits': array([-12.058061  ,  -1.1006896 ,  -0.69504225], dtype=float32), 'classes': array(['2'], dtype=object), 'class_ids': array([2])}, {'probabilities': array([1.1270004e-06, 9.9999857e-01, 4.0845129e-07], dtype=float32), 'logits': array([-5.2808533,  8.415096 , -6.295796 ], dtype=float32), 'classes': array(['1'], dtype=object), 'class_ids': array([1])}, {'probabilities': array([3.3038081e-08, 1.0000000e+00, 4.2571116e-08], dtype=float32), 'logits': array([-7.809419 ,  9.416185 , -7.5559044], dtype=float32), 'classes': array(['1'], dtype=object), 'class_ids': array([1])}, {'probabilities': array([9.9999809e-01, 1.2286404e-07, 1.8004873e-06], dtype=float32), 'logits': array([ 6.6356616, -9.276525 , -6.5917897], dtype=float32), 'classes': array(['0'], dtype=object), 'class_ids': array([0])}, {'probabilities': array([2.3137261e-08, 5.0032278e-10, 1.0000000e+00], dtype=float32), 'logits': array([ -9.330014, -13.163962,   8.251806], dtype=float32), 'classes': array(['2'], dtype=object), 'class_ids': array([2])}, {'probabilities': array([9.2285923e-08, 9.9999952e-01, 3.2951107e-07], dtype=float32), 'logits': array([-7.2956166,  8.902757 , -6.0228987], dtype=float32), 'classes': array(['1'], dtype=object), 'class_ids': array([1])}, {'probabilities': array([8.4438045e-10, 1.0000000e+00, 5.6114963e-11], dtype=float32), 'logits': array([ -7.4530983,  13.43932  , -10.1643   ], dtype=float32), 'classes': array(['1'], dtype=object), 'class_ids': array([1])}, {'probabilities': array([2.1824435e-11, 9.9851137e-01, 1.4886403e-03], dtype=float32), 'logits': array([-19.88338  ,   4.6631203,  -1.845282 ], dtype=float32), 'classes': array(['1'], dtype=object), 'class_ids': array([1])}, {'probabilities': array([1.9858524e-08, 5.4888793e-12, 1.0000000e+00], dtype=float32), 'logits': array([ -6.8923693, -15.086034 ,  10.842263 ], dtype=float32), 'classes': array(['2'], dtype=object), 'class_ids': array([2])}, {'probabilities': array([1.1216715e-01, 8.8746840e-01, 3.6442906e-04], dtype=float32), 'logits': array([-2.0901556, -0.0217728, -7.819569 ], dtype=float32), 'classes': array(['1'], dtype=object), 'class_ids': array([1])}, {'probabilities': array([2.6413751e-05, 9.9954921e-01, 4.2427008e-04], dtype=float32), 'logits': array([-5.5726566,  4.9685183, -2.7961712], dtype=float32), 'classes': array(['1'], dtype=object), 'class_ids': array([1])}, {'probabilities': array([2.4250207e-10, 1.0000000e+00, 6.1349224e-11], dtype=float32), 'logits': array([-8.5967655, 13.543245 , -9.971192 ], dtype=float32), 'classes': array(['1'], dtype=object), 'class_ids': array([1])}, {'probabilities': array([9.7400061e-08, 9.6498006e-05, 9.9990344e-01], dtype=float32), 'logits': array([-11.584139,  -4.685688,   4.560204], dtype=float32), 'classes': array(['2'], dtype=object), 'class_ids': array([2])}, {'probabilities': array([1.9657775e-06, 1.9875471e-02, 9.8012251e-01], dtype=float32), 'logits': array([-10.896001 ,  -1.6746471,   2.2235441], dtype=float32), 'classes': array(['2'], dtype=object), 'class_ids': array([2])}, {'probabilities': array([9.9999976e-01, 8.1890818e-08, 1.1808877e-07], dtype=float32), 'logits': array([  5.980915, -10.336964,  -9.970914], dtype=float32), 'classes': array(['0'], dtype=object), 'class_ids': array([0])}, {'probabilities': array([1.0000000e+00, 5.3129064e-08, 2.8890936e-09], dtype=float32), 'logits': array([  4.4999566, -12.250585 , -15.162366 ], dtype=float32), 'classes': array(['0'], dtype=object), 'class_ids': array([0])}, {'probabilities': array([4.972042e-05, 7.968176e-02, 9.202685e-01], dtype=float32), 'logits': array([-8.07979  , -0.70041  ,  1.7462149], dtype=float32), 'classes': array(['2'], dtype=object), 'class_ids': array([2])}, {'probabilities': array([5.2306945e-09, 3.2326515e-13, 1.0000000e+00], dtype=float32), 'logits': array([ -6.7679253, -16.459505 ,  12.300797 ], dtype=float32), 'classes': array(['2'], dtype=object), 'class_ids': array([2])}, {'probabilities': array([2.7087670e-09, 5.7950763e-13, 1.0000000e+00], dtype=float32), 'logits': array([ -7.626972, -16.076797,  12.099801], dtype=float32), 'classes': array(['2'], dtype=object), 'class_ids': array([2])}, {'probabilities': array([9.7105382e-09, 1.6770272e-12, 1.0000000e+00], dtype=float32), 'logits': array([ -6.7699466, -15.433891 ,  11.680108 ], dtype=float32), 'classes': array(['2'], dtype=object), 'class_ids': array([2])}, {'probabilities': array([1.6997911e-09, 1.0000000e+00, 6.0776234e-10], dtype=float32), 'logits': array([-7.8706627, 12.322097 , -8.899139 ], dtype=float32), 'classes': array(['1'], dtype=object), 'class_ids': array([1])}, {'probabilities': array([8.6115924e-06, 3.5091295e-04, 9.9964046e-01], dtype=float32), 'logits': array([-7.618808 , -3.9113786,  4.043234 ], dtype=float32), 'classes': array(['2'], dtype=object), 'class_ids': array([2])}, {'probabilities': array([9.999989e-01, 4.528982e-07, 6.119933e-07], dtype=float32), 'logits': array([ 5.5349774, -9.07262  , -8.771565 ], dtype=float32), 'classes': array(['0'], dtype=object), 'class_ids': array([0])}, {'probabilities': array([1.9619097e-08, 9.9999893e-01, 1.1014483e-06], dtype=float32), 'logits': array([-10.604284 ,   7.142477 ,  -6.5764065], dtype=float32), 'classes': array(['1'], dtype=object), 'class_ids': array([1])}, {'probabilities': array([3.2857076e-07, 9.9999702e-01, 2.6696785e-06], dtype=float32), 'logits': array([-7.1571054,  7.771405 , -5.062144 ], dtype=float32), 'classes': array(['1'], dtype=object), 'class_ids': array([1])}]\n"
     ]
    }
   ],
   "source": [
    "test_result = list(classifier.predict(input_fn=test_input_fn))\n",
    "\n",
    "print(test_result)"
   ]
  },
  {
   "cell_type": "code",
   "execution_count": 21,
   "metadata": {},
   "outputs": [],
   "source": [
    "# build an array with just the predicted species (label encoded values) \n",
    "# filtering out all other prediction response data\n",
    "predicted_y = []\n",
    "for each in test_result:\n",
    "    predicted_y.append(each['class_ids'][0])"
   ]
  },
  {
   "cell_type": "code",
   "execution_count": 22,
   "metadata": {
    "scrolled": true
   },
   "outputs": [
    {
     "name": "stdout",
     "output_type": "stream",
     "text": [
      "OVERALL ACCURACY:\n",
      "0.9333333333333333\n",
      "\n",
      "CONFUSION MATRIX:\n",
      "[[13  1  0]\n",
      " [ 0 11  1]\n",
      " [ 0  1 18]]\n"
     ]
    }
   ],
   "source": [
    "# compare the predicted scores on the test data against the actual test_y values\n",
    "# with both a confusion matrix and an accuracy score\n",
    "print('OVERALL ACCURACY:')\n",
    "print(accuracy_score(test_y, predicted_y))\n",
    "\n",
    "print('')\n",
    "\n",
    "print('CONFUSION MATRIX:')\n",
    "print(confusion_matrix(test_y, predicted_y))\n"
   ]
  },
  {
   "cell_type": "markdown",
   "metadata": {},
   "source": [
    "# 8. Predict with new data records "
   ]
  },
  {
   "cell_type": "code",
   "execution_count": 27,
   "metadata": {},
   "outputs": [],
   "source": [
    "# test using single records (real world values)\n",
    "# one Iris-setosa, one Iris-versicolor\n",
    "new_records = pd.DataFrame([\n",
    "    [5.1, 3.5, 1.4, 0.2],  # first value to predict\n",
    "    [5.7, 2.8, 4.1, 1.3]], # second value to predict\n",
    "    columns=prediction_feature_columns)\n",
    " \n",
    "# these values must be scaled, to match what is used in the model\n",
    "scaled_new_records = pd.DataFrame(sc.transform(new_records), columns=[new_records.columns], index=new_records.index)\n",
    "\n",
    "#SepalLengthCm, SepalWidthCm, PetalLengthCm, PetalWidthCm\n",
    "#-1.870024, -0.124958, -1.511870, -1.444450 : 0\n",
    "# 1.522676, -0.124958, 1.217684, 1.185010 : 1\n"
   ]
  },
  {
   "cell_type": "code",
   "execution_count": 28,
   "metadata": {},
   "outputs": [],
   "source": [
    "# predict using the model to get a prediction for each item passed\n",
    "prediction_input_fn = tf.estimator.inputs.pandas_input_fn(scaled_new_records, num_epochs=1, shuffle=False)"
   ]
  },
  {
   "cell_type": "code",
   "execution_count": 29,
   "metadata": {},
   "outputs": [
    {
     "name": "stdout",
     "output_type": "stream",
     "text": [
      "INFO:tensorflow:Restoring parameters from models/temp/iris/model.ckpt-8204\n"
     ]
    },
    {
     "data": {
      "text/plain": [
       "[{'class_ids': array([0]),\n",
       "  'classes': array(['0'], dtype=object),\n",
       "  'logits': array([  6.447382, -11.199646,  -9.589509], dtype=float32),\n",
       "  'probabilities': array([9.9999988e-01, 2.1676696e-08, 1.0845917e-07], dtype=float32)},\n",
       " {'class_ids': array([1]),\n",
       "  'classes': array(['1'], dtype=object),\n",
       "  'logits': array([-6.894826,  7.952074, -6.275165], dtype=float32),\n",
       "  'probabilities': array([3.565109e-07, 9.999989e-01, 6.625030e-07], dtype=float32)}]"
      ]
     },
     "execution_count": 29,
     "metadata": {},
     "output_type": "execute_result"
    }
   ],
   "source": [
    "prediction_result = list(classifier.predict(input_fn=prediction_input_fn))\n",
    "\n",
    "prediction_result"
   ]
  },
  {
   "cell_type": "markdown",
   "metadata": {},
   "source": [
    "# 9. Decode new predictions"
   ]
  },
  {
   "cell_type": "code",
   "execution_count": 30,
   "metadata": {},
   "outputs": [
    {
     "name": "stdout",
     "output_type": "stream",
     "text": [
      "   SepalLengthCm  SepalWidthCm  PetalLengthCm  PetalWidthCm\n",
      "0            5.1           3.5            1.4           0.2\n",
      "('*** PREDICTION: ', 0, '(Label Decoded: ', 'Iris-setosa', ')')\n",
      "\n",
      "   SepalLengthCm  SepalWidthCm  PetalLengthCm  PetalWidthCm\n",
      "1            5.7           2.8            4.1           1.3\n",
      "('*** PREDICTION: ', 1, '(Label Decoded: ', 'Iris-versicolor', ')')\n",
      "\n"
     ]
    },
    {
     "name": "stderr",
     "output_type": "stream",
     "text": [
      "/Users/jameswolf/anaconda/lib/python2.7/site-packages/sklearn/preprocessing/label.py:151: DeprecationWarning: The truth value of an empty array is ambiguous. Returning False, but in future this will result in an error. Use `array.size > 0` to check that an array is not empty.\n",
      "  if diff:\n",
      "/Users/jameswolf/anaconda/lib/python2.7/site-packages/sklearn/preprocessing/label.py:151: DeprecationWarning: The truth value of an empty array is ambiguous. Returning False, but in future this will result in an error. Use `array.size > 0` to check that an array is not empty.\n",
      "  if diff:\n"
     ]
    }
   ],
   "source": [
    "# for each of the results\n",
    "i = 0\n",
    "for each in prediction_result:\n",
    "    # print the values used in the prediction\n",
    "    print(new_records.iloc[[i]])\n",
    "    \n",
    "    # print the transformed label-encoded value\n",
    "    print('*** PREDICTION: ', each['class_ids'][0], '(Label Decoded: ', le.inverse_transform(each['class_ids'][0]), ')')\n",
    "    print('')\n",
    "    \n",
    "    # go to next row\n",
    "    i = i + 1\n",
    "    \n",
    "#-1.870024, -0.124958, -1.511870, -1.444450 : 0\n",
    "# 1.522676, -0.124958, 1.217684, 1.185010 : 1"
   ]
  },
  {
   "cell_type": "markdown",
   "metadata": {},
   "source": [
    "# 10. Save Model for Tensorflow Serving"
   ]
  },
  {
   "cell_type": "code",
   "execution_count": 31,
   "metadata": {},
   "outputs": [
    {
     "name": "stdout",
     "output_type": "stream",
     "text": [
      "INFO:tensorflow:Restoring parameters from models/temp/iris/model.ckpt-8204\n",
      "INFO:tensorflow:Assets added to graph.\n",
      "INFO:tensorflow:No assets to write.\n",
      "INFO:tensorflow:SavedModel written to: serving/models/iris/temp-1523681786/saved_model.pb\n"
     ]
    },
    {
     "data": {
      "text/plain": [
       "'serving/models/iris/1523681786'"
      ]
     },
     "execution_count": 31,
     "metadata": {},
     "output_type": "execute_result"
    }
   ],
   "source": [
    "export_dir=\"serving/models/iris/\"\n",
    "\n",
    "feature_spec = tf.feature_column.make_parse_example_spec(my_feature_columns)\n",
    "\n",
    "input_receiver_fn = tf.estimator.export.build_parsing_serving_input_receiver_fn(feature_spec)\n",
    "\n",
    "classifier.export_savedmodel(export_dir, input_receiver_fn, as_text=False) "
   ]
  },
  {
   "cell_type": "markdown",
   "metadata": {},
   "source": [
    "# 11. Make predictions from the saved DNNClassifier model"
   ]
  },
  {
   "cell_type": "markdown",
   "metadata": {},
   "source": [
    "https://www.kaggle.com/jeffcarp/example-save-and-load-a-tensorflow-model"
   ]
  },
  {
   "cell_type": "code",
   "execution_count": 32,
   "metadata": {},
   "outputs": [
    {
     "name": "stdout",
     "output_type": "stream",
     "text": [
      "SepalLengthCm\n",
      "SepalWidthCm\n",
      "PetalLengthCm\n",
      "PetalWidthCm\n",
      "INFO:tensorflow:Using default config.\n",
      "INFO:tensorflow:Using config: {'_save_checkpoints_secs': 600, '_session_config': None, '_keep_checkpoint_max': 5, '_task_type': 'worker', '_is_chief': True, '_cluster_spec': <tensorflow.python.training.server_lib.ClusterSpec object at 0x123b40ed0>, '_save_checkpoints_steps': None, '_keep_checkpoint_every_n_hours': 10000, '_service': None, '_num_ps_replicas': 0, '_tf_random_seed': None, '_master': '', '_num_worker_replicas': 1, '_task_id': 0, '_log_step_count_steps': 100, '_model_dir': 'models/temp/iris', '_save_summary_steps': 100}\n",
      "INFO:tensorflow:Restoring parameters from models/temp/iris/model.ckpt-8204\n"
     ]
    },
    {
     "data": {
      "text/plain": [
       "[{'class_ids': array([0]),\n",
       "  'classes': array(['0'], dtype=object),\n",
       "  'logits': array([  6.447382, -11.199646,  -9.589509], dtype=float32),\n",
       "  'probabilities': array([9.9999988e-01, 2.1676696e-08, 1.0845917e-07], dtype=float32)},\n",
       " {'class_ids': array([1]),\n",
       "  'classes': array(['1'], dtype=object),\n",
       "  'logits': array([-6.894826,  7.952074, -6.275165], dtype=float32),\n",
       "  'probabilities': array([3.565109e-07, 9.999989e-01, 6.625030e-07], dtype=float32)}]"
      ]
     },
     "execution_count": 32,
     "metadata": {},
     "output_type": "execute_result"
    }
   ],
   "source": [
    "# this should load the model from the last saved in the model_dir\n",
    "# so everything it needs should be included below\n",
    "\n",
    "# input column names\n",
    "columns_names = ['SepalLengthCm','SepalWidthCm','PetalLengthCm','PetalWidthCm']\n",
    "\n",
    "# where the model was last saved \n",
    "model_path = 'models/temp/iris' \n",
    "\n",
    "# define columns in model using the column_names list\n",
    "hardcoded_feature_columns = []\n",
    "for key in columns_names:\n",
    "    hardcoded_feature_columns.append(tf.feature_column.numeric_column(key=key))\n",
    "    print(key)\n",
    "\n",
    "# create a classifier using the defined columns and the pre-defined model\n",
    "saved_estimator = tf.estimator.DNNClassifier(\n",
    "    # feature column array of tf.feature_column types, defined in the prev step\n",
    "    feature_columns=hardcoded_feature_columns,\n",
    "    # Two hidden layers of 10 nodes each.\n",
    "    hidden_units=[10, 10],\n",
    "    # The model must choose between 3 classes.\n",
    "    n_classes=3,\n",
    "    # use saved model from folder\n",
    "    model_dir=model_path\n",
    ")\n",
    "\n",
    "# test using single records (2 real world values)\n",
    "# one Iris-setosa, one Iris-versicolor\n",
    "records_to_predict = pd.DataFrame([\n",
    "    [5.1, 3.5, 1.4, 0.2], # first records features\n",
    "    [5.7, 2.8, 4.1, 1.3]],# second record features\n",
    "    columns=columns_names)# defined column names\n",
    " \n",
    "# these values must be scaled, to match what is used in the model\n",
    "scaled_records_to_predict = pd.DataFrame(sc.transform(records_to_predict), columns=[records_to_predict.columns], index=records_to_predict.index)\n",
    "\n",
    "# predict using the model to get a prediction for each item passed\n",
    "saved_prediction_input_fn = tf.estimator.inputs.pandas_input_fn(scaled_records_to_predict, num_epochs=1, shuffle=False)\n",
    "\n",
    "# make predictions and store as a list\n",
    "saved_prediction_result = list(saved_estimator.predict(input_fn=saved_prediction_input_fn))\n",
    "\n",
    "# output prediction values\n",
    "saved_prediction_result\n",
    "\n",
    "#SepalLengthCm, SepalWidthCm, PetalLengthCm, PetalWidthCm\n",
    "#-1.870024, -0.124958, -1.511870, -1.444450 : 0\n",
    "# 1.522676, -0.124958, 1.217684, 1.185010 : 1\n",
    "#estimator_from_file = load_estimator_model('models/iris/1520662093')"
   ]
  },
  {
   "cell_type": "markdown",
   "metadata": {},
   "source": [
    "# END"
   ]
  },
  {
   "cell_type": "markdown",
   "metadata": {},
   "source": [
    "Juest testing features and note below this line, not part of main execution"
   ]
  },
  {
   "cell_type": "code",
   "execution_count": 34,
   "metadata": {},
   "outputs": [
    {
     "data": {
      "text/html": [
       "<div>\n",
       "<table border=\"1\" class=\"dataframe\">\n",
       "  <thead>\n",
       "    <tr style=\"text-align: right;\">\n",
       "      <th></th>\n",
       "      <th>SepalLengthCm</th>\n",
       "      <th>SepalWidthCm</th>\n",
       "      <th>PetalLengthCm</th>\n",
       "      <th>PetalWidthCm</th>\n",
       "      <th>Species</th>\n",
       "    </tr>\n",
       "  </thead>\n",
       "  <tbody>\n",
       "    <tr>\n",
       "      <th>0</th>\n",
       "      <td>5.9</td>\n",
       "      <td>3.0</td>\n",
       "      <td>5.1</td>\n",
       "      <td>1.8</td>\n",
       "      <td>2</td>\n",
       "    </tr>\n",
       "    <tr>\n",
       "      <th>1</th>\n",
       "      <td>5.2</td>\n",
       "      <td>4.1</td>\n",
       "      <td>1.5</td>\n",
       "      <td>0.1</td>\n",
       "      <td>0</td>\n",
       "    </tr>\n",
       "    <tr>\n",
       "      <th>2</th>\n",
       "      <td>5.3</td>\n",
       "      <td>3.7</td>\n",
       "      <td>1.5</td>\n",
       "      <td>0.2</td>\n",
       "      <td>0</td>\n",
       "    </tr>\n",
       "    <tr>\n",
       "      <th>3</th>\n",
       "      <td>7.2</td>\n",
       "      <td>3.6</td>\n",
       "      <td>6.1</td>\n",
       "      <td>2.5</td>\n",
       "      <td>2</td>\n",
       "    </tr>\n",
       "    <tr>\n",
       "      <th>4</th>\n",
       "      <td>5.1</td>\n",
       "      <td>3.8</td>\n",
       "      <td>1.5</td>\n",
       "      <td>0.3</td>\n",
       "      <td>0</td>\n",
       "    </tr>\n",
       "  </tbody>\n",
       "</table>\n",
       "</div>"
      ],
      "text/plain": [
       "   SepalLengthCm  SepalWidthCm  PetalLengthCm  PetalWidthCm  Species\n",
       "0            5.9           3.0            5.1           1.8        2\n",
       "1            5.2           4.1            1.5           0.1        0\n",
       "2            5.3           3.7            1.5           0.2        0\n",
       "3            7.2           3.6            6.1           2.5        2\n",
       "4            5.1           3.8            1.5           0.3        0"
      ]
     },
     "execution_count": 34,
     "metadata": {},
     "output_type": "execute_result"
    }
   ],
   "source": [
    "df.head()"
   ]
  },
  {
   "cell_type": "code",
   "execution_count": 35,
   "metadata": {},
   "outputs": [
    {
     "data": {
      "text/html": [
       "<link rel=\"import\" href=\"/nbextensions/facets-dist/facets-jupyter.html\">\n",
       "        <facets-dive sprite-image-width=\"32\" sprite-image-height=\"32\" id=\"elem\" height=\"600\"></facets-dive>\n",
       "        <script>\n",
       "          var data = [{\"SepalLengthCm\":5.9,\"SepalWidthCm\":3.0,\"PetalLengthCm\":5.1,\"PetalWidthCm\":1.8,\"Species\":2},{\"SepalLengthCm\":5.2,\"SepalWidthCm\":4.1,\"PetalLengthCm\":1.5,\"PetalWidthCm\":0.1,\"Species\":0},{\"SepalLengthCm\":5.3,\"SepalWidthCm\":3.7,\"PetalLengthCm\":1.5,\"PetalWidthCm\":0.2,\"Species\":0},{\"SepalLengthCm\":7.2,\"SepalWidthCm\":3.6,\"PetalLengthCm\":6.1,\"PetalWidthCm\":2.5,\"Species\":2},{\"SepalLengthCm\":5.1,\"SepalWidthCm\":3.8,\"PetalLengthCm\":1.5,\"PetalWidthCm\":0.3,\"Species\":0},{\"SepalLengthCm\":6.3,\"SepalWidthCm\":2.5,\"PetalLengthCm\":4.9,\"PetalWidthCm\":1.5,\"Species\":1},{\"SepalLengthCm\":4.8,\"SepalWidthCm\":3.1,\"PetalLengthCm\":1.6,\"PetalWidthCm\":0.2,\"Species\":0},{\"SepalLengthCm\":5.8,\"SepalWidthCm\":2.7,\"PetalLengthCm\":4.1,\"PetalWidthCm\":1.0,\"Species\":1},{\"SepalLengthCm\":6.6,\"SepalWidthCm\":3.0,\"PetalLengthCm\":4.4,\"PetalWidthCm\":1.4,\"Species\":1},{\"SepalLengthCm\":4.4,\"SepalWidthCm\":3.0,\"PetalLengthCm\":1.3,\"PetalWidthCm\":0.2,\"Species\":0},{\"SepalLengthCm\":5.5,\"SepalWidthCm\":2.6,\"PetalLengthCm\":4.4,\"PetalWidthCm\":1.2,\"Species\":1},{\"SepalLengthCm\":5.7,\"SepalWidthCm\":4.4,\"PetalLengthCm\":1.5,\"PetalWidthCm\":0.4,\"Species\":0},{\"SepalLengthCm\":5.1,\"SepalWidthCm\":3.4,\"PetalLengthCm\":1.5,\"PetalWidthCm\":0.2,\"Species\":0},{\"SepalLengthCm\":4.8,\"SepalWidthCm\":3.0,\"PetalLengthCm\":1.4,\"PetalWidthCm\":0.3,\"Species\":0},{\"SepalLengthCm\":5.1,\"SepalWidthCm\":3.5,\"PetalLengthCm\":1.4,\"PetalWidthCm\":0.3,\"Species\":0},{\"SepalLengthCm\":7.7,\"SepalWidthCm\":3.0,\"PetalLengthCm\":6.1,\"PetalWidthCm\":2.3,\"Species\":2},{\"SepalLengthCm\":5.0,\"SepalWidthCm\":3.4,\"PetalLengthCm\":1.5,\"PetalWidthCm\":0.2,\"Species\":0},{\"SepalLengthCm\":5.7,\"SepalWidthCm\":2.6,\"PetalLengthCm\":3.5,\"PetalWidthCm\":1.0,\"Species\":1},{\"SepalLengthCm\":6.9,\"SepalWidthCm\":3.1,\"PetalLengthCm\":5.4,\"PetalWidthCm\":2.1,\"Species\":2},{\"SepalLengthCm\":5.0,\"SepalWidthCm\":3.2,\"PetalLengthCm\":1.2,\"PetalWidthCm\":0.2,\"Species\":0},{\"SepalLengthCm\":6.8,\"SepalWidthCm\":2.8,\"PetalLengthCm\":4.8,\"PetalWidthCm\":1.4,\"Species\":1},{\"SepalLengthCm\":6.2,\"SepalWidthCm\":2.9,\"PetalLengthCm\":4.3,\"PetalWidthCm\":1.3,\"Species\":1},{\"SepalLengthCm\":6.3,\"SepalWidthCm\":2.7,\"PetalLengthCm\":4.9,\"PetalWidthCm\":1.8,\"Species\":2},{\"SepalLengthCm\":6.7,\"SepalWidthCm\":3.3,\"PetalLengthCm\":5.7,\"PetalWidthCm\":2.1,\"Species\":2},{\"SepalLengthCm\":6.3,\"SepalWidthCm\":3.4,\"PetalLengthCm\":5.6,\"PetalWidthCm\":2.4,\"Species\":2},{\"SepalLengthCm\":5.8,\"SepalWidthCm\":2.8,\"PetalLengthCm\":5.1,\"PetalWidthCm\":2.4,\"Species\":2},{\"SepalLengthCm\":6.8,\"SepalWidthCm\":3.0,\"PetalLengthCm\":5.5,\"PetalWidthCm\":2.1,\"Species\":2},{\"SepalLengthCm\":5.2,\"SepalWidthCm\":3.4,\"PetalLengthCm\":1.4,\"PetalWidthCm\":0.2,\"Species\":0},{\"SepalLengthCm\":5.4,\"SepalWidthCm\":3.9,\"PetalLengthCm\":1.7,\"PetalWidthCm\":0.4,\"Species\":0},{\"SepalLengthCm\":5.0,\"SepalWidthCm\":3.5,\"PetalLengthCm\":1.6,\"PetalWidthCm\":0.6,\"Species\":0},{\"SepalLengthCm\":5.6,\"SepalWidthCm\":2.7,\"PetalLengthCm\":4.2,\"PetalWidthCm\":1.3,\"Species\":1},{\"SepalLengthCm\":6.9,\"SepalWidthCm\":3.2,\"PetalLengthCm\":5.7,\"PetalWidthCm\":2.3,\"Species\":2},{\"SepalLengthCm\":4.8,\"SepalWidthCm\":3.0,\"PetalLengthCm\":1.4,\"PetalWidthCm\":0.1,\"Species\":0},{\"SepalLengthCm\":6.5,\"SepalWidthCm\":3.0,\"PetalLengthCm\":5.5,\"PetalWidthCm\":1.8,\"Species\":2},{\"SepalLengthCm\":7.4,\"SepalWidthCm\":2.8,\"PetalLengthCm\":6.1,\"PetalWidthCm\":1.9,\"Species\":2},{\"SepalLengthCm\":5.2,\"SepalWidthCm\":2.7,\"PetalLengthCm\":3.9,\"PetalWidthCm\":1.4,\"Species\":1},{\"SepalLengthCm\":6.2,\"SepalWidthCm\":2.8,\"PetalLengthCm\":4.8,\"PetalWidthCm\":1.8,\"Species\":2},{\"SepalLengthCm\":6.7,\"SepalWidthCm\":3.0,\"PetalLengthCm\":5.0,\"PetalWidthCm\":1.7,\"Species\":1},{\"SepalLengthCm\":6.3,\"SepalWidthCm\":3.3,\"PetalLengthCm\":4.7,\"PetalWidthCm\":1.6,\"Species\":1},{\"SepalLengthCm\":4.6,\"SepalWidthCm\":3.6,\"PetalLengthCm\":1.0,\"PetalWidthCm\":0.2,\"Species\":0},{\"SepalLengthCm\":6.8,\"SepalWidthCm\":3.2,\"PetalLengthCm\":5.9,\"PetalWidthCm\":2.3,\"Species\":2},{\"SepalLengthCm\":4.5,\"SepalWidthCm\":2.3,\"PetalLengthCm\":1.3,\"PetalWidthCm\":0.3,\"Species\":0},{\"SepalLengthCm\":6.4,\"SepalWidthCm\":3.2,\"PetalLengthCm\":5.3,\"PetalWidthCm\":2.3,\"Species\":2},{\"SepalLengthCm\":4.8,\"SepalWidthCm\":3.4,\"PetalLengthCm\":1.9,\"PetalWidthCm\":0.2,\"Species\":0},{\"SepalLengthCm\":5.0,\"SepalWidthCm\":3.6,\"PetalLengthCm\":1.4,\"PetalWidthCm\":0.2,\"Species\":0},{\"SepalLengthCm\":6.4,\"SepalWidthCm\":2.7,\"PetalLengthCm\":5.3,\"PetalWidthCm\":1.9,\"Species\":2},{\"SepalLengthCm\":4.4,\"SepalWidthCm\":3.2,\"PetalLengthCm\":1.3,\"PetalWidthCm\":0.2,\"Species\":0},{\"SepalLengthCm\":6.1,\"SepalWidthCm\":2.9,\"PetalLengthCm\":4.7,\"PetalWidthCm\":1.4,\"Species\":1},{\"SepalLengthCm\":5.6,\"SepalWidthCm\":3.0,\"PetalLengthCm\":4.1,\"PetalWidthCm\":1.3,\"Species\":1},{\"SepalLengthCm\":4.9,\"SepalWidthCm\":3.0,\"PetalLengthCm\":1.4,\"PetalWidthCm\":0.2,\"Species\":0},{\"SepalLengthCm\":4.4,\"SepalWidthCm\":2.9,\"PetalLengthCm\":1.4,\"PetalWidthCm\":0.2,\"Species\":0},{\"SepalLengthCm\":4.7,\"SepalWidthCm\":3.2,\"PetalLengthCm\":1.3,\"PetalWidthCm\":0.2,\"Species\":0},{\"SepalLengthCm\":6.0,\"SepalWidthCm\":2.9,\"PetalLengthCm\":4.5,\"PetalWidthCm\":1.5,\"Species\":1},{\"SepalLengthCm\":6.7,\"SepalWidthCm\":3.3,\"PetalLengthCm\":5.7,\"PetalWidthCm\":2.5,\"Species\":2},{\"SepalLengthCm\":5.8,\"SepalWidthCm\":2.7,\"PetalLengthCm\":5.1,\"PetalWidthCm\":1.9,\"Species\":2},{\"SepalLengthCm\":5.8,\"SepalWidthCm\":4.0,\"PetalLengthCm\":1.2,\"PetalWidthCm\":0.2,\"Species\":0},{\"SepalLengthCm\":5.0,\"SepalWidthCm\":2.0,\"PetalLengthCm\":3.5,\"PetalWidthCm\":1.0,\"Species\":1},{\"SepalLengthCm\":6.2,\"SepalWidthCm\":2.2,\"PetalLengthCm\":4.5,\"PetalWidthCm\":1.5,\"Species\":1},{\"SepalLengthCm\":5.7,\"SepalWidthCm\":2.9,\"PetalLengthCm\":4.2,\"PetalWidthCm\":1.3,\"Species\":1},{\"SepalLengthCm\":6.7,\"SepalWidthCm\":3.1,\"PetalLengthCm\":4.7,\"PetalWidthCm\":1.5,\"Species\":1},{\"SepalLengthCm\":5.4,\"SepalWidthCm\":3.0,\"PetalLengthCm\":4.5,\"PetalWidthCm\":1.5,\"Species\":1},{\"SepalLengthCm\":6.4,\"SepalWidthCm\":2.8,\"PetalLengthCm\":5.6,\"PetalWidthCm\":2.2,\"Species\":2},{\"SepalLengthCm\":5.8,\"SepalWidthCm\":2.7,\"PetalLengthCm\":5.1,\"PetalWidthCm\":1.9,\"Species\":2},{\"SepalLengthCm\":5.1,\"SepalWidthCm\":3.8,\"PetalLengthCm\":1.9,\"PetalWidthCm\":0.4,\"Species\":0},{\"SepalLengthCm\":6.1,\"SepalWidthCm\":3.0,\"PetalLengthCm\":4.6,\"PetalWidthCm\":1.4,\"Species\":1},{\"SepalLengthCm\":4.7,\"SepalWidthCm\":3.2,\"PetalLengthCm\":1.6,\"PetalWidthCm\":0.2,\"Species\":0},{\"SepalLengthCm\":6.1,\"SepalWidthCm\":2.8,\"PetalLengthCm\":4.7,\"PetalWidthCm\":1.2,\"Species\":1},{\"SepalLengthCm\":6.4,\"SepalWidthCm\":3.2,\"PetalLengthCm\":4.5,\"PetalWidthCm\":1.5,\"Species\":1},{\"SepalLengthCm\":7.7,\"SepalWidthCm\":2.8,\"PetalLengthCm\":6.7,\"PetalWidthCm\":2.0,\"Species\":2},{\"SepalLengthCm\":5.9,\"SepalWidthCm\":3.0,\"PetalLengthCm\":4.2,\"PetalWidthCm\":1.5,\"Species\":1},{\"SepalLengthCm\":5.9,\"SepalWidthCm\":3.2,\"PetalLengthCm\":4.8,\"PetalWidthCm\":1.8,\"Species\":1},{\"SepalLengthCm\":7.3,\"SepalWidthCm\":2.9,\"PetalLengthCm\":6.3,\"PetalWidthCm\":1.8,\"Species\":2},{\"SepalLengthCm\":6.9,\"SepalWidthCm\":3.1,\"PetalLengthCm\":5.1,\"PetalWidthCm\":2.3,\"Species\":2},{\"SepalLengthCm\":5.7,\"SepalWidthCm\":3.8,\"PetalLengthCm\":1.7,\"PetalWidthCm\":0.3,\"Species\":0},{\"SepalLengthCm\":6.5,\"SepalWidthCm\":3.0,\"PetalLengthCm\":5.8,\"PetalWidthCm\":2.2,\"Species\":2},{\"SepalLengthCm\":4.9,\"SepalWidthCm\":3.1,\"PetalLengthCm\":1.5,\"PetalWidthCm\":0.1,\"Species\":0},{\"SepalLengthCm\":5.5,\"SepalWidthCm\":2.5,\"PetalLengthCm\":4.0,\"PetalWidthCm\":1.3,\"Species\":1},{\"SepalLengthCm\":4.9,\"SepalWidthCm\":2.4,\"PetalLengthCm\":3.3,\"PetalWidthCm\":1.0,\"Species\":1},{\"SepalLengthCm\":7.0,\"SepalWidthCm\":3.2,\"PetalLengthCm\":4.7,\"PetalWidthCm\":1.4,\"Species\":1},{\"SepalLengthCm\":6.7,\"SepalWidthCm\":3.1,\"PetalLengthCm\":4.4,\"PetalWidthCm\":1.4,\"Species\":1},{\"SepalLengthCm\":6.0,\"SepalWidthCm\":2.2,\"PetalLengthCm\":5.0,\"PetalWidthCm\":1.5,\"Species\":2},{\"SepalLengthCm\":6.3,\"SepalWidthCm\":2.3,\"PetalLengthCm\":4.4,\"PetalWidthCm\":1.3,\"Species\":1},{\"SepalLengthCm\":7.2,\"SepalWidthCm\":3.0,\"PetalLengthCm\":5.8,\"PetalWidthCm\":1.6,\"Species\":2},{\"SepalLengthCm\":5.5,\"SepalWidthCm\":2.4,\"PetalLengthCm\":3.8,\"PetalWidthCm\":1.1,\"Species\":1},{\"SepalLengthCm\":5.0,\"SepalWidthCm\":3.5,\"PetalLengthCm\":1.3,\"PetalWidthCm\":0.3,\"Species\":0},{\"SepalLengthCm\":6.3,\"SepalWidthCm\":2.5,\"PetalLengthCm\":5.0,\"PetalWidthCm\":1.9,\"Species\":2},{\"SepalLengthCm\":6.0,\"SepalWidthCm\":2.7,\"PetalLengthCm\":5.1,\"PetalWidthCm\":1.6,\"Species\":1},{\"SepalLengthCm\":5.7,\"SepalWidthCm\":3.0,\"PetalLengthCm\":4.2,\"PetalWidthCm\":1.2,\"Species\":1},{\"SepalLengthCm\":4.8,\"SepalWidthCm\":3.4,\"PetalLengthCm\":1.6,\"PetalWidthCm\":0.2,\"Species\":0},{\"SepalLengthCm\":6.4,\"SepalWidthCm\":2.9,\"PetalLengthCm\":4.3,\"PetalWidthCm\":1.3,\"Species\":1},{\"SepalLengthCm\":5.8,\"SepalWidthCm\":2.7,\"PetalLengthCm\":3.9,\"PetalWidthCm\":1.2,\"Species\":1},{\"SepalLengthCm\":5.4,\"SepalWidthCm\":3.4,\"PetalLengthCm\":1.5,\"PetalWidthCm\":0.4,\"Species\":0},{\"SepalLengthCm\":4.3,\"SepalWidthCm\":3.0,\"PetalLengthCm\":1.1,\"PetalWidthCm\":0.1,\"Species\":0},{\"SepalLengthCm\":6.0,\"SepalWidthCm\":3.4,\"PetalLengthCm\":4.5,\"PetalWidthCm\":1.6,\"Species\":1},{\"SepalLengthCm\":6.3,\"SepalWidthCm\":3.3,\"PetalLengthCm\":6.0,\"PetalWidthCm\":2.5,\"Species\":2},{\"SepalLengthCm\":7.6,\"SepalWidthCm\":3.0,\"PetalLengthCm\":6.6,\"PetalWidthCm\":2.1,\"Species\":2},{\"SepalLengthCm\":5.0,\"SepalWidthCm\":2.3,\"PetalLengthCm\":3.3,\"PetalWidthCm\":1.0,\"Species\":1},{\"SepalLengthCm\":5.7,\"SepalWidthCm\":2.5,\"PetalLengthCm\":5.0,\"PetalWidthCm\":2.0,\"Species\":2},{\"SepalLengthCm\":5.6,\"SepalWidthCm\":2.5,\"PetalLengthCm\":3.9,\"PetalWidthCm\":1.1,\"Species\":1},{\"SepalLengthCm\":5.5,\"SepalWidthCm\":4.2,\"PetalLengthCm\":1.4,\"PetalWidthCm\":0.2,\"Species\":0},{\"SepalLengthCm\":5.5,\"SepalWidthCm\":3.5,\"PetalLengthCm\":1.3,\"PetalWidthCm\":0.2,\"Species\":0},{\"SepalLengthCm\":6.3,\"SepalWidthCm\":2.9,\"PetalLengthCm\":5.6,\"PetalWidthCm\":1.8,\"Species\":2},{\"SepalLengthCm\":6.1,\"SepalWidthCm\":3.0,\"PetalLengthCm\":4.9,\"PetalWidthCm\":1.8,\"Species\":2},{\"SepalLengthCm\":5.6,\"SepalWidthCm\":2.8,\"PetalLengthCm\":4.9,\"PetalWidthCm\":2.0,\"Species\":2},{\"SepalLengthCm\":5.6,\"SepalWidthCm\":3.0,\"PetalLengthCm\":4.5,\"PetalWidthCm\":1.5,\"Species\":1},{\"SepalLengthCm\":6.7,\"SepalWidthCm\":3.1,\"PetalLengthCm\":5.6,\"PetalWidthCm\":2.4,\"Species\":2},{\"SepalLengthCm\":5.7,\"SepalWidthCm\":2.8,\"PetalLengthCm\":4.5,\"PetalWidthCm\":1.3,\"Species\":1},{\"SepalLengthCm\":6.5,\"SepalWidthCm\":2.8,\"PetalLengthCm\":4.6,\"PetalWidthCm\":1.5,\"Species\":1},{\"SepalLengthCm\":5.0,\"SepalWidthCm\":3.3,\"PetalLengthCm\":1.4,\"PetalWidthCm\":0.2,\"Species\":0},{\"SepalLengthCm\":5.4,\"SepalWidthCm\":3.9,\"PetalLengthCm\":1.3,\"PetalWidthCm\":0.4,\"Species\":0},{\"SepalLengthCm\":5.5,\"SepalWidthCm\":2.4,\"PetalLengthCm\":3.7,\"PetalWidthCm\":1.0,\"Species\":1},{\"SepalLengthCm\":4.9,\"SepalWidthCm\":3.1,\"PetalLengthCm\":1.5,\"PetalWidthCm\":0.1,\"Species\":0},{\"SepalLengthCm\":5.2,\"SepalWidthCm\":3.5,\"PetalLengthCm\":1.5,\"PetalWidthCm\":0.2,\"Species\":0},{\"SepalLengthCm\":6.7,\"SepalWidthCm\":3.0,\"PetalLengthCm\":5.2,\"PetalWidthCm\":2.3,\"Species\":2},{\"SepalLengthCm\":7.9,\"SepalWidthCm\":3.8,\"PetalLengthCm\":6.4,\"PetalWidthCm\":2.0,\"Species\":2},{\"SepalLengthCm\":6.3,\"SepalWidthCm\":2.8,\"PetalLengthCm\":5.1,\"PetalWidthCm\":1.5,\"Species\":2},{\"SepalLengthCm\":7.2,\"SepalWidthCm\":3.2,\"PetalLengthCm\":6.0,\"PetalWidthCm\":1.8,\"Species\":2},{\"SepalLengthCm\":5.0,\"SepalWidthCm\":3.4,\"PetalLengthCm\":1.6,\"PetalWidthCm\":0.4,\"Species\":0},{\"SepalLengthCm\":4.6,\"SepalWidthCm\":3.1,\"PetalLengthCm\":1.5,\"PetalWidthCm\":0.2,\"Species\":0},{\"SepalLengthCm\":7.7,\"SepalWidthCm\":2.6,\"PetalLengthCm\":6.9,\"PetalWidthCm\":2.3,\"Species\":2},{\"SepalLengthCm\":5.7,\"SepalWidthCm\":2.8,\"PetalLengthCm\":4.1,\"PetalWidthCm\":1.3,\"Species\":1},{\"SepalLengthCm\":6.7,\"SepalWidthCm\":2.5,\"PetalLengthCm\":5.8,\"PetalWidthCm\":1.8,\"Species\":2},{\"SepalLengthCm\":5.4,\"SepalWidthCm\":3.4,\"PetalLengthCm\":1.7,\"PetalWidthCm\":0.2,\"Species\":0},{\"SepalLengthCm\":6.1,\"SepalWidthCm\":2.6,\"PetalLengthCm\":5.6,\"PetalWidthCm\":1.4,\"Species\":2},{\"SepalLengthCm\":6.6,\"SepalWidthCm\":2.9,\"PetalLengthCm\":4.6,\"PetalWidthCm\":1.3,\"Species\":1},{\"SepalLengthCm\":5.8,\"SepalWidthCm\":2.6,\"PetalLengthCm\":4.0,\"PetalWidthCm\":1.2,\"Species\":1},{\"SepalLengthCm\":4.6,\"SepalWidthCm\":3.4,\"PetalLengthCm\":1.4,\"PetalWidthCm\":0.3,\"Species\":0},{\"SepalLengthCm\":6.5,\"SepalWidthCm\":3.0,\"PetalLengthCm\":5.2,\"PetalWidthCm\":2.0,\"Species\":2},{\"SepalLengthCm\":5.0,\"SepalWidthCm\":3.0,\"PetalLengthCm\":1.6,\"PetalWidthCm\":0.2,\"Species\":0},{\"SepalLengthCm\":4.9,\"SepalWidthCm\":3.1,\"PetalLengthCm\":1.5,\"PetalWidthCm\":0.1,\"Species\":0},{\"SepalLengthCm\":6.9,\"SepalWidthCm\":3.1,\"PetalLengthCm\":4.9,\"PetalWidthCm\":1.5,\"Species\":1},{\"SepalLengthCm\":7.1,\"SepalWidthCm\":3.0,\"PetalLengthCm\":5.9,\"PetalWidthCm\":2.1,\"Species\":2},{\"SepalLengthCm\":6.5,\"SepalWidthCm\":3.2,\"PetalLengthCm\":5.1,\"PetalWidthCm\":2.0,\"Species\":2},{\"SepalLengthCm\":6.0,\"SepalWidthCm\":3.0,\"PetalLengthCm\":4.8,\"PetalWidthCm\":1.8,\"Species\":2},{\"SepalLengthCm\":5.5,\"SepalWidthCm\":2.3,\"PetalLengthCm\":4.0,\"PetalWidthCm\":1.3,\"Species\":1},{\"SepalLengthCm\":6.4,\"SepalWidthCm\":2.8,\"PetalLengthCm\":5.6,\"PetalWidthCm\":2.1,\"Species\":2},{\"SepalLengthCm\":6.1,\"SepalWidthCm\":2.8,\"PetalLengthCm\":4.0,\"PetalWidthCm\":1.3,\"Species\":1},{\"SepalLengthCm\":5.1,\"SepalWidthCm\":3.5,\"PetalLengthCm\":1.4,\"PetalWidthCm\":0.2,\"Species\":0},{\"SepalLengthCm\":4.6,\"SepalWidthCm\":3.2,\"PetalLengthCm\":1.4,\"PetalWidthCm\":0.2,\"Species\":0},{\"SepalLengthCm\":5.1,\"SepalWidthCm\":3.8,\"PetalLengthCm\":1.6,\"PetalWidthCm\":0.2,\"Species\":0},{\"SepalLengthCm\":6.2,\"SepalWidthCm\":3.4,\"PetalLengthCm\":5.4,\"PetalWidthCm\":2.3,\"Species\":2},{\"SepalLengthCm\":5.1,\"SepalWidthCm\":2.5,\"PetalLengthCm\":3.0,\"PetalWidthCm\":1.1,\"Species\":1},{\"SepalLengthCm\":7.7,\"SepalWidthCm\":3.8,\"PetalLengthCm\":6.7,\"PetalWidthCm\":2.2,\"Species\":2},{\"SepalLengthCm\":5.4,\"SepalWidthCm\":3.7,\"PetalLengthCm\":1.5,\"PetalWidthCm\":0.2,\"Species\":0},{\"SepalLengthCm\":4.9,\"SepalWidthCm\":2.5,\"PetalLengthCm\":4.5,\"PetalWidthCm\":1.7,\"Species\":2},{\"SepalLengthCm\":5.6,\"SepalWidthCm\":2.9,\"PetalLengthCm\":3.6,\"PetalWidthCm\":1.3,\"Species\":1},{\"SepalLengthCm\":6.4,\"SepalWidthCm\":3.1,\"PetalLengthCm\":5.5,\"PetalWidthCm\":1.8,\"Species\":2},{\"SepalLengthCm\":5.1,\"SepalWidthCm\":3.7,\"PetalLengthCm\":1.5,\"PetalWidthCm\":0.4,\"Species\":0},{\"SepalLengthCm\":5.1,\"SepalWidthCm\":3.3,\"PetalLengthCm\":1.7,\"PetalWidthCm\":0.5,\"Species\":0},{\"SepalLengthCm\":6.0,\"SepalWidthCm\":2.2,\"PetalLengthCm\":4.0,\"PetalWidthCm\":1.0,\"Species\":1}];\n",
       "          document.querySelector(\"#elem\").data = data;\n",
       "        </script>"
      ],
      "text/plain": [
       "<IPython.core.display.HTML object>"
      ]
     },
     "metadata": {},
     "output_type": "display_data"
    }
   ],
   "source": [
    "jsonstr = df.to_json(orient='records')\n",
    "\n",
    "# Display the Dive visualization for this data\n",
    "from IPython.core.display import display, HTML\n",
    "\n",
    "HTML_TEMPLATE = \"\"\"<link rel=\"import\" href=\"/nbextensions/facets-dist/facets-jupyter.html\">\n",
    "        <facets-dive sprite-image-width=\"32\" sprite-image-height=\"32\" id=\"elem\" height=\"600\"></facets-dive>\n",
    "        <script>\n",
    "          var data = {jsonstr};\n",
    "          document.querySelector(\"#elem\").data = data;\n",
    "        </script>\"\"\"\n",
    "html = HTML_TEMPLATE.format(jsonstr=jsonstr)\n",
    "display(HTML(html))"
   ]
  },
  {
   "cell_type": "code",
   "execution_count": 40,
   "metadata": {},
   "outputs": [],
   "source": [
    "# Add the facets overview python code to the python path\n",
    "import sys\n",
    "# generic_feature_statistics_generator is in the facets directory\n",
    "sys.path.append('./facets/facets_overview/python')\n",
    "\n",
    "# Calculate the feature statistics proto from the datasets and stringify it for use in facets overview\n",
    "from generic_feature_statistics_generator import GenericFeatureStatisticsGenerator\n",
    "import base64\n",
    "\n",
    "gfsg = GenericFeatureStatisticsGenerator()\n",
    "proto = gfsg.ProtoFromDataFrames([{'name': 'train', 'table': df}])\n",
    "protostr = base64.b64encode(proto.SerializeToString()).decode(\"utf-8\")\n",
    "\n",
    "\n",
    "\n",
    "\n",
    "\n",
    "\n",
    "# Add the facets overview python code to the python path\n",
    "import sys\n",
    "sys.path.append('./python')\n",
    "\n",
    "# Calculate the feature statistics proto from the datasets and stringify it for use in facets overview\n",
    "from generic_feature_statistics_generator import GenericFeatureStatisticsGenerator\n",
    "import base64\n",
    "\n",
    "gfsg = GenericFeatureStatisticsGenerator()\n",
    "proto = gfsg.ProtoFromDataFrames([{'name': 'train', 'table': cleanclicks}])\n",
    "protostr = base64.b64encode(proto.SerializeToString()).decode(\"utf-8\")"
   ]
  },
  {
   "cell_type": "code",
   "execution_count": 41,
   "metadata": {},
   "outputs": [
    {
     "data": {
      "text/html": [
       "<link rel=\"import\" href=\"/nbextensions/facets-dist/facets-jupyter.html\" >\n",
       "        <facets-overview id=\"elem\"></facets-overview>\n",
       "        <script>\n",
       "          document.querySelector(\"#elem\").protoInput = \"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\";\n",
       "        </script>"
      ],
      "text/plain": [
       "<IPython.core.display.HTML object>"
      ]
     },
     "metadata": {},
     "output_type": "display_data"
    }
   ],
   "source": [
    "# Display the facets overview visualization for this data\n",
    "from IPython.core.display import display, HTML\n",
    "\n",
    "HTML_TEMPLATE = \"\"\"<link rel=\"import\" href=\"/nbextensions/facets-dist/facets-jupyter.html\" >\n",
    "        <facets-overview id=\"elem\"></facets-overview>\n",
    "        <script>\n",
    "          document.querySelector(\"#elem\").protoInput = \"{protostr}\";\n",
    "        </script>\"\"\"\n",
    "html = HTML_TEMPLATE.format(protostr=protostr)\n",
    "display(HTML(html))"
   ]
  },
  {
   "cell_type": "code",
   "execution_count": null,
   "metadata": {},
   "outputs": [],
   "source": []
  }
 ],
 "metadata": {
  "anaconda-cloud": {},
  "kernelspec": {
   "display_name": "Python [default]",
   "language": "python",
   "name": "python2"
  },
  "language_info": {
   "codemirror_mode": {
    "name": "ipython",
    "version": 2
   },
   "file_extension": ".py",
   "mimetype": "text/x-python",
   "name": "python",
   "nbconvert_exporter": "python",
   "pygments_lexer": "ipython2",
   "version": "2.7.12"
  }
 },
 "nbformat": 4,
 "nbformat_minor": 2
}
