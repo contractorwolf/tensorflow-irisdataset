{
  "nbformat": 4,
  "nbformat_minor": 0,
  "metadata": {
    "colab": {
      "name": "Iris Colab.ipynb",
      "version": "0.3.2",
      "provenance": []
    },
    "kernelspec": {
      "name": "python3",
      "display_name": "Python 3"
    }
  },
  "cells": [
    {
      "cell_type": "markdown",
      "metadata": {
        "id": "view-in-github",
        "colab_type": "text"
      },
      "source": [
        "[View in Colaboratory](https://colab.research.google.com/github/contractorwolf/tensorflow-irisdataset/blob/master/Iris_Colab.ipynb)"
      ]
    },
    {
      "metadata": {
        "id": "QQQzvvulldVR",
        "colab_type": "code",
        "colab": {
          "base_uri": "https://localhost:8080/",
          "height": 34
        },
        "outputId": "bf1e2500-dbd2-4dce-b85b-f3c0b357e679"
      },
      "cell_type": "code",
      "source": [
        "import pandas as pd\n",
        "import tensorflow as tf\n",
        "\n",
        "\n",
        "# verify version of tensorflow, should be 1.4+ to use new Estimators features\n",
        "print('TENSORFLOW VERSION: ' + tf.__version__)"
      ],
      "execution_count": 1,
      "outputs": [
        {
          "output_type": "stream",
          "text": [
            "TENSORFLOW VERSION: 1.7.0\n"
          ],
          "name": "stdout"
        }
      ]
    },
    {
      "metadata": {
        "id": "xbGoDoMZl6CN",
        "colab_type": "code",
        "colab": {}
      },
      "cell_type": "code",
      "source": [
        "TRAIN_URL = \"http://download.tensorflow.org/data/iris_training.csv\"\n",
        "TEST_URL  = \"http://download.tensorflow.org/data/iris_test.csv\"\n",
        "\n",
        "CSV_COLUMN_NAMES = ['SepalLength', 'SepalWidth', 'PetalLength', 'PetalWidth', 'Species']\n",
        "\n",
        "SPECIES = ['Setosa', 'Versicolor', 'Virginica']\n",
        "\n",
        "# The remainder of this file contains a simple example of a csv parser,\n",
        "#     implemented using the `Dataset` class.\n",
        "\n",
        "# `tf.parse_csv` sets the types of the outputs to match the examples given in\n",
        "#     the `record_defaults` argument.\n",
        "CSV_TYPES = [[0.0], [0.0], [0.0], [0.0], [0]]\n",
        "\n",
        "BATCH_SIZE = 50\n",
        "TRAIN_STEPS = 500\n",
        "\n",
        "#args.batch_size), steps=args.train_steps\n"
      ],
      "execution_count": 0,
      "outputs": []
    },
    {
      "metadata": {
        "id": "_gpF9jFhmQV5",
        "colab_type": "code",
        "colab": {}
      },
      "cell_type": "code",
      "source": [
        "def maybe_download():\n",
        "    train_path = tf.keras.utils.get_file(TRAIN_URL.split('/')[-1], TRAIN_URL)\n",
        "    test_path = tf.keras.utils.get_file(TEST_URL.split('/')[-1], TEST_URL)\n",
        "\n",
        "    return train_path, test_path\n",
        "\n",
        "def load_data(y_name='Species'):\n",
        "    \"\"\"Returns the iris dataset as (train_x, train_y), (test_x, test_y).\"\"\"\n",
        "    train_path, test_path = maybe_download()\n",
        "\n",
        "    train = pd.read_csv(train_path, names=CSV_COLUMN_NAMES, header=0)\n",
        "    train_x, train_y = train, train.pop(y_name)\n",
        "\n",
        "    test = pd.read_csv(test_path, names=CSV_COLUMN_NAMES, header=0)\n",
        "    test_x, test_y = test, test.pop(y_name)\n",
        "\n",
        "    return (train_x, train_y), (test_x, test_y)\n",
        "\n",
        "\n",
        "def train_input_fn(features, labels, batch_size):\n",
        "    \"\"\"An input function for training\"\"\"\n",
        "    # Convert the inputs to a Dataset.\n",
        "    dataset = tf.data.Dataset.from_tensor_slices((dict(features), labels))\n",
        "\n",
        "    # Shuffle, repeat, and batch the examples.\n",
        "    dataset = dataset.shuffle(1000).repeat().batch(batch_size)\n",
        "\n",
        "    # Return the dataset.\n",
        "    return dataset\n",
        "\n",
        "\n",
        "def eval_input_fn(features, labels, batch_size):\n",
        "    \"\"\"An input function for evaluation or prediction\"\"\"\n",
        "    features=dict(features)\n",
        "    if labels is None:\n",
        "        # No labels, use only features.\n",
        "        inputs = features\n",
        "    else:\n",
        "        inputs = (features, labels)\n",
        "\n",
        "    # Convert the inputs to a Dataset.\n",
        "    dataset = tf.data.Dataset.from_tensor_slices(inputs)\n",
        "\n",
        "    # Batch the examples\n",
        "    assert batch_size is not None, \"batch_size must not be None\"\n",
        "    dataset = dataset.batch(batch_size)\n",
        "\n",
        "    # Return the dataset.\n",
        "    return dataset\n",
        "\n",
        "def _parse_line(line):\n",
        "    # Decode the line into its fields\n",
        "    fields = tf.decode_csv(line, record_defaults=CSV_TYPES)\n",
        "\n",
        "    # Pack the result into a dictionary\n",
        "    features = dict(zip(CSV_COLUMN_NAMES, fields))\n",
        "\n",
        "    # Separate the label from the features\n",
        "    label = features.pop('Species')\n",
        "\n",
        "    return features, label\n",
        "\n",
        "\n",
        "def csv_input_fn(csv_path, batch_size):\n",
        "    # Create a dataset containing the text lines.\n",
        "    dataset = tf.data.TextLineDataset(csv_path).skip(1)\n",
        "\n",
        "    # Parse each line.\n",
        "    dataset = dataset.map(_parse_line)\n",
        "\n",
        "    # Shuffle, repeat, and batch the examples.\n",
        "    dataset = dataset.shuffle(1000).repeat().batch(batch_size)\n",
        "\n",
        "    # Return the dataset.\n",
        "    return dataset"
      ],
      "execution_count": 0,
      "outputs": []
    },
    {
      "metadata": {
        "id": "7hArfwWqqUSQ",
        "colab_type": "code",
        "colab": {
          "base_uri": "https://localhost:8080/",
          "height": 111
        },
        "outputId": "db8aa439-a84d-41af-9382-cde7fcd6172e"
      },
      "cell_type": "code",
      "source": [
        "# Fetch the data\n",
        "(train_x, train_y), (test_x, test_y) = load_data()"
      ],
      "execution_count": 4,
      "outputs": [
        {
          "output_type": "stream",
          "text": [
            "Downloading data from http://download.tensorflow.org/data/iris_training.csv\n",
            "8192/2194 [================================================================================================================] - 0s 0us/step\n",
            "Downloading data from http://download.tensorflow.org/data/iris_test.csv\n",
            "8192/573 [============================================================================================================================================================================================================================================================================================================================================================================================================================================] - 0s 0us/step\n"
          ],
          "name": "stdout"
        }
      ]
    },
    {
      "metadata": {
        "id": "HlGxI5CXwczz",
        "colab_type": "code",
        "colab": {
          "base_uri": "https://localhost:8080/",
          "height": 170
        },
        "outputId": "f31c7967-47b5-4b43-eaec-12944745626e"
      },
      "cell_type": "code",
      "source": [
        "train_x.info()"
      ],
      "execution_count": 21,
      "outputs": [
        {
          "output_type": "stream",
          "text": [
            "<class 'pandas.core.frame.DataFrame'>\n",
            "RangeIndex: 120 entries, 0 to 119\n",
            "Data columns (total 4 columns):\n",
            "SepalLength    120 non-null float64\n",
            "SepalWidth     120 non-null float64\n",
            "PetalLength    120 non-null float64\n",
            "PetalWidth     120 non-null float64\n",
            "dtypes: float64(4)\n",
            "memory usage: 3.8 KB\n"
          ],
          "name": "stdout"
        }
      ]
    },
    {
      "metadata": {
        "id": "BcSUFCSdqXEb",
        "colab_type": "code",
        "colab": {}
      },
      "cell_type": "code",
      "source": [
        "# Feature columns describe how to use the input.\n",
        "my_feature_columns = []\n",
        "\n",
        "for key in train_x.keys():\n",
        "    my_feature_columns.append(tf.feature_column.numeric_column(key=key))"
      ],
      "execution_count": 0,
      "outputs": []
    },
    {
      "metadata": {
        "id": "IdK9Hiyuw8Gd",
        "colab_type": "code",
        "colab": {}
      },
      "cell_type": "code",
      "source": [
        "# Build 2 hidden layer DNN with 10, 10 units respectively.\n",
        "classifier = tf.estimator.DNNClassifier(\n",
        "    feature_columns=my_feature_columns,\n",
        "    # Two hidden layers of 10 nodes each.\n",
        "    hidden_units=[10, 10],\n",
        "    # The model must choose between 3 classes.\n",
        "    n_classes=3)"
      ],
      "execution_count": 0,
      "outputs": []
    },
    {
      "metadata": {
        "id": "UamuGMgMqapC",
        "colab_type": "code",
        "colab": {
          "base_uri": "https://localhost:8080/",
          "height": 1887
        },
        "outputId": "f3b84cca-ee8c-4bb1-a783-d4e8f520e476"
      },
      "cell_type": "code",
      "source": [
        "# Train the Model.\n",
        "classifier.train(input_fn=lambda:train_input_fn(train_x, train_y, BATCH_SIZE), steps=TRAIN_STEPS)"
      ],
      "execution_count": 16,
      "outputs": [
        {
          "output_type": "stream",
          "text": [
            "INFO:tensorflow:Calling model_fn.\n",
            "INFO:tensorflow:Done calling model_fn.\n",
            "INFO:tensorflow:Create CheckpointSaverHook.\n",
            "INFO:tensorflow:Graph was finalized.\n",
            "INFO:tensorflow:Restoring parameters from /tmp/tmp4zdhd5z_/model.ckpt-500\n",
            "INFO:tensorflow:Running local_init_op.\n",
            "INFO:tensorflow:Done running local_init_op.\n",
            "INFO:tensorflow:Saving checkpoints for 501 into /tmp/tmp4zdhd5z_/model.ckpt.\n",
            "INFO:tensorflow:loss = 1.6091413, step = 501\n",
            "INFO:tensorflow:global_step/sec: 600.956\n",
            "INFO:tensorflow:loss = 4.061643, step = 601 (0.168 sec)\n",
            "INFO:tensorflow:global_step/sec: 807.061\n",
            "INFO:tensorflow:loss = 3.6340642, step = 701 (0.125 sec)\n",
            "INFO:tensorflow:global_step/sec: 664.339\n",
            "INFO:tensorflow:loss = 1.8412668, step = 801 (0.150 sec)\n",
            "INFO:tensorflow:global_step/sec: 714.226\n",
            "INFO:tensorflow:loss = 3.5633256, step = 901 (0.142 sec)\n",
            "INFO:tensorflow:global_step/sec: 780.134\n",
            "INFO:tensorflow:loss = 1.0095496, step = 1001 (0.131 sec)\n",
            "INFO:tensorflow:global_step/sec: 654.057\n",
            "INFO:tensorflow:loss = 4.300429, step = 1101 (0.148 sec)\n",
            "INFO:tensorflow:global_step/sec: 766.384\n",
            "INFO:tensorflow:loss = 1.2655882, step = 1201 (0.132 sec)\n",
            "INFO:tensorflow:global_step/sec: 720.109\n",
            "INFO:tensorflow:loss = 2.7232695, step = 1301 (0.140 sec)\n",
            "INFO:tensorflow:global_step/sec: 799.558\n",
            "INFO:tensorflow:loss = 2.4583204, step = 1401 (0.122 sec)\n",
            "INFO:tensorflow:global_step/sec: 838.722\n",
            "INFO:tensorflow:loss = 2.1395051, step = 1501 (0.121 sec)\n",
            "INFO:tensorflow:global_step/sec: 726.358\n",
            "INFO:tensorflow:loss = 2.341869, step = 1601 (0.136 sec)\n",
            "INFO:tensorflow:global_step/sec: 775.736\n",
            "INFO:tensorflow:loss = 3.9590669, step = 1701 (0.129 sec)\n",
            "INFO:tensorflow:global_step/sec: 796.904\n",
            "INFO:tensorflow:loss = 1.5110782, step = 1801 (0.126 sec)\n",
            "INFO:tensorflow:global_step/sec: 888.458\n",
            "INFO:tensorflow:loss = 4.5931807, step = 1901 (0.112 sec)\n",
            "INFO:tensorflow:global_step/sec: 812.009\n",
            "INFO:tensorflow:loss = 5.2748713, step = 2001 (0.125 sec)\n",
            "INFO:tensorflow:global_step/sec: 757.224\n",
            "INFO:tensorflow:loss = 3.3677185, step = 2101 (0.132 sec)\n",
            "INFO:tensorflow:global_step/sec: 778.412\n",
            "INFO:tensorflow:loss = 4.841775, step = 2201 (0.130 sec)\n",
            "INFO:tensorflow:global_step/sec: 777.266\n",
            "INFO:tensorflow:loss = 2.0209465, step = 2301 (0.129 sec)\n",
            "INFO:tensorflow:global_step/sec: 827.143\n",
            "INFO:tensorflow:loss = 1.5746967, step = 2401 (0.120 sec)\n",
            "INFO:tensorflow:global_step/sec: 795.162\n",
            "INFO:tensorflow:loss = 4.808801, step = 2501 (0.124 sec)\n",
            "INFO:tensorflow:global_step/sec: 818.458\n",
            "INFO:tensorflow:loss = 4.5001135, step = 2601 (0.123 sec)\n",
            "INFO:tensorflow:global_step/sec: 788.008\n",
            "INFO:tensorflow:loss = 1.4230076, step = 2701 (0.127 sec)\n",
            "INFO:tensorflow:global_step/sec: 778.112\n",
            "INFO:tensorflow:loss = 4.4463835, step = 2801 (0.128 sec)\n",
            "INFO:tensorflow:global_step/sec: 825.795\n",
            "INFO:tensorflow:loss = 3.444699, step = 2901 (0.123 sec)\n",
            "INFO:tensorflow:global_step/sec: 746.676\n",
            "INFO:tensorflow:loss = 2.2536855, step = 3001 (0.132 sec)\n",
            "INFO:tensorflow:global_step/sec: 743.062\n",
            "INFO:tensorflow:loss = 4.8562717, step = 3101 (0.134 sec)\n",
            "INFO:tensorflow:global_step/sec: 779.377\n",
            "INFO:tensorflow:loss = 1.7589793, step = 3201 (0.133 sec)\n"
          ],
          "name": "stdout"
        },
        {
          "output_type": "stream",
          "text": [
            "INFO:tensorflow:global_step/sec: 821.416\n",
            "INFO:tensorflow:loss = 4.0569215, step = 3301 (0.118 sec)\n",
            "INFO:tensorflow:global_step/sec: 769.051\n",
            "INFO:tensorflow:loss = 0.7580683, step = 3401 (0.130 sec)\n",
            "INFO:tensorflow:global_step/sec: 735.585\n",
            "INFO:tensorflow:loss = 0.6331783, step = 3501 (0.136 sec)\n",
            "INFO:tensorflow:global_step/sec: 773.084\n",
            "INFO:tensorflow:loss = 3.4690738, step = 3601 (0.130 sec)\n",
            "INFO:tensorflow:global_step/sec: 763.552\n",
            "INFO:tensorflow:loss = 4.207726, step = 3701 (0.130 sec)\n",
            "INFO:tensorflow:global_step/sec: 810.013\n",
            "INFO:tensorflow:loss = 4.1233864, step = 3801 (0.128 sec)\n",
            "INFO:tensorflow:global_step/sec: 792.154\n",
            "INFO:tensorflow:loss = 7.430578, step = 3901 (0.123 sec)\n",
            "INFO:tensorflow:global_step/sec: 742.263\n",
            "INFO:tensorflow:loss = 1.2738186, step = 4001 (0.135 sec)\n",
            "INFO:tensorflow:global_step/sec: 789.024\n",
            "INFO:tensorflow:loss = 3.9100206, step = 4101 (0.126 sec)\n",
            "INFO:tensorflow:global_step/sec: 847.534\n",
            "INFO:tensorflow:loss = 3.363851, step = 4201 (0.118 sec)\n",
            "INFO:tensorflow:global_step/sec: 818.172\n",
            "INFO:tensorflow:loss = 1.548035, step = 4301 (0.122 sec)\n",
            "INFO:tensorflow:global_step/sec: 773.671\n",
            "INFO:tensorflow:loss = 2.9827745, step = 4401 (0.129 sec)\n",
            "INFO:tensorflow:global_step/sec: 824.318\n",
            "INFO:tensorflow:loss = 1.1212293, step = 4501 (0.121 sec)\n",
            "INFO:tensorflow:global_step/sec: 824.446\n",
            "INFO:tensorflow:loss = 4.2732573, step = 4601 (0.121 sec)\n",
            "INFO:tensorflow:global_step/sec: 797.9\n",
            "INFO:tensorflow:loss = 3.4113266, step = 4701 (0.126 sec)\n",
            "INFO:tensorflow:global_step/sec: 775.865\n",
            "INFO:tensorflow:loss = 2.1847894, step = 4801 (0.129 sec)\n",
            "INFO:tensorflow:global_step/sec: 790.147\n",
            "INFO:tensorflow:loss = 1.6130372, step = 4901 (0.132 sec)\n",
            "INFO:tensorflow:global_step/sec: 744.017\n",
            "INFO:tensorflow:loss = 3.9801092, step = 5001 (0.129 sec)\n",
            "INFO:tensorflow:global_step/sec: 870.626\n",
            "INFO:tensorflow:loss = 5.4981995, step = 5101 (0.115 sec)\n",
            "INFO:tensorflow:global_step/sec: 768.887\n",
            "INFO:tensorflow:loss = 1.3188002, step = 5201 (0.129 sec)\n",
            "INFO:tensorflow:global_step/sec: 799.634\n",
            "INFO:tensorflow:loss = 3.700915, step = 5301 (0.128 sec)\n",
            "INFO:tensorflow:global_step/sec: 761.464\n",
            "INFO:tensorflow:loss = 2.3528848, step = 5401 (0.133 sec)\n",
            "INFO:tensorflow:Saving checkpoints for 5500 into /tmp/tmp4zdhd5z_/model.ckpt.\n",
            "INFO:tensorflow:Loss for final step: 0.7505097.\n"
          ],
          "name": "stdout"
        },
        {
          "output_type": "execute_result",
          "data": {
            "text/plain": [
              "<tensorflow.python.estimator.canned.dnn.DNNClassifier at 0x7f60ad6d8400>"
            ]
          },
          "metadata": {
            "tags": []
          },
          "execution_count": 16
        }
      ]
    },
    {
      "metadata": {
        "id": "gjTK9v86qf1r",
        "colab_type": "code",
        "colab": {
          "base_uri": "https://localhost:8080/",
          "height": 221
        },
        "outputId": "bae4fd3f-b7c3-4e65-832b-0838d8d71958"
      },
      "cell_type": "code",
      "source": [
        "# Evaluate the model.\n",
        "eval_result = classifier.evaluate(input_fn=lambda:eval_input_fn(test_x, test_y, BATCH_SIZE))\n",
        "\n",
        "print('\\nTest set accuracy: {accuracy:0.3f}\\n'.format(**eval_result))"
      ],
      "execution_count": 17,
      "outputs": [
        {
          "output_type": "stream",
          "text": [
            "INFO:tensorflow:Calling model_fn.\n",
            "INFO:tensorflow:Done calling model_fn.\n",
            "INFO:tensorflow:Starting evaluation at 2018-05-17-01:44:33\n",
            "INFO:tensorflow:Graph was finalized.\n",
            "INFO:tensorflow:Restoring parameters from /tmp/tmp4zdhd5z_/model.ckpt-5500\n",
            "INFO:tensorflow:Running local_init_op.\n",
            "INFO:tensorflow:Done running local_init_op.\n",
            "INFO:tensorflow:Finished evaluation at 2018-05-17-01:44:33\n",
            "INFO:tensorflow:Saving dict for global step 5500: accuracy = 0.96666664, average_loss = 0.057669293, global_step = 5500, loss = 1.7300788\n",
            "\n",
            "Test set accuracy: 0.967\n",
            "\n"
          ],
          "name": "stdout"
        }
      ]
    },
    {
      "metadata": {
        "id": "sgh-0p5kmm-8",
        "colab_type": "code",
        "colab": {
          "base_uri": "https://localhost:8080/",
          "height": 221
        },
        "outputId": "ae55ec9e-303a-4a2b-e97e-3539e0a5ca3a"
      },
      "cell_type": "code",
      "source": [
        "\n",
        "\n",
        "# Generate predictions from the model\n",
        "expected = ['Setosa', 'Versicolor', 'Virginica']\n",
        "\n",
        "predict_x = {\n",
        "    'SepalLength': [5.1, 5.9, 6.9],\n",
        "    'SepalWidth' : [3.3, 3.0, 3.1],\n",
        "    'PetalLength': [1.7, 4.2, 5.4],\n",
        "    'PetalWidth' : [0.5, 1.5, 2.1],\n",
        "}\n",
        "\n",
        "predictions = classifier.predict(input_fn=lambda:eval_input_fn(predict_x, labels=None, batch_size=BATCH_SIZE))\n",
        "\n",
        "template = ('\\nPrediction is \"{}\" ({:.1f}%), expected \"{}\"')\n",
        "\n",
        "for pred_dict, expec in zip(predictions, expected):\n",
        "    class_id = pred_dict['class_ids'][0]\n",
        "    probability = pred_dict['probabilities'][class_id]\n",
        "\n",
        "    print(template.format(SPECIES[class_id], 100 * probability, expec))"
      ],
      "execution_count": 19,
      "outputs": [
        {
          "output_type": "stream",
          "text": [
            "INFO:tensorflow:Calling model_fn.\n",
            "INFO:tensorflow:Done calling model_fn.\n",
            "INFO:tensorflow:Graph was finalized.\n",
            "INFO:tensorflow:Restoring parameters from /tmp/tmp4zdhd5z_/model.ckpt-5500\n",
            "INFO:tensorflow:Running local_init_op.\n",
            "INFO:tensorflow:Done running local_init_op.\n",
            "\n",
            "Prediction is \"Setosa\" (99.9%), expected \"Setosa\"\n",
            "\n",
            "Prediction is \"Versicolor\" (100.0%), expected \"Versicolor\"\n",
            "\n",
            "Prediction is \"Virginica\" (99.4%), expected \"Virginica\"\n"
          ],
          "name": "stdout"
        }
      ]
    }
  ]
}